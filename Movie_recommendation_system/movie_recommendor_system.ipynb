{
  "cells": [
    {
      "cell_type": "markdown",
      "source": [
        "# **Import and install required libraries**"
      ],
      "metadata": {
        "id": "B4BdgpAcI-ts"
      }
    },
    {
      "cell_type": "code",
      "source": [
        "pip install gensim\n",
        "pip install tqdm\n",
        "pip install sentence-transformers"
      ],
      "metadata": {
        "id": "iUwCOoYRHr19"
      },
      "execution_count": null,
      "outputs": []
    },
    {
      "cell_type": "code",
      "execution_count": null,
      "metadata": {
        "id": "RMoMGVEDQRWr"
      },
      "outputs": [],
      "source": [
        "import numpy as np\n",
        "import pandas as pd\n",
        "import ast\n",
        "import nltk\n",
        "from nltk.stem.porter import PorterStemmer\n",
        "import spacy\n",
        "import gensim\n",
        "from gensim.utils import simple_preprocess\n",
        "from tqdm import tqdm\n",
        "from sklearn.feature_extraction.text import TfidfVectorizer\n",
        "from sklearn.metrics.pairwise import cosine_similarity\n",
        "from sentence_transformers import SentenceTransformer,util\n",
        "import pickle"
      ]
    },
    {
      "cell_type": "markdown",
      "source": [
        "# **Formating the Database**"
      ],
      "metadata": {
        "id": "q7QzOxnUJHGO"
      }
    },
    {
      "cell_type": "code",
      "execution_count": null,
      "metadata": {
        "id": "fJkpldX3Q2VD"
      },
      "outputs": [],
      "source": [
        "movies = pd.read_csv('tmdb_movie_dataset.csv')\n",
        "credits = pd.read_csv('tmdb_movie_credits.csv')"
      ]
    },
    {
      "cell_type": "code",
      "execution_count": null,
      "metadata": {
        "colab": {
          "base_uri": "https://localhost:8080/",
          "height": 217
        },
        "id": "dZEqwAX_Xi6P",
        "outputId": "ee8ccd03-2d15-40d7-cdfb-f1aa3c7b3886"
      },
      "outputs": [
        {
          "output_type": "execute_result",
          "data": {
            "text/plain": [
              "    budget                                             genres homepage  \\\n",
              "0  4000000  [{\"id\": 80, \"name\": \"Crime\"}, {\"id\": 35, \"name...      NaN   \n",
              "\n",
              "   tmdbId                                           keywords  \\\n",
              "0       5  [{\"id\": 612, \"name\": \"hotel\"}, {\"id\": 613, \"na...   \n",
              "\n",
              "  original_language original_title  \\\n",
              "0                en     Four Rooms   \n",
              "\n",
              "                                            overview  popularity  \\\n",
              "0  It's Ted the Bellhop's first night on the job....    22.87623   \n",
              "\n",
              "                                production_companies  ... release_date  \\\n",
              "0  [{\"name\": \"Miramax Films\", \"id\": 14}, {\"name\":...  ...   1995-12-09   \n",
              "\n",
              "   revenue  runtime                          spoken_languages    status  \\\n",
              "0  4300000     98.0  [{\"iso_639_1\": \"en\", \"name\": \"English\"}]  Released   \n",
              "\n",
              "                                             tagline       title vote_average  \\\n",
              "0  Twelve outrageous guests. Four scandalous requ...  Four Rooms          6.5   \n",
              "\n",
              "   vote_count  ratingId  \n",
              "0         530        18  \n",
              "\n",
              "[1 rows x 21 columns]"
            ],
            "text/html": [
              "\n",
              "  <div id=\"df-a9e2fc62-2dee-4f87-b812-55be489adfe7\" class=\"colab-df-container\">\n",
              "    <div>\n",
              "<style scoped>\n",
              "    .dataframe tbody tr th:only-of-type {\n",
              "        vertical-align: middle;\n",
              "    }\n",
              "\n",
              "    .dataframe tbody tr th {\n",
              "        vertical-align: top;\n",
              "    }\n",
              "\n",
              "    .dataframe thead th {\n",
              "        text-align: right;\n",
              "    }\n",
              "</style>\n",
              "<table border=\"1\" class=\"dataframe\">\n",
              "  <thead>\n",
              "    <tr style=\"text-align: right;\">\n",
              "      <th></th>\n",
              "      <th>budget</th>\n",
              "      <th>genres</th>\n",
              "      <th>homepage</th>\n",
              "      <th>tmdbId</th>\n",
              "      <th>keywords</th>\n",
              "      <th>original_language</th>\n",
              "      <th>original_title</th>\n",
              "      <th>overview</th>\n",
              "      <th>popularity</th>\n",
              "      <th>production_companies</th>\n",
              "      <th>...</th>\n",
              "      <th>release_date</th>\n",
              "      <th>revenue</th>\n",
              "      <th>runtime</th>\n",
              "      <th>spoken_languages</th>\n",
              "      <th>status</th>\n",
              "      <th>tagline</th>\n",
              "      <th>title</th>\n",
              "      <th>vote_average</th>\n",
              "      <th>vote_count</th>\n",
              "      <th>ratingId</th>\n",
              "    </tr>\n",
              "  </thead>\n",
              "  <tbody>\n",
              "    <tr>\n",
              "      <th>0</th>\n",
              "      <td>4000000</td>\n",
              "      <td>[{\"id\": 80, \"name\": \"Crime\"}, {\"id\": 35, \"name...</td>\n",
              "      <td>NaN</td>\n",
              "      <td>5</td>\n",
              "      <td>[{\"id\": 612, \"name\": \"hotel\"}, {\"id\": 613, \"na...</td>\n",
              "      <td>en</td>\n",
              "      <td>Four Rooms</td>\n",
              "      <td>It's Ted the Bellhop's first night on the job....</td>\n",
              "      <td>22.87623</td>\n",
              "      <td>[{\"name\": \"Miramax Films\", \"id\": 14}, {\"name\":...</td>\n",
              "      <td>...</td>\n",
              "      <td>1995-12-09</td>\n",
              "      <td>4300000</td>\n",
              "      <td>98.0</td>\n",
              "      <td>[{\"iso_639_1\": \"en\", \"name\": \"English\"}]</td>\n",
              "      <td>Released</td>\n",
              "      <td>Twelve outrageous guests. Four scandalous requ...</td>\n",
              "      <td>Four Rooms</td>\n",
              "      <td>6.5</td>\n",
              "      <td>530</td>\n",
              "      <td>18</td>\n",
              "    </tr>\n",
              "  </tbody>\n",
              "</table>\n",
              "<p>1 rows × 21 columns</p>\n",
              "</div>\n",
              "    <div class=\"colab-df-buttons\">\n",
              "\n",
              "  <div class=\"colab-df-container\">\n",
              "    <button class=\"colab-df-convert\" onclick=\"convertToInteractive('df-a9e2fc62-2dee-4f87-b812-55be489adfe7')\"\n",
              "            title=\"Convert this dataframe to an interactive table.\"\n",
              "            style=\"display:none;\">\n",
              "\n",
              "  <svg xmlns=\"http://www.w3.org/2000/svg\" height=\"24px\" viewBox=\"0 -960 960 960\">\n",
              "    <path d=\"M120-120v-720h720v720H120Zm60-500h600v-160H180v160Zm220 220h160v-160H400v160Zm0 220h160v-160H400v160ZM180-400h160v-160H180v160Zm440 0h160v-160H620v160ZM180-180h160v-160H180v160Zm440 0h160v-160H620v160Z\"/>\n",
              "  </svg>\n",
              "    </button>\n",
              "\n",
              "  <style>\n",
              "    .colab-df-container {\n",
              "      display:flex;\n",
              "      gap: 12px;\n",
              "    }\n",
              "\n",
              "    .colab-df-convert {\n",
              "      background-color: #E8F0FE;\n",
              "      border: none;\n",
              "      border-radius: 50%;\n",
              "      cursor: pointer;\n",
              "      display: none;\n",
              "      fill: #1967D2;\n",
              "      height: 32px;\n",
              "      padding: 0 0 0 0;\n",
              "      width: 32px;\n",
              "    }\n",
              "\n",
              "    .colab-df-convert:hover {\n",
              "      background-color: #E2EBFA;\n",
              "      box-shadow: 0px 1px 2px rgba(60, 64, 67, 0.3), 0px 1px 3px 1px rgba(60, 64, 67, 0.15);\n",
              "      fill: #174EA6;\n",
              "    }\n",
              "\n",
              "    .colab-df-buttons div {\n",
              "      margin-bottom: 4px;\n",
              "    }\n",
              "\n",
              "    [theme=dark] .colab-df-convert {\n",
              "      background-color: #3B4455;\n",
              "      fill: #D2E3FC;\n",
              "    }\n",
              "\n",
              "    [theme=dark] .colab-df-convert:hover {\n",
              "      background-color: #434B5C;\n",
              "      box-shadow: 0px 1px 3px 1px rgba(0, 0, 0, 0.15);\n",
              "      filter: drop-shadow(0px 1px 2px rgba(0, 0, 0, 0.3));\n",
              "      fill: #FFFFFF;\n",
              "    }\n",
              "  </style>\n",
              "\n",
              "    <script>\n",
              "      const buttonEl =\n",
              "        document.querySelector('#df-a9e2fc62-2dee-4f87-b812-55be489adfe7 button.colab-df-convert');\n",
              "      buttonEl.style.display =\n",
              "        google.colab.kernel.accessAllowed ? 'block' : 'none';\n",
              "\n",
              "      async function convertToInteractive(key) {\n",
              "        const element = document.querySelector('#df-a9e2fc62-2dee-4f87-b812-55be489adfe7');\n",
              "        const dataTable =\n",
              "          await google.colab.kernel.invokeFunction('convertToInteractive',\n",
              "                                                    [key], {});\n",
              "        if (!dataTable) return;\n",
              "\n",
              "        const docLinkHtml = 'Like what you see? Visit the ' +\n",
              "          '<a target=\"_blank\" href=https://colab.research.google.com/notebooks/data_table.ipynb>data table notebook</a>'\n",
              "          + ' to learn more about interactive tables.';\n",
              "        element.innerHTML = '';\n",
              "        dataTable['output_type'] = 'display_data';\n",
              "        await google.colab.output.renderOutput(dataTable, element);\n",
              "        const docLink = document.createElement('div');\n",
              "        docLink.innerHTML = docLinkHtml;\n",
              "        element.appendChild(docLink);\n",
              "      }\n",
              "    </script>\n",
              "  </div>\n",
              "\n",
              "\n",
              "    </div>\n",
              "  </div>\n"
            ],
            "application/vnd.google.colaboratory.intrinsic+json": {
              "type": "dataframe",
              "variable_name": "movies"
            }
          },
          "metadata": {},
          "execution_count": 63
        }
      ],
      "source": [
        "movies.head(1)"
      ]
    },
    {
      "cell_type": "code",
      "execution_count": null,
      "metadata": {
        "colab": {
          "base_uri": "https://localhost:8080/",
          "height": 81
        },
        "id": "bEiENyVNXlZF",
        "outputId": "8b517c32-2f23-447a-9ce3-e6c7b48fa240"
      },
      "outputs": [
        {
          "output_type": "execute_result",
          "data": {
            "text/plain": [
              "   tmdbId   title                                               cast  \\\n",
              "0   19995  Avatar  [{\"cast_id\": 242, \"character\": \"Jake Sully\", \"...   \n",
              "\n",
              "                                                crew  \n",
              "0  [{\"credit_id\": \"52fe48009251416c750aca23\", \"de...  "
            ],
            "text/html": [
              "\n",
              "  <div id=\"df-6e4d1ca1-6c19-4be1-a0fd-bee3fa36fab5\" class=\"colab-df-container\">\n",
              "    <div>\n",
              "<style scoped>\n",
              "    .dataframe tbody tr th:only-of-type {\n",
              "        vertical-align: middle;\n",
              "    }\n",
              "\n",
              "    .dataframe tbody tr th {\n",
              "        vertical-align: top;\n",
              "    }\n",
              "\n",
              "    .dataframe thead th {\n",
              "        text-align: right;\n",
              "    }\n",
              "</style>\n",
              "<table border=\"1\" class=\"dataframe\">\n",
              "  <thead>\n",
              "    <tr style=\"text-align: right;\">\n",
              "      <th></th>\n",
              "      <th>tmdbId</th>\n",
              "      <th>title</th>\n",
              "      <th>cast</th>\n",
              "      <th>crew</th>\n",
              "    </tr>\n",
              "  </thead>\n",
              "  <tbody>\n",
              "    <tr>\n",
              "      <th>0</th>\n",
              "      <td>19995</td>\n",
              "      <td>Avatar</td>\n",
              "      <td>[{\"cast_id\": 242, \"character\": \"Jake Sully\", \"...</td>\n",
              "      <td>[{\"credit_id\": \"52fe48009251416c750aca23\", \"de...</td>\n",
              "    </tr>\n",
              "  </tbody>\n",
              "</table>\n",
              "</div>\n",
              "    <div class=\"colab-df-buttons\">\n",
              "\n",
              "  <div class=\"colab-df-container\">\n",
              "    <button class=\"colab-df-convert\" onclick=\"convertToInteractive('df-6e4d1ca1-6c19-4be1-a0fd-bee3fa36fab5')\"\n",
              "            title=\"Convert this dataframe to an interactive table.\"\n",
              "            style=\"display:none;\">\n",
              "\n",
              "  <svg xmlns=\"http://www.w3.org/2000/svg\" height=\"24px\" viewBox=\"0 -960 960 960\">\n",
              "    <path d=\"M120-120v-720h720v720H120Zm60-500h600v-160H180v160Zm220 220h160v-160H400v160Zm0 220h160v-160H400v160ZM180-400h160v-160H180v160Zm440 0h160v-160H620v160ZM180-180h160v-160H180v160Zm440 0h160v-160H620v160Z\"/>\n",
              "  </svg>\n",
              "    </button>\n",
              "\n",
              "  <style>\n",
              "    .colab-df-container {\n",
              "      display:flex;\n",
              "      gap: 12px;\n",
              "    }\n",
              "\n",
              "    .colab-df-convert {\n",
              "      background-color: #E8F0FE;\n",
              "      border: none;\n",
              "      border-radius: 50%;\n",
              "      cursor: pointer;\n",
              "      display: none;\n",
              "      fill: #1967D2;\n",
              "      height: 32px;\n",
              "      padding: 0 0 0 0;\n",
              "      width: 32px;\n",
              "    }\n",
              "\n",
              "    .colab-df-convert:hover {\n",
              "      background-color: #E2EBFA;\n",
              "      box-shadow: 0px 1px 2px rgba(60, 64, 67, 0.3), 0px 1px 3px 1px rgba(60, 64, 67, 0.15);\n",
              "      fill: #174EA6;\n",
              "    }\n",
              "\n",
              "    .colab-df-buttons div {\n",
              "      margin-bottom: 4px;\n",
              "    }\n",
              "\n",
              "    [theme=dark] .colab-df-convert {\n",
              "      background-color: #3B4455;\n",
              "      fill: #D2E3FC;\n",
              "    }\n",
              "\n",
              "    [theme=dark] .colab-df-convert:hover {\n",
              "      background-color: #434B5C;\n",
              "      box-shadow: 0px 1px 3px 1px rgba(0, 0, 0, 0.15);\n",
              "      filter: drop-shadow(0px 1px 2px rgba(0, 0, 0, 0.3));\n",
              "      fill: #FFFFFF;\n",
              "    }\n",
              "  </style>\n",
              "\n",
              "    <script>\n",
              "      const buttonEl =\n",
              "        document.querySelector('#df-6e4d1ca1-6c19-4be1-a0fd-bee3fa36fab5 button.colab-df-convert');\n",
              "      buttonEl.style.display =\n",
              "        google.colab.kernel.accessAllowed ? 'block' : 'none';\n",
              "\n",
              "      async function convertToInteractive(key) {\n",
              "        const element = document.querySelector('#df-6e4d1ca1-6c19-4be1-a0fd-bee3fa36fab5');\n",
              "        const dataTable =\n",
              "          await google.colab.kernel.invokeFunction('convertToInteractive',\n",
              "                                                    [key], {});\n",
              "        if (!dataTable) return;\n",
              "\n",
              "        const docLinkHtml = 'Like what you see? Visit the ' +\n",
              "          '<a target=\"_blank\" href=https://colab.research.google.com/notebooks/data_table.ipynb>data table notebook</a>'\n",
              "          + ' to learn more about interactive tables.';\n",
              "        element.innerHTML = '';\n",
              "        dataTable['output_type'] = 'display_data';\n",
              "        await google.colab.output.renderOutput(dataTable, element);\n",
              "        const docLink = document.createElement('div');\n",
              "        docLink.innerHTML = docLinkHtml;\n",
              "        element.appendChild(docLink);\n",
              "      }\n",
              "    </script>\n",
              "  </div>\n",
              "\n",
              "\n",
              "    </div>\n",
              "  </div>\n"
            ],
            "application/vnd.google.colaboratory.intrinsic+json": {
              "type": "dataframe",
              "variable_name": "credits",
              "summary": "{\n  \"name\": \"credits\",\n  \"rows\": 4803,\n  \"fields\": [\n    {\n      \"column\": \"tmdbId\",\n      \"properties\": {\n        \"dtype\": \"number\",\n        \"std\": 88694,\n        \"min\": 5,\n        \"max\": 459488,\n        \"num_unique_values\": 4803,\n        \"samples\": [\n          8427,\n          13006,\n          18041\n        ],\n        \"semantic_type\": \"\",\n        \"description\": \"\"\n      }\n    },\n    {\n      \"column\": \"title\",\n      \"properties\": {\n        \"dtype\": \"string\",\n        \"num_unique_values\": 4800,\n        \"samples\": [\n          \"I Spy\",\n          \"Who's Your Caddy?\",\n          \"Sleepover\"\n        ],\n        \"semantic_type\": \"\",\n        \"description\": \"\"\n      }\n    },\n    {\n      \"column\": \"cast\",\n      \"properties\": {\n        \"dtype\": \"string\",\n        \"num_unique_values\": 4761,\n        \"samples\": [\n          \"[{\\\"cast_id\\\": 1, \\\"character\\\": \\\"Joshua \\\\\\\"Josh\\\\\\\" Baskin\\\", \\\"credit_id\\\": \\\"52fe4349c3a36847f8048ac3\\\", \\\"gender\\\": 2, \\\"id\\\": 31, \\\"name\\\": \\\"Tom Hanks\\\", \\\"order\\\": 0}, {\\\"cast_id\\\": 2, \\\"character\\\": \\\"Susan\\\", \\\"credit_id\\\": \\\"52fe4349c3a36847f8048ac7\\\", \\\"gender\\\": 1, \\\"id\\\": 20, \\\"name\\\": \\\"Elizabeth Perkins\\\", \\\"order\\\": 1}, {\\\"cast_id\\\": 3, \\\"character\\\": \\\"MacMillan\\\", \\\"credit_id\\\": \\\"52fe4349c3a36847f8048acb\\\", \\\"gender\\\": 2, \\\"id\\\": 1162, \\\"name\\\": \\\"Robert Loggia\\\", \\\"order\\\": 2}, {\\\"cast_id\\\": 4, \\\"character\\\": \\\"Paul\\\", \\\"credit_id\\\": \\\"52fe4349c3a36847f8048acf\\\", \\\"gender\\\": 2, \\\"id\\\": 11512, \\\"name\\\": \\\"John Heard\\\", \\\"order\\\": 3}, {\\\"cast_id\\\": 16, \\\"character\\\": \\\"Billy\\\", \\\"credit_id\\\": \\\"52fe4349c3a36847f8048b11\\\", \\\"gender\\\": 2, \\\"id\\\": 57422, \\\"name\\\": \\\"Jared Rushton\\\", \\\"order\\\": 4}, {\\\"cast_id\\\": 17, \\\"character\\\": \\\"Young Josh\\\", \\\"credit_id\\\": \\\"52fe4349c3a36847f8048b15\\\", \\\"gender\\\": 2, \\\"id\\\": 62123, \\\"name\\\": \\\"David Moscow\\\", \\\"order\\\": 5}, {\\\"cast_id\\\": 5, \\\"character\\\": \\\"Scotty Brennen\\\", \\\"credit_id\\\": \\\"52fe4349c3a36847f8048ad3\\\", \\\"gender\\\": 2, \\\"id\\\": 16165, \\\"name\\\": \\\"Jon Lovitz\\\", \\\"order\\\": 6}, {\\\"cast_id\\\": 6, \\\"character\\\": \\\"Mrs. Baskin\\\", \\\"credit_id\\\": \\\"52fe4349c3a36847f8048ad7\\\", \\\"gender\\\": 1, \\\"id\\\": 2167, \\\"name\\\": \\\"Mercedes Ruehl\\\", \\\"order\\\": 7}, {\\\"cast_id\\\": 18, \\\"character\\\": \\\"Mr. Baskin\\\", \\\"credit_id\\\": \\\"52fe4349c3a36847f8048b19\\\", \\\"gender\\\": 2, \\\"id\\\": 143205, \\\"name\\\": \\\"Josh Clark\\\", \\\"order\\\": 8}, {\\\"cast_id\\\": 22, \\\"character\\\": \\\"Gym Teacher\\\", \\\"credit_id\\\": \\\"52fe4349c3a36847f8048b29\\\", \\\"gender\\\": 2, \\\"id\\\": 123728, \\\"name\\\": \\\"Allan Wasserman\\\", \\\"order\\\": 9}, {\\\"cast_id\\\": 19, \\\"character\\\": \\\"Cynthia Benson\\\", \\\"credit_id\\\": \\\"52fe4349c3a36847f8048b1d\\\", \\\"gender\\\": 0, \\\"id\\\": 1073814, \\\"name\\\": \\\"Kimberlee M. Davis\\\", \\\"order\\\": 10}, {\\\"cast_id\\\": 20, \\\"character\\\": \\\"Freddie Benson\\\", \\\"credit_id\\\": \\\"52fe4349c3a36847f8048b21\\\", \\\"gender\\\": 0, \\\"id\\\": 1073816, \\\"name\\\": \\\"Oliver Block\\\", \\\"order\\\": 11}, {\\\"cast_id\\\": 21, \\\"character\\\": \\\"Cynthia's Friend\\\", \\\"credit_id\\\": \\\"52fe4349c3a36847f8048b25\\\", \\\"gender\\\": 0, \\\"id\\\": 80138, \\\"name\\\": \\\"Erika Katz\\\", \\\"order\\\": 12}, {\\\"cast_id\\\": 23, \\\"character\\\": \\\"Derek\\\", \\\"credit_id\\\": \\\"52fe4349c3a36847f8048b2d\\\", \\\"gender\\\": 2, \\\"id\\\": 166788, \\\"name\\\": \\\"Mark Ballou\\\", \\\"order\\\": 13}, {\\\"cast_id\\\": 24, \\\"character\\\": \\\"Ticket Taker\\\", \\\"credit_id\\\": \\\"52fe4349c3a36847f8048b31\\\", \\\"gender\\\": 0, \\\"id\\\": 994134, \\\"name\\\": \\\"Gary Howard Klar\\\", \\\"order\\\": 14}]\",\n          \"[{\\\"cast_id\\\": 3, \\\"character\\\": \\\"Richard O'Connell\\\", \\\"credit_id\\\": \\\"52fe4312c3a36847f8038407\\\", \\\"gender\\\": 2, \\\"id\\\": 18269, \\\"name\\\": \\\"Brendan Fraser\\\", \\\"order\\\": 0}, {\\\"cast_id\\\": 4, \\\"character\\\": \\\"Evelyn Carnahan O'Connell/Princess Nefertiri\\\", \\\"credit_id\\\": \\\"52fe4312c3a36847f803840b\\\", \\\"gender\\\": 1, \\\"id\\\": 3293, \\\"name\\\": \\\"Rachel Weisz\\\", \\\"order\\\": 1}, {\\\"cast_id\\\": 5, \\\"character\\\": \\\"Jonathan Carnahan\\\", \\\"credit_id\\\": \\\"52fe4312c3a36847f803840f\\\", \\\"gender\\\": 2, \\\"id\\\": 10727, \\\"name\\\": \\\"John Hannah\\\", \\\"order\\\": 2}, {\\\"cast_id\\\": 6, \\\"character\\\": \\\"High Priest Imhotep\\\", \\\"credit_id\\\": \\\"52fe4312c3a36847f8038413\\\", \\\"gender\\\": 2, \\\"id\\\": 16743, \\\"name\\\": \\\"Arnold Vosloo\\\", \\\"order\\\": 3}, {\\\"cast_id\\\": 7, \\\"character\\\": \\\"Ardeth Bay\\\", \\\"credit_id\\\": \\\"52fe4312c3a36847f8038417\\\", \\\"gender\\\": 2, \\\"id\\\": 18041, \\\"name\\\": \\\"Oded Fehr\\\", \\\"order\\\": 4}, {\\\"cast_id\\\": 8, \\\"character\\\": \\\"Mathayus the Scorpion King\\\", \\\"credit_id\\\": \\\"52fe4312c3a36847f803841b\\\", \\\"gender\\\": 2, \\\"id\\\": 18918, \\\"name\\\": \\\"Dwayne Johnson\\\", \\\"order\\\": 5}, {\\\"cast_id\\\": 9, \\\"character\\\": \\\"Alexander O'Connell\\\", \\\"credit_id\\\": \\\"52fe4312c3a36847f803841f\\\", \\\"gender\\\": 2, \\\"id\\\": 18919, \\\"name\\\": \\\"Freddie Boath\\\", \\\"order\\\": 6}, {\\\"cast_id\\\": 10, \\\"character\\\": \\\"Meela Nais/Anck Su Namun\\\", \\\"credit_id\\\": \\\"52fe4312c3a36847f8038423\\\", \\\"gender\\\": 1, \\\"id\\\": 18920, \\\"name\\\": \\\"Patricia Vel\\\\u00e1squez\\\", \\\"order\\\": 7}, {\\\"cast_id\\\": 17, \\\"character\\\": \\\"Baltus Hafez\\\", \\\"credit_id\\\": \\\"52fe4312c3a36847f803844b\\\", \\\"gender\\\": 2, \\\"id\\\": 2629, \\\"name\\\": \\\"Alun Armstrong\\\", \\\"order\\\": 8}, {\\\"cast_id\\\": 18, \\\"character\\\": \\\"Lock-Nah\\\", \\\"credit_id\\\": \\\"52fe4312c3a36847f803844f\\\", \\\"gender\\\": 2, \\\"id\\\": 31164, \\\"name\\\": \\\"Adewale Akinnuoye-Agbaje\\\", \\\"order\\\": 9}, {\\\"cast_id\\\": 19, \\\"character\\\": \\\"Izzy Buttons\\\", \\\"credit_id\\\": \\\"52fe4312c3a36847f8038453\\\", \\\"gender\\\": 2, \\\"id\\\": 30316, \\\"name\\\": \\\"Shaun Parkes\\\", \\\"order\\\": 10}, {\\\"cast_id\\\": 20, \\\"character\\\": \\\"Red\\\", \\\"credit_id\\\": \\\"52fe4312c3a36847f8038457\\\", \\\"gender\\\": 0, \\\"id\\\": 25675, \\\"name\\\": \\\"Bruce Byron\\\", \\\"order\\\": 11}, {\\\"cast_id\\\": 21, \\\"character\\\": \\\"Jacques\\\", \\\"credit_id\\\": \\\"52fe4312c3a36847f803845b\\\", \\\"gender\\\": 0, \\\"id\\\": 1010264, \\\"name\\\": \\\"Joe Dixon\\\", \\\"order\\\": 12}, {\\\"cast_id\\\": 22, \\\"character\\\": \\\"Spivey\\\", \\\"credit_id\\\": \\\"52fe4312c3a36847f803845f\\\", \\\"gender\\\": 2, \\\"id\\\": 208211, \\\"name\\\": \\\"Thomas Fisher\\\", \\\"order\\\": 13}, {\\\"cast_id\\\": 23, \\\"character\\\": \\\"Pharaoh Seti I\\\", \\\"credit_id\\\": \\\"52fe4312c3a36847f8038463\\\", \\\"gender\\\": 2, \\\"id\\\": 25808, \\\"name\\\": \\\"Aharon Ipal\\\\u00e9\\\", \\\"order\\\": 14}, {\\\"cast_id\\\": 24, \\\"character\\\": \\\"Shafek\\\", \\\"credit_id\\\": \\\"52fe4312c3a36847f8038467\\\", \\\"gender\\\": 0, \\\"id\\\": 178631, \\\"name\\\": \\\"Quill Roberts\\\", \\\"order\\\": 15}, {\\\"cast_id\\\": 25, \\\"character\\\": \\\"Showgirl with Jonathan\\\", \\\"credit_id\\\": \\\"52fe4312c3a36847f803846b\\\", \\\"gender\\\": 1, \\\"id\\\": 120886, \\\"name\\\": \\\"Donna Air\\\", \\\"order\\\": 16}, {\\\"cast_id\\\": 26, \\\"character\\\": \\\"Mountain of Flesh\\\", \\\"credit_id\\\": \\\"52fe4312c3a36847f803846f\\\", \\\"gender\\\": 0, \\\"id\\\": 1077874, \\\"name\\\": \\\"Trevor Lovell\\\", \\\"order\\\": 17}, {\\\"cast_id\\\": 30, \\\"character\\\": \\\"Spivey\\\", \\\"credit_id\\\": \\\"536222b20e0a2649a900146a\\\", \\\"gender\\\": 0, \\\"id\\\": 27678, \\\"name\\\": \\\"Tom Fisher\\\", \\\"order\\\": 18}]\",\n          \"[{\\\"cast_id\\\": 2, \\\"character\\\": \\\"Donna Keppel\\\", \\\"credit_id\\\": \\\"52fe44b0c3a36847f80a478f\\\", \\\"gender\\\": 1, \\\"id\\\": 29221, \\\"name\\\": \\\"Brittany Snow\\\", \\\"order\\\": 0}, {\\\"cast_id\\\": 3, \\\"character\\\": \\\"Bobby\\\", \\\"credit_id\\\": \\\"52fe44b0c3a36847f80a4793\\\", \\\"gender\\\": 2, \\\"id\\\": 53368, \\\"name\\\": \\\"Scott Porter\\\", \\\"order\\\": 1}, {\\\"cast_id\\\": 4, \\\"character\\\": \\\"Claire\\\", \\\"credit_id\\\": \\\"52fe44b0c3a36847f80a4797\\\", \\\"gender\\\": 1, \\\"id\\\": 55463, \\\"name\\\": \\\"Jessica Stroup\\\", \\\"order\\\": 2}, {\\\"cast_id\\\": 5, \\\"character\\\": \\\"Lisa Hines\\\", \\\"credit_id\\\": \\\"52fe44b0c3a36847f80a479b\\\", \\\"gender\\\": 1, \\\"id\\\": 39556, \\\"name\\\": \\\"Dana Davis\\\", \\\"order\\\": 3}, {\\\"cast_id\\\": 6, \\\"character\\\": \\\"Michael\\\", \\\"credit_id\\\": \\\"52fe44b0c3a36847f80a479f\\\", \\\"gender\\\": 2, \\\"id\\\": 55464, \\\"name\\\": \\\"Kelly Blatz\\\", \\\"order\\\": 4}, {\\\"cast_id\\\": 7, \\\"character\\\": \\\"Ronnie Heflin\\\", \\\"credit_id\\\": \\\"52fe44b0c3a36847f80a47a3\\\", \\\"gender\\\": 2, \\\"id\\\": 53652, \\\"name\\\": \\\"Collins Pennie\\\", \\\"order\\\": 5}, {\\\"cast_id\\\": 8, \\\"character\\\": \\\"Richard Fenton\\\", \\\"credit_id\\\": \\\"52fe44b0c3a36847f80a47a7\\\", \\\"gender\\\": 2, \\\"id\\\": 51670, \\\"name\\\": \\\"Johnathon Schaech\\\", \\\"order\\\": 6}, {\\\"cast_id\\\": 24, \\\"character\\\": \\\"Detective Winn\\\", \\\"credit_id\\\": \\\"52fe44b0c3a36847f80a47f3\\\", \\\"gender\\\": 2, \\\"id\\\": 17605, \\\"name\\\": \\\"Idris Elba\\\", \\\"order\\\": 7}, {\\\"cast_id\\\": 28, \\\"character\\\": \\\"Dr. Elisha Crowe\\\", \\\"credit_id\\\": \\\"52fe44b0c3a36847f80a4809\\\", \\\"gender\\\": 1, \\\"id\\\": 21702, \\\"name\\\": \\\"Ming-Na Wen\\\", \\\"order\\\": 8}, {\\\"cast_id\\\": 29, \\\"character\\\": \\\"Aunt Karen Turner\\\", \\\"credit_id\\\": \\\"52fe44b0c3a36847f80a480d\\\", \\\"gender\\\": 1, \\\"id\\\": 7523, \\\"name\\\": \\\"Jessalyn Gilsig\\\", \\\"order\\\": 9}, {\\\"cast_id\\\": 30, \\\"character\\\": \\\"Rick Leland\\\", \\\"credit_id\\\": \\\"53e94dbc0e0a2654fd000009\\\", \\\"gender\\\": 2, \\\"id\\\": 34502, \\\"name\\\": \\\"Kellan Lutz\\\", \\\"order\\\": 10}, {\\\"cast_id\\\": 31, \\\"character\\\": \\\"Detective Nash\\\", \\\"credit_id\\\": \\\"53e94e36c3a3687ffa00000e\\\", \\\"gender\\\": 2, \\\"id\\\": 5296, \\\"name\\\": \\\"James Ransone\\\", \\\"order\\\": 11}, {\\\"cast_id\\\": 32, \\\"character\\\": \\\"Ms. Waters\\\", \\\"credit_id\\\": \\\"53e94e940e0a2654fd00001e\\\", \\\"gender\\\": 1, \\\"id\\\": 96554, \\\"name\\\": \\\"Mary Mara\\\", \\\"order\\\": 12}, {\\\"cast_id\\\": 33, \\\"character\\\": \\\"Dancer\\\", \\\"credit_id\\\": \\\"56d207d7c3a3681e4400b3de\\\", \\\"gender\\\": 1, \\\"id\\\": 159913, \\\"name\\\": \\\"Allison Kyler\\\", \\\"order\\\": 13}, {\\\"cast_id\\\": 34, \\\"character\\\": \\\"Officer Hicks\\\", \\\"credit_id\\\": \\\"57dd7339925141784a00050e\\\", \\\"gender\\\": 2, \\\"id\\\": 66560, \\\"name\\\": \\\"Craig Susser\\\", \\\"order\\\": 14}, {\\\"cast_id\\\": 43, \\\"character\\\": \\\"Mrs. Hines\\\", \\\"credit_id\\\": \\\"58c7285fc3a3683dd7001c0d\\\", \\\"gender\\\": 0, \\\"id\\\": 155435, \\\"name\\\": \\\"Valeri Ross\\\", \\\"order\\\": 15}, {\\\"cast_id\\\": 44, \\\"character\\\": \\\"Crissy Lynn\\\", \\\"credit_id\\\": \\\"590c3264c3a36801c60092ea\\\", \\\"gender\\\": 1, \\\"id\\\": 115126, \\\"name\\\": \\\"Brianne Davis\\\", \\\"order\\\": 16}, {\\\"cast_id\\\": 45, \\\"character\\\": \\\"Uncle Jack Turner\\\", \\\"credit_id\\\": \\\"590c32f1c3a36801c60093a5\\\", \\\"gender\\\": 2, \\\"id\\\": 57251, \\\"name\\\": \\\"Linden Ashby\\\", \\\"order\\\": 17}, {\\\"cast_id\\\": 46, \\\"character\\\": \\\"April\\\", \\\"credit_id\\\": \\\"590c336c9251415a8b009abc\\\", \\\"gender\\\": 1, \\\"id\\\": 92856, \\\"name\\\": \\\"Jana Kramer\\\", \\\"order\\\": 18}, {\\\"cast_id\\\": 47, \\\"character\\\": \\\"Taylor\\\", \\\"credit_id\\\": \\\"590c33b49251415a67009232\\\", \\\"gender\\\": 1, \\\"id\\\": 88038, \\\"name\\\": \\\"Rachel Specter\\\", \\\"order\\\": 19}, {\\\"cast_id\\\": 48, \\\"character\\\": \\\"Mrs. Keppel\\\", \\\"credit_id\\\": \\\"590c340a9251415a5e0090fa\\\", \\\"gender\\\": 1, \\\"id\\\": 15010, \\\"name\\\": \\\"Lori Heuring\\\", \\\"order\\\": 20}, {\\\"cast_id\\\": 49, \\\"character\\\": \\\"DJ Tyler\\\", \\\"credit_id\\\": \\\"590c3499c3a3680148009300\\\", \\\"gender\\\": 0, \\\"id\\\": 1627987, \\\"name\\\": \\\"Jay Phillips\\\", \\\"order\\\": 21}, {\\\"cast_id\\\": 61, \\\"character\\\": \\\"Bellhop\\\", \\\"credit_id\\\": \\\"590c397a9251415a8b009fca\\\", \\\"gender\\\": 2, \\\"id\\\": 26852, \\\"name\\\": \\\"Joshua Leonard\\\", \\\"order\\\": 22}]\"\n        ],\n        \"semantic_type\": \"\",\n        \"description\": \"\"\n      }\n    },\n    {\n      \"column\": \"crew\",\n      \"properties\": {\n        \"dtype\": \"string\",\n        \"num_unique_values\": 4776,\n        \"samples\": [\n          \"[{\\\"credit_id\\\": \\\"538d82720e0a26670e005e83\\\", \\\"department\\\": \\\"Editing\\\", \\\"gender\\\": 2, \\\"id\\\": 898, \\\"job\\\": \\\"Editor\\\", \\\"name\\\": \\\"Mark Goldblatt\\\"}, {\\\"credit_id\\\": \\\"538d82860e0a266702005de5\\\", \\\"department\\\": \\\"Editing\\\", \\\"gender\\\": 2, \\\"id\\\": 1098, \\\"job\\\": \\\"Editor\\\", \\\"name\\\": \\\"Mark Helfrich\\\"}, {\\\"credit_id\\\": \\\"538d820c0e0a266708006129\\\", \\\"department\\\": \\\"Production\\\", \\\"gender\\\": 0, \\\"id\\\": 2095, \\\"job\\\": \\\"Producer\\\", \\\"name\\\": \\\"Ralph Winter\\\"}, {\\\"credit_id\\\": \\\"538d82d30e0a266712005def\\\", \\\"department\\\": \\\"Production\\\", \\\"gender\\\": 2, \\\"id\\\": 2624, \\\"job\\\": \\\"Casting\\\", \\\"name\\\": \\\"Richard Pagano\\\"}, {\\\"credit_id\\\": \\\"538d82ea0e0a266715005e74\\\", \\\"department\\\": \\\"Art\\\", \\\"gender\\\": 2, \\\"id\\\": 4953, \\\"job\\\": \\\"Production Design\\\", \\\"name\\\": \\\"Ed Verreaux\\\"}, {\\\"credit_id\\\": \\\"538d82ad0e0a26670800614d\\\", \\\"department\\\": \\\"Production\\\", \\\"gender\\\": 1, \\\"id\\\": 5362, \\\"job\\\": \\\"Casting\\\", \\\"name\\\": \\\"Heike Brandstatter\\\"}, {\\\"credit_id\\\": \\\"538d82c00e0a266705005fa2\\\", \\\"department\\\": \\\"Production\\\", \\\"gender\\\": 1, \\\"id\\\": 5363, \\\"job\\\": \\\"Casting\\\", \\\"name\\\": \\\"Coreen Mayrs\\\"}, {\\\"credit_id\\\": \\\"538d845ec3a368713c0047d2\\\", \\\"department\\\": \\\"Costume & Make-Up\\\", \\\"gender\\\": 0, \\\"id\\\": 6924, \\\"job\\\": \\\"Costume Supervisor\\\", \\\"name\\\": \\\"Dan Moore\\\"}, {\\\"credit_id\\\": \\\"538d81ef0e0a266718005cb8\\\", \\\"department\\\": \\\"Production\\\", \\\"gender\\\": 1, \\\"id\\\": 7200, \\\"job\\\": \\\"Producer\\\", \\\"name\\\": \\\"Lauren Shuler Donner\\\"}, {\\\"credit_id\\\": \\\"576710bec3a36806720004b0\\\", \\\"department\\\": \\\"Production\\\", \\\"gender\\\": 2, \\\"id\\\": 7624, \\\"job\\\": \\\"Executive Producer\\\", \\\"name\\\": \\\"Stan Lee\\\"}, {\\\"credit_id\\\": \\\"538d81d80e0a266715005e4d\\\", \\\"department\\\": \\\"Production\\\", \\\"gender\\\": 2, \\\"id\\\": 7626, \\\"job\\\": \\\"Producer\\\", \\\"name\\\": \\\"Avi Arad\\\"}, {\\\"credit_id\\\": \\\"5767101092514165c20000db\\\", \\\"department\\\": \\\"Production\\\", \\\"gender\\\": 2, \\\"id\\\": 10850, \\\"job\\\": \\\"Executive Producer\\\", \\\"name\\\": \\\"Kevin Feige\\\"}, {\\\"credit_id\\\": \\\"538d83ba0e0a26670b005ded\\\", \\\"department\\\": \\\"Costume & Make-Up\\\", \\\"gender\\\": 1, \\\"id\\\": 10970, \\\"job\\\": \\\"Costume Design\\\", \\\"name\\\": \\\"Judianna Makovsky\\\"}, {\\\"credit_id\\\": \\\"538d83620e0a266715005e82\\\", \\\"department\\\": \\\"Art\\\", \\\"gender\\\": 2, \\\"id\\\": 10549, \\\"job\\\": \\\"Art Direction\\\", \\\"name\\\": \\\"Justin Scoppa Jr.\\\"}, {\\\"credit_id\\\": \\\"5626465bc3a3680e0e01704b\\\", \\\"department\\\": \\\"Sound\\\", \\\"gender\\\": 2, \\\"id\\\": 11098, \\\"job\\\": \\\"Original Music Composer\\\", \\\"name\\\": \\\"John Powell\\\"}, {\\\"credit_id\\\": \\\"52fe45ff9251416c910459e1\\\", \\\"department\\\": \\\"Writing\\\", \\\"gender\\\": 2, \\\"id\\\": 11092, \\\"job\\\": \\\"Screenplay\\\", \\\"name\\\": \\\"Simon Kinberg\\\"}, {\\\"credit_id\\\": \\\"56abe4ecc3a3681c47003aa3\\\", \\\"department\\\": \\\"Crew\\\", \\\"gender\\\": 2, \\\"id\\\": 15017, \\\"job\\\": \\\"Makeup Effects\\\", \\\"name\\\": \\\"Bill Corso\\\"}, {\\\"credit_id\\\": \\\"538d82560e0a266705005f94\\\", \\\"department\\\": \\\"Camera\\\", \\\"gender\\\": 2, \\\"id\\\": 11099, \\\"job\\\": \\\"Director of Photography\\\", \\\"name\\\": \\\"Dante Spinotti\\\"}, {\\\"credit_id\\\": \\\"52fe45ff9251416c910459e7\\\", \\\"department\\\": \\\"Writing\\\", \\\"gender\\\": 2, \\\"id\\\": 11011, \\\"job\\\": \\\"Screenplay\\\", \\\"name\\\": \\\"Zak Penn\\\"}, {\\\"credit_id\\\": \\\"52fe45ff9251416c910459db\\\", \\\"department\\\": \\\"Directing\\\", \\\"gender\\\": 2, \\\"id\\\": 11091, \\\"job\\\": \\\"Director\\\", \\\"name\\\": \\\"Brett Ratner\\\"}, {\\\"credit_id\\\": \\\"538d834f0e0a266712005dfe\\\", \\\"department\\\": \\\"Art\\\", \\\"gender\\\": 1, \\\"id\\\": 22061, \\\"job\\\": \\\"Art Direction\\\", \\\"name\\\": \\\"Helen Jarvis\\\"}, {\\\"credit_id\\\": \\\"538d83a50e0a266715005e8b\\\", \\\"department\\\": \\\"Art\\\", \\\"gender\\\": 1, \\\"id\\\": 11021, \\\"job\\\": \\\"Set Decoration\\\", \\\"name\\\": \\\"Elizabeth Wilcox\\\"}, {\\\"credit_id\\\": \\\"538d83220e0a266702005df6\\\", \\\"department\\\": \\\"Art\\\", \\\"gender\\\": 0, \\\"id\\\": 11102, \\\"job\\\": \\\"Art Direction\\\", \\\"name\\\": \\\"Chad S. Frey\\\"}, {\\\"credit_id\\\": \\\"570b8dde9251412c740020d0\\\", \\\"department\\\": \\\"Art\\\", \\\"gender\\\": 0, \\\"id\\\": 46082, \\\"job\\\": \\\"Supervising Art Director\\\", \\\"name\\\": \\\"Geoff Hubbard\\\"}, {\\\"credit_id\\\": \\\"538d83ce0e0a266702005e02\\\", \\\"department\\\": \\\"Costume & Make-Up\\\", \\\"gender\\\": 2, \\\"id\\\": 11106, \\\"job\\\": \\\"Costume Design\\\", \\\"name\\\": \\\"Lisa Tomczeszyn\\\"}, {\\\"credit_id\\\": \\\"560046499251414e4d000197\\\", \\\"department\\\": \\\"Crew\\\", \\\"gender\\\": 0, \\\"id\\\": 113194, \\\"job\\\": \\\"Stunts\\\", \\\"name\\\": \\\"James Bamford\\\"}, {\\\"credit_id\\\": \\\"538d82990e0a266712005de9\\\", \\\"department\\\": \\\"Editing\\\", \\\"gender\\\": 1, \\\"id\\\": 11100, \\\"job\\\": \\\"Editor\\\", \\\"name\\\": \\\"Julia Wong\\\"}, {\\\"credit_id\\\": \\\"57671042c3a36806b3000104\\\", \\\"department\\\": \\\"Production\\\", \\\"gender\\\": 2, \\\"id\\\": 11095, \\\"job\\\": \\\"Co-Producer\\\", \\\"name\\\": \\\"James M. Freitag\\\"}, {\\\"credit_id\\\": \\\"57670fdbc3a3680722000106\\\", \\\"department\\\": \\\"Production\\\", \\\"gender\\\": 2, \\\"id\\\": 11014, \\\"job\\\": \\\"Co-Producer\\\", \\\"name\\\": \\\"Ross Fanger\\\"}, {\\\"credit_id\\\": \\\"538d83750e0a26670b005de5\\\", \\\"department\\\": \\\"Art\\\", \\\"gender\\\": 0, \\\"id\\\": 223991, \\\"job\\\": \\\"Art Direction\\\", \\\"name\\\": \\\"Sandi Tanaka\\\"}, {\\\"credit_id\\\": \\\"576710f192514133c5001213\\\", \\\"department\\\": \\\"Production\\\", \\\"gender\\\": 0, \\\"id\\\": 1182092, \\\"job\\\": \\\"Executive Producer\\\", \\\"name\\\": \\\"John Palermo\\\"}, {\\\"credit_id\\\": \\\"55402d2fc3a3681da0000633\\\", \\\"department\\\": \\\"Visual Effects\\\", \\\"gender\\\": 0, \\\"id\\\": 1395269, \\\"job\\\": \\\"Visual Effects Supervisor\\\", \\\"name\\\": \\\"John Bruno\\\"}, {\\\"credit_id\\\": \\\"563a9ed79251416d520145a0\\\", \\\"department\\\": \\\"Crew\\\", \\\"gender\\\": 0, \\\"id\\\": 1401803, \\\"job\\\": \\\"Digital Effects Supervisor\\\", \\\"name\\\": \\\"Guy Williams\\\"}, {\\\"credit_id\\\": \\\"5767112fc3a3680722000132\\\", \\\"department\\\": \\\"Production\\\", \\\"gender\\\": 0, \\\"id\\\": 1432021, \\\"job\\\": \\\"Co-Producer\\\", \\\"name\\\": \\\"Kurt Williams\\\"}, {\\\"credit_id\\\": \\\"55423048c3a36829e5003bc8\\\", \\\"department\\\": \\\"Crew\\\", \\\"gender\\\": 0, \\\"id\\\": 1447557, \\\"job\\\": \\\"Compositors\\\", \\\"name\\\": \\\"Rachel Wyn Dunn\\\"}, {\\\"credit_id\\\": \\\"552986b4c3a368596e001a79\\\", \\\"department\\\": \\\"Visual Effects\\\", \\\"gender\\\": 0, \\\"id\\\": 1452932, \\\"job\\\": \\\"Animation\\\", \\\"name\\\": \\\"Joel Fletcher\\\"}, {\\\"credit_id\\\": \\\"57670f92925141655a000109\\\", \\\"department\\\": \\\"Production\\\", \\\"gender\\\": 0, \\\"id\\\": 1477146, \\\"job\\\": \\\"Co-Producer\\\", \\\"name\\\": \\\"Lee Cleary\\\"}, {\\\"credit_id\\\": \\\"5767107c925141655a00012c\\\", \\\"department\\\": \\\"Production\\\", \\\"gender\\\": 0, \\\"id\\\": 1477147, \\\"job\\\": \\\"Associate Producer\\\", \\\"name\\\": \\\"David Gorder\\\"}, {\\\"credit_id\\\": \\\"5767105bc3a36850c4000573\\\", \\\"department\\\": \\\"Production\\\", \\\"gender\\\": 2, \\\"id\\\": 1477203, \\\"job\\\": \\\"Associate Producer\\\", \\\"name\\\": \\\"Luca Marco Paracels\\\"}]\",\n          \"[{\\\"credit_id\\\": \\\"58dd0e90c3a368223e00b59c\\\", \\\"department\\\": \\\"Production\\\", \\\"gender\\\": 1, \\\"id\\\": 546, \\\"job\\\": \\\"Casting\\\", \\\"name\\\": \\\"Jeanne McCarthy\\\"}, {\\\"credit_id\\\": \\\"52fe43bb9251416c7501bf83\\\", \\\"department\\\": \\\"Production\\\", \\\"gender\\\": 2, \\\"id\\\": 2043, \\\"job\\\": \\\"Producer\\\", \\\"name\\\": \\\"John Davis\\\"}, {\\\"credit_id\\\": \\\"5539fe35c3a3685cf8002f1e\\\", \\\"department\\\": \\\"Sound\\\", \\\"gender\\\": 2, \\\"id\\\": 3393, \\\"job\\\": \\\"Original Music Composer\\\", \\\"name\\\": \\\"David Newman\\\"}, {\\\"credit_id\\\": \\\"58dd0d3fc3a368228a00aa50\\\", \\\"department\\\": \\\"Production\\\", \\\"gender\\\": 0, \\\"id\\\": 6187, \\\"job\\\": \\\"Associate Producer\\\", \\\"name\\\": \\\"Aldric La'Auli Porter\\\"}, {\\\"credit_id\\\": \\\"5990427f925141672302ba00\\\", \\\"department\\\": \\\"Directing\\\", \\\"gender\\\": 0, \\\"id\\\": 6187, \\\"job\\\": \\\"First Assistant Director\\\", \\\"name\\\": \\\"Aldric La'Auli Porter\\\"}, {\\\"credit_id\\\": \\\"58dd0efdc3a368228300b438\\\", \\\"department\\\": \\\"Art\\\", \\\"gender\\\": 2, \\\"id\\\": 6877, \\\"job\\\": \\\"Production Design\\\", \\\"name\\\": \\\"William Sandell\\\"}, {\\\"credit_id\\\": \\\"58dd0f56925141411000c340\\\", \\\"department\\\": \\\"Art\\\", \\\"gender\\\": 2, \\\"id\\\": 6880, \\\"job\\\": \\\"Set Decoration\\\", \\\"name\\\": \\\"Robert Gould\\\"}, {\\\"credit_id\\\": \\\"58dd0f1fc3a36822a600c1dd\\\", \\\"department\\\": \\\"Art\\\", \\\"gender\\\": 2, \\\"id\\\": 8705, \\\"job\\\": \\\"Art Direction\\\", \\\"name\\\": \\\"Brad Ricker\\\"}, {\\\"credit_id\\\": \\\"5990490b925141673e02d2f5\\\", \\\"department\\\": \\\"Sound\\\", \\\"gender\\\": 0, \\\"id\\\": 8763, \\\"job\\\": \\\"Foley Editor\\\", \\\"name\\\": \\\"Dan Yale\\\"}, {\\\"credit_id\\\": \\\"58dd0d3192514140f600b915\\\", \\\"department\\\": \\\"Production\\\", \\\"gender\\\": 2, \\\"id\\\": 8880, \\\"job\\\": \\\"Executive Producer\\\", \\\"name\\\": \\\"Neil A. Machlis\\\"}, {\\\"credit_id\\\": \\\"58dd0e0bc3a368229300bdf6\\\", \\\"department\\\": \\\"Production\\\", \\\"gender\\\": 1, \\\"id\\\": 14377, \\\"job\\\": \\\"Casting\\\", \\\"name\\\": \\\"Juel Bestrop\\\"}, {\\\"credit_id\\\": \\\"599045b6925141672302bdac\\\", \\\"department\\\": \\\"Art\\\", \\\"gender\\\": 0, \\\"id\\\": 12639, \\\"job\\\": \\\"Set Designer\\\", \\\"name\\\": \\\"Hugo Santiago\\\"}, {\\\"credit_id\\\": \\\"58dd0f69c3a368228300b48f\\\", \\\"department\\\": \\\"Costume & Make-Up\\\", \\\"gender\\\": 1, \\\"id\\\": 15524, \\\"job\\\": \\\"Costume Design\\\", \\\"name\\\": \\\"Ruth E. Carter\\\"}, {\\\"credit_id\\\": \\\"52fe43bb9251416c7501bf9b\\\", \\\"department\\\": \\\"Editing\\\", \\\"gender\\\": 2, \\\"id\\\": 18276, \\\"job\\\": \\\"Editor\\\", \\\"name\\\": \\\"Craig Herring\\\"}, {\\\"credit_id\\\": \\\"58dd0f2f92514140fa00c653\\\", \\\"department\\\": \\\"Art\\\", \\\"gender\\\": 2, \\\"id\\\": 13434, \\\"job\\\": \\\"Supervising Art Director\\\", \\\"name\\\": \\\"Bruce Crone\\\"}, {\\\"credit_id\\\": \\\"59904bcdc3a368744202b9fb\\\", \\\"department\\\": \\\"Visual Effects\\\", \\\"gender\\\": 0, \\\"id\\\": 27100, \\\"job\\\": \\\"Visual Effects Supervisor\\\", \\\"name\\\": \\\"Douglas Smith\\\"}, {\\\"credit_id\\\": \\\"52fe43bb9251416c7501bf7d\\\", \\\"department\\\": \\\"Writing\\\", \\\"gender\\\": 2, \\\"id\\\": 31026, \\\"job\\\": \\\"Screenplay\\\", \\\"name\\\": \\\"Larry Levin\\\"}, {\\\"credit_id\\\": \\\"58dd0c8592514140fa00c441\\\", \\\"department\\\": \\\"Production\\\", \\\"gender\\\": 1, \\\"id\\\": 49907, \\\"job\\\": \\\"Co-Producer\\\", \\\"name\\\": \\\"Michele Imperato\\\"}, {\\\"credit_id\\\": \\\"58dd0fb0c3a368227300bfad\\\", \\\"department\\\": \\\"Production\\\", \\\"gender\\\": 1, \\\"id\\\": 49907, \\\"job\\\": \\\"Unit Production Manager\\\", \\\"name\\\": \\\"Michele Imperato\\\"}, {\\\"credit_id\\\": \\\"52fe43bb9251416c7501bfb1\\\", \\\"department\\\": \\\"Directing\\\", \\\"gender\\\": 2, \\\"id\\\": 52112, \\\"job\\\": \\\"Director\\\", \\\"name\\\": \\\"Steve Carr\\\"}, {\\\"credit_id\\\": \\\"5990471cc3a36874a302bbdc\\\", \\\"department\\\": \\\"Sound\\\", \\\"gender\\\": 2, \\\"id\\\": 52193, \\\"job\\\": \\\"Dialogue Editor\\\", \\\"name\\\": \\\"R.J. Kizer\\\"}, {\\\"credit_id\\\": \\\"52fe43bb9251416c7501bf95\\\", \\\"department\\\": \\\"Camera\\\", \\\"gender\\\": 2, \\\"id\\\": 56324, \\\"job\\\": \\\"Director of Photography\\\", \\\"name\\\": \\\"Daryn Okada\\\"}, {\\\"credit_id\\\": \\\"52fe43bb9251416c7501bf89\\\", \\\"department\\\": \\\"Production\\\", \\\"gender\\\": 2, \\\"id\\\": 56053, \\\"job\\\": \\\"Producer\\\", \\\"name\\\": \\\"Joseph Singer\\\"}, {\\\"credit_id\\\": \\\"59904a06925141676602b701\\\", \\\"department\\\": \\\"Crew\\\", \\\"gender\\\": 2, \\\"id\\\": 57769, \\\"job\\\": \\\"Visual Effects Editor\\\", \\\"name\\\": \\\"Peter S. Elliot\\\"}, {\\\"credit_id\\\": \\\"58dd0d4c92514140fa00c4da\\\", \\\"department\\\": \\\"Production\\\", \\\"gender\\\": 1, \\\"id\\\": 66921, \\\"job\\\": \\\"Co-Producer\\\", \\\"name\\\": \\\"Heidi Santelli\\\"}, {\\\"credit_id\\\": \\\"59905155c3a36874b402a906\\\", \\\"department\\\": \\\"Sound\\\", \\\"gender\\\": 0, \\\"id\\\": 91324, \\\"job\\\": \\\"Music Editor\\\", \\\"name\\\": \\\"Tom Villano\\\"}, {\\\"credit_id\\\": \\\"5990424a925141676602adf3\\\", \\\"department\\\": \\\"Costume & Make-Up\\\", \\\"gender\\\": 0, \\\"id\\\": 168214, \\\"job\\\": \\\"Makeup Artist\\\", \\\"name\\\": \\\"Judy Murdock\\\"}, {\\\"credit_id\\\": \\\"59904eae925141673e02da30\\\", \\\"department\\\": \\\"Camera\\\", \\\"gender\\\": 2, \\\"id\\\": 555085, \\\"job\\\": \\\"Still Photographer\\\", \\\"name\\\": \\\"Bruce McBroom\\\"}, {\\\"credit_id\\\": \\\"599041d0c3a36874a302b5e9\\\", \\\"department\\\": \\\"Costume & Make-Up\\\", \\\"gender\\\": 0, \\\"id\\\": 1015965, \\\"job\\\": \\\"Makeup Department Head\\\", \\\"name\\\": \\\"Kris Evans\\\"}, {\\\"credit_id\\\": \\\"58dd11a2c3a368227300c14b\\\", \\\"department\\\": \\\"Production\\\", \\\"gender\\\": 0, \\\"id\\\": 1113659, \\\"job\\\": \\\"Location Manager\\\", \\\"name\\\": \\\"Iddo Lampton Enochs Jr.\\\"}, {\\\"credit_id\\\": \\\"59904b71925141675f02b7e7\\\", \\\"department\\\": \\\"Crew\\\", \\\"gender\\\": 0, \\\"id\\\": 1178615, \\\"job\\\": \\\"CG Supervisor\\\", \\\"name\\\": \\\"Liz Radley\\\"}, {\\\"credit_id\\\": \\\"59904fe5c3a368744202bf0c\\\", \\\"department\\\": \\\"Costume & Make-Up\\\", \\\"gender\\\": 0, \\\"id\\\": 1319193, \\\"job\\\": \\\"Costume Supervisor\\\", \\\"name\\\": \\\"Donna Marcione Pollack\\\"}, {\\\"credit_id\\\": \\\"599044c4925141672302bc97\\\", \\\"department\\\": \\\"Art\\\", \\\"gender\\\": 0, \\\"id\\\": 1364403, \\\"job\\\": \\\"Greensman\\\", \\\"name\\\": \\\"Frank McEldowney\\\"}, {\\\"credit_id\\\": \\\"59904694925141673e02cfd2\\\", \\\"department\\\": \\\"Sound\\\", \\\"gender\\\": 0, \\\"id\\\": 1367505, \\\"job\\\": \\\"Dialogue Editor\\\", \\\"name\\\": \\\"Ted Caplan\\\"}, {\\\"credit_id\\\": \\\"5990439d925141675902ac1b\\\", \\\"department\\\": \\\"Art\\\", \\\"gender\\\": 0, \\\"id\\\": 1377216, \\\"job\\\": \\\"Art Department Coordinator\\\", \\\"name\\\": \\\"Gerald Lehtola\\\"}, {\\\"credit_id\\\": \\\"599045fb925141675f02b16c\\\", \\\"department\\\": \\\"Art\\\", \\\"gender\\\": 0, \\\"id\\\": 1378165, \\\"job\\\": \\\"Property Master\\\", \\\"name\\\": \\\"Mark Wade\\\"}, {\\\"credit_id\\\": \\\"58dd0fd0c3a368228a00abfb\\\", \\\"department\\\": \\\"Art\\\", \\\"gender\\\": 1, \\\"id\\\": 1378749, \\\"job\\\": \\\"Set Designer\\\", \\\"name\\\": \\\"Patricia Klawonn\\\"}, {\\\"credit_id\\\": \\\"58dd1023c3a368227300c025\\\", \\\"department\\\": \\\"Art\\\", \\\"gender\\\": 0, \\\"id\\\": 1389585, \\\"job\\\": \\\"Set Designer\\\", \\\"name\\\": \\\"Bill Taliaferro\\\"}, {\\\"credit_id\\\": \\\"59904785c3a3687493029126\\\", \\\"department\\\": \\\"Sound\\\", \\\"gender\\\": 0, \\\"id\\\": 1390527, \\\"job\\\": \\\"Sound Effects Editor\\\", \\\"name\\\": \\\"Dave Kulczycki\\\"}, {\\\"credit_id\\\": \\\"59905010925141675f02bd38\\\", \\\"department\\\": \\\"Costume & Make-Up\\\", \\\"gender\\\": 0, \\\"id\\\": 1399322, \\\"job\\\": \\\"Set Costumer\\\", \\\"name\\\": \\\"Elizabeth Frank\\\"}, {\\\"credit_id\\\": \\\"59904d81925141670b02cf99\\\", \\\"department\\\": \\\"Camera\\\", \\\"gender\\\": 2, \\\"id\\\": 1400374, \\\"job\\\": \\\"Camera Operator\\\", \\\"name\\\": \\\"Casey Hotchkiss\\\"}, {\\\"credit_id\\\": \\\"599046d2c3a3687493029074\\\", \\\"department\\\": \\\"Sound\\\", \\\"gender\\\": 0, \\\"id\\\": 1404841, \\\"job\\\": \\\"ADR Editor\\\", \\\"name\\\": \\\"Zack Davis\\\"}, {\\\"credit_id\\\": \\\"59904214c3a368746102979f\\\", \\\"department\\\": \\\"Costume & Make-Up\\\", \\\"gender\\\": 0, \\\"id\\\": 1408278, \\\"job\\\": \\\"Hair Department Head\\\", \\\"name\\\": \\\"Erma Kent\\\"}, {\\\"credit_id\\\": \\\"599048b2925141670b02c97f\\\", \\\"department\\\": \\\"Sound\\\", \\\"gender\\\": 0, \\\"id\\\": 1416153, \\\"job\\\": \\\"Supervising Sound Editor\\\", \\\"name\\\": \\\"Donald Sylvester\\\"}, {\\\"credit_id\\\": \\\"59904ad6c3a36874b402a1cc\\\", \\\"department\\\": \\\"Visual Effects\\\", \\\"gender\\\": 0, \\\"id\\\": 1416167, \\\"job\\\": \\\"Visual Effects Producer\\\", \\\"name\\\": \\\"John Kilkenny\\\"}, {\\\"credit_id\\\": \\\"56ae7d849251416357002915\\\", \\\"department\\\": \\\"Costume & Make-Up\\\", \\\"gender\\\": 1, \\\"id\\\": 1424894, \\\"job\\\": \\\"Hairstylist\\\", \\\"name\\\": \\\"Camille Friend\\\"}, {\\\"credit_id\\\": \\\"599047ab925141674c02b48e\\\", \\\"department\\\": \\\"Sound\\\", \\\"gender\\\": 0, \\\"id\\\": 1425343, \\\"job\\\": \\\"ADR Editor\\\", \\\"name\\\": \\\"Vanessa Lapato\\\"}, {\\\"credit_id\\\": \\\"59904951925141673902ae4e\\\", \\\"department\\\": \\\"Crew\\\", \\\"gender\\\": 0, \\\"id\\\": 1442509, \\\"job\\\": \\\"Special Effects Coordinator\\\", \\\"name\\\": \\\"Alan E. Lorimer\\\"}, {\\\"credit_id\\\": \\\"59904427925141675902acc6\\\", \\\"department\\\": \\\"Art\\\", \\\"gender\\\": 0, \\\"id\\\": 1451398, \\\"job\\\": \\\"Greensman\\\", \\\"name\\\": \\\"Bryan McBrien\\\"}, {\\\"credit_id\\\": \\\"59904629c3a368744202b2d6\\\", \\\"department\\\": \\\"Art\\\", \\\"gender\\\": 0, \\\"id\\\": 1453276, \\\"job\\\": \\\"Construction Coordinator\\\", \\\"name\\\": \\\"Butch West\\\"}, {\\\"credit_id\\\": \\\"599034bcc3a3687493027d17\\\", \\\"department\\\": \\\"Crew\\\", \\\"gender\\\": 2, \\\"id\\\": 1454647, \\\"job\\\": \\\"Creator\\\", \\\"name\\\": \\\"Hugh Lofting\\\"}, {\\\"credit_id\\\": \\\"58dd11f1c3a36822ae00bc75\\\", \\\"department\\\": \\\"Directing\\\", \\\"gender\\\": 1, \\\"id\\\": 1457729, \\\"job\\\": \\\"Script Supervisor\\\", \\\"name\\\": \\\"Nancy Karlin\\\"}, {\\\"credit_id\\\": \\\"59904a8d925141675f02b6d8\\\", \\\"department\\\": \\\"Visual Effects\\\", \\\"gender\\\": 0, \\\"id\\\": 1496418, \\\"job\\\": \\\"Visual Effects Coordinator\\\", \\\"name\\\": \\\"Mitchell Ferm\\\"}, {\\\"credit_id\\\": \\\"599050e6925141674c02beef\\\", \\\"department\\\": \\\"Sound\\\", \\\"gender\\\": 2, \\\"id\\\": 1550058, \\\"job\\\": \\\"Music Editor\\\", \\\"name\\\": \\\"Jim Harrison\\\"}, {\\\"credit_id\\\": \\\"58dd11b0c3a368223e00b7db\\\", \\\"department\\\": \\\"Art\\\", \\\"gender\\\": 0, \\\"id\\\": 1585159, \\\"job\\\": \\\"Location Scout\\\", \\\"name\\\": \\\"Jasan Sherman\\\"}, {\\\"credit_id\\\": \\\"5990453a925141673902a8ec\\\", \\\"department\\\": \\\"Art\\\", \\\"gender\\\": 0, \\\"id\\\": 1586888, \\\"job\\\": \\\"Sculptor\\\", \\\"name\\\": \\\"Thomas Meikle\\\"}, {\\\"credit_id\\\": \\\"5990506dc3a368747302c6e3\\\", \\\"department\\\": \\\"Sound\\\", \\\"gender\\\": 0, \\\"id\\\": 1587383, \\\"job\\\": \\\"Music Supervisor\\\", \\\"name\\\": \\\"Spring Aspers\\\"}, {\\\"credit_id\\\": \\\"59904fbb925141672302c9ed\\\", \\\"department\\\": \\\"Costume & Make-Up\\\", \\\"gender\\\": 0, \\\"id\\\": 1610228, \\\"job\\\": \\\"Key Costumer\\\", \\\"name\\\": \\\"Craig Anthony\\\"}, {\\\"credit_id\\\": \\\"599047e3925141674c02b4cf\\\", \\\"department\\\": \\\"Sound\\\", \\\"gender\\\": 2, \\\"id\\\": 1737829, \\\"job\\\": \\\"Boom Operator\\\", \\\"name\\\": \\\"Harrison D. Marsh\\\"}, {\\\"credit_id\\\": \\\"58dd10b2c3a368228300b588\\\", \\\"department\\\": \\\"Production\\\", \\\"gender\\\": 1, \\\"id\\\": 1763970, \\\"job\\\": \\\"Casting Assistant\\\", \\\"name\\\": \\\"Nadia Lubbe Simon\\\"}, {\\\"credit_id\\\": \\\"58dd1052925141413c00beac\\\", \\\"department\\\": \\\"Production\\\", \\\"gender\\\": 1, \\\"id\\\": 1786614, \\\"job\\\": \\\"Casting Associate\\\", \\\"name\\\": \\\"Diana Jaher\\\"}, {\\\"credit_id\\\": \\\"58dd11d5c3a368229d00b6a0\\\", \\\"department\\\": \\\"Production\\\", \\\"gender\\\": 0, \\\"id\\\": 1786616, \\\"job\\\": \\\"Location Manager\\\", \\\"name\\\": \\\"Craig W. van Gundy\\\"}, {\\\"credit_id\\\": \\\"58dd1254c3a368227300c1e6\\\", \\\"department\\\": \\\"Production\\\", \\\"gender\\\": 1, \\\"id\\\": 1786618, \\\"job\\\": \\\"Production Coordinator\\\", \\\"name\\\": \\\"Kris Fullan Martinez\\\"}, {\\\"credit_id\\\": \\\"599042f4c3a368744202aefa\\\", \\\"department\\\": \\\"Art\\\", \\\"gender\\\": 0, \\\"id\\\": 1868861, \\\"job\\\": \\\"Painter\\\", \\\"name\\\": \\\"Joe A. Hawthorne\\\"}, {\\\"credit_id\\\": \\\"5990448e925141675f02afa7\\\", \\\"department\\\": \\\"Crew\\\", \\\"gender\\\": 0, \\\"id\\\": 1868865, \\\"job\\\": \\\"Propmaker\\\", \\\"name\\\": \\\"Robert McDonald\\\"}, {\\\"credit_id\\\": \\\"59904571925141670b02c572\\\", \\\"department\\\": \\\"Crew\\\", \\\"gender\\\": 0, \\\"id\\\": 1868867, \\\"job\\\": \\\"Propmaker\\\", \\\"name\\\": \\\"Robert Prchal\\\"}, {\\\"credit_id\\\": \\\"599045da925141673902a9d7\\\", \\\"department\\\": \\\"Crew\\\", \\\"gender\\\": 0, \\\"id\\\": 1868868, \\\"job\\\": \\\"Propmaker\\\", \\\"name\\\": \\\"Hal Schlax\\\"}, {\\\"credit_id\\\": \\\"59904c34925141675f02b8bc\\\", \\\"department\\\": \\\"Crew\\\", \\\"gender\\\": 2, \\\"id\\\": 1868877, \\\"job\\\": \\\"Stunt Coordinator\\\", \\\"name\\\": \\\"John Molo\\\"}, {\\\"credit_id\\\": \\\"59904cac925141673e02d7a8\\\", \\\"department\\\": \\\"Camera\\\", \\\"gender\\\": 0, \\\"id\\\": 1868878, \\\"job\\\": \\\"Camera Operator\\\", \\\"name\\\": \\\"Todd Dos Reis\\\"}, {\\\"credit_id\\\": \\\"59904d04925141676602ba9a\\\", \\\"department\\\": \\\"Camera\\\", \\\"gender\\\": 0, \\\"id\\\": 1868879, \\\"job\\\": \\\"Dolly Grip\\\", \\\"name\\\": \\\"Jason D. Hodges\\\"}, {\\\"credit_id\\\": \\\"59904d3bc3a36874b402a4b0\\\", \\\"department\\\": \\\"Camera\\\", \\\"gender\\\": 0, \\\"id\\\": 1868880, \\\"job\\\": \\\"Key Grip\\\", \\\"name\\\": \\\"Mike Hodges\\\"}, {\\\"credit_id\\\": \\\"59904df0925141672302c7da\\\", \\\"department\\\": \\\"Lighting\\\", \\\"gender\\\": 0, \\\"id\\\": 1868881, \\\"job\\\": \\\"Gaffer\\\", \\\"name\\\": \\\"Kal Manning\\\"}, {\\\"credit_id\\\": \\\"59904ede925141675f02bbe6\\\", \\\"department\\\": \\\"Camera\\\", \\\"gender\\\": 0, \\\"id\\\": 1868889, \\\"job\\\": \\\"Dolly Grip\\\", \\\"name\\\": \\\"Larry McCarron\\\"}, {\\\"credit_id\\\": \\\"59905109925141673e02dcde\\\", \\\"department\\\": \\\"Sound\\\", \\\"gender\\\": 0, \\\"id\\\": 1868892, \\\"job\\\": \\\"Music Editor\\\", \\\"name\\\": \\\"Kim Strand\\\"}]\",\n          \"[{\\\"credit_id\\\": \\\"52fe44479251416c7502f0c3\\\", \\\"department\\\": \\\"Sound\\\", \\\"gender\\\": 2, \\\"id\\\": 20953, \\\"job\\\": \\\"Original Music Composer\\\", \\\"name\\\": \\\"Harry Manfredini\\\"}, {\\\"credit_id\\\": \\\"534a8875c3a3682df60016a4\\\", \\\"department\\\": \\\"Production\\\", \\\"gender\\\": 0, \\\"id\\\": 23545, \\\"job\\\": \\\"Casting\\\", \\\"name\\\": \\\"Robin D. Cook\\\"}, {\\\"credit_id\\\": \\\"52fe44479251416c7502f0ed\\\", \\\"department\\\": \\\"Production\\\", \\\"gender\\\": 2, \\\"id\\\": 35475, \\\"job\\\": \\\"Executive Producer\\\", \\\"name\\\": \\\"Sean S. Cunningham\\\"}, {\\\"credit_id\\\": \\\"52fe44479251416c7502f0cf\\\", \\\"department\\\": \\\"Camera\\\", \\\"gender\\\": 2, \\\"id\\\": 55642, \\\"job\\\": \\\"Director of Photography\\\", \\\"name\\\": \\\"Derick V. Underschultz\\\"}, {\\\"credit_id\\\": \\\"52fe44479251416c7502f0b7\\\", \\\"department\\\": \\\"Writing\\\", \\\"gender\\\": 2, \\\"id\\\": 61117, \\\"job\\\": \\\"Screenplay\\\", \\\"name\\\": \\\"Todd Farmer\\\"}, {\\\"credit_id\\\": \\\"52fe44479251416c7502f0c9\\\", \\\"department\\\": \\\"Editing\\\", \\\"gender\\\": 2, \\\"id\\\": 64748, \\\"job\\\": \\\"Editor\\\", \\\"name\\\": \\\"David Handman\\\"}, {\\\"credit_id\\\": \\\"52fe44479251416c7502f0b1\\\", \\\"department\\\": \\\"Directing\\\", \\\"gender\\\": 2, \\\"id\\\": 69579, \\\"job\\\": \\\"Director\\\", \\\"name\\\": \\\"James Isaac\\\"}, {\\\"credit_id\\\": \\\"52fe44479251416c7502f0bd\\\", \\\"department\\\": \\\"Production\\\", \\\"gender\\\": 2, \\\"id\\\": 69585, \\\"job\\\": \\\"Producer\\\", \\\"name\\\": \\\"Noel Cunningham\\\"}, {\\\"credit_id\\\": \\\"534a888cc3a3682df60016a8\\\", \\\"department\\\": \\\"Costume & Make-Up\\\", \\\"gender\\\": 0, \\\"id\\\": 958703, \\\"job\\\": \\\"Costume Design\\\", \\\"name\\\": \\\"Maxyne Baker\\\"}]\"\n        ],\n        \"semantic_type\": \"\",\n        \"description\": \"\"\n      }\n    }\n  ]\n}"
            }
          },
          "metadata": {},
          "execution_count": 64
        }
      ],
      "source": [
        "credits.head(1)"
      ]
    },
    {
      "cell_type": "code",
      "execution_count": null,
      "metadata": {
        "id": "u_nH8UTFYQ-d"
      },
      "outputs": [],
      "source": [
        "movies = movies.merge(credits,on = 'title')"
      ]
    },
    {
      "cell_type": "code",
      "execution_count": null,
      "metadata": {
        "colab": {
          "base_uri": "https://localhost:8080/"
        },
        "id": "f2SeNrSOZOR3",
        "outputId": "556df222-d681-4c80-f623-09a2c83a43d6"
      },
      "outputs": [
        {
          "output_type": "stream",
          "name": "stdout",
          "text": [
            "<class 'pandas.core.frame.DataFrame'>\n",
            "RangeIndex: 4608 entries, 0 to 4607\n",
            "Data columns (total 24 columns):\n",
            " #   Column                Non-Null Count  Dtype  \n",
            "---  ------                --------------  -----  \n",
            " 0   budget                4608 non-null   int64  \n",
            " 1   genres                4608 non-null   object \n",
            " 2   homepage              1659 non-null   object \n",
            " 3   tmdbId_x              4608 non-null   int64  \n",
            " 4   keywords              4608 non-null   object \n",
            " 5   original_language     4608 non-null   object \n",
            " 6   original_title        4608 non-null   object \n",
            " 7   overview              4607 non-null   object \n",
            " 8   popularity            4608 non-null   float64\n",
            " 9   production_companies  4608 non-null   object \n",
            " 10  production_countries  4608 non-null   object \n",
            " 11  release_date          4608 non-null   object \n",
            " 12  revenue               4608 non-null   int64  \n",
            " 13  runtime               4608 non-null   float64\n",
            " 14  spoken_languages      4608 non-null   object \n",
            " 15  status                4608 non-null   object \n",
            " 16  tagline               3881 non-null   object \n",
            " 17  title                 4608 non-null   object \n",
            " 18  vote_average          4608 non-null   float64\n",
            " 19  vote_count            4608 non-null   int64  \n",
            " 20  ratingId              4608 non-null   int64  \n",
            " 21  tmdbId_y              4608 non-null   int64  \n",
            " 22  cast                  4608 non-null   object \n",
            " 23  crew                  4608 non-null   object \n",
            "dtypes: float64(3), int64(6), object(15)\n",
            "memory usage: 864.1+ KB\n"
          ]
        }
      ],
      "source": [
        "movies.info()"
      ]
    },
    {
      "cell_type": "code",
      "execution_count": null,
      "metadata": {
        "id": "_FZ_UZroZd9m"
      },
      "outputs": [],
      "source": [
        "#Important columns : genre,tmbId_x,keywords,title,overview,cast,crew\n",
        "movies = movies[['title','tmdbId_x','genres','keywords','overview','cast','crew']]"
      ]
    },
    {
      "cell_type": "code",
      "execution_count": null,
      "metadata": {
        "colab": {
          "base_uri": "https://localhost:8080/"
        },
        "id": "zc2zbJNsbRR9",
        "outputId": "9d865904-5c21-488b-825b-9a40b66bbd2f"
      },
      "outputs": [
        {
          "output_type": "stream",
          "name": "stdout",
          "text": [
            "<class 'pandas.core.frame.DataFrame'>\n",
            "RangeIndex: 4608 entries, 0 to 4607\n",
            "Data columns (total 7 columns):\n",
            " #   Column    Non-Null Count  Dtype \n",
            "---  ------    --------------  ----- \n",
            " 0   title     4608 non-null   object\n",
            " 1   tmdbId_x  4608 non-null   int64 \n",
            " 2   genres    4608 non-null   object\n",
            " 3   keywords  4608 non-null   object\n",
            " 4   overview  4607 non-null   object\n",
            " 5   cast      4608 non-null   object\n",
            " 6   crew      4608 non-null   object\n",
            "dtypes: int64(1), object(6)\n",
            "memory usage: 252.1+ KB\n"
          ]
        }
      ],
      "source": [
        "movies.info()"
      ]
    },
    {
      "cell_type": "code",
      "execution_count": null,
      "metadata": {
        "colab": {
          "base_uri": "https://localhost:8080/"
        },
        "id": "nSjo9hINbSgB",
        "outputId": "b036bfb3-f6ba-4daf-8e65-7b922095ac48"
      },
      "outputs": [
        {
          "output_type": "execute_result",
          "data": {
            "text/plain": [
              "title       0\n",
              "tmdbId_x    0\n",
              "genres      0\n",
              "keywords    0\n",
              "overview    1\n",
              "cast        0\n",
              "crew        0\n",
              "dtype: int64"
            ]
          },
          "metadata": {},
          "execution_count": 69
        }
      ],
      "source": [
        "movies.isnull().sum()"
      ]
    },
    {
      "cell_type": "code",
      "execution_count": null,
      "metadata": {
        "id": "IOv_8MfmbW5Z"
      },
      "outputs": [],
      "source": [
        "movies.dropna(inplace=True)"
      ]
    },
    {
      "cell_type": "code",
      "execution_count": null,
      "metadata": {
        "colab": {
          "base_uri": "https://localhost:8080/"
        },
        "id": "6ySGB0OEbxw9",
        "outputId": "01e13afd-8643-4298-8fca-16a28a93746e"
      },
      "outputs": [
        {
          "output_type": "execute_result",
          "data": {
            "text/plain": [
              "title       0\n",
              "tmdbId_x    0\n",
              "genres      0\n",
              "keywords    0\n",
              "overview    0\n",
              "cast        0\n",
              "crew        0\n",
              "dtype: int64"
            ]
          },
          "metadata": {},
          "execution_count": 71
        }
      ],
      "source": [
        "movies.isnull().sum()"
      ]
    },
    {
      "cell_type": "code",
      "execution_count": null,
      "metadata": {
        "colab": {
          "base_uri": "https://localhost:8080/",
          "height": 36
        },
        "id": "XOtxx6JXbzVz",
        "outputId": "6003dd5c-300f-40ad-e7fb-3ade4b60034d"
      },
      "outputs": [
        {
          "output_type": "execute_result",
          "data": {
            "text/plain": [
              "'[{\"id\": 80, \"name\": \"Crime\"}, {\"id\": 35, \"name\": \"Comedy\"}]'"
            ],
            "application/vnd.google.colaboratory.intrinsic+json": {
              "type": "string"
            }
          },
          "metadata": {},
          "execution_count": 72
        }
      ],
      "source": [
        "movies.iloc[0].genres"
      ]
    },
    {
      "cell_type": "code",
      "execution_count": null,
      "metadata": {
        "id": "NAtd2hnWb6Tq"
      },
      "outputs": [],
      "source": [
        "def convert(obj):\n",
        "  L = []\n",
        "  for i in ast.literal_eval(obj):\n",
        "    L.append(i['name'])\n",
        "  return L"
      ]
    },
    {
      "cell_type": "code",
      "execution_count": null,
      "metadata": {
        "id": "n2zXyAKXcvnC"
      },
      "outputs": [],
      "source": [
        "movies['genres'] = movies['genres'].apply(convert)"
      ]
    },
    {
      "cell_type": "code",
      "execution_count": null,
      "metadata": {
        "colab": {
          "base_uri": "https://localhost:8080/",
          "height": 81
        },
        "id": "dqPhz1lYc0pY",
        "outputId": "021ab0c5-138f-495d-ca83-6a1e12017f92"
      },
      "outputs": [
        {
          "output_type": "execute_result",
          "data": {
            "text/plain": [
              "        title  tmdbId_x           genres  \\\n",
              "0  Four Rooms         5  [Crime, Comedy]   \n",
              "\n",
              "                                            keywords  \\\n",
              "0  [{\"id\": 612, \"name\": \"hotel\"}, {\"id\": 613, \"na...   \n",
              "\n",
              "                                            overview  \\\n",
              "0  It's Ted the Bellhop's first night on the job....   \n",
              "\n",
              "                                                cast  \\\n",
              "0  [{\"cast_id\": 42, \"character\": \"Ted the Bellhop...   \n",
              "\n",
              "                                                crew  \n",
              "0  [{\"credit_id\": \"52fe420dc3a36847f800012d\", \"de...  "
            ],
            "text/html": [
              "\n",
              "  <div id=\"df-a5a9ab99-c624-47d7-afb0-0f3deef1a17c\" class=\"colab-df-container\">\n",
              "    <div>\n",
              "<style scoped>\n",
              "    .dataframe tbody tr th:only-of-type {\n",
              "        vertical-align: middle;\n",
              "    }\n",
              "\n",
              "    .dataframe tbody tr th {\n",
              "        vertical-align: top;\n",
              "    }\n",
              "\n",
              "    .dataframe thead th {\n",
              "        text-align: right;\n",
              "    }\n",
              "</style>\n",
              "<table border=\"1\" class=\"dataframe\">\n",
              "  <thead>\n",
              "    <tr style=\"text-align: right;\">\n",
              "      <th></th>\n",
              "      <th>title</th>\n",
              "      <th>tmdbId_x</th>\n",
              "      <th>genres</th>\n",
              "      <th>keywords</th>\n",
              "      <th>overview</th>\n",
              "      <th>cast</th>\n",
              "      <th>crew</th>\n",
              "    </tr>\n",
              "  </thead>\n",
              "  <tbody>\n",
              "    <tr>\n",
              "      <th>0</th>\n",
              "      <td>Four Rooms</td>\n",
              "      <td>5</td>\n",
              "      <td>[Crime, Comedy]</td>\n",
              "      <td>[{\"id\": 612, \"name\": \"hotel\"}, {\"id\": 613, \"na...</td>\n",
              "      <td>It's Ted the Bellhop's first night on the job....</td>\n",
              "      <td>[{\"cast_id\": 42, \"character\": \"Ted the Bellhop...</td>\n",
              "      <td>[{\"credit_id\": \"52fe420dc3a36847f800012d\", \"de...</td>\n",
              "    </tr>\n",
              "  </tbody>\n",
              "</table>\n",
              "</div>\n",
              "    <div class=\"colab-df-buttons\">\n",
              "\n",
              "  <div class=\"colab-df-container\">\n",
              "    <button class=\"colab-df-convert\" onclick=\"convertToInteractive('df-a5a9ab99-c624-47d7-afb0-0f3deef1a17c')\"\n",
              "            title=\"Convert this dataframe to an interactive table.\"\n",
              "            style=\"display:none;\">\n",
              "\n",
              "  <svg xmlns=\"http://www.w3.org/2000/svg\" height=\"24px\" viewBox=\"0 -960 960 960\">\n",
              "    <path d=\"M120-120v-720h720v720H120Zm60-500h600v-160H180v160Zm220 220h160v-160H400v160Zm0 220h160v-160H400v160ZM180-400h160v-160H180v160Zm440 0h160v-160H620v160ZM180-180h160v-160H180v160Zm440 0h160v-160H620v160Z\"/>\n",
              "  </svg>\n",
              "    </button>\n",
              "\n",
              "  <style>\n",
              "    .colab-df-container {\n",
              "      display:flex;\n",
              "      gap: 12px;\n",
              "    }\n",
              "\n",
              "    .colab-df-convert {\n",
              "      background-color: #E8F0FE;\n",
              "      border: none;\n",
              "      border-radius: 50%;\n",
              "      cursor: pointer;\n",
              "      display: none;\n",
              "      fill: #1967D2;\n",
              "      height: 32px;\n",
              "      padding: 0 0 0 0;\n",
              "      width: 32px;\n",
              "    }\n",
              "\n",
              "    .colab-df-convert:hover {\n",
              "      background-color: #E2EBFA;\n",
              "      box-shadow: 0px 1px 2px rgba(60, 64, 67, 0.3), 0px 1px 3px 1px rgba(60, 64, 67, 0.15);\n",
              "      fill: #174EA6;\n",
              "    }\n",
              "\n",
              "    .colab-df-buttons div {\n",
              "      margin-bottom: 4px;\n",
              "    }\n",
              "\n",
              "    [theme=dark] .colab-df-convert {\n",
              "      background-color: #3B4455;\n",
              "      fill: #D2E3FC;\n",
              "    }\n",
              "\n",
              "    [theme=dark] .colab-df-convert:hover {\n",
              "      background-color: #434B5C;\n",
              "      box-shadow: 0px 1px 3px 1px rgba(0, 0, 0, 0.15);\n",
              "      filter: drop-shadow(0px 1px 2px rgba(0, 0, 0, 0.3));\n",
              "      fill: #FFFFFF;\n",
              "    }\n",
              "  </style>\n",
              "\n",
              "    <script>\n",
              "      const buttonEl =\n",
              "        document.querySelector('#df-a5a9ab99-c624-47d7-afb0-0f3deef1a17c button.colab-df-convert');\n",
              "      buttonEl.style.display =\n",
              "        google.colab.kernel.accessAllowed ? 'block' : 'none';\n",
              "\n",
              "      async function convertToInteractive(key) {\n",
              "        const element = document.querySelector('#df-a5a9ab99-c624-47d7-afb0-0f3deef1a17c');\n",
              "        const dataTable =\n",
              "          await google.colab.kernel.invokeFunction('convertToInteractive',\n",
              "                                                    [key], {});\n",
              "        if (!dataTable) return;\n",
              "\n",
              "        const docLinkHtml = 'Like what you see? Visit the ' +\n",
              "          '<a target=\"_blank\" href=https://colab.research.google.com/notebooks/data_table.ipynb>data table notebook</a>'\n",
              "          + ' to learn more about interactive tables.';\n",
              "        element.innerHTML = '';\n",
              "        dataTable['output_type'] = 'display_data';\n",
              "        await google.colab.output.renderOutput(dataTable, element);\n",
              "        const docLink = document.createElement('div');\n",
              "        docLink.innerHTML = docLinkHtml;\n",
              "        element.appendChild(docLink);\n",
              "      }\n",
              "    </script>\n",
              "  </div>\n",
              "\n",
              "\n",
              "    </div>\n",
              "  </div>\n"
            ],
            "application/vnd.google.colaboratory.intrinsic+json": {
              "type": "dataframe",
              "variable_name": "movies",
              "summary": "{\n  \"name\": \"movies\",\n  \"rows\": 4607,\n  \"fields\": [\n    {\n      \"column\": \"title\",\n      \"properties\": {\n        \"dtype\": \"string\",\n        \"num_unique_values\": 4594,\n        \"samples\": [\n          \"RED\",\n          \"Warlock: The Armageddon\",\n          \"Muppets from Space\"\n        ],\n        \"semantic_type\": \"\",\n        \"description\": \"\"\n      }\n    },\n    {\n      \"column\": \"tmdbId_x\",\n      \"properties\": {\n        \"dtype\": \"number\",\n        \"std\": 82463,\n        \"min\": 5,\n        \"max\": 426469,\n        \"num_unique_values\": 4597,\n        \"samples\": [\n          9637,\n          27549,\n          11113\n        ],\n        \"semantic_type\": \"\",\n        \"description\": \"\"\n      }\n    },\n    {\n      \"column\": \"genres\",\n      \"properties\": {\n        \"dtype\": \"object\",\n        \"semantic_type\": \"\",\n        \"description\": \"\"\n      }\n    },\n    {\n      \"column\": \"keywords\",\n      \"properties\": {\n        \"dtype\": \"string\",\n        \"num_unique_values\": 4119,\n        \"samples\": [\n          \"[{\\\"id\\\": 271, \\\"name\\\": \\\"competition\\\"}, {\\\"id\\\": 2504, \\\"name\\\": \\\"world war i\\\"}, {\\\"id\\\": 5571, \\\"name\\\": \\\"great depression\\\"}, {\\\"id\\\": 7322, \\\"name\\\": \\\"caddy\\\"}, {\\\"id\\\": 7323, \\\"name\\\": \\\"savannah\\\"}]\",\n          \"[{\\\"id\\\": 853, \\\"name\\\": \\\"crime fighter\\\"}, {\\\"id\\\": 1308, \\\"name\\\": \\\"secret identity\\\"}, {\\\"id\\\": 5451, \\\"name\\\": \\\"comic book\\\"}, {\\\"id\\\": 9715, \\\"name\\\": \\\"superhero\\\"}, {\\\"id\\\": 9826, \\\"name\\\": \\\"murder\\\"}, {\\\"id\\\": 10267, \\\"name\\\": \\\"comedy\\\"}, {\\\"id\\\": 10391, \\\"name\\\": \\\"mafia\\\"}, {\\\"id\\\": 13130, \\\"name\\\": \\\"teenager\\\"}, {\\\"id\\\": 14819, \\\"name\\\": \\\"violence\\\"}, {\\\"id\\\": 158651, \\\"name\\\": \\\"realism\\\"}, {\\\"id\\\": 185434, \\\"name\\\": \\\"rookie\\\"}, {\\\"id\\\": 186846, \\\"name\\\": \\\"adaptation\\\"}, {\\\"id\\\": 206298, \\\"name\\\": \\\"young adult\\\"}, {\\\"id\\\": 234368, \\\"name\\\": \\\"kickass\\\"}]\",\n          \"[{\\\"id\\\": 378, \\\"name\\\": \\\"prison\\\"}, {\\\"id\\\": 516, \\\"name\\\": \\\"child abuse\\\"}, {\\\"id\\\": 529, \\\"name\\\": \\\"ku klux klan\\\"}, {\\\"id\\\": 796, \\\"name\\\": \\\"police brutality\\\"}, {\\\"id\\\": 2394, \\\"name\\\": \\\"ghetto\\\"}, {\\\"id\\\": 9706, \\\"name\\\": \\\"anthology\\\"}, {\\\"id\\\": 9707, \\\"name\\\": \\\"evil doll\\\"}, {\\\"id\\\": 9826, \\\"name\\\": \\\"murder\\\"}, {\\\"id\\\": 10700, \\\"name\\\": \\\"hood\\\"}, {\\\"id\\\": 11719, \\\"name\\\": \\\"dirty cop\\\"}, {\\\"id\\\": 160322, \\\"name\\\": \\\"funeral home\\\"}]\"\n        ],\n        \"semantic_type\": \"\",\n        \"description\": \"\"\n      }\n    },\n    {\n      \"column\": \"overview\",\n      \"properties\": {\n        \"dtype\": \"string\",\n        \"num_unique_values\": 4597,\n        \"samples\": [\n          \"The Mystery Inc. gang have gone their separate ways and have been apart for two years, until they each receive an invitation to Spooky Island. Not knowing that the others have also been invited, they show up and discover an amusement park that affects young visitors in very strange ways.\",\n          \"Mark Singer returns as Dar, the warrior who can talk to the beasts. Dar is forced to travel to earth to stop his evil brother from stealing an atomic bomb, and turning their native land from a desert into... well... a desert! Written by Jim Palin\",\n          \"A misogynistic and snobbish phonetics professor agrees to a wager that he can take a flower girl and make her presentable in high society.\"\n        ],\n        \"semantic_type\": \"\",\n        \"description\": \"\"\n      }\n    },\n    {\n      \"column\": \"cast\",\n      \"properties\": {\n        \"dtype\": \"string\",\n        \"num_unique_values\": 4578,\n        \"samples\": [\n          \"[{\\\"cast_id\\\": 1, \\\"character\\\": \\\"Anthony Adams\\\", \\\"credit_id\\\": \\\"52fe458b9251416c7505a34d\\\", \\\"gender\\\": 2, \\\"id\\\": 36422, \\\"name\\\": \\\"Luke Wilson\\\", \\\"order\\\": 0}, {\\\"cast_id\\\": 2, \\\"character\\\": \\\"Dignan\\\", \\\"credit_id\\\": \\\"52fe458b9251416c7505a351\\\", \\\"gender\\\": 2, \\\"id\\\": 887, \\\"name\\\": \\\"Owen Wilson\\\", \\\"order\\\": 1}, {\\\"cast_id\\\": 4, \\\"character\\\": \\\"Inez\\\", \\\"credit_id\\\": \\\"52fe458b9251416c7505a355\\\", \\\"gender\\\": 1, \\\"id\\\": 74940, \\\"name\\\": \\\"Lumi Cavazos\\\", \\\"order\\\": 2}, {\\\"cast_id\\\": 12, \\\"character\\\": \\\"Future Man\\\", \\\"credit_id\\\": \\\"52fe458b9251416c7505a383\\\", \\\"gender\\\": 2, \\\"id\\\": 71555, \\\"name\\\": \\\"Andrew Wilson\\\", \\\"order\\\": 3}, {\\\"cast_id\\\": 13, \\\"character\\\": \\\"Bob Mapplethorpe\\\", \\\"credit_id\\\": \\\"52fe458b9251416c7505a387\\\", \\\"gender\\\": 0, \\\"id\\\": 52797, \\\"name\\\": \\\"Robert Musgrave\\\", \\\"order\\\": 4}, {\\\"cast_id\\\": 14, \\\"character\\\": \\\"Bernice\\\", \\\"credit_id\\\": \\\"52fe458b9251416c7505a38b\\\", \\\"gender\\\": 0, \\\"id\\\": 148593, \\\"name\\\": \\\"Haley Miller\\\", \\\"order\\\": 5}, {\\\"cast_id\\\": 15, \\\"character\\\": \\\"Mr. Henry\\\", \\\"credit_id\\\": \\\"52fe458b9251416c7505a38f\\\", \\\"gender\\\": 2, \\\"id\\\": 3085, \\\"name\\\": \\\"James Caan\\\", \\\"order\\\": 6}, {\\\"cast_id\\\": 29, \\\"character\\\": \\\"Dr. Nichols\\\", \\\"credit_id\\\": \\\"52fe458b9251416c7505a3e1\\\", \\\"gender\\\": 2, \\\"id\\\": 42006, \\\"name\\\": \\\"Ned Dowd\\\", \\\"order\\\": 7}, {\\\"cast_id\\\": 30, \\\"character\\\": \\\"Grace\\\", \\\"credit_id\\\": \\\"52fe458b9251416c7505a3e5\\\", \\\"gender\\\": 0, \\\"id\\\": 1117323, \\\"name\\\": \\\"Shea Fowler\\\", \\\"order\\\": 8}, {\\\"cast_id\\\": 31, \\\"character\\\": \\\"H. Clay Murchison\\\", \\\"credit_id\\\": \\\"52fe458b9251416c7505a3e9\\\", \\\"gender\\\": 0, \\\"id\\\": 1117324, \\\"name\\\": \\\"Brian Tenenbaum\\\", \\\"order\\\": 9}, {\\\"cast_id\\\": 32, \\\"character\\\": \\\"Stacy Sinclair\\\", \\\"credit_id\\\": \\\"52fe458b9251416c7505a3ed\\\", \\\"gender\\\": 0, \\\"id\\\": 955807, \\\"name\\\": \\\"Jenni Tooley\\\", \\\"order\\\": 10}, {\\\"cast_id\\\": 33, \\\"character\\\": \\\"Temple\\\", \\\"credit_id\\\": \\\"52fe458b9251416c7505a3f1\\\", \\\"gender\\\": 0, \\\"id\\\": 1117325, \\\"name\\\": \\\"Temple Nash\\\", \\\"order\\\": 11}]\",\n          \"[{\\\"cast_id\\\": 1, \\\"character\\\": \\\"Raya Green\\\", \\\"credit_id\\\": \\\"52fe46fb9251416c7508a0c5\\\", \\\"gender\\\": 1, \\\"id\\\": 210773, \\\"name\\\": \\\"Rutina Wesley\\\", \\\"order\\\": 0}, {\\\"cast_id\\\": 2, \\\"character\\\": \\\"Bishop\\\", \\\"credit_id\\\": \\\"52fe46fb9251416c7508a0c9\\\", \\\"gender\\\": 2, \\\"id\\\": 80968, \\\"name\\\": \\\"Dwain Murphy\\\", \\\"order\\\": 1}, {\\\"cast_id\\\": 5, \\\"character\\\": \\\"Mike Evens\\\", \\\"credit_id\\\": \\\"52fe46fb9251416c7508a0d9\\\", \\\"gender\\\": 2, \\\"id\\\": 20196, \\\"name\\\": \\\"Boyd Banks\\\", \\\"order\\\": 2}, {\\\"cast_id\\\": 6, \\\"character\\\": \\\"Garvey\\\", \\\"credit_id\\\": \\\"52fe46fb9251416c7508a0dd\\\", \\\"gender\\\": 2, \\\"id\\\": 957076, \\\"name\\\": \\\"Cl\\\\u00e9 Bennett\\\", \\\"order\\\": 3}, {\\\"cast_id\\\": 7, \\\"character\\\": \\\"Tall Girl in Bathroom\\\", \\\"credit_id\\\": \\\"554c40dd925141400b000a24\\\", \\\"gender\\\": 1, \\\"id\\\": 19961, \\\"name\\\": \\\"Nina Dobrev\\\", \\\"order\\\": 4}, {\\\"cast_id\\\": 17, \\\"character\\\": \\\"Manny\\\", \\\"credit_id\\\": \\\"592b2753c3a36877df0692a7\\\", \\\"gender\\\": 2, \\\"id\\\": 1015568, \\\"name\\\": \\\"Tristan D. Lalla\\\", \\\"order\\\": 5}, {\\\"cast_id\\\": 18, \\\"character\\\": \\\"Trey\\\", \\\"credit_id\\\": \\\"59375beb92514172fb003523\\\", \\\"gender\\\": 2, \\\"id\\\": 1457035, \\\"name\\\": \\\"Shawn Desman\\\", \\\"order\\\": 6}, {\\\"cast_id\\\": 19, \\\"character\\\": \\\"Selia\\\", \\\"credit_id\\\": \\\"59375c33c3a36872cb003538\\\", \\\"gender\\\": 1, \\\"id\\\": 1228290, \\\"name\\\": \\\"Romina D'Ugo\\\", \\\"order\\\": 7}]\",\n          \"[{\\\"cast_id\\\": 1, \\\"character\\\": \\\"Sonny Weaver Jr.\\\", \\\"credit_id\\\": \\\"52fe4c88c3a368484e1bb41b\\\", \\\"gender\\\": 2, \\\"id\\\": 1269, \\\"name\\\": \\\"Kevin Costner\\\", \\\"order\\\": 0}, {\\\"cast_id\\\": 2, \\\"character\\\": \\\"Ali\\\", \\\"credit_id\\\": \\\"52fe4c88c3a368484e1bb41f\\\", \\\"gender\\\": 1, \\\"id\\\": 9278, \\\"name\\\": \\\"Jennifer Garner\\\", \\\"order\\\": 1}, {\\\"cast_id\\\": 3, \\\"character\\\": \\\"Brian Drew\\\", \\\"credit_id\\\": \\\"52fe4c88c3a368484e1bb423\\\", \\\"gender\\\": 2, \\\"id\\\": 11824, \\\"name\\\": \\\"Tom Welling\\\", \\\"order\\\": 2}, {\\\"cast_id\\\": 4, \\\"character\\\": \\\"\\\", \\\"credit_id\\\": \\\"52fe4c88c3a368484e1bb427\\\", \\\"gender\\\": 2, \\\"id\\\": 16431, \\\"name\\\": \\\"Sam Elliott\\\", \\\"order\\\": 3}, {\\\"cast_id\\\": 5, \\\"character\\\": \\\"Earl Jennings\\\", \\\"credit_id\\\": \\\"52fe4c88c3a368484e1bb42b\\\", \\\"gender\\\": 2, \\\"id\\\": 53256, \\\"name\\\": \\\"Terry Crews\\\", \\\"order\\\": 4}, {\\\"cast_id\\\": 6, \\\"character\\\": \\\"Barb Weaver\\\", \\\"credit_id\\\": \\\"52fe4c88c3a368484e1bb42f\\\", \\\"gender\\\": 1, \\\"id\\\": 9560, \\\"name\\\": \\\"Ellen Burstyn\\\", \\\"order\\\": 5}, {\\\"cast_id\\\": 7, \\\"character\\\": \\\"Angie\\\", \\\"credit_id\\\": \\\"52fe4c88c3a368484e1bb433\\\", \\\"gender\\\": 1, \\\"id\\\": 2165, \\\"name\\\": \\\"Rosanna Arquette\\\", \\\"order\\\": 6}, {\\\"cast_id\\\": 8, \\\"character\\\": \\\"Harvey Molina\\\", \\\"credit_id\\\": \\\"52fe4c88c3a368484e1bb437\\\", \\\"gender\\\": 2, \\\"id\\\": 8924, \\\"name\\\": \\\"Frank Langella\\\", \\\"order\\\": 7}, {\\\"cast_id\\\": 9, \\\"character\\\": \\\"Walt Gordon\\\", \\\"credit_id\\\": \\\"52fe4c88c3a368484e1bb43b\\\", \\\"gender\\\": 2, \\\"id\\\": 8687, \\\"name\\\": \\\"Chi McBride\\\", \\\"order\\\": 8}, {\\\"cast_id\\\": 10, \\\"character\\\": \\\"Vince Penn\\\", \\\"credit_id\\\": \\\"52fe4c88c3a368484e1bb43f\\\", \\\"gender\\\": 2, \\\"id\\\": 5724, \\\"name\\\": \\\"Denis Leary\\\", \\\"order\\\": 9}, {\\\"cast_id\\\": 11, \\\"character\\\": \\\"Tom Michaels\\\", \\\"credit_id\\\": \\\"52fe4c88c3a368484e1bb443\\\", \\\"gender\\\": 0, \\\"id\\\": 117437, \\\"name\\\": \\\"Patrick St. Esprit\\\", \\\"order\\\": 10}, {\\\"cast_id\\\": 12, \\\"character\\\": \\\"Max Stone\\\", \\\"credit_id\\\": \\\"52fe4c88c3a368484e1bb447\\\", \\\"gender\\\": 2, \\\"id\\\": 20379, \\\"name\\\": \\\"Christopher Cousins\\\", \\\"order\\\": 11}, {\\\"cast_id\\\": 13, \\\"character\\\": \\\"Vontae Mack\\\", \\\"credit_id\\\": \\\"52fe4c88c3a368484e1bb44b\\\", \\\"gender\\\": 2, \\\"id\\\": 172069, \\\"name\\\": \\\"Chadwick Boseman\\\", \\\"order\\\": 12}, {\\\"cast_id\\\": 14, \\\"character\\\": \\\"O'Reilly\\\", \\\"credit_id\\\": \\\"52fe4c88c3a368484e1bb44f\\\", \\\"gender\\\": 2, \\\"id\\\": 51930, \\\"name\\\": \\\"Wade Williams\\\", \\\"order\\\": 13}, {\\\"cast_id\\\": 15, \\\"character\\\": \\\"Ralph Mowry\\\", \\\"credit_id\\\": \\\"52fe4c88c3a368484e1bb453\\\", \\\"gender\\\": 2, \\\"id\\\": 6951, \\\"name\\\": \\\"W. Earl Brown\\\", \\\"order\\\": 14}, {\\\"cast_id\\\": 16, \\\"character\\\": \\\"Marvin\\\", \\\"credit_id\\\": \\\"52fe4c88c3a368484e1bb457\\\", \\\"gender\\\": 0, \\\"id\\\": 14721, \\\"name\\\": \\\"Kevin Dunn\\\", \\\"order\\\": 15}, {\\\"cast_id\\\": 17, \\\"character\\\": \\\"NFL Commissioner\\\", \\\"credit_id\\\": \\\"52fe4c88c3a368484e1bb45b\\\", \\\"gender\\\": 2, \\\"id\\\": 10138, \\\"name\\\": \\\"Brian Haley\\\", \\\"order\\\": 16}, {\\\"cast_id\\\": 21, \\\"character\\\": \\\"Rick the Intern\\\", \\\"credit_id\\\": \\\"5359c78ac3a3684790000b94\\\", \\\"gender\\\": 0, \\\"id\\\": 225377, \\\"name\\\": \\\"Griffin Newman\\\", \\\"order\\\": 17}, {\\\"cast_id\\\": 43, \\\"character\\\": \\\"Party Guest (uncredited)\\\", \\\"credit_id\\\": \\\"55549912c3a3682080002807\\\", \\\"gender\\\": 1, \\\"id\\\": 1376001, \\\"name\\\": \\\"Tina Grimm\\\", \\\"order\\\": 18}]\"\n        ],\n        \"semantic_type\": \"\",\n        \"description\": \"\"\n      }\n    },\n    {\n      \"column\": \"crew\",\n      \"properties\": {\n        \"dtype\": \"string\",\n        \"num_unique_values\": 4591,\n        \"samples\": [\n          \"[{\\\"credit_id\\\": \\\"52fe471a9251416c9106a171\\\", \\\"department\\\": \\\"Production\\\", \\\"gender\\\": 2, \\\"id\\\": 380, \\\"job\\\": \\\"Producer\\\", \\\"name\\\": \\\"Robert De Niro\\\"}, {\\\"credit_id\\\": \\\"52fe471a9251416c9106a165\\\", \\\"department\\\": \\\"Crew\\\", \\\"gender\\\": 2, \\\"id\\\": 1251, \\\"job\\\": \\\"Cinematography\\\", \\\"name\\\": \\\"Remi Adefarasin\\\"}, {\\\"credit_id\\\": \\\"52fe471a9251416c9106a115\\\", \\\"department\\\": \\\"Directing\\\", \\\"gender\\\": 2, \\\"id\\\": 3289, \\\"job\\\": \\\"Director\\\", \\\"name\\\": \\\"Paul Weitz\\\"}, {\\\"credit_id\\\": \\\"52fe471a9251416c9106a16b\\\", \\\"department\\\": \\\"Production\\\", \\\"gender\\\": 1, \\\"id\\\": 3305, \\\"job\\\": \\\"Producer\\\", \\\"name\\\": \\\"Jane Rosenthal\\\"}, {\\\"credit_id\\\": \\\"52fe471a9251416c9106a177\\\", \\\"department\\\": \\\"Production\\\", \\\"gender\\\": 2, \\\"id\\\": 6737, \\\"job\\\": \\\"Producer\\\", \\\"name\\\": \\\"Jay Roach\\\"}, {\\\"credit_id\\\": \\\"52fe471a9251416c9106a121\\\", \\\"department\\\": \\\"Writing\\\", \\\"gender\\\": 2, \\\"id\\\": 10391, \\\"job\\\": \\\"Writer\\\", \\\"name\\\": \\\"Larry Stuckey\\\"}, {\\\"credit_id\\\": \\\"52fe471a9251416c9106a11b\\\", \\\"department\\\": \\\"Writing\\\", \\\"gender\\\": 2, \\\"id\\\": 17871, \\\"job\\\": \\\"Writer\\\", \\\"name\\\": \\\"John Hamburg\\\"}, {\\\"credit_id\\\": \\\"52fe471a9251416c9106a17d\\\", \\\"department\\\": \\\"Production\\\", \\\"gender\\\": 2, \\\"id\\\": 17871, \\\"job\\\": \\\"Producer\\\", \\\"name\\\": \\\"John Hamburg\\\"}, {\\\"credit_id\\\": \\\"52fe471a9251416c9106a15f\\\", \\\"department\\\": \\\"Sound\\\", \\\"gender\\\": 2, \\\"id\\\": 21266, \\\"job\\\": \\\"Music\\\", \\\"name\\\": \\\"Stephen Trask\\\"}]\",\n          \"[{\\\"credit_id\\\": \\\"52fe4480c3a368484e026c51\\\", \\\"department\\\": \\\"Costume & Make-Up\\\", \\\"gender\\\": 0, \\\"id\\\": 557, \\\"job\\\": \\\"Costume Design\\\", \\\"name\\\": \\\"Colleen Atwood\\\"}, {\\\"credit_id\\\": \\\"584dc203c3a3683224002a05\\\", \\\"department\\\": \\\"Sound\\\", \\\"gender\\\": 2, \\\"id\\\": 1213, \\\"job\\\": \\\"Music\\\", \\\"name\\\": \\\"James Newton Howard\\\"}, {\\\"credit_id\\\": \\\"584dc27a92514118e70025d4\\\", \\\"department\\\": \\\"Editing\\\", \\\"gender\\\": 2, \\\"id\\\": 2241, \\\"job\\\": \\\"Editor\\\", \\\"name\\\": \\\"William Steinkamp\\\"}, {\\\"credit_id\\\": \\\"584dc1d192514118e00024a8\\\", \\\"department\\\": \\\"Production\\\", \\\"gender\\\": 2, \\\"id\\\": 2243, \\\"job\\\": \\\"Producer\\\", \\\"name\\\": \\\"Jon Hutman\\\"}, {\\\"credit_id\\\": \\\"52fe4480c3a368484e026c05\\\", \\\"department\\\": \\\"Directing\\\", \\\"gender\\\": 2, \\\"id\\\": 8844, \\\"job\\\": \\\"Director\\\", \\\"name\\\": \\\"Lawrence Kasdan\\\"}, {\\\"credit_id\\\": \\\"52fe4480c3a368484e026c0b\\\", \\\"department\\\": \\\"Writing\\\", \\\"gender\\\": 2, \\\"id\\\": 8844, \\\"job\\\": \\\"Writer\\\", \\\"name\\\": \\\"Lawrence Kasdan\\\"}, {\\\"credit_id\\\": \\\"584dc1e492514118e7002536\\\", \\\"department\\\": \\\"Production\\\", \\\"gender\\\": 2, \\\"id\\\": 8844, \\\"job\\\": \\\"Producer\\\", \\\"name\\\": \\\"Lawrence Kasdan\\\"}, {\\\"credit_id\\\": \\\"584dc1f392514118e90025b3\\\", \\\"department\\\": \\\"Production\\\", \\\"gender\\\": 2, \\\"id\\\": 16329, \\\"job\\\": \\\"Producer\\\", \\\"name\\\": \\\"Charles Okun\\\"}, {\\\"credit_id\\\": \\\"584dc22e92514118f00026a1\\\", \\\"department\\\": \\\"Editing\\\", \\\"gender\\\": 0, \\\"id\\\": 9966, \\\"job\\\": \\\"Editor\\\", \\\"name\\\": \\\"Carol Littleton\\\"}, {\\\"credit_id\\\": \\\"584dc21f92514118e40026c8\\\", \\\"department\\\": \\\"Crew\\\", \\\"gender\\\": 2, \\\"id\\\": 21673, \\\"job\\\": \\\"Cinematography\\\", \\\"name\\\": \\\"Ericson Core\\\"}, {\\\"credit_id\\\": \\\"584dc1be92514118e700250e\\\", \\\"department\\\": \\\"Production\\\", \\\"gender\\\": 0, \\\"id\\\": 1033793, \\\"job\\\": \\\"Producer\\\", \\\"name\\\": \\\"Linda Goldstein Knowlton\\\"}, {\\\"credit_id\\\": \\\"584dc1a392514118f000261c\\\", \\\"department\\\": \\\"Production\\\", \\\"gender\\\": 0, \\\"id\\\": 1193336, \\\"job\\\": \\\"Producer\\\", \\\"name\\\": \\\"Stephen P. Dunn\\\"}]\",\n          \"[{\\\"credit_id\\\": \\\"5561ac71c3a3682206001955\\\", \\\"department\\\": \\\"Production\\\", \\\"gender\\\": 1, \\\"id\\\": 2952, \\\"job\\\": \\\"Casting\\\", \\\"name\\\": \\\"Avy Kaufman\\\"}, {\\\"credit_id\\\": \\\"52fe43419251416c75009729\\\", \\\"department\\\": \\\"Writing\\\", \\\"gender\\\": 2, \\\"id\\\": 2088, \\\"job\\\": \\\"Novel\\\", \\\"name\\\": \\\"Jules Verne\\\"}, {\\\"credit_id\\\": \\\"52fe43419251416c75009747\\\", \\\"department\\\": \\\"Production\\\", \\\"gender\\\": 0, \\\"id\\\": 7227, \\\"job\\\": \\\"Producer\\\", \\\"name\\\": \\\"Hal Lieberman\\\"}, {\\\"credit_id\\\": \\\"55a677b492514142d5000022\\\", \\\"department\\\": \\\"Costume & Make-Up\\\", \\\"gender\\\": 1, \\\"id\\\": 6688, \\\"job\\\": \\\"Costume Design\\\", \\\"name\\\": \\\"Anna B. Sheppard\\\"}, {\\\"credit_id\\\": \\\"52fe43419251416c7500974d\\\", \\\"department\\\": \\\"Sound\\\", \\\"gender\\\": 0, \\\"id\\\": 7020, \\\"job\\\": \\\"Original Music Composer\\\", \\\"name\\\": \\\"Trevor Jones\\\"}, {\\\"credit_id\\\": \\\"52fe43419251416c75009759\\\", \\\"department\\\": \\\"Camera\\\", \\\"gender\\\": 0, \\\"id\\\": 10709, \\\"job\\\": \\\"Director of Photography\\\", \\\"name\\\": \\\"Phil Meheux\\\"}, {\\\"credit_id\\\": \\\"556a50ddc3a36824e7000050\\\", \\\"department\\\": \\\"Production\\\", \\\"gender\\\": 0, \\\"id\\\": 10903, \\\"job\\\": \\\"Co-Producer\\\", \\\"name\\\": \\\"Henning Molfenter\\\"}, {\\\"credit_id\\\": \\\"5724e6ac9251411d090001e0\\\", \\\"department\\\": \\\"Art\\\", \\\"gender\\\": 0, \\\"id\\\": 11272, \\\"job\\\": \\\"Set Designer\\\", \\\"name\\\": \\\"Marco Bittner Rosser\\\"}, {\\\"credit_id\\\": \\\"5724e5e292514155c3003574\\\", \\\"department\\\": \\\"Art\\\", \\\"gender\\\": 1, \\\"id\\\": 11273, \\\"job\\\": \\\"Assistant Art Director\\\", \\\"name\\\": \\\"Sarah Horton\\\"}, {\\\"credit_id\\\": \\\"5561acfc9251417e5100876c\\\", \\\"department\\\": \\\"Art\\\", \\\"gender\\\": 2, \\\"id\\\": 11274, \\\"job\\\": \\\"Art Direction\\\", \\\"name\\\": \\\"Sebastian T. Krawinkel\\\"}, {\\\"credit_id\\\": \\\"57250a4dc3a368423a002779\\\", \\\"department\\\": \\\"Crew\\\", \\\"gender\\\": 2, \\\"id\\\": 40747, \\\"job\\\": \\\"Second Unit Cinematographer\\\", \\\"name\\\": \\\"Harvey Harrison\\\"}, {\\\"credit_id\\\": \\\"5561ad60c3a3682206001973\\\", \\\"department\\\": \\\"Art\\\", \\\"gender\\\": 0, \\\"id\\\": 40754, \\\"job\\\": \\\"Art Department Coordinator\\\", \\\"name\\\": \\\"Roxy Konrad\\\"}, {\\\"credit_id\\\": \\\"5724e67b92514155c300358e\\\", \\\"department\\\": \\\"Art\\\", \\\"gender\\\": 0, \\\"id\\\": 40757, \\\"job\\\": \\\"Production Illustrator\\\", \\\"name\\\": \\\"Peter Popken\\\"}, {\\\"credit_id\\\": \\\"5725242692514177440000b3\\\", \\\"department\\\": \\\"Writing\\\", \\\"gender\\\": 0, \\\"id\\\": 40759, \\\"job\\\": \\\"Storyboard\\\", \\\"name\\\": \\\"Axel Eichhorst\\\"}, {\\\"credit_id\\\": \\\"57250a089251416df9001e33\\\", \\\"department\\\": \\\"Crew\\\", \\\"gender\\\": 0, \\\"id\\\": 40764, \\\"job\\\": \\\"Property Master\\\", \\\"name\\\": \\\"Axel Kahnt\\\"}, {\\\"credit_id\\\": \\\"57250d27c3a368305a001394\\\", \\\"department\\\": \\\"Lighting\\\", \\\"gender\\\": 0, \\\"id\\\": 40778, \\\"job\\\": \\\"Gaffer\\\", \\\"name\\\": \\\"Albrecht Silberberger\\\"}, {\\\"credit_id\\\": \\\"57250cd9c3a368423a0027da\\\", \\\"department\\\": \\\"Lighting\\\", \\\"gender\\\": 0, \\\"id\\\": 40779, \\\"job\\\": \\\"Best Boy Electric\\\", \\\"name\\\": \\\"Roland Patzelt\\\"}, {\\\"credit_id\\\": \\\"57250cfc9251411d090007d6\\\", \\\"department\\\": \\\"Lighting\\\", \\\"gender\\\": 0, \\\"id\\\": 40786, \\\"job\\\": \\\"Electrician\\\", \\\"name\\\": \\\"Axel Scholz\\\"}, {\\\"credit_id\\\": \\\"57250d84c3a36836a9000566\\\", \\\"department\\\": \\\"Lighting\\\", \\\"gender\\\": 0, \\\"id\\\": 40789, \\\"job\\\": \\\"Rigging Gaffer\\\", \\\"name\\\": \\\"Dietmar Haupt\\\"}, {\\\"credit_id\\\": \\\"5724eb59c3a3682d24006a3d\\\", \\\"department\\\": \\\"Camera\\\", \\\"gender\\\": 0, \\\"id\\\": 40796, \\\"job\\\": \\\"Still Photographer\\\", \\\"name\\\": \\\"David Appleby\\\"}, {\\\"credit_id\\\": \\\"57250e0fc3a36836a900058d\\\", \\\"department\\\": \\\"Production\\\", \\\"gender\\\": 0, \\\"id\\\": 40830, \\\"job\\\": \\\"Location Manager\\\", \\\"name\\\": \\\"Markus Bensch\\\"}, {\\\"credit_id\\\": \\\"57250e27c3a3681720000807\\\", \\\"department\\\": \\\"Production\\\", \\\"gender\\\": 0, \\\"id\\\": 40846, \\\"job\\\": \\\"Production Accountant\\\", \\\"name\\\": \\\"Neil Chaplin\\\"}, {\\\"credit_id\\\": \\\"5970c3a1c3a368551d00079d\\\", \\\"department\\\": \\\"Sound\\\", \\\"gender\\\": 2, \\\"id\\\": 16368, \\\"job\\\": \\\"Music Programmer\\\", \\\"name\\\": \\\"Steven Price\\\"}, {\\\"credit_id\\\": \\\"5561ac98c3a36820c60017ac\\\", \\\"department\\\": \\\"Art\\\", \\\"gender\\\": 0, \\\"id\\\": 23453, \\\"job\\\": \\\"Art Direction\\\", \\\"name\\\": \\\"Robert Cowper\\\"}, {\\\"credit_id\\\": \\\"556a508ec3a368254b000050\\\", \\\"department\\\": \\\"Production\\\", \\\"gender\\\": 2, \\\"id\\\": 18897, \\\"job\\\": \\\"Executive Producer\\\", \\\"name\\\": \\\"Jackie Chan\\\"}, {\\\"credit_id\\\": \\\"556a50e7c3a368254b000064\\\", \\\"department\\\": \\\"Production\\\", \\\"gender\\\": 0, \\\"id\\\": 19619, \\\"job\\\": \\\"Co-Producer\\\", \\\"name\\\": \\\"Thierry Potok\\\"}, {\\\"credit_id\\\": \\\"5561ac8592514179ca000611\\\", \\\"department\\\": \\\"Art\\\", \\\"gender\\\": 2, \\\"id\\\": 20824, \\\"job\\\": \\\"Production Design\\\", \\\"name\\\": \\\"Perry Andelin Blake\\\"}, {\\\"credit_id\\\": \\\"52fe43419251416c7500975f\\\", \\\"department\\\": \\\"Editing\\\", \\\"gender\\\": 2, \\\"id\\\": 21223, \\\"job\\\": \\\"Editor\\\", \\\"name\\\": \\\"Tom Lewis\\\"}, {\\\"credit_id\\\": \\\"52fe43419251416c75009741\\\", \\\"department\\\": \\\"Production\\\", \\\"gender\\\": 2, \\\"id\\\": 35510, \\\"job\\\": \\\"Producer\\\", \\\"name\\\": \\\"Bill Badalato\\\"}, {\\\"credit_id\\\": \\\"5561ad109251417e51008771\\\", \\\"department\\\": \\\"Art\\\", \\\"gender\\\": 0, \\\"id\\\": 35166, \\\"job\\\": \\\"Art Direction\\\", \\\"name\\\": \\\"Pat Tagliaferro\\\"}, {\\\"credit_id\\\": \\\"5561ad2a9251417e51008775\\\", \\\"department\\\": \\\"Art\\\", \\\"gender\\\": 0, \\\"id\\\": 41336, \\\"job\\\": \\\"Set Decoration\\\", \\\"name\\\": \\\"Jille Azis\\\"}, {\\\"credit_id\\\": \\\"556a50989251416afc002592\\\", \\\"department\\\": \\\"Production\\\", \\\"gender\\\": 2, \\\"id\\\": 56719, \\\"job\\\": \\\"Executive Producer\\\", \\\"name\\\": \\\"Willie Chan\\\"}, {\\\"credit_id\\\": \\\"556a5108c3a36824e7000059\\\", \\\"department\\\": \\\"Production\\\", \\\"gender\\\": 0, \\\"id\\\": 56720, \\\"job\\\": \\\"Executive Producer\\\", \\\"name\\\": \\\"Solon So\\\"}, {\\\"credit_id\\\": \\\"52fe43419251416c75009753\\\", \\\"department\\\": \\\"Sound\\\", \\\"gender\\\": 2, \\\"id\\\": 57124, \\\"job\\\": \\\"Original Music Composer\\\", \\\"name\\\": \\\"David A. Stewart\\\"}, {\\\"credit_id\\\": \\\"52fe43419251416c75009723\\\", \\\"department\\\": \\\"Directing\\\", \\\"gender\\\": 2, \\\"id\\\": 57370, \\\"job\\\": \\\"Director\\\", \\\"name\\\": \\\"Frank Coraci\\\"}, {\\\"credit_id\\\": \\\"556a50a39251416b0a002854\\\", \\\"department\\\": \\\"Production\\\", \\\"gender\\\": 2, \\\"id\\\": 59003, \\\"job\\\": \\\"Co-Executive Producer\\\", \\\"name\\\": \\\"Jeff Geoffray\\\"}, {\\\"credit_id\\\": \\\"556a50bac3a368273b000027\\\", \\\"department\\\": \\\"Production\\\", \\\"gender\\\": 2, \\\"id\\\": 59004, \\\"job\\\": \\\"Co-Executive Producer\\\", \\\"name\\\": \\\"Walter Josten\\\"}, {\\\"credit_id\\\": \\\"52fe43419251416c7500972f\\\", \\\"department\\\": \\\"Writing\\\", \\\"gender\\\": 0, \\\"id\\\": 64157, \\\"job\\\": \\\"Screenplay\\\", \\\"name\\\": \\\"David N. Titcher\\\"}, {\\\"credit_id\\\": \\\"52fe43419251416c75009735\\\", \\\"department\\\": \\\"Writing\\\", \\\"gender\\\": 2, \\\"id\\\": 64158, \\\"job\\\": \\\"Screenplay\\\", \\\"name\\\": \\\"David Benullo\\\"}, {\\\"credit_id\\\": \\\"52fe43419251416c7500973b\\\", \\\"department\\\": \\\"Writing\\\", \\\"gender\\\": 2, \\\"id\\\": 64159, \\\"job\\\": \\\"Screenplay\\\", \\\"name\\\": \\\"David Andrew Goldstein\\\"}, {\\\"credit_id\\\": \\\"5970c0459251414fde002ad5\\\", \\\"department\\\": \\\"Directing\\\", \\\"gender\\\": 2, \\\"id\\\": 65610, \\\"job\\\": \\\"Third Assistant Director\\\", \\\"name\\\": \\\"Paul Goldsmith\\\"}, {\\\"credit_id\\\": \\\"572521d39251417744000071\\\", \\\"department\\\": \\\"Sound\\\", \\\"gender\\\": 2, \\\"id\\\": 69325, \\\"job\\\": \\\"Sound Mixer\\\", \\\"name\\\": \\\"Frank Heidbrink\\\"}, {\\\"credit_id\\\": \\\"57252146c3a3681720000aa8\\\", \\\"department\\\": \\\"Sound\\\", \\\"gender\\\": 0, \\\"id\\\": 91882, \\\"job\\\": \\\"Sound Editor\\\", \\\"name\\\": \\\"Tony Currie\\\"}, {\\\"credit_id\\\": \\\"556a508192514154080010e8\\\", \\\"department\\\": \\\"Production\\\", \\\"gender\\\": 0, \\\"id\\\": 117214, \\\"job\\\": \\\"Associate Producer\\\", \\\"name\\\": \\\"Stephen Barker\\\"}, {\\\"credit_id\\\": \\\"59916f5092514143a000c503\\\", \\\"department\\\": \\\"Sound\\\", \\\"gender\\\": 0, \\\"id\\\": 117229, \\\"job\\\": \\\"Sound Designer\\\", \\\"name\\\": \\\"Nick Adams\\\"}, {\\\"credit_id\\\": \\\"556a50d1c3a36824e700004a\\\", \\\"department\\\": \\\"Production\\\", \\\"gender\\\": 0, \\\"id\\\": 148886, \\\"job\\\": \\\"Associate Producer\\\", \\\"name\\\": \\\"Alex Man Chi-Leung\\\"}, {\\\"credit_id\\\": \\\"572521ffc3a3685ac1001063\\\", \\\"department\\\": \\\"Sound\\\", \\\"gender\\\": 0, \\\"id\\\": 570124, \\\"job\\\": \\\"Sound Re-Recording Mixer\\\", \\\"name\\\": \\\"Graham Daniel\\\"}, {\\\"credit_id\\\": \\\"57250ba4c3a368305a00133e\\\", \\\"department\\\": \\\"Crew\\\", \\\"gender\\\": 0, \\\"id\\\": 571434, \\\"job\\\": \\\"Visual Effects Editor\\\", \\\"name\\\": \\\"Sav Aky\\\\u00fcz\\\"}, {\\\"credit_id\\\": \\\"57252245c3a3681720000ace\\\", \\\"department\\\": \\\"Sound\\\", \\\"gender\\\": 2, \\\"id\\\": 957581, \\\"job\\\": \\\"Supervising Sound Editor\\\", \\\"name\\\": \\\"Patrick Dodd\\\"}, {\\\"credit_id\\\": \\\"572524ddc3a368423a002abd\\\", \\\"department\\\": \\\"Production\\\", \\\"gender\\\": 0, \\\"id\\\": 993814, \\\"job\\\": \\\"Unit Manager\\\", \\\"name\\\": \\\"Jie Cheng\\\"}, {\\\"credit_id\\\": \\\"556a5111c3a36826f8000041\\\", \\\"department\\\": \\\"Production\\\", \\\"gender\\\": 0, \\\"id\\\": 1127909, \\\"job\\\": \\\"Line Producer\\\", \\\"name\\\": \\\"Billy Badalato\\\"}, {\\\"credit_id\\\": \\\"57250dd792514119ed002847\\\", \\\"department\\\": \\\"Production\\\", \\\"gender\\\": 0, \\\"id\\\": 1305945, \\\"job\\\": \\\"Executive In Charge Of Production\\\", \\\"name\\\": \\\"Tom Prince\\\"}, {\\\"credit_id\\\": \\\"570b69e59251417da70031ed\\\", \\\"department\\\": \\\"Art\\\", \\\"gender\\\": 0, \\\"id\\\": 1322138, \\\"job\\\": \\\"Supervising Art Director\\\", \\\"name\\\": \\\"Gary Freeman\\\"}, {\\\"credit_id\\\": \\\"5561ae5bc3a368220600199c\\\", \\\"department\\\": \\\"Costume & Make-Up\\\", \\\"gender\\\": 0, \\\"id\\\": 1331979, \\\"job\\\": \\\"Costume Supervisor\\\", \\\"name\\\": \\\"Brigitte Friedl\\\\u00e4nder-Rodriguez\\\"}, {\\\"credit_id\\\": \\\"55a6776992514142cf00002b\\\", \\\"department\\\": \\\"Production\\\", \\\"gender\\\": 0, \\\"id\\\": 1332509, \\\"job\\\": \\\"Casting\\\", \\\"name\\\": \\\"Annette Borgmann\\\"}, {\\\"credit_id\\\": \\\"5561adf392514179ca00064a\\\", \\\"department\\\": \\\"Art\\\", \\\"gender\\\": 0, \\\"id\\\": 1334493, \\\"job\\\": \\\"Art Department Coordinator\\\", \\\"name\\\": \\\"Sarah Robinson\\\"}, {\\\"credit_id\\\": \\\"5970bf7e9251412d4c0386c4\\\", \\\"department\\\": \\\"Crew\\\", \\\"gender\\\": 0, \\\"id\\\": 1335880, \\\"job\\\": \\\"Digital Effects Producer\\\", \\\"name\\\": \\\"Catherine Duncan\\\"}, {\\\"credit_id\\\": \\\"57250f80c3a3685ac1000e50\\\", \\\"department\\\": \\\"Sound\\\", \\\"gender\\\": 0, \\\"id\\\": 1338287, \\\"job\\\": \\\"Music Editor\\\", \\\"name\\\": \\\"Tony Lewis\\\"}, {\\\"credit_id\\\": \\\"5724eb429251411a140023a2\\\", \\\"department\\\": \\\"Camera\\\", \\\"gender\\\": 0, \\\"id\\\": 1380001, \\\"job\\\": \\\"Steadicam Operator\\\", \\\"name\\\": \\\"Marcus Pohlus\\\"}, {\\\"credit_id\\\": \\\"556a50f2c3a36826f8000038\\\", \\\"department\\\": \\\"Production\\\", \\\"gender\\\": 0, \\\"id\\\": 1387774, \\\"job\\\": \\\"Executive Producer\\\", \\\"name\\\": \\\"Alexander Schwartz\\\"}, {\\\"credit_id\\\": \\\"5970c4409251414fde002f42\\\", \\\"department\\\": \\\"Visual Effects\\\", \\\"gender\\\": 0, \\\"id\\\": 1393015, \\\"job\\\": \\\"Lead Animator\\\", \\\"name\\\": \\\"Joe Ksander\\\"}, {\\\"credit_id\\\": \\\"57250fce9251416df9001f2e\\\", \\\"department\\\": \\\"Sound\\\", \\\"gender\\\": 0, \\\"id\\\": 1393351, \\\"job\\\": \\\"Scoring Mixer\\\", \\\"name\\\": \\\"Simon Rhodes\\\"}, {\\\"credit_id\\\": \\\"57252188c3a3681720000ab6\\\", \\\"department\\\": \\\"Sound\\\", \\\"gender\\\": 2, \\\"id\\\": 1398460, \\\"job\\\": \\\"Sound Effects Editor\\\", \\\"name\\\": \\\"Mark Allen\\\"}, {\\\"credit_id\\\": \\\"57250aa292514118af0029ae\\\", \\\"department\\\": \\\"Crew\\\", \\\"gender\\\": 0, \\\"id\\\": 1398932, \\\"job\\\": \\\"Stunt Coordinator\\\", \\\"name\\\": \\\"Rick Forsayeth\\\"}, {\\\"credit_id\\\": \\\"57250e44c3a368180a000be7\\\", \\\"department\\\": \\\"Production\\\", \\\"gender\\\": 1, \\\"id\\\": 1401354, \\\"job\\\": \\\"Production Coordinator\\\", \\\"name\\\": \\\"Wendy Cox\\\"}, {\\\"credit_id\\\": \\\"5724e5fa9251411d090001ca\\\", \\\"department\\\": \\\"Art\\\", \\\"gender\\\": 0, \\\"id\\\": 1403355, \\\"job\\\": \\\"Leadman\\\", \\\"name\\\": \\\"Sarawut Chincharoen\\\"}, {\\\"credit_id\\\": \\\"5724e6969251411d090001db\\\", \\\"department\\\": \\\"Art\\\", \\\"gender\\\": 2, \\\"id\\\": 1403915, \\\"job\\\": \\\"Sculptor\\\", \\\"name\\\": \\\"Robert Makolies\\\"}, {\\\"credit_id\\\": \\\"5561aea5c3a36868e50089d9\\\", \\\"department\\\": \\\"Crew\\\", \\\"gender\\\": 0, \\\"id\\\": 1404873, \\\"job\\\": \\\"Unit Publicist\\\", \\\"name\\\": \\\"Julia Jones\\\"}, {\\\"credit_id\\\": \\\"5970beb69251416c6701f20f\\\", \\\"department\\\": \\\"Camera\\\", \\\"gender\\\": 0, \\\"id\\\": 1405241, \\\"job\\\": \\\"Aerial Director of Photography\\\", \\\"name\\\": \\\"Adam Dale\\\"}, {\\\"credit_id\\\": \\\"572524acc3a3681720000b1a\\\", \\\"department\\\": \\\"Sound\\\", \\\"gender\\\": 0, \\\"id\\\": 1411085, \\\"job\\\": \\\"Dolby Consultant\\\", \\\"name\\\": \\\"Chris Sturmer\\\"}, {\\\"credit_id\\\": \\\"57250c949251411d090007c7\\\", \\\"department\\\": \\\"Editing\\\", \\\"gender\\\": 0, \\\"id\\\": 1413041, \\\"job\\\": \\\"First Assistant Editor\\\", \\\"name\\\": \\\"Keith Mason\\\"}, {\\\"credit_id\\\": \\\"572523ed92514119ed002af1\\\", \\\"department\\\": \\\"Visual Effects\\\", \\\"gender\\\": 0, \\\"id\\\": 1415976, \\\"job\\\": \\\"Visual Effects Producer\\\", \\\"name\\\": \\\"Nick Drew\\\"}, {\\\"credit_id\\\": \\\"57250b53c3a368180a000b46\\\", \\\"department\\\": \\\"Crew\\\", \\\"gender\\\": 0, \\\"id\\\": 1417842, \\\"job\\\": \\\"Transportation Coordinator\\\", \\\"name\\\": \\\"Gary Birmingham\\\"}, {\\\"credit_id\\\": \\\"5724f87cc3a3681c2600045b\\\", \\\"department\\\": \\\"Costume & Make-Up\\\", \\\"gender\\\": 0, \\\"id\\\": 1418124, \\\"job\\\": \\\"Hairstylist\\\", \\\"name\\\": \\\"Kevin Alexander\\\"}, {\\\"credit_id\\\": \\\"5724f83dc3a368423a002520\\\", \\\"department\\\": \\\"Costume & Make-Up\\\", \\\"gender\\\": 1, \\\"id\\\": 1428470, \\\"job\\\": \\\"Hair Designer\\\", \\\"name\\\": \\\"Christine Blundell\\\"}, {\\\"credit_id\\\": \\\"5970bf51c3a3687fc7035bb7\\\", \\\"department\\\": \\\"Costume & Make-Up\\\", \\\"gender\\\": 0, \\\"id\\\": 1430501, \\\"job\\\": \\\"Wardrobe Supervisor\\\", \\\"name\\\": \\\"Daryl Bristow\\\"}, {\\\"credit_id\\\": \\\"5724f8cc92514122a9003fe9\\\", \\\"department\\\": \\\"Costume & Make-Up\\\", \\\"gender\\\": 0, \\\"id\\\": 1433073, \\\"job\\\": \\\"Set Costumer\\\", \\\"name\\\": \\\"Sabine Groh\\\"}, {\\\"credit_id\\\": \\\"5725238292514119ed002ae8\\\", \\\"department\\\": \\\"Visual Effects\\\", \\\"gender\\\": 0, \\\"id\\\": 1437160, \\\"job\\\": \\\"Visual Effects\\\", \\\"name\\\": \\\"Lucy Ainsworth-Taylor\\\"}, {\\\"credit_id\\\": \\\"5725240d92514122a9004578\\\", \\\"department\\\": \\\"Visual Effects\\\", \\\"gender\\\": 0, \\\"id\\\": 1459913, \\\"job\\\": \\\"Visual Effects Supervisor\\\", \\\"name\\\": \\\"Jessica Norman\\\"}, {\\\"credit_id\\\": \\\"5561ad4792514171ab001777\\\", \\\"department\\\": \\\"Art\\\", \\\"gender\\\": 0, \\\"id\\\": 1470177, \\\"job\\\": \\\"Art Department Coordinator\\\", \\\"name\\\": \\\"Randy Bobbitt\\\"}, {\\\"credit_id\\\": \\\"5561ad79925141700800185b\\\", \\\"department\\\": \\\"Art\\\", \\\"gender\\\": 0, \\\"id\\\": 1470178, \\\"job\\\": \\\"Art Department Coordinator\\\", \\\"name\\\": \\\"Araya Nakkate\\\"}, {\\\"credit_id\\\": \\\"5561ae1ec3a368208b00198b\\\", \\\"department\\\": \\\"Art\\\", \\\"gender\\\": 0, \\\"id\\\": 1470180, \\\"job\\\": \\\"Art Department Manager\\\", \\\"name\\\": \\\"Michael D\\\\u00fcwel\\\"}, {\\\"credit_id\\\": \\\"556a5072c3a36824bc00005c\\\", \\\"department\\\": \\\"Production\\\", \\\"gender\\\": 0, \\\"id\\\": 1472325, \\\"job\\\": \\\"Executive Producer\\\", \\\"name\\\": \\\"Phyllis Alia\\\"}, {\\\"credit_id\\\": \\\"556a50aec3a36826f8000025\\\", \\\"department\\\": \\\"Production\\\", \\\"gender\\\": 0, \\\"id\\\": 1472327, \\\"job\\\": \\\"Associate Producer\\\", \\\"name\\\": \\\"Dallas Hartman\\\"}, {\\\"credit_id\\\": \\\"556a50c59251416afc00259c\\\", \\\"department\\\": \\\"Production\\\", \\\"gender\\\": 0, \\\"id\\\": 1472328, \\\"job\\\": \\\"Associate Producer\\\", \\\"name\\\": \\\"Aimee Keen\\\"}, {\\\"credit_id\\\": \\\"556a50fcc3a36825d500004f\\\", \\\"department\\\": \\\"Production\\\", \\\"gender\\\": 0, \\\"id\\\": 1472329, \\\"job\\\": \\\"Executive Producer\\\", \\\"name\\\": \\\"Alexandra Schwartz\\\"}, {\\\"credit_id\\\": \\\"57250db8c3a368305a0013b6\\\", \\\"department\\\": \\\"Production\\\", \\\"gender\\\": 0, \\\"id\\\": 1473182, \\\"job\\\": \\\"Casting Associate\\\", \\\"name\\\": \\\"Elizabeth Greenberg\\\"}, {\\\"credit_id\\\": \\\"55a67784c3a368459e000021\\\", \\\"department\\\": \\\"Production\\\", \\\"gender\\\": 0, \\\"id\\\": 1487555, \\\"job\\\": \\\"Casting\\\", \\\"name\\\": \\\"Raweeporn 'Non' Srimonju\\\"}, {\\\"credit_id\\\": \\\"5724f7b59251411d0900049f\\\", \\\"department\\\": \\\"Costume & Make-Up\\\", \\\"gender\\\": 0, \\\"id\\\": 1487709, \\\"job\\\": \\\"Assistant Costume Designer\\\", \\\"name\\\": \\\"Jane Clive\\\"}, {\\\"credit_id\\\": \\\"5970bf059251417f9d00033f\\\", \\\"department\\\": \\\"Camera\\\", \\\"gender\\\": 0, \\\"id\\\": 1506373, \\\"job\\\": \\\"Grip\\\", \\\"name\\\": \\\"Robert-James Bova\\\"}, {\\\"credit_id\\\": \\\"5970beea9251416c6701f26a\\\", \\\"department\\\": \\\"Camera\\\", \\\"gender\\\": 0, \\\"id\\\": 1535097, \\\"job\\\": \\\"Key Grip\\\", \\\"name\\\": \\\"John Flemming\\\"}, {\\\"credit_id\\\": \\\"5970c34cc3a3686fc7021c86\\\", \\\"department\\\": \\\"Sound\\\", \\\"gender\\\": 0, \\\"id\\\": 1540858, \\\"job\\\": \\\"Foley Editor\\\", \\\"name\\\": \\\"Peter Crooks\\\"}, {\\\"credit_id\\\": \\\"5970c2c6c3a3687128025f8b\\\", \\\"department\\\": \\\"Production\\\", \\\"gender\\\": 0, \\\"id\\\": 1547360, \\\"job\\\": \\\"Casting Assistant\\\", \\\"name\\\": \\\"Cody Beke\\\"}, {\\\"credit_id\\\": \\\"5970be969251417f9d0002a8\\\", \\\"department\\\": \\\"Camera\\\", \\\"gender\\\": 2, \\\"id\\\": 1556948, \\\"job\\\": \\\"Additional Still Photographer\\\", \\\"name\\\": \\\"Bill Kaye\\\"}, {\\\"credit_id\\\": \\\"5724f9c792514155c3003848\\\", \\\"department\\\": \\\"Crew\\\", \\\"gender\\\": 0, \\\"id\\\": 1557578, \\\"job\\\": \\\"Armorer\\\", \\\"name\\\": \\\"Steve Cummings\\\"}, {\\\"credit_id\\\": \\\"57250986c3a3681c2600069f\\\", \\\"department\\\": \\\"Crew\\\", \\\"gender\\\": 0, \\\"id\\\": 1558253, \\\"job\\\": \\\"Post Production Assistant\\\", \\\"name\\\": \\\"Francesca Dodd\\\"}, {\\\"credit_id\\\": \\\"5970ac839251412d3d039e82\\\", \\\"department\\\": \\\"Art\\\", \\\"gender\\\": 0, \\\"id\\\": 1558266, \\\"job\\\": \\\"Set Dresser\\\", \\\"name\\\": \\\"Roman Berger\\\"}, {\\\"credit_id\\\": \\\"5725248492514177440000c3\\\", \\\"department\\\": \\\"Crew\\\", \\\"gender\\\": 0, \\\"id\\\": 1569847, \\\"job\\\": \\\"Digital Producer\\\", \\\"name\\\": \\\"Paula Bonhomme\\\"}, {\\\"credit_id\\\": \\\"5970c2a09251412d3d03b758\\\", \\\"department\\\": \\\"Production\\\", \\\"gender\\\": 0, \\\"id\\\": 1602319, \\\"job\\\": \\\"ADR Voice Casting\\\", \\\"name\\\": \\\"Vanessa Baker\\\"}, {\\\"credit_id\\\": \\\"5725232892514119ed002ae1\\\", \\\"department\\\": \\\"Visual Effects\\\", \\\"gender\\\": 0, \\\"id\\\": 1603859, \\\"job\\\": \\\"Special Effects Supervisor\\\", \\\"name\\\": \\\"John Evans\\\"}, {\\\"credit_id\\\": \\\"57250fb09251411e9f0007a6\\\", \\\"department\\\": \\\"Sound\\\", \\\"gender\\\": 0, \\\"id\\\": 1605893, \\\"job\\\": \\\"Orchestrator\\\", \\\"name\\\": \\\"Geoff Alexander\\\"}, {\\\"credit_id\\\": \\\"5724e5bac3a3681c260000e4\\\", \\\"department\\\": \\\"Art\\\", \\\"gender\\\": 0, \\\"id\\\": 1613199, \\\"job\\\": \\\"Art Department Assistant\\\", \\\"name\\\": \\\"Iris Paschedag\\\"}, {\\\"credit_id\\\": \\\"5724e64fc3a368180a00018e\\\", \\\"department\\\": \\\"Art\\\", \\\"gender\\\": 0, \\\"id\\\": 1613203, \\\"job\\\": \\\"Location Scout\\\", \\\"name\\\": \\\"Brian A. Alexander\\\"}, {\\\"credit_id\\\": \\\"5724ea90c3a368423a002373\\\", \\\"department\\\": \\\"Camera\\\", \\\"gender\\\": 0, \\\"id\\\": 1613212, \\\"job\\\": \\\"First Assistant Camera\\\", \\\"name\\\": \\\"Mark 'Boylee' Boyle\\\"}, {\\\"credit_id\\\": \\\"572508adc3a368305a0012d0\\\", \\\"department\\\": \\\"Crew\\\", \\\"gender\\\": 0, \\\"id\\\": 1613268, \\\"job\\\": \\\"Carpenter\\\", \\\"name\\\": \\\"Jens Gaube\\\"}, {\\\"credit_id\\\": \\\"572508fbc3a3681c26000686\\\", \\\"department\\\": \\\"Crew\\\", \\\"gender\\\": 0, \\\"id\\\": 1613269, \\\"job\\\": \\\"Digital Effects Supervisor\\\", \\\"name\\\": \\\"Simon Haslett\\\"}, {\\\"credit_id\\\": \\\"57250939c3a36836a9000457\\\", \\\"department\\\": \\\"Crew\\\", \\\"gender\\\": 0, \\\"id\\\": 1613270, \\\"job\\\": \\\"Driver\\\", \\\"name\\\": \\\"Maher Abu Mugheisib\\\"}, {\\\"credit_id\\\": \\\"572509e592514155c3003a88\\\", \\\"department\\\": \\\"Crew\\\", \\\"gender\\\": 0, \\\"id\\\": 1613271, \\\"job\\\": \\\"Propmaker\\\", \\\"name\\\": \\\"Gerold Bublak\\\"}, {\\\"credit_id\\\": \\\"57250a749251416df9001e46\\\", \\\"department\\\": \\\"Crew\\\", \\\"gender\\\": 0, \\\"id\\\": 1613272, \\\"job\\\": \\\"Set Production Assistant\\\", \\\"name\\\": \\\"Juliane Walker\\\"}, {\\\"credit_id\\\": \\\"57250a8b92514119ed0027c6\\\", \\\"department\\\": \\\"Crew\\\", \\\"gender\\\": 0, \\\"id\\\": 1613273, \\\"job\\\": \\\"Software Engineer\\\", \\\"name\\\": \\\"Randy McGowan\\\"}, {\\\"credit_id\\\": \\\"57250ad19251411e9f0006fb\\\", \\\"department\\\": \\\"Crew\\\", \\\"gender\\\": 0, \\\"id\\\": 1613274, \\\"job\\\": \\\"Stunts\\\", \\\"name\\\": \\\"Paul Andreovski\\\"}, {\\\"credit_id\\\": \\\"57250b25c3a3682d24006ef3\\\", \\\"department\\\": \\\"Crew\\\", \\\"gender\\\": 0, \\\"id\\\": 1613276, \\\"job\\\": \\\"Systems Administrators & Support\\\", \\\"name\\\": \\\"Peter Guyan\\\"}, {\\\"credit_id\\\": \\\"57250b3ac3a3682d24006efa\\\", \\\"department\\\": \\\"Crew\\\", \\\"gender\\\": 0, \\\"id\\\": 1613277, \\\"job\\\": \\\"Transportation Captain\\\", \\\"name\\\": \\\"Dave Heazlewood\\\"}, {\\\"credit_id\\\": \\\"5970bfd2c3a368551d0003b2\\\", \\\"department\\\": \\\"Directing\\\", \\\"gender\\\": 0, \\\"id\\\": 1613281, \\\"job\\\": \\\"First Assistant Director\\\", \\\"name\\\": \\\"Nick Heckstall-Smith\\\"}, {\\\"credit_id\\\": \\\"57250c2892514122a90042b9\\\", \\\"department\\\": \\\"Editing\\\", \\\"gender\\\": 0, \\\"id\\\": 1613286, \\\"job\\\": \\\"Dialogue Editor\\\", \\\"name\\\": \\\"Philip Alton\\\"}, {\\\"credit_id\\\": \\\"57250c7592514118af0029e1\\\", \\\"department\\\": \\\"Editing\\\", \\\"gender\\\": 0, \\\"id\\\": 1613291, \\\"job\\\": \\\"Digital Intermediate\\\", \\\"name\\\": \\\"Claire McGrane\\\"}, {\\\"credit_id\\\": \\\"57250d3b92514122a90042df\\\", \\\"department\\\": \\\"Lighting\\\", \\\"gender\\\": 0, \\\"id\\\": 1613297, \\\"job\\\": \\\"Lighting Supervisor\\\", \\\"name\\\": \\\"James J. Atkinson\\\"}, {\\\"credit_id\\\": \\\"57250e849251416df9001ef0\\\", \\\"department\\\": \\\"Production\\\", \\\"gender\\\": 0, \\\"id\\\": 1613299, \\\"job\\\": \\\"Production Manager\\\", \\\"name\\\": \\\"Narimon Atibaed\\\"}, {\\\"credit_id\\\": \\\"57250eb59251411d09000828\\\", \\\"department\\\": \\\"Production\\\", \\\"gender\\\": 0, \\\"id\\\": 1613300, \\\"job\\\": \\\"Production Supervisor\\\", \\\"name\\\": \\\"Veerapol Atibaed Billy\\\"}, {\\\"credit_id\\\": \\\"57250ee6c3a3685ac1000e27\\\", \\\"department\\\": \\\"Sound\\\", \\\"gender\\\": 0, \\\"id\\\": 1613301, \\\"job\\\": \\\"Boom Operator\\\", \\\"name\\\": \\\"Simon Firsht\\\"}, {\\\"credit_id\\\": \\\"57250f4fc3a3685ac1000e46\\\", \\\"department\\\": \\\"Sound\\\", \\\"gender\\\": 0, \\\"id\\\": 1613303, \\\"job\\\": \\\"Foley\\\", \\\"name\\\": \\\"Mark Hackett\\\"}, {\\\"credit_id\\\": \\\"5725227c92514119ed002ac9\\\", \\\"department\\\": \\\"Visual Effects\\\", \\\"gender\\\": 0, \\\"id\\\": 1613313, \\\"job\\\": \\\"Digital Compositors\\\", \\\"name\\\": \\\"Henry Badgett\\\"}, {\\\"credit_id\\\": \\\"5725229b925141774400008c\\\", \\\"department\\\": \\\"Visual Effects\\\", \\\"gender\\\": 0, \\\"id\\\": 1613315, \\\"job\\\": \\\"I/O Supervisor\\\", \\\"name\\\": \\\"Sally Bunasawa\\\"}, {\\\"credit_id\\\": \\\"572523d2c3a3682d24007227\\\", \\\"department\\\": \\\"Visual Effects\\\", \\\"gender\\\": 0, \\\"id\\\": 1613316, \\\"job\\\": \\\"Visual Effects Coordinator\\\", \\\"name\\\": \\\"Muriel G\\\\u00e9rard\\\"}, {\\\"credit_id\\\": \\\"572524659251411e9f000a08\\\", \\\"department\\\": \\\"Crew\\\", \\\"gender\\\": 0, \\\"id\\\": 1613318, \\\"job\\\": \\\"Translator\\\", \\\"name\\\": \\\"Anne Badalato\\\"}, {\\\"credit_id\\\": \\\"572524c5c3a36836a9000873\\\", \\\"department\\\": \\\"Visual Effects\\\", \\\"gender\\\": 0, \\\"id\\\": 1613321, \\\"job\\\": \\\"Modeling\\\", \\\"name\\\": \\\"Bradley Sick\\\"}, {\\\"credit_id\\\": \\\"5970bfa5c3a3681593002cce\\\", \\\"department\\\": \\\"Crew\\\", \\\"gender\\\": 0, \\\"id\\\": 1635070, \\\"job\\\": \\\"Marine Coordinator\\\", \\\"name\\\": \\\"Lance Julian\\\"}, {\\\"credit_id\\\": \\\"587e9610c3a36849ff026110\\\", \\\"department\\\": \\\"Directing\\\", \\\"gender\\\": 0, \\\"id\\\": 1740770, \\\"job\\\": \\\"Script Supervisor\\\", \\\"name\\\": \\\"Sam Donovan\\\"}, {\\\"credit_id\\\": \\\"58c3da589251413452002588\\\", \\\"department\\\": \\\"Lighting\\\", \\\"gender\\\": 0, \\\"id\\\": 1774236, \\\"job\\\": \\\"Lighting Technician\\\", \\\"name\\\": \\\"Martin Smith\\\"}, {\\\"credit_id\\\": \\\"5970be7f9251414fde0028db\\\", \\\"department\\\": \\\"Art\\\", \\\"gender\\\": 0, \\\"id\\\": 1855058, \\\"job\\\": \\\"Title Designer\\\", \\\"name\\\": \\\"Micha Klein\\\"}, {\\\"credit_id\\\": \\\"5970c01cc3a3686fc70218a5\\\", \\\"department\\\": \\\"Directing\\\", \\\"gender\\\": 0, \\\"id\\\": 1855062, \\\"job\\\": \\\"Second Assistant Director\\\", \\\"name\\\": \\\"George Walker\\\"}, {\\\"credit_id\\\": \\\"5970c0a0c3a3686f7c01da7b\\\", \\\"department\\\": \\\"Editing\\\", \\\"gender\\\": 0, \\\"id\\\": 1855067, \\\"job\\\": \\\"Negative Cutter\\\", \\\"name\\\": \\\"Jason Wheeler\\\"}, {\\\"credit_id\\\": \\\"5970c3259251412d4c038ac8\\\", \\\"department\\\": \\\"Sound\\\", \\\"gender\\\": 0, \\\"id\\\": 1855076, \\\"job\\\": \\\"Additional Sound Re-Recording Mixer\\\", \\\"name\\\": \\\"Luiz Provin\\\"}, {\\\"credit_id\\\": \\\"5970c36cc3a3687162025e64\\\", \\\"department\\\": \\\"Sound\\\", \\\"gender\\\": 0, \\\"id\\\": 1855084, \\\"job\\\": \\\"Musician\\\", \\\"name\\\": \\\"David Arch\\\"}, {\\\"credit_id\\\": \\\"5970c3f0c3a3681608002d30\\\", \\\"department\\\": \\\"Visual Effects\\\", \\\"gender\\\": 0, \\\"id\\\": 1855087, \\\"job\\\": \\\"2D Supervisor\\\", \\\"name\\\": \\\"Mike Pope\\\"}]\"\n        ],\n        \"semantic_type\": \"\",\n        \"description\": \"\"\n      }\n    }\n  ]\n}"
            }
          },
          "metadata": {},
          "execution_count": 75
        }
      ],
      "source": [
        "movies.head(1)"
      ]
    },
    {
      "cell_type": "code",
      "execution_count": null,
      "metadata": {
        "colab": {
          "base_uri": "https://localhost:8080/",
          "height": 54
        },
        "id": "k3eqXniCc7F3",
        "outputId": "b8c1b0e9-e48b-41d4-af08-b30769779dea"
      },
      "outputs": [
        {
          "output_type": "execute_result",
          "data": {
            "text/plain": [
              "'[{\"id\": 612, \"name\": \"hotel\"}, {\"id\": 613, \"name\": \"new year\\'s eve\"}, {\"id\": 616, \"name\": \"witch\"}, {\"id\": 622, \"name\": \"bet\"}, {\"id\": 922, \"name\": \"hotel room\"}, {\"id\": 2700, \"name\": \"sperm\"}, {\"id\": 12670, \"name\": \"los angeles\"}, {\"id\": 160488, \"name\": \"hoodlum\"}, {\"id\": 187056, \"name\": \"woman director\"}, {\"id\": 198129, \"name\": \"episode film\"}]'"
            ],
            "application/vnd.google.colaboratory.intrinsic+json": {
              "type": "string"
            }
          },
          "metadata": {},
          "execution_count": 76
        }
      ],
      "source": [
        "movies.iloc[0].keywords"
      ]
    },
    {
      "cell_type": "code",
      "execution_count": null,
      "metadata": {
        "id": "Oaz-PkundCih"
      },
      "outputs": [],
      "source": [
        "movies['keywords'] = movies['keywords'].apply(convert)"
      ]
    },
    {
      "cell_type": "code",
      "execution_count": null,
      "metadata": {
        "colab": {
          "base_uri": "https://localhost:8080/",
          "height": 81
        },
        "id": "iONhyWiLdIE5",
        "outputId": "919a88f7-487e-4c2b-d280-a7e288080f2d"
      },
      "outputs": [
        {
          "output_type": "execute_result",
          "data": {
            "text/plain": [
              "        title  tmdbId_x           genres  \\\n",
              "0  Four Rooms         5  [Crime, Comedy]   \n",
              "\n",
              "                                            keywords  \\\n",
              "0  [hotel, new year's eve, witch, bet, hotel room...   \n",
              "\n",
              "                                            overview  \\\n",
              "0  It's Ted the Bellhop's first night on the job....   \n",
              "\n",
              "                                                cast  \\\n",
              "0  [{\"cast_id\": 42, \"character\": \"Ted the Bellhop...   \n",
              "\n",
              "                                                crew  \n",
              "0  [{\"credit_id\": \"52fe420dc3a36847f800012d\", \"de...  "
            ],
            "text/html": [
              "\n",
              "  <div id=\"df-ae16ed20-9d5d-4c86-8326-3b02fecd4225\" class=\"colab-df-container\">\n",
              "    <div>\n",
              "<style scoped>\n",
              "    .dataframe tbody tr th:only-of-type {\n",
              "        vertical-align: middle;\n",
              "    }\n",
              "\n",
              "    .dataframe tbody tr th {\n",
              "        vertical-align: top;\n",
              "    }\n",
              "\n",
              "    .dataframe thead th {\n",
              "        text-align: right;\n",
              "    }\n",
              "</style>\n",
              "<table border=\"1\" class=\"dataframe\">\n",
              "  <thead>\n",
              "    <tr style=\"text-align: right;\">\n",
              "      <th></th>\n",
              "      <th>title</th>\n",
              "      <th>tmdbId_x</th>\n",
              "      <th>genres</th>\n",
              "      <th>keywords</th>\n",
              "      <th>overview</th>\n",
              "      <th>cast</th>\n",
              "      <th>crew</th>\n",
              "    </tr>\n",
              "  </thead>\n",
              "  <tbody>\n",
              "    <tr>\n",
              "      <th>0</th>\n",
              "      <td>Four Rooms</td>\n",
              "      <td>5</td>\n",
              "      <td>[Crime, Comedy]</td>\n",
              "      <td>[hotel, new year's eve, witch, bet, hotel room...</td>\n",
              "      <td>It's Ted the Bellhop's first night on the job....</td>\n",
              "      <td>[{\"cast_id\": 42, \"character\": \"Ted the Bellhop...</td>\n",
              "      <td>[{\"credit_id\": \"52fe420dc3a36847f800012d\", \"de...</td>\n",
              "    </tr>\n",
              "  </tbody>\n",
              "</table>\n",
              "</div>\n",
              "    <div class=\"colab-df-buttons\">\n",
              "\n",
              "  <div class=\"colab-df-container\">\n",
              "    <button class=\"colab-df-convert\" onclick=\"convertToInteractive('df-ae16ed20-9d5d-4c86-8326-3b02fecd4225')\"\n",
              "            title=\"Convert this dataframe to an interactive table.\"\n",
              "            style=\"display:none;\">\n",
              "\n",
              "  <svg xmlns=\"http://www.w3.org/2000/svg\" height=\"24px\" viewBox=\"0 -960 960 960\">\n",
              "    <path d=\"M120-120v-720h720v720H120Zm60-500h600v-160H180v160Zm220 220h160v-160H400v160Zm0 220h160v-160H400v160ZM180-400h160v-160H180v160Zm440 0h160v-160H620v160ZM180-180h160v-160H180v160Zm440 0h160v-160H620v160Z\"/>\n",
              "  </svg>\n",
              "    </button>\n",
              "\n",
              "  <style>\n",
              "    .colab-df-container {\n",
              "      display:flex;\n",
              "      gap: 12px;\n",
              "    }\n",
              "\n",
              "    .colab-df-convert {\n",
              "      background-color: #E8F0FE;\n",
              "      border: none;\n",
              "      border-radius: 50%;\n",
              "      cursor: pointer;\n",
              "      display: none;\n",
              "      fill: #1967D2;\n",
              "      height: 32px;\n",
              "      padding: 0 0 0 0;\n",
              "      width: 32px;\n",
              "    }\n",
              "\n",
              "    .colab-df-convert:hover {\n",
              "      background-color: #E2EBFA;\n",
              "      box-shadow: 0px 1px 2px rgba(60, 64, 67, 0.3), 0px 1px 3px 1px rgba(60, 64, 67, 0.15);\n",
              "      fill: #174EA6;\n",
              "    }\n",
              "\n",
              "    .colab-df-buttons div {\n",
              "      margin-bottom: 4px;\n",
              "    }\n",
              "\n",
              "    [theme=dark] .colab-df-convert {\n",
              "      background-color: #3B4455;\n",
              "      fill: #D2E3FC;\n",
              "    }\n",
              "\n",
              "    [theme=dark] .colab-df-convert:hover {\n",
              "      background-color: #434B5C;\n",
              "      box-shadow: 0px 1px 3px 1px rgba(0, 0, 0, 0.15);\n",
              "      filter: drop-shadow(0px 1px 2px rgba(0, 0, 0, 0.3));\n",
              "      fill: #FFFFFF;\n",
              "    }\n",
              "  </style>\n",
              "\n",
              "    <script>\n",
              "      const buttonEl =\n",
              "        document.querySelector('#df-ae16ed20-9d5d-4c86-8326-3b02fecd4225 button.colab-df-convert');\n",
              "      buttonEl.style.display =\n",
              "        google.colab.kernel.accessAllowed ? 'block' : 'none';\n",
              "\n",
              "      async function convertToInteractive(key) {\n",
              "        const element = document.querySelector('#df-ae16ed20-9d5d-4c86-8326-3b02fecd4225');\n",
              "        const dataTable =\n",
              "          await google.colab.kernel.invokeFunction('convertToInteractive',\n",
              "                                                    [key], {});\n",
              "        if (!dataTable) return;\n",
              "\n",
              "        const docLinkHtml = 'Like what you see? Visit the ' +\n",
              "          '<a target=\"_blank\" href=https://colab.research.google.com/notebooks/data_table.ipynb>data table notebook</a>'\n",
              "          + ' to learn more about interactive tables.';\n",
              "        element.innerHTML = '';\n",
              "        dataTable['output_type'] = 'display_data';\n",
              "        await google.colab.output.renderOutput(dataTable, element);\n",
              "        const docLink = document.createElement('div');\n",
              "        docLink.innerHTML = docLinkHtml;\n",
              "        element.appendChild(docLink);\n",
              "      }\n",
              "    </script>\n",
              "  </div>\n",
              "\n",
              "\n",
              "    </div>\n",
              "  </div>\n"
            ],
            "application/vnd.google.colaboratory.intrinsic+json": {
              "type": "dataframe",
              "variable_name": "movies",
              "summary": "{\n  \"name\": \"movies\",\n  \"rows\": 4607,\n  \"fields\": [\n    {\n      \"column\": \"title\",\n      \"properties\": {\n        \"dtype\": \"string\",\n        \"num_unique_values\": 4594,\n        \"samples\": [\n          \"RED\",\n          \"Warlock: The Armageddon\",\n          \"Muppets from Space\"\n        ],\n        \"semantic_type\": \"\",\n        \"description\": \"\"\n      }\n    },\n    {\n      \"column\": \"tmdbId_x\",\n      \"properties\": {\n        \"dtype\": \"number\",\n        \"std\": 82463,\n        \"min\": 5,\n        \"max\": 426469,\n        \"num_unique_values\": 4597,\n        \"samples\": [\n          9637,\n          27549,\n          11113\n        ],\n        \"semantic_type\": \"\",\n        \"description\": \"\"\n      }\n    },\n    {\n      \"column\": \"genres\",\n      \"properties\": {\n        \"dtype\": \"object\",\n        \"semantic_type\": \"\",\n        \"description\": \"\"\n      }\n    },\n    {\n      \"column\": \"keywords\",\n      \"properties\": {\n        \"dtype\": \"object\",\n        \"semantic_type\": \"\",\n        \"description\": \"\"\n      }\n    },\n    {\n      \"column\": \"overview\",\n      \"properties\": {\n        \"dtype\": \"string\",\n        \"num_unique_values\": 4597,\n        \"samples\": [\n          \"The Mystery Inc. gang have gone their separate ways and have been apart for two years, until they each receive an invitation to Spooky Island. Not knowing that the others have also been invited, they show up and discover an amusement park that affects young visitors in very strange ways.\",\n          \"Mark Singer returns as Dar, the warrior who can talk to the beasts. Dar is forced to travel to earth to stop his evil brother from stealing an atomic bomb, and turning their native land from a desert into... well... a desert! Written by Jim Palin\",\n          \"A misogynistic and snobbish phonetics professor agrees to a wager that he can take a flower girl and make her presentable in high society.\"\n        ],\n        \"semantic_type\": \"\",\n        \"description\": \"\"\n      }\n    },\n    {\n      \"column\": \"cast\",\n      \"properties\": {\n        \"dtype\": \"string\",\n        \"num_unique_values\": 4578,\n        \"samples\": [\n          \"[{\\\"cast_id\\\": 1, \\\"character\\\": \\\"Anthony Adams\\\", \\\"credit_id\\\": \\\"52fe458b9251416c7505a34d\\\", \\\"gender\\\": 2, \\\"id\\\": 36422, \\\"name\\\": \\\"Luke Wilson\\\", \\\"order\\\": 0}, {\\\"cast_id\\\": 2, \\\"character\\\": \\\"Dignan\\\", \\\"credit_id\\\": \\\"52fe458b9251416c7505a351\\\", \\\"gender\\\": 2, \\\"id\\\": 887, \\\"name\\\": \\\"Owen Wilson\\\", \\\"order\\\": 1}, {\\\"cast_id\\\": 4, \\\"character\\\": \\\"Inez\\\", \\\"credit_id\\\": \\\"52fe458b9251416c7505a355\\\", \\\"gender\\\": 1, \\\"id\\\": 74940, \\\"name\\\": \\\"Lumi Cavazos\\\", \\\"order\\\": 2}, {\\\"cast_id\\\": 12, \\\"character\\\": \\\"Future Man\\\", \\\"credit_id\\\": \\\"52fe458b9251416c7505a383\\\", \\\"gender\\\": 2, \\\"id\\\": 71555, \\\"name\\\": \\\"Andrew Wilson\\\", \\\"order\\\": 3}, {\\\"cast_id\\\": 13, \\\"character\\\": \\\"Bob Mapplethorpe\\\", \\\"credit_id\\\": \\\"52fe458b9251416c7505a387\\\", \\\"gender\\\": 0, \\\"id\\\": 52797, \\\"name\\\": \\\"Robert Musgrave\\\", \\\"order\\\": 4}, {\\\"cast_id\\\": 14, \\\"character\\\": \\\"Bernice\\\", \\\"credit_id\\\": \\\"52fe458b9251416c7505a38b\\\", \\\"gender\\\": 0, \\\"id\\\": 148593, \\\"name\\\": \\\"Haley Miller\\\", \\\"order\\\": 5}, {\\\"cast_id\\\": 15, \\\"character\\\": \\\"Mr. Henry\\\", \\\"credit_id\\\": \\\"52fe458b9251416c7505a38f\\\", \\\"gender\\\": 2, \\\"id\\\": 3085, \\\"name\\\": \\\"James Caan\\\", \\\"order\\\": 6}, {\\\"cast_id\\\": 29, \\\"character\\\": \\\"Dr. Nichols\\\", \\\"credit_id\\\": \\\"52fe458b9251416c7505a3e1\\\", \\\"gender\\\": 2, \\\"id\\\": 42006, \\\"name\\\": \\\"Ned Dowd\\\", \\\"order\\\": 7}, {\\\"cast_id\\\": 30, \\\"character\\\": \\\"Grace\\\", \\\"credit_id\\\": \\\"52fe458b9251416c7505a3e5\\\", \\\"gender\\\": 0, \\\"id\\\": 1117323, \\\"name\\\": \\\"Shea Fowler\\\", \\\"order\\\": 8}, {\\\"cast_id\\\": 31, \\\"character\\\": \\\"H. Clay Murchison\\\", \\\"credit_id\\\": \\\"52fe458b9251416c7505a3e9\\\", \\\"gender\\\": 0, \\\"id\\\": 1117324, \\\"name\\\": \\\"Brian Tenenbaum\\\", \\\"order\\\": 9}, {\\\"cast_id\\\": 32, \\\"character\\\": \\\"Stacy Sinclair\\\", \\\"credit_id\\\": \\\"52fe458b9251416c7505a3ed\\\", \\\"gender\\\": 0, \\\"id\\\": 955807, \\\"name\\\": \\\"Jenni Tooley\\\", \\\"order\\\": 10}, {\\\"cast_id\\\": 33, \\\"character\\\": \\\"Temple\\\", \\\"credit_id\\\": \\\"52fe458b9251416c7505a3f1\\\", \\\"gender\\\": 0, \\\"id\\\": 1117325, \\\"name\\\": \\\"Temple Nash\\\", \\\"order\\\": 11}]\",\n          \"[{\\\"cast_id\\\": 1, \\\"character\\\": \\\"Raya Green\\\", \\\"credit_id\\\": \\\"52fe46fb9251416c7508a0c5\\\", \\\"gender\\\": 1, \\\"id\\\": 210773, \\\"name\\\": \\\"Rutina Wesley\\\", \\\"order\\\": 0}, {\\\"cast_id\\\": 2, \\\"character\\\": \\\"Bishop\\\", \\\"credit_id\\\": \\\"52fe46fb9251416c7508a0c9\\\", \\\"gender\\\": 2, \\\"id\\\": 80968, \\\"name\\\": \\\"Dwain Murphy\\\", \\\"order\\\": 1}, {\\\"cast_id\\\": 5, \\\"character\\\": \\\"Mike Evens\\\", \\\"credit_id\\\": \\\"52fe46fb9251416c7508a0d9\\\", \\\"gender\\\": 2, \\\"id\\\": 20196, \\\"name\\\": \\\"Boyd Banks\\\", \\\"order\\\": 2}, {\\\"cast_id\\\": 6, \\\"character\\\": \\\"Garvey\\\", \\\"credit_id\\\": \\\"52fe46fb9251416c7508a0dd\\\", \\\"gender\\\": 2, \\\"id\\\": 957076, \\\"name\\\": \\\"Cl\\\\u00e9 Bennett\\\", \\\"order\\\": 3}, {\\\"cast_id\\\": 7, \\\"character\\\": \\\"Tall Girl in Bathroom\\\", \\\"credit_id\\\": \\\"554c40dd925141400b000a24\\\", \\\"gender\\\": 1, \\\"id\\\": 19961, \\\"name\\\": \\\"Nina Dobrev\\\", \\\"order\\\": 4}, {\\\"cast_id\\\": 17, \\\"character\\\": \\\"Manny\\\", \\\"credit_id\\\": \\\"592b2753c3a36877df0692a7\\\", \\\"gender\\\": 2, \\\"id\\\": 1015568, \\\"name\\\": \\\"Tristan D. Lalla\\\", \\\"order\\\": 5}, {\\\"cast_id\\\": 18, \\\"character\\\": \\\"Trey\\\", \\\"credit_id\\\": \\\"59375beb92514172fb003523\\\", \\\"gender\\\": 2, \\\"id\\\": 1457035, \\\"name\\\": \\\"Shawn Desman\\\", \\\"order\\\": 6}, {\\\"cast_id\\\": 19, \\\"character\\\": \\\"Selia\\\", \\\"credit_id\\\": \\\"59375c33c3a36872cb003538\\\", \\\"gender\\\": 1, \\\"id\\\": 1228290, \\\"name\\\": \\\"Romina D'Ugo\\\", \\\"order\\\": 7}]\",\n          \"[{\\\"cast_id\\\": 1, \\\"character\\\": \\\"Sonny Weaver Jr.\\\", \\\"credit_id\\\": \\\"52fe4c88c3a368484e1bb41b\\\", \\\"gender\\\": 2, \\\"id\\\": 1269, \\\"name\\\": \\\"Kevin Costner\\\", \\\"order\\\": 0}, {\\\"cast_id\\\": 2, \\\"character\\\": \\\"Ali\\\", \\\"credit_id\\\": \\\"52fe4c88c3a368484e1bb41f\\\", \\\"gender\\\": 1, \\\"id\\\": 9278, \\\"name\\\": \\\"Jennifer Garner\\\", \\\"order\\\": 1}, {\\\"cast_id\\\": 3, \\\"character\\\": \\\"Brian Drew\\\", \\\"credit_id\\\": \\\"52fe4c88c3a368484e1bb423\\\", \\\"gender\\\": 2, \\\"id\\\": 11824, \\\"name\\\": \\\"Tom Welling\\\", \\\"order\\\": 2}, {\\\"cast_id\\\": 4, \\\"character\\\": \\\"\\\", \\\"credit_id\\\": \\\"52fe4c88c3a368484e1bb427\\\", \\\"gender\\\": 2, \\\"id\\\": 16431, \\\"name\\\": \\\"Sam Elliott\\\", \\\"order\\\": 3}, {\\\"cast_id\\\": 5, \\\"character\\\": \\\"Earl Jennings\\\", \\\"credit_id\\\": \\\"52fe4c88c3a368484e1bb42b\\\", \\\"gender\\\": 2, \\\"id\\\": 53256, \\\"name\\\": \\\"Terry Crews\\\", \\\"order\\\": 4}, {\\\"cast_id\\\": 6, \\\"character\\\": \\\"Barb Weaver\\\", \\\"credit_id\\\": \\\"52fe4c88c3a368484e1bb42f\\\", \\\"gender\\\": 1, \\\"id\\\": 9560, \\\"name\\\": \\\"Ellen Burstyn\\\", \\\"order\\\": 5}, {\\\"cast_id\\\": 7, \\\"character\\\": \\\"Angie\\\", \\\"credit_id\\\": \\\"52fe4c88c3a368484e1bb433\\\", \\\"gender\\\": 1, \\\"id\\\": 2165, \\\"name\\\": \\\"Rosanna Arquette\\\", \\\"order\\\": 6}, {\\\"cast_id\\\": 8, \\\"character\\\": \\\"Harvey Molina\\\", \\\"credit_id\\\": \\\"52fe4c88c3a368484e1bb437\\\", \\\"gender\\\": 2, \\\"id\\\": 8924, \\\"name\\\": \\\"Frank Langella\\\", \\\"order\\\": 7}, {\\\"cast_id\\\": 9, \\\"character\\\": \\\"Walt Gordon\\\", \\\"credit_id\\\": \\\"52fe4c88c3a368484e1bb43b\\\", \\\"gender\\\": 2, \\\"id\\\": 8687, \\\"name\\\": \\\"Chi McBride\\\", \\\"order\\\": 8}, {\\\"cast_id\\\": 10, \\\"character\\\": \\\"Vince Penn\\\", \\\"credit_id\\\": \\\"52fe4c88c3a368484e1bb43f\\\", \\\"gender\\\": 2, \\\"id\\\": 5724, \\\"name\\\": \\\"Denis Leary\\\", \\\"order\\\": 9}, {\\\"cast_id\\\": 11, \\\"character\\\": \\\"Tom Michaels\\\", \\\"credit_id\\\": \\\"52fe4c88c3a368484e1bb443\\\", \\\"gender\\\": 0, \\\"id\\\": 117437, \\\"name\\\": \\\"Patrick St. Esprit\\\", \\\"order\\\": 10}, {\\\"cast_id\\\": 12, \\\"character\\\": \\\"Max Stone\\\", \\\"credit_id\\\": \\\"52fe4c88c3a368484e1bb447\\\", \\\"gender\\\": 2, \\\"id\\\": 20379, \\\"name\\\": \\\"Christopher Cousins\\\", \\\"order\\\": 11}, {\\\"cast_id\\\": 13, \\\"character\\\": \\\"Vontae Mack\\\", \\\"credit_id\\\": \\\"52fe4c88c3a368484e1bb44b\\\", \\\"gender\\\": 2, \\\"id\\\": 172069, \\\"name\\\": \\\"Chadwick Boseman\\\", \\\"order\\\": 12}, {\\\"cast_id\\\": 14, \\\"character\\\": \\\"O'Reilly\\\", \\\"credit_id\\\": \\\"52fe4c88c3a368484e1bb44f\\\", \\\"gender\\\": 2, \\\"id\\\": 51930, \\\"name\\\": \\\"Wade Williams\\\", \\\"order\\\": 13}, {\\\"cast_id\\\": 15, \\\"character\\\": \\\"Ralph Mowry\\\", \\\"credit_id\\\": \\\"52fe4c88c3a368484e1bb453\\\", \\\"gender\\\": 2, \\\"id\\\": 6951, \\\"name\\\": \\\"W. Earl Brown\\\", \\\"order\\\": 14}, {\\\"cast_id\\\": 16, \\\"character\\\": \\\"Marvin\\\", \\\"credit_id\\\": \\\"52fe4c88c3a368484e1bb457\\\", \\\"gender\\\": 0, \\\"id\\\": 14721, \\\"name\\\": \\\"Kevin Dunn\\\", \\\"order\\\": 15}, {\\\"cast_id\\\": 17, \\\"character\\\": \\\"NFL Commissioner\\\", \\\"credit_id\\\": \\\"52fe4c88c3a368484e1bb45b\\\", \\\"gender\\\": 2, \\\"id\\\": 10138, \\\"name\\\": \\\"Brian Haley\\\", \\\"order\\\": 16}, {\\\"cast_id\\\": 21, \\\"character\\\": \\\"Rick the Intern\\\", \\\"credit_id\\\": \\\"5359c78ac3a3684790000b94\\\", \\\"gender\\\": 0, \\\"id\\\": 225377, \\\"name\\\": \\\"Griffin Newman\\\", \\\"order\\\": 17}, {\\\"cast_id\\\": 43, \\\"character\\\": \\\"Party Guest (uncredited)\\\", \\\"credit_id\\\": \\\"55549912c3a3682080002807\\\", \\\"gender\\\": 1, \\\"id\\\": 1376001, \\\"name\\\": \\\"Tina Grimm\\\", \\\"order\\\": 18}]\"\n        ],\n        \"semantic_type\": \"\",\n        \"description\": \"\"\n      }\n    },\n    {\n      \"column\": \"crew\",\n      \"properties\": {\n        \"dtype\": \"string\",\n        \"num_unique_values\": 4591,\n        \"samples\": [\n          \"[{\\\"credit_id\\\": \\\"52fe471a9251416c9106a171\\\", \\\"department\\\": \\\"Production\\\", \\\"gender\\\": 2, \\\"id\\\": 380, \\\"job\\\": \\\"Producer\\\", \\\"name\\\": \\\"Robert De Niro\\\"}, {\\\"credit_id\\\": \\\"52fe471a9251416c9106a165\\\", \\\"department\\\": \\\"Crew\\\", \\\"gender\\\": 2, \\\"id\\\": 1251, \\\"job\\\": \\\"Cinematography\\\", \\\"name\\\": \\\"Remi Adefarasin\\\"}, {\\\"credit_id\\\": \\\"52fe471a9251416c9106a115\\\", \\\"department\\\": \\\"Directing\\\", \\\"gender\\\": 2, \\\"id\\\": 3289, \\\"job\\\": \\\"Director\\\", \\\"name\\\": \\\"Paul Weitz\\\"}, {\\\"credit_id\\\": \\\"52fe471a9251416c9106a16b\\\", \\\"department\\\": \\\"Production\\\", \\\"gender\\\": 1, \\\"id\\\": 3305, \\\"job\\\": \\\"Producer\\\", \\\"name\\\": \\\"Jane Rosenthal\\\"}, {\\\"credit_id\\\": \\\"52fe471a9251416c9106a177\\\", \\\"department\\\": \\\"Production\\\", \\\"gender\\\": 2, \\\"id\\\": 6737, \\\"job\\\": \\\"Producer\\\", \\\"name\\\": \\\"Jay Roach\\\"}, {\\\"credit_id\\\": \\\"52fe471a9251416c9106a121\\\", \\\"department\\\": \\\"Writing\\\", \\\"gender\\\": 2, \\\"id\\\": 10391, \\\"job\\\": \\\"Writer\\\", \\\"name\\\": \\\"Larry Stuckey\\\"}, {\\\"credit_id\\\": \\\"52fe471a9251416c9106a11b\\\", \\\"department\\\": \\\"Writing\\\", \\\"gender\\\": 2, \\\"id\\\": 17871, \\\"job\\\": \\\"Writer\\\", \\\"name\\\": \\\"John Hamburg\\\"}, {\\\"credit_id\\\": \\\"52fe471a9251416c9106a17d\\\", \\\"department\\\": \\\"Production\\\", \\\"gender\\\": 2, \\\"id\\\": 17871, \\\"job\\\": \\\"Producer\\\", \\\"name\\\": \\\"John Hamburg\\\"}, {\\\"credit_id\\\": \\\"52fe471a9251416c9106a15f\\\", \\\"department\\\": \\\"Sound\\\", \\\"gender\\\": 2, \\\"id\\\": 21266, \\\"job\\\": \\\"Music\\\", \\\"name\\\": \\\"Stephen Trask\\\"}]\",\n          \"[{\\\"credit_id\\\": \\\"52fe4480c3a368484e026c51\\\", \\\"department\\\": \\\"Costume & Make-Up\\\", \\\"gender\\\": 0, \\\"id\\\": 557, \\\"job\\\": \\\"Costume Design\\\", \\\"name\\\": \\\"Colleen Atwood\\\"}, {\\\"credit_id\\\": \\\"584dc203c3a3683224002a05\\\", \\\"department\\\": \\\"Sound\\\", \\\"gender\\\": 2, \\\"id\\\": 1213, \\\"job\\\": \\\"Music\\\", \\\"name\\\": \\\"James Newton Howard\\\"}, {\\\"credit_id\\\": \\\"584dc27a92514118e70025d4\\\", \\\"department\\\": \\\"Editing\\\", \\\"gender\\\": 2, \\\"id\\\": 2241, \\\"job\\\": \\\"Editor\\\", \\\"name\\\": \\\"William Steinkamp\\\"}, {\\\"credit_id\\\": \\\"584dc1d192514118e00024a8\\\", \\\"department\\\": \\\"Production\\\", \\\"gender\\\": 2, \\\"id\\\": 2243, \\\"job\\\": \\\"Producer\\\", \\\"name\\\": \\\"Jon Hutman\\\"}, {\\\"credit_id\\\": \\\"52fe4480c3a368484e026c05\\\", \\\"department\\\": \\\"Directing\\\", \\\"gender\\\": 2, \\\"id\\\": 8844, \\\"job\\\": \\\"Director\\\", \\\"name\\\": \\\"Lawrence Kasdan\\\"}, {\\\"credit_id\\\": \\\"52fe4480c3a368484e026c0b\\\", \\\"department\\\": \\\"Writing\\\", \\\"gender\\\": 2, \\\"id\\\": 8844, \\\"job\\\": \\\"Writer\\\", \\\"name\\\": \\\"Lawrence Kasdan\\\"}, {\\\"credit_id\\\": \\\"584dc1e492514118e7002536\\\", \\\"department\\\": \\\"Production\\\", \\\"gender\\\": 2, \\\"id\\\": 8844, \\\"job\\\": \\\"Producer\\\", \\\"name\\\": \\\"Lawrence Kasdan\\\"}, {\\\"credit_id\\\": \\\"584dc1f392514118e90025b3\\\", \\\"department\\\": \\\"Production\\\", \\\"gender\\\": 2, \\\"id\\\": 16329, \\\"job\\\": \\\"Producer\\\", \\\"name\\\": \\\"Charles Okun\\\"}, {\\\"credit_id\\\": \\\"584dc22e92514118f00026a1\\\", \\\"department\\\": \\\"Editing\\\", \\\"gender\\\": 0, \\\"id\\\": 9966, \\\"job\\\": \\\"Editor\\\", \\\"name\\\": \\\"Carol Littleton\\\"}, {\\\"credit_id\\\": \\\"584dc21f92514118e40026c8\\\", \\\"department\\\": \\\"Crew\\\", \\\"gender\\\": 2, \\\"id\\\": 21673, \\\"job\\\": \\\"Cinematography\\\", \\\"name\\\": \\\"Ericson Core\\\"}, {\\\"credit_id\\\": \\\"584dc1be92514118e700250e\\\", \\\"department\\\": \\\"Production\\\", \\\"gender\\\": 0, \\\"id\\\": 1033793, \\\"job\\\": \\\"Producer\\\", \\\"name\\\": \\\"Linda Goldstein Knowlton\\\"}, {\\\"credit_id\\\": \\\"584dc1a392514118f000261c\\\", \\\"department\\\": \\\"Production\\\", \\\"gender\\\": 0, \\\"id\\\": 1193336, \\\"job\\\": \\\"Producer\\\", \\\"name\\\": \\\"Stephen P. Dunn\\\"}]\",\n          \"[{\\\"credit_id\\\": \\\"5561ac71c3a3682206001955\\\", \\\"department\\\": \\\"Production\\\", \\\"gender\\\": 1, \\\"id\\\": 2952, \\\"job\\\": \\\"Casting\\\", \\\"name\\\": \\\"Avy Kaufman\\\"}, {\\\"credit_id\\\": \\\"52fe43419251416c75009729\\\", \\\"department\\\": \\\"Writing\\\", \\\"gender\\\": 2, \\\"id\\\": 2088, \\\"job\\\": \\\"Novel\\\", \\\"name\\\": \\\"Jules Verne\\\"}, {\\\"credit_id\\\": \\\"52fe43419251416c75009747\\\", \\\"department\\\": \\\"Production\\\", \\\"gender\\\": 0, \\\"id\\\": 7227, \\\"job\\\": \\\"Producer\\\", \\\"name\\\": \\\"Hal Lieberman\\\"}, {\\\"credit_id\\\": \\\"55a677b492514142d5000022\\\", \\\"department\\\": \\\"Costume & Make-Up\\\", \\\"gender\\\": 1, \\\"id\\\": 6688, \\\"job\\\": \\\"Costume Design\\\", \\\"name\\\": \\\"Anna B. Sheppard\\\"}, {\\\"credit_id\\\": \\\"52fe43419251416c7500974d\\\", \\\"department\\\": \\\"Sound\\\", \\\"gender\\\": 0, \\\"id\\\": 7020, \\\"job\\\": \\\"Original Music Composer\\\", \\\"name\\\": \\\"Trevor Jones\\\"}, {\\\"credit_id\\\": \\\"52fe43419251416c75009759\\\", \\\"department\\\": \\\"Camera\\\", \\\"gender\\\": 0, \\\"id\\\": 10709, \\\"job\\\": \\\"Director of Photography\\\", \\\"name\\\": \\\"Phil Meheux\\\"}, {\\\"credit_id\\\": \\\"556a50ddc3a36824e7000050\\\", \\\"department\\\": \\\"Production\\\", \\\"gender\\\": 0, \\\"id\\\": 10903, \\\"job\\\": \\\"Co-Producer\\\", \\\"name\\\": \\\"Henning Molfenter\\\"}, {\\\"credit_id\\\": \\\"5724e6ac9251411d090001e0\\\", \\\"department\\\": \\\"Art\\\", \\\"gender\\\": 0, \\\"id\\\": 11272, \\\"job\\\": \\\"Set Designer\\\", \\\"name\\\": \\\"Marco Bittner Rosser\\\"}, {\\\"credit_id\\\": \\\"5724e5e292514155c3003574\\\", \\\"department\\\": \\\"Art\\\", \\\"gender\\\": 1, \\\"id\\\": 11273, \\\"job\\\": \\\"Assistant Art Director\\\", \\\"name\\\": \\\"Sarah Horton\\\"}, {\\\"credit_id\\\": \\\"5561acfc9251417e5100876c\\\", \\\"department\\\": \\\"Art\\\", \\\"gender\\\": 2, \\\"id\\\": 11274, \\\"job\\\": \\\"Art Direction\\\", \\\"name\\\": \\\"Sebastian T. Krawinkel\\\"}, {\\\"credit_id\\\": \\\"57250a4dc3a368423a002779\\\", \\\"department\\\": \\\"Crew\\\", \\\"gender\\\": 2, \\\"id\\\": 40747, \\\"job\\\": \\\"Second Unit Cinematographer\\\", \\\"name\\\": \\\"Harvey Harrison\\\"}, {\\\"credit_id\\\": \\\"5561ad60c3a3682206001973\\\", \\\"department\\\": \\\"Art\\\", \\\"gender\\\": 0, \\\"id\\\": 40754, \\\"job\\\": \\\"Art Department Coordinator\\\", \\\"name\\\": \\\"Roxy Konrad\\\"}, {\\\"credit_id\\\": \\\"5724e67b92514155c300358e\\\", \\\"department\\\": \\\"Art\\\", \\\"gender\\\": 0, \\\"id\\\": 40757, \\\"job\\\": \\\"Production Illustrator\\\", \\\"name\\\": \\\"Peter Popken\\\"}, {\\\"credit_id\\\": \\\"5725242692514177440000b3\\\", \\\"department\\\": \\\"Writing\\\", \\\"gender\\\": 0, \\\"id\\\": 40759, \\\"job\\\": \\\"Storyboard\\\", \\\"name\\\": \\\"Axel Eichhorst\\\"}, {\\\"credit_id\\\": \\\"57250a089251416df9001e33\\\", \\\"department\\\": \\\"Crew\\\", \\\"gender\\\": 0, \\\"id\\\": 40764, \\\"job\\\": \\\"Property Master\\\", \\\"name\\\": \\\"Axel Kahnt\\\"}, {\\\"credit_id\\\": \\\"57250d27c3a368305a001394\\\", \\\"department\\\": \\\"Lighting\\\", \\\"gender\\\": 0, \\\"id\\\": 40778, \\\"job\\\": \\\"Gaffer\\\", \\\"name\\\": \\\"Albrecht Silberberger\\\"}, {\\\"credit_id\\\": \\\"57250cd9c3a368423a0027da\\\", \\\"department\\\": \\\"Lighting\\\", \\\"gender\\\": 0, \\\"id\\\": 40779, \\\"job\\\": \\\"Best Boy Electric\\\", \\\"name\\\": \\\"Roland Patzelt\\\"}, {\\\"credit_id\\\": \\\"57250cfc9251411d090007d6\\\", \\\"department\\\": \\\"Lighting\\\", \\\"gender\\\": 0, \\\"id\\\": 40786, \\\"job\\\": \\\"Electrician\\\", \\\"name\\\": \\\"Axel Scholz\\\"}, {\\\"credit_id\\\": \\\"57250d84c3a36836a9000566\\\", \\\"department\\\": \\\"Lighting\\\", \\\"gender\\\": 0, \\\"id\\\": 40789, \\\"job\\\": \\\"Rigging Gaffer\\\", \\\"name\\\": \\\"Dietmar Haupt\\\"}, {\\\"credit_id\\\": \\\"5724eb59c3a3682d24006a3d\\\", \\\"department\\\": \\\"Camera\\\", \\\"gender\\\": 0, \\\"id\\\": 40796, \\\"job\\\": \\\"Still Photographer\\\", \\\"name\\\": \\\"David Appleby\\\"}, {\\\"credit_id\\\": \\\"57250e0fc3a36836a900058d\\\", \\\"department\\\": \\\"Production\\\", \\\"gender\\\": 0, \\\"id\\\": 40830, \\\"job\\\": \\\"Location Manager\\\", \\\"name\\\": \\\"Markus Bensch\\\"}, {\\\"credit_id\\\": \\\"57250e27c3a3681720000807\\\", \\\"department\\\": \\\"Production\\\", \\\"gender\\\": 0, \\\"id\\\": 40846, \\\"job\\\": \\\"Production Accountant\\\", \\\"name\\\": \\\"Neil Chaplin\\\"}, {\\\"credit_id\\\": \\\"5970c3a1c3a368551d00079d\\\", \\\"department\\\": \\\"Sound\\\", \\\"gender\\\": 2, \\\"id\\\": 16368, \\\"job\\\": \\\"Music Programmer\\\", \\\"name\\\": \\\"Steven Price\\\"}, {\\\"credit_id\\\": \\\"5561ac98c3a36820c60017ac\\\", \\\"department\\\": \\\"Art\\\", \\\"gender\\\": 0, \\\"id\\\": 23453, \\\"job\\\": \\\"Art Direction\\\", \\\"name\\\": \\\"Robert Cowper\\\"}, {\\\"credit_id\\\": \\\"556a508ec3a368254b000050\\\", \\\"department\\\": \\\"Production\\\", \\\"gender\\\": 2, \\\"id\\\": 18897, \\\"job\\\": \\\"Executive Producer\\\", \\\"name\\\": \\\"Jackie Chan\\\"}, {\\\"credit_id\\\": \\\"556a50e7c3a368254b000064\\\", \\\"department\\\": \\\"Production\\\", \\\"gender\\\": 0, \\\"id\\\": 19619, \\\"job\\\": \\\"Co-Producer\\\", \\\"name\\\": \\\"Thierry Potok\\\"}, {\\\"credit_id\\\": \\\"5561ac8592514179ca000611\\\", \\\"department\\\": \\\"Art\\\", \\\"gender\\\": 2, \\\"id\\\": 20824, \\\"job\\\": \\\"Production Design\\\", \\\"name\\\": \\\"Perry Andelin Blake\\\"}, {\\\"credit_id\\\": \\\"52fe43419251416c7500975f\\\", \\\"department\\\": \\\"Editing\\\", \\\"gender\\\": 2, \\\"id\\\": 21223, \\\"job\\\": \\\"Editor\\\", \\\"name\\\": \\\"Tom Lewis\\\"}, {\\\"credit_id\\\": \\\"52fe43419251416c75009741\\\", \\\"department\\\": \\\"Production\\\", \\\"gender\\\": 2, \\\"id\\\": 35510, \\\"job\\\": \\\"Producer\\\", \\\"name\\\": \\\"Bill Badalato\\\"}, {\\\"credit_id\\\": \\\"5561ad109251417e51008771\\\", \\\"department\\\": \\\"Art\\\", \\\"gender\\\": 0, \\\"id\\\": 35166, \\\"job\\\": \\\"Art Direction\\\", \\\"name\\\": \\\"Pat Tagliaferro\\\"}, {\\\"credit_id\\\": \\\"5561ad2a9251417e51008775\\\", \\\"department\\\": \\\"Art\\\", \\\"gender\\\": 0, \\\"id\\\": 41336, \\\"job\\\": \\\"Set Decoration\\\", \\\"name\\\": \\\"Jille Azis\\\"}, {\\\"credit_id\\\": \\\"556a50989251416afc002592\\\", \\\"department\\\": \\\"Production\\\", \\\"gender\\\": 2, \\\"id\\\": 56719, \\\"job\\\": \\\"Executive Producer\\\", \\\"name\\\": \\\"Willie Chan\\\"}, {\\\"credit_id\\\": \\\"556a5108c3a36824e7000059\\\", \\\"department\\\": \\\"Production\\\", \\\"gender\\\": 0, \\\"id\\\": 56720, \\\"job\\\": \\\"Executive Producer\\\", \\\"name\\\": \\\"Solon So\\\"}, {\\\"credit_id\\\": \\\"52fe43419251416c75009753\\\", \\\"department\\\": \\\"Sound\\\", \\\"gender\\\": 2, \\\"id\\\": 57124, \\\"job\\\": \\\"Original Music Composer\\\", \\\"name\\\": \\\"David A. Stewart\\\"}, {\\\"credit_id\\\": \\\"52fe43419251416c75009723\\\", \\\"department\\\": \\\"Directing\\\", \\\"gender\\\": 2, \\\"id\\\": 57370, \\\"job\\\": \\\"Director\\\", \\\"name\\\": \\\"Frank Coraci\\\"}, {\\\"credit_id\\\": \\\"556a50a39251416b0a002854\\\", \\\"department\\\": \\\"Production\\\", \\\"gender\\\": 2, \\\"id\\\": 59003, \\\"job\\\": \\\"Co-Executive Producer\\\", \\\"name\\\": \\\"Jeff Geoffray\\\"}, {\\\"credit_id\\\": \\\"556a50bac3a368273b000027\\\", \\\"department\\\": \\\"Production\\\", \\\"gender\\\": 2, \\\"id\\\": 59004, \\\"job\\\": \\\"Co-Executive Producer\\\", \\\"name\\\": \\\"Walter Josten\\\"}, {\\\"credit_id\\\": \\\"52fe43419251416c7500972f\\\", \\\"department\\\": \\\"Writing\\\", \\\"gender\\\": 0, \\\"id\\\": 64157, \\\"job\\\": \\\"Screenplay\\\", \\\"name\\\": \\\"David N. Titcher\\\"}, {\\\"credit_id\\\": \\\"52fe43419251416c75009735\\\", \\\"department\\\": \\\"Writing\\\", \\\"gender\\\": 2, \\\"id\\\": 64158, \\\"job\\\": \\\"Screenplay\\\", \\\"name\\\": \\\"David Benullo\\\"}, {\\\"credit_id\\\": \\\"52fe43419251416c7500973b\\\", \\\"department\\\": \\\"Writing\\\", \\\"gender\\\": 2, \\\"id\\\": 64159, \\\"job\\\": \\\"Screenplay\\\", \\\"name\\\": \\\"David Andrew Goldstein\\\"}, {\\\"credit_id\\\": \\\"5970c0459251414fde002ad5\\\", \\\"department\\\": \\\"Directing\\\", \\\"gender\\\": 2, \\\"id\\\": 65610, \\\"job\\\": \\\"Third Assistant Director\\\", \\\"name\\\": \\\"Paul Goldsmith\\\"}, {\\\"credit_id\\\": \\\"572521d39251417744000071\\\", \\\"department\\\": \\\"Sound\\\", \\\"gender\\\": 2, \\\"id\\\": 69325, \\\"job\\\": \\\"Sound Mixer\\\", \\\"name\\\": \\\"Frank Heidbrink\\\"}, {\\\"credit_id\\\": \\\"57252146c3a3681720000aa8\\\", \\\"department\\\": \\\"Sound\\\", \\\"gender\\\": 0, \\\"id\\\": 91882, \\\"job\\\": \\\"Sound Editor\\\", \\\"name\\\": \\\"Tony Currie\\\"}, {\\\"credit_id\\\": \\\"556a508192514154080010e8\\\", \\\"department\\\": \\\"Production\\\", \\\"gender\\\": 0, \\\"id\\\": 117214, \\\"job\\\": \\\"Associate Producer\\\", \\\"name\\\": \\\"Stephen Barker\\\"}, {\\\"credit_id\\\": \\\"59916f5092514143a000c503\\\", \\\"department\\\": \\\"Sound\\\", \\\"gender\\\": 0, \\\"id\\\": 117229, \\\"job\\\": \\\"Sound Designer\\\", \\\"name\\\": \\\"Nick Adams\\\"}, {\\\"credit_id\\\": \\\"556a50d1c3a36824e700004a\\\", \\\"department\\\": \\\"Production\\\", \\\"gender\\\": 0, \\\"id\\\": 148886, \\\"job\\\": \\\"Associate Producer\\\", \\\"name\\\": \\\"Alex Man Chi-Leung\\\"}, {\\\"credit_id\\\": \\\"572521ffc3a3685ac1001063\\\", \\\"department\\\": \\\"Sound\\\", \\\"gender\\\": 0, \\\"id\\\": 570124, \\\"job\\\": \\\"Sound Re-Recording Mixer\\\", \\\"name\\\": \\\"Graham Daniel\\\"}, {\\\"credit_id\\\": \\\"57250ba4c3a368305a00133e\\\", \\\"department\\\": \\\"Crew\\\", \\\"gender\\\": 0, \\\"id\\\": 571434, \\\"job\\\": \\\"Visual Effects Editor\\\", \\\"name\\\": \\\"Sav Aky\\\\u00fcz\\\"}, {\\\"credit_id\\\": \\\"57252245c3a3681720000ace\\\", \\\"department\\\": \\\"Sound\\\", \\\"gender\\\": 2, \\\"id\\\": 957581, \\\"job\\\": \\\"Supervising Sound Editor\\\", \\\"name\\\": \\\"Patrick Dodd\\\"}, {\\\"credit_id\\\": \\\"572524ddc3a368423a002abd\\\", \\\"department\\\": \\\"Production\\\", \\\"gender\\\": 0, \\\"id\\\": 993814, \\\"job\\\": \\\"Unit Manager\\\", \\\"name\\\": \\\"Jie Cheng\\\"}, {\\\"credit_id\\\": \\\"556a5111c3a36826f8000041\\\", \\\"department\\\": \\\"Production\\\", \\\"gender\\\": 0, \\\"id\\\": 1127909, \\\"job\\\": \\\"Line Producer\\\", \\\"name\\\": \\\"Billy Badalato\\\"}, {\\\"credit_id\\\": \\\"57250dd792514119ed002847\\\", \\\"department\\\": \\\"Production\\\", \\\"gender\\\": 0, \\\"id\\\": 1305945, \\\"job\\\": \\\"Executive In Charge Of Production\\\", \\\"name\\\": \\\"Tom Prince\\\"}, {\\\"credit_id\\\": \\\"570b69e59251417da70031ed\\\", \\\"department\\\": \\\"Art\\\", \\\"gender\\\": 0, \\\"id\\\": 1322138, \\\"job\\\": \\\"Supervising Art Director\\\", \\\"name\\\": \\\"Gary Freeman\\\"}, {\\\"credit_id\\\": \\\"5561ae5bc3a368220600199c\\\", \\\"department\\\": \\\"Costume & Make-Up\\\", \\\"gender\\\": 0, \\\"id\\\": 1331979, \\\"job\\\": \\\"Costume Supervisor\\\", \\\"name\\\": \\\"Brigitte Friedl\\\\u00e4nder-Rodriguez\\\"}, {\\\"credit_id\\\": \\\"55a6776992514142cf00002b\\\", \\\"department\\\": \\\"Production\\\", \\\"gender\\\": 0, \\\"id\\\": 1332509, \\\"job\\\": \\\"Casting\\\", \\\"name\\\": \\\"Annette Borgmann\\\"}, {\\\"credit_id\\\": \\\"5561adf392514179ca00064a\\\", \\\"department\\\": \\\"Art\\\", \\\"gender\\\": 0, \\\"id\\\": 1334493, \\\"job\\\": \\\"Art Department Coordinator\\\", \\\"name\\\": \\\"Sarah Robinson\\\"}, {\\\"credit_id\\\": \\\"5970bf7e9251412d4c0386c4\\\", \\\"department\\\": \\\"Crew\\\", \\\"gender\\\": 0, \\\"id\\\": 1335880, \\\"job\\\": \\\"Digital Effects Producer\\\", \\\"name\\\": \\\"Catherine Duncan\\\"}, {\\\"credit_id\\\": \\\"57250f80c3a3685ac1000e50\\\", \\\"department\\\": \\\"Sound\\\", \\\"gender\\\": 0, \\\"id\\\": 1338287, \\\"job\\\": \\\"Music Editor\\\", \\\"name\\\": \\\"Tony Lewis\\\"}, {\\\"credit_id\\\": \\\"5724eb429251411a140023a2\\\", \\\"department\\\": \\\"Camera\\\", \\\"gender\\\": 0, \\\"id\\\": 1380001, \\\"job\\\": \\\"Steadicam Operator\\\", \\\"name\\\": \\\"Marcus Pohlus\\\"}, {\\\"credit_id\\\": \\\"556a50f2c3a36826f8000038\\\", \\\"department\\\": \\\"Production\\\", \\\"gender\\\": 0, \\\"id\\\": 1387774, \\\"job\\\": \\\"Executive Producer\\\", \\\"name\\\": \\\"Alexander Schwartz\\\"}, {\\\"credit_id\\\": \\\"5970c4409251414fde002f42\\\", \\\"department\\\": \\\"Visual Effects\\\", \\\"gender\\\": 0, \\\"id\\\": 1393015, \\\"job\\\": \\\"Lead Animator\\\", \\\"name\\\": \\\"Joe Ksander\\\"}, {\\\"credit_id\\\": \\\"57250fce9251416df9001f2e\\\", \\\"department\\\": \\\"Sound\\\", \\\"gender\\\": 0, \\\"id\\\": 1393351, \\\"job\\\": \\\"Scoring Mixer\\\", \\\"name\\\": \\\"Simon Rhodes\\\"}, {\\\"credit_id\\\": \\\"57252188c3a3681720000ab6\\\", \\\"department\\\": \\\"Sound\\\", \\\"gender\\\": 2, \\\"id\\\": 1398460, \\\"job\\\": \\\"Sound Effects Editor\\\", \\\"name\\\": \\\"Mark Allen\\\"}, {\\\"credit_id\\\": \\\"57250aa292514118af0029ae\\\", \\\"department\\\": \\\"Crew\\\", \\\"gender\\\": 0, \\\"id\\\": 1398932, \\\"job\\\": \\\"Stunt Coordinator\\\", \\\"name\\\": \\\"Rick Forsayeth\\\"}, {\\\"credit_id\\\": \\\"57250e44c3a368180a000be7\\\", \\\"department\\\": \\\"Production\\\", \\\"gender\\\": 1, \\\"id\\\": 1401354, \\\"job\\\": \\\"Production Coordinator\\\", \\\"name\\\": \\\"Wendy Cox\\\"}, {\\\"credit_id\\\": \\\"5724e5fa9251411d090001ca\\\", \\\"department\\\": \\\"Art\\\", \\\"gender\\\": 0, \\\"id\\\": 1403355, \\\"job\\\": \\\"Leadman\\\", \\\"name\\\": \\\"Sarawut Chincharoen\\\"}, {\\\"credit_id\\\": \\\"5724e6969251411d090001db\\\", \\\"department\\\": \\\"Art\\\", \\\"gender\\\": 2, \\\"id\\\": 1403915, \\\"job\\\": \\\"Sculptor\\\", \\\"name\\\": \\\"Robert Makolies\\\"}, {\\\"credit_id\\\": \\\"5561aea5c3a36868e50089d9\\\", \\\"department\\\": \\\"Crew\\\", \\\"gender\\\": 0, \\\"id\\\": 1404873, \\\"job\\\": \\\"Unit Publicist\\\", \\\"name\\\": \\\"Julia Jones\\\"}, {\\\"credit_id\\\": \\\"5970beb69251416c6701f20f\\\", \\\"department\\\": \\\"Camera\\\", \\\"gender\\\": 0, \\\"id\\\": 1405241, \\\"job\\\": \\\"Aerial Director of Photography\\\", \\\"name\\\": \\\"Adam Dale\\\"}, {\\\"credit_id\\\": \\\"572524acc3a3681720000b1a\\\", \\\"department\\\": \\\"Sound\\\", \\\"gender\\\": 0, \\\"id\\\": 1411085, \\\"job\\\": \\\"Dolby Consultant\\\", \\\"name\\\": \\\"Chris Sturmer\\\"}, {\\\"credit_id\\\": \\\"57250c949251411d090007c7\\\", \\\"department\\\": \\\"Editing\\\", \\\"gender\\\": 0, \\\"id\\\": 1413041, \\\"job\\\": \\\"First Assistant Editor\\\", \\\"name\\\": \\\"Keith Mason\\\"}, {\\\"credit_id\\\": \\\"572523ed92514119ed002af1\\\", \\\"department\\\": \\\"Visual Effects\\\", \\\"gender\\\": 0, \\\"id\\\": 1415976, \\\"job\\\": \\\"Visual Effects Producer\\\", \\\"name\\\": \\\"Nick Drew\\\"}, {\\\"credit_id\\\": \\\"57250b53c3a368180a000b46\\\", \\\"department\\\": \\\"Crew\\\", \\\"gender\\\": 0, \\\"id\\\": 1417842, \\\"job\\\": \\\"Transportation Coordinator\\\", \\\"name\\\": \\\"Gary Birmingham\\\"}, {\\\"credit_id\\\": \\\"5724f87cc3a3681c2600045b\\\", \\\"department\\\": \\\"Costume & Make-Up\\\", \\\"gender\\\": 0, \\\"id\\\": 1418124, \\\"job\\\": \\\"Hairstylist\\\", \\\"name\\\": \\\"Kevin Alexander\\\"}, {\\\"credit_id\\\": \\\"5724f83dc3a368423a002520\\\", \\\"department\\\": \\\"Costume & Make-Up\\\", \\\"gender\\\": 1, \\\"id\\\": 1428470, \\\"job\\\": \\\"Hair Designer\\\", \\\"name\\\": \\\"Christine Blundell\\\"}, {\\\"credit_id\\\": \\\"5970bf51c3a3687fc7035bb7\\\", \\\"department\\\": \\\"Costume & Make-Up\\\", \\\"gender\\\": 0, \\\"id\\\": 1430501, \\\"job\\\": \\\"Wardrobe Supervisor\\\", \\\"name\\\": \\\"Daryl Bristow\\\"}, {\\\"credit_id\\\": \\\"5724f8cc92514122a9003fe9\\\", \\\"department\\\": \\\"Costume & Make-Up\\\", \\\"gender\\\": 0, \\\"id\\\": 1433073, \\\"job\\\": \\\"Set Costumer\\\", \\\"name\\\": \\\"Sabine Groh\\\"}, {\\\"credit_id\\\": \\\"5725238292514119ed002ae8\\\", \\\"department\\\": \\\"Visual Effects\\\", \\\"gender\\\": 0, \\\"id\\\": 1437160, \\\"job\\\": \\\"Visual Effects\\\", \\\"name\\\": \\\"Lucy Ainsworth-Taylor\\\"}, {\\\"credit_id\\\": \\\"5725240d92514122a9004578\\\", \\\"department\\\": \\\"Visual Effects\\\", \\\"gender\\\": 0, \\\"id\\\": 1459913, \\\"job\\\": \\\"Visual Effects Supervisor\\\", \\\"name\\\": \\\"Jessica Norman\\\"}, {\\\"credit_id\\\": \\\"5561ad4792514171ab001777\\\", \\\"department\\\": \\\"Art\\\", \\\"gender\\\": 0, \\\"id\\\": 1470177, \\\"job\\\": \\\"Art Department Coordinator\\\", \\\"name\\\": \\\"Randy Bobbitt\\\"}, {\\\"credit_id\\\": \\\"5561ad79925141700800185b\\\", \\\"department\\\": \\\"Art\\\", \\\"gender\\\": 0, \\\"id\\\": 1470178, \\\"job\\\": \\\"Art Department Coordinator\\\", \\\"name\\\": \\\"Araya Nakkate\\\"}, {\\\"credit_id\\\": \\\"5561ae1ec3a368208b00198b\\\", \\\"department\\\": \\\"Art\\\", \\\"gender\\\": 0, \\\"id\\\": 1470180, \\\"job\\\": \\\"Art Department Manager\\\", \\\"name\\\": \\\"Michael D\\\\u00fcwel\\\"}, {\\\"credit_id\\\": \\\"556a5072c3a36824bc00005c\\\", \\\"department\\\": \\\"Production\\\", \\\"gender\\\": 0, \\\"id\\\": 1472325, \\\"job\\\": \\\"Executive Producer\\\", \\\"name\\\": \\\"Phyllis Alia\\\"}, {\\\"credit_id\\\": \\\"556a50aec3a36826f8000025\\\", \\\"department\\\": \\\"Production\\\", \\\"gender\\\": 0, \\\"id\\\": 1472327, \\\"job\\\": \\\"Associate Producer\\\", \\\"name\\\": \\\"Dallas Hartman\\\"}, {\\\"credit_id\\\": \\\"556a50c59251416afc00259c\\\", \\\"department\\\": \\\"Production\\\", \\\"gender\\\": 0, \\\"id\\\": 1472328, \\\"job\\\": \\\"Associate Producer\\\", \\\"name\\\": \\\"Aimee Keen\\\"}, {\\\"credit_id\\\": \\\"556a50fcc3a36825d500004f\\\", \\\"department\\\": \\\"Production\\\", \\\"gender\\\": 0, \\\"id\\\": 1472329, \\\"job\\\": \\\"Executive Producer\\\", \\\"name\\\": \\\"Alexandra Schwartz\\\"}, {\\\"credit_id\\\": \\\"57250db8c3a368305a0013b6\\\", \\\"department\\\": \\\"Production\\\", \\\"gender\\\": 0, \\\"id\\\": 1473182, \\\"job\\\": \\\"Casting Associate\\\", \\\"name\\\": \\\"Elizabeth Greenberg\\\"}, {\\\"credit_id\\\": \\\"55a67784c3a368459e000021\\\", \\\"department\\\": \\\"Production\\\", \\\"gender\\\": 0, \\\"id\\\": 1487555, \\\"job\\\": \\\"Casting\\\", \\\"name\\\": \\\"Raweeporn 'Non' Srimonju\\\"}, {\\\"credit_id\\\": \\\"5724f7b59251411d0900049f\\\", \\\"department\\\": \\\"Costume & Make-Up\\\", \\\"gender\\\": 0, \\\"id\\\": 1487709, \\\"job\\\": \\\"Assistant Costume Designer\\\", \\\"name\\\": \\\"Jane Clive\\\"}, {\\\"credit_id\\\": \\\"5970bf059251417f9d00033f\\\", \\\"department\\\": \\\"Camera\\\", \\\"gender\\\": 0, \\\"id\\\": 1506373, \\\"job\\\": \\\"Grip\\\", \\\"name\\\": \\\"Robert-James Bova\\\"}, {\\\"credit_id\\\": \\\"5970beea9251416c6701f26a\\\", \\\"department\\\": \\\"Camera\\\", \\\"gender\\\": 0, \\\"id\\\": 1535097, \\\"job\\\": \\\"Key Grip\\\", \\\"name\\\": \\\"John Flemming\\\"}, {\\\"credit_id\\\": \\\"5970c34cc3a3686fc7021c86\\\", \\\"department\\\": \\\"Sound\\\", \\\"gender\\\": 0, \\\"id\\\": 1540858, \\\"job\\\": \\\"Foley Editor\\\", \\\"name\\\": \\\"Peter Crooks\\\"}, {\\\"credit_id\\\": \\\"5970c2c6c3a3687128025f8b\\\", \\\"department\\\": \\\"Production\\\", \\\"gender\\\": 0, \\\"id\\\": 1547360, \\\"job\\\": \\\"Casting Assistant\\\", \\\"name\\\": \\\"Cody Beke\\\"}, {\\\"credit_id\\\": \\\"5970be969251417f9d0002a8\\\", \\\"department\\\": \\\"Camera\\\", \\\"gender\\\": 2, \\\"id\\\": 1556948, \\\"job\\\": \\\"Additional Still Photographer\\\", \\\"name\\\": \\\"Bill Kaye\\\"}, {\\\"credit_id\\\": \\\"5724f9c792514155c3003848\\\", \\\"department\\\": \\\"Crew\\\", \\\"gender\\\": 0, \\\"id\\\": 1557578, \\\"job\\\": \\\"Armorer\\\", \\\"name\\\": \\\"Steve Cummings\\\"}, {\\\"credit_id\\\": \\\"57250986c3a3681c2600069f\\\", \\\"department\\\": \\\"Crew\\\", \\\"gender\\\": 0, \\\"id\\\": 1558253, \\\"job\\\": \\\"Post Production Assistant\\\", \\\"name\\\": \\\"Francesca Dodd\\\"}, {\\\"credit_id\\\": \\\"5970ac839251412d3d039e82\\\", \\\"department\\\": \\\"Art\\\", \\\"gender\\\": 0, \\\"id\\\": 1558266, \\\"job\\\": \\\"Set Dresser\\\", \\\"name\\\": \\\"Roman Berger\\\"}, {\\\"credit_id\\\": \\\"5725248492514177440000c3\\\", \\\"department\\\": \\\"Crew\\\", \\\"gender\\\": 0, \\\"id\\\": 1569847, \\\"job\\\": \\\"Digital Producer\\\", \\\"name\\\": \\\"Paula Bonhomme\\\"}, {\\\"credit_id\\\": \\\"5970c2a09251412d3d03b758\\\", \\\"department\\\": \\\"Production\\\", \\\"gender\\\": 0, \\\"id\\\": 1602319, \\\"job\\\": \\\"ADR Voice Casting\\\", \\\"name\\\": \\\"Vanessa Baker\\\"}, {\\\"credit_id\\\": \\\"5725232892514119ed002ae1\\\", \\\"department\\\": \\\"Visual Effects\\\", \\\"gender\\\": 0, \\\"id\\\": 1603859, \\\"job\\\": \\\"Special Effects Supervisor\\\", \\\"name\\\": \\\"John Evans\\\"}, {\\\"credit_id\\\": \\\"57250fb09251411e9f0007a6\\\", \\\"department\\\": \\\"Sound\\\", \\\"gender\\\": 0, \\\"id\\\": 1605893, \\\"job\\\": \\\"Orchestrator\\\", \\\"name\\\": \\\"Geoff Alexander\\\"}, {\\\"credit_id\\\": \\\"5724e5bac3a3681c260000e4\\\", \\\"department\\\": \\\"Art\\\", \\\"gender\\\": 0, \\\"id\\\": 1613199, \\\"job\\\": \\\"Art Department Assistant\\\", \\\"name\\\": \\\"Iris Paschedag\\\"}, {\\\"credit_id\\\": \\\"5724e64fc3a368180a00018e\\\", \\\"department\\\": \\\"Art\\\", \\\"gender\\\": 0, \\\"id\\\": 1613203, \\\"job\\\": \\\"Location Scout\\\", \\\"name\\\": \\\"Brian A. Alexander\\\"}, {\\\"credit_id\\\": \\\"5724ea90c3a368423a002373\\\", \\\"department\\\": \\\"Camera\\\", \\\"gender\\\": 0, \\\"id\\\": 1613212, \\\"job\\\": \\\"First Assistant Camera\\\", \\\"name\\\": \\\"Mark 'Boylee' Boyle\\\"}, {\\\"credit_id\\\": \\\"572508adc3a368305a0012d0\\\", \\\"department\\\": \\\"Crew\\\", \\\"gender\\\": 0, \\\"id\\\": 1613268, \\\"job\\\": \\\"Carpenter\\\", \\\"name\\\": \\\"Jens Gaube\\\"}, {\\\"credit_id\\\": \\\"572508fbc3a3681c26000686\\\", \\\"department\\\": \\\"Crew\\\", \\\"gender\\\": 0, \\\"id\\\": 1613269, \\\"job\\\": \\\"Digital Effects Supervisor\\\", \\\"name\\\": \\\"Simon Haslett\\\"}, {\\\"credit_id\\\": \\\"57250939c3a36836a9000457\\\", \\\"department\\\": \\\"Crew\\\", \\\"gender\\\": 0, \\\"id\\\": 1613270, \\\"job\\\": \\\"Driver\\\", \\\"name\\\": \\\"Maher Abu Mugheisib\\\"}, {\\\"credit_id\\\": \\\"572509e592514155c3003a88\\\", \\\"department\\\": \\\"Crew\\\", \\\"gender\\\": 0, \\\"id\\\": 1613271, \\\"job\\\": \\\"Propmaker\\\", \\\"name\\\": \\\"Gerold Bublak\\\"}, {\\\"credit_id\\\": \\\"57250a749251416df9001e46\\\", \\\"department\\\": \\\"Crew\\\", \\\"gender\\\": 0, \\\"id\\\": 1613272, \\\"job\\\": \\\"Set Production Assistant\\\", \\\"name\\\": \\\"Juliane Walker\\\"}, {\\\"credit_id\\\": \\\"57250a8b92514119ed0027c6\\\", \\\"department\\\": \\\"Crew\\\", \\\"gender\\\": 0, \\\"id\\\": 1613273, \\\"job\\\": \\\"Software Engineer\\\", \\\"name\\\": \\\"Randy McGowan\\\"}, {\\\"credit_id\\\": \\\"57250ad19251411e9f0006fb\\\", \\\"department\\\": \\\"Crew\\\", \\\"gender\\\": 0, \\\"id\\\": 1613274, \\\"job\\\": \\\"Stunts\\\", \\\"name\\\": \\\"Paul Andreovski\\\"}, {\\\"credit_id\\\": \\\"57250b25c3a3682d24006ef3\\\", \\\"department\\\": \\\"Crew\\\", \\\"gender\\\": 0, \\\"id\\\": 1613276, \\\"job\\\": \\\"Systems Administrators & Support\\\", \\\"name\\\": \\\"Peter Guyan\\\"}, {\\\"credit_id\\\": \\\"57250b3ac3a3682d24006efa\\\", \\\"department\\\": \\\"Crew\\\", \\\"gender\\\": 0, \\\"id\\\": 1613277, \\\"job\\\": \\\"Transportation Captain\\\", \\\"name\\\": \\\"Dave Heazlewood\\\"}, {\\\"credit_id\\\": \\\"5970bfd2c3a368551d0003b2\\\", \\\"department\\\": \\\"Directing\\\", \\\"gender\\\": 0, \\\"id\\\": 1613281, \\\"job\\\": \\\"First Assistant Director\\\", \\\"name\\\": \\\"Nick Heckstall-Smith\\\"}, {\\\"credit_id\\\": \\\"57250c2892514122a90042b9\\\", \\\"department\\\": \\\"Editing\\\", \\\"gender\\\": 0, \\\"id\\\": 1613286, \\\"job\\\": \\\"Dialogue Editor\\\", \\\"name\\\": \\\"Philip Alton\\\"}, {\\\"credit_id\\\": \\\"57250c7592514118af0029e1\\\", \\\"department\\\": \\\"Editing\\\", \\\"gender\\\": 0, \\\"id\\\": 1613291, \\\"job\\\": \\\"Digital Intermediate\\\", \\\"name\\\": \\\"Claire McGrane\\\"}, {\\\"credit_id\\\": \\\"57250d3b92514122a90042df\\\", \\\"department\\\": \\\"Lighting\\\", \\\"gender\\\": 0, \\\"id\\\": 1613297, \\\"job\\\": \\\"Lighting Supervisor\\\", \\\"name\\\": \\\"James J. Atkinson\\\"}, {\\\"credit_id\\\": \\\"57250e849251416df9001ef0\\\", \\\"department\\\": \\\"Production\\\", \\\"gender\\\": 0, \\\"id\\\": 1613299, \\\"job\\\": \\\"Production Manager\\\", \\\"name\\\": \\\"Narimon Atibaed\\\"}, {\\\"credit_id\\\": \\\"57250eb59251411d09000828\\\", \\\"department\\\": \\\"Production\\\", \\\"gender\\\": 0, \\\"id\\\": 1613300, \\\"job\\\": \\\"Production Supervisor\\\", \\\"name\\\": \\\"Veerapol Atibaed Billy\\\"}, {\\\"credit_id\\\": \\\"57250ee6c3a3685ac1000e27\\\", \\\"department\\\": \\\"Sound\\\", \\\"gender\\\": 0, \\\"id\\\": 1613301, \\\"job\\\": \\\"Boom Operator\\\", \\\"name\\\": \\\"Simon Firsht\\\"}, {\\\"credit_id\\\": \\\"57250f4fc3a3685ac1000e46\\\", \\\"department\\\": \\\"Sound\\\", \\\"gender\\\": 0, \\\"id\\\": 1613303, \\\"job\\\": \\\"Foley\\\", \\\"name\\\": \\\"Mark Hackett\\\"}, {\\\"credit_id\\\": \\\"5725227c92514119ed002ac9\\\", \\\"department\\\": \\\"Visual Effects\\\", \\\"gender\\\": 0, \\\"id\\\": 1613313, \\\"job\\\": \\\"Digital Compositors\\\", \\\"name\\\": \\\"Henry Badgett\\\"}, {\\\"credit_id\\\": \\\"5725229b925141774400008c\\\", \\\"department\\\": \\\"Visual Effects\\\", \\\"gender\\\": 0, \\\"id\\\": 1613315, \\\"job\\\": \\\"I/O Supervisor\\\", \\\"name\\\": \\\"Sally Bunasawa\\\"}, {\\\"credit_id\\\": \\\"572523d2c3a3682d24007227\\\", \\\"department\\\": \\\"Visual Effects\\\", \\\"gender\\\": 0, \\\"id\\\": 1613316, \\\"job\\\": \\\"Visual Effects Coordinator\\\", \\\"name\\\": \\\"Muriel G\\\\u00e9rard\\\"}, {\\\"credit_id\\\": \\\"572524659251411e9f000a08\\\", \\\"department\\\": \\\"Crew\\\", \\\"gender\\\": 0, \\\"id\\\": 1613318, \\\"job\\\": \\\"Translator\\\", \\\"name\\\": \\\"Anne Badalato\\\"}, {\\\"credit_id\\\": \\\"572524c5c3a36836a9000873\\\", \\\"department\\\": \\\"Visual Effects\\\", \\\"gender\\\": 0, \\\"id\\\": 1613321, \\\"job\\\": \\\"Modeling\\\", \\\"name\\\": \\\"Bradley Sick\\\"}, {\\\"credit_id\\\": \\\"5970bfa5c3a3681593002cce\\\", \\\"department\\\": \\\"Crew\\\", \\\"gender\\\": 0, \\\"id\\\": 1635070, \\\"job\\\": \\\"Marine Coordinator\\\", \\\"name\\\": \\\"Lance Julian\\\"}, {\\\"credit_id\\\": \\\"587e9610c3a36849ff026110\\\", \\\"department\\\": \\\"Directing\\\", \\\"gender\\\": 0, \\\"id\\\": 1740770, \\\"job\\\": \\\"Script Supervisor\\\", \\\"name\\\": \\\"Sam Donovan\\\"}, {\\\"credit_id\\\": \\\"58c3da589251413452002588\\\", \\\"department\\\": \\\"Lighting\\\", \\\"gender\\\": 0, \\\"id\\\": 1774236, \\\"job\\\": \\\"Lighting Technician\\\", \\\"name\\\": \\\"Martin Smith\\\"}, {\\\"credit_id\\\": \\\"5970be7f9251414fde0028db\\\", \\\"department\\\": \\\"Art\\\", \\\"gender\\\": 0, \\\"id\\\": 1855058, \\\"job\\\": \\\"Title Designer\\\", \\\"name\\\": \\\"Micha Klein\\\"}, {\\\"credit_id\\\": \\\"5970c01cc3a3686fc70218a5\\\", \\\"department\\\": \\\"Directing\\\", \\\"gender\\\": 0, \\\"id\\\": 1855062, \\\"job\\\": \\\"Second Assistant Director\\\", \\\"name\\\": \\\"George Walker\\\"}, {\\\"credit_id\\\": \\\"5970c0a0c3a3686f7c01da7b\\\", \\\"department\\\": \\\"Editing\\\", \\\"gender\\\": 0, \\\"id\\\": 1855067, \\\"job\\\": \\\"Negative Cutter\\\", \\\"name\\\": \\\"Jason Wheeler\\\"}, {\\\"credit_id\\\": \\\"5970c3259251412d4c038ac8\\\", \\\"department\\\": \\\"Sound\\\", \\\"gender\\\": 0, \\\"id\\\": 1855076, \\\"job\\\": \\\"Additional Sound Re-Recording Mixer\\\", \\\"name\\\": \\\"Luiz Provin\\\"}, {\\\"credit_id\\\": \\\"5970c36cc3a3687162025e64\\\", \\\"department\\\": \\\"Sound\\\", \\\"gender\\\": 0, \\\"id\\\": 1855084, \\\"job\\\": \\\"Musician\\\", \\\"name\\\": \\\"David Arch\\\"}, {\\\"credit_id\\\": \\\"5970c3f0c3a3681608002d30\\\", \\\"department\\\": \\\"Visual Effects\\\", \\\"gender\\\": 0, \\\"id\\\": 1855087, \\\"job\\\": \\\"2D Supervisor\\\", \\\"name\\\": \\\"Mike Pope\\\"}]\"\n        ],\n        \"semantic_type\": \"\",\n        \"description\": \"\"\n      }\n    }\n  ]\n}"
            }
          },
          "metadata": {},
          "execution_count": 78
        }
      ],
      "source": [
        "movies.head(1)"
      ]
    },
    {
      "cell_type": "code",
      "execution_count": null,
      "metadata": {
        "id": "3nQATV75dKBF"
      },
      "outputs": [],
      "source": [
        "def convert5(obj):\n",
        "  L = []\n",
        "  for i in ast.literal_eval(obj):\n",
        "    L.append(i['name'])\n",
        "    if(len(L)==5):\n",
        "      break\n",
        "  return L"
      ]
    },
    {
      "cell_type": "code",
      "execution_count": null,
      "metadata": {
        "id": "qXX29gsRdw2m"
      },
      "outputs": [],
      "source": [
        "movies['cast'] = movies['cast'].apply(convert5)"
      ]
    },
    {
      "cell_type": "code",
      "execution_count": null,
      "metadata": {
        "colab": {
          "base_uri": "https://localhost:8080/",
          "height": 109
        },
        "id": "R4HfGQS_eGi6",
        "outputId": "5ebddb0f-9e8b-4d76-88b0-084d765f6df8"
      },
      "outputs": [
        {
          "output_type": "execute_result",
          "data": {
            "text/plain": [
              "'[{\"credit_id\": \"52fe420dc3a36847f8000437\", \"department\": \"Directing\", \"gender\": 2, \"id\": 1, \"job\": \"Director\", \"name\": \"George Lucas\"}, {\"credit_id\": \"52fe420dc3a36847f800045b\", \"department\": \"Production\", \"gender\": 2, \"id\": 1, \"job\": \"Executive Producer\", \"name\": \"George Lucas\"}, {\"credit_id\": \"562e75309251414006009955\", \"department\": \"Writing\", \"gender\": 2, \"id\": 1, \"job\": \"Writer\", \"name\": \"George Lucas\"}, {\"credit_id\": \"52fe420dc3a36847f8000461\", \"department\": \"Production\", \"gender\": 2, \"id\": 12401, \"job\": \"Producer\", \"name\": \"Gary Kurtz\"}, {\"credit_id\": \"52fe420dc3a36847f8000467\", \"department\": \"Production\", \"gender\": 0, \"id\": 19801, \"job\": \"Producer\", \"name\": \"Rick McCallum\"}, {\"credit_id\": \"52fe420dc3a36847f800046d\", \"department\": \"Sound\", \"gender\": 2, \"id\": 491, \"job\": \"Original Music Composer\", \"name\": \"John Williams\"}, {\"credit_id\": \"52fe420dc3a36847f8000473\", \"department\": \"Camera\", \"gender\": 2, \"id\": 7753, \"job\": \"Director of Photography\", \"name\": \"Gilbert Taylor\"}, {\"credit_id\": \"56753ec2c3a368168b0023f2\", \"department\": \"Production\", \"gender\": 2, \"id\": 3176, \"job\": \"Casting\", \"name\": \"Vic Ramos\"}, {\"credit_id\": \"56753eb192514179db00265c\", \"department\": \"Production\", \"gender\": 1, \"id\": 390, \"job\": \"Casting\", \"name\": \"Irene Lamb\"}, {\"credit_id\": \"56753f7c92514179e3002598\", \"department\": \"Art\", \"gender\": 2, \"id\": 669, \"job\": \"Art Direction\", \"name\": \"Norman Reynolds\"}, {\"credit_id\": \"56753e8f92514179db002656\", \"department\": \"Editing\", \"gender\": 1, \"id\": 2551, \"job\": \"Editor\", \"name\": \"Marcia Lucas\"}, {\"credit_id\": \"56753ea192514179db00265a\", \"department\": \"Production\", \"gender\": 1, \"id\": 1221, \"job\": \"Casting\", \"name\": \"Dianne Crittenden\"}, {\"credit_id\": \"56753fbdc3a3681689002463\", \"department\": \"Art\", \"gender\": 2, \"id\": 5058, \"job\": \"Set Decoration\", \"name\": \"Roger Christian\"}, {\"credit_id\": \"56753f64c3a368167a00263a\", \"department\": \"Art\", \"gender\": 2, \"id\": 5059, \"job\": \"Art Direction\", \"name\": \"Leslie Dilley\"}, {\"credit_id\": \"56753fd2c3a368168900246d\", \"department\": \"Costume & Make-Up\", \"gender\": 2, \"id\": 5061, \"job\": \"Costume Design\", \"name\": \"John Mollo\"}, {\"credit_id\": \"588fd62c925141019a00dbfa\", \"department\": \"Visual Effects\", \"gender\": 2, \"id\": 7727, \"job\": \"Animation\", \"name\": \"Phil Tippett\"}, {\"credit_id\": \"56753e6cc3a368167c0026b6\", \"department\": \"Editing\", \"gender\": 2, \"id\": 8425, \"job\": \"Editor\", \"name\": \"Richard Chew\"}, {\"credit_id\": \"56753e7ec3a368167c0026ba\", \"department\": \"Editing\", \"gender\": 2, \"id\": 10766, \"job\": \"Editor\", \"name\": \"Paul Hirsch\"}, {\"credit_id\": \"56753f5292514179d20026b3\", \"department\": \"Art\", \"gender\": 2, \"id\": 568911, \"job\": \"Production Design\", \"name\": \"John Barry\"}, {\"credit_id\": \"56e9dfbec3a3682d6f0043c7\", \"department\": \"Visual Effects\", \"gender\": 0, \"id\": 1424133, \"job\": \"Visual Effects\", \"name\": \"Paul Huston\"}]'"
            ],
            "application/vnd.google.colaboratory.intrinsic+json": {
              "type": "string"
            }
          },
          "metadata": {},
          "execution_count": 81
        }
      ],
      "source": [
        "movies.iloc[1].crew"
      ]
    },
    {
      "cell_type": "code",
      "execution_count": null,
      "metadata": {
        "id": "-SSet3M2eJEM"
      },
      "outputs": [],
      "source": [
        "def fetch(obj):\n",
        "  L = []\n",
        "  for i in ast.literal_eval(obj):\n",
        "    if(i['job']=='Director'):\n",
        "      L.append(i['name'])\n",
        "      break\n",
        "  return L"
      ]
    },
    {
      "cell_type": "code",
      "execution_count": null,
      "metadata": {
        "id": "3rQ_oa5ee0AU"
      },
      "outputs": [],
      "source": [
        "movies['crew'] = movies['crew'].apply(fetch)"
      ]
    },
    {
      "cell_type": "code",
      "execution_count": null,
      "metadata": {
        "colab": {
          "base_uri": "https://localhost:8080/",
          "height": 81
        },
        "id": "7rayU5YGe6g2",
        "outputId": "5e67ce31-1e8e-4eef-b893-6edabe52ed29"
      },
      "outputs": [
        {
          "output_type": "execute_result",
          "data": {
            "text/plain": [
              "        title  tmdbId_x           genres  \\\n",
              "0  Four Rooms         5  [Crime, Comedy]   \n",
              "\n",
              "                                            keywords  \\\n",
              "0  [hotel, new year's eve, witch, bet, hotel room...   \n",
              "\n",
              "                                            overview  \\\n",
              "0  It's Ted the Bellhop's first night on the job....   \n",
              "\n",
              "                                                cast              crew  \n",
              "0  [Tim Roth, Antonio Banderas, Jennifer Beals, M...  [Allison Anders]  "
            ],
            "text/html": [
              "\n",
              "  <div id=\"df-4a74578e-3230-4756-8b5f-5224c3e325a3\" class=\"colab-df-container\">\n",
              "    <div>\n",
              "<style scoped>\n",
              "    .dataframe tbody tr th:only-of-type {\n",
              "        vertical-align: middle;\n",
              "    }\n",
              "\n",
              "    .dataframe tbody tr th {\n",
              "        vertical-align: top;\n",
              "    }\n",
              "\n",
              "    .dataframe thead th {\n",
              "        text-align: right;\n",
              "    }\n",
              "</style>\n",
              "<table border=\"1\" class=\"dataframe\">\n",
              "  <thead>\n",
              "    <tr style=\"text-align: right;\">\n",
              "      <th></th>\n",
              "      <th>title</th>\n",
              "      <th>tmdbId_x</th>\n",
              "      <th>genres</th>\n",
              "      <th>keywords</th>\n",
              "      <th>overview</th>\n",
              "      <th>cast</th>\n",
              "      <th>crew</th>\n",
              "    </tr>\n",
              "  </thead>\n",
              "  <tbody>\n",
              "    <tr>\n",
              "      <th>0</th>\n",
              "      <td>Four Rooms</td>\n",
              "      <td>5</td>\n",
              "      <td>[Crime, Comedy]</td>\n",
              "      <td>[hotel, new year's eve, witch, bet, hotel room...</td>\n",
              "      <td>It's Ted the Bellhop's first night on the job....</td>\n",
              "      <td>[Tim Roth, Antonio Banderas, Jennifer Beals, M...</td>\n",
              "      <td>[Allison Anders]</td>\n",
              "    </tr>\n",
              "  </tbody>\n",
              "</table>\n",
              "</div>\n",
              "    <div class=\"colab-df-buttons\">\n",
              "\n",
              "  <div class=\"colab-df-container\">\n",
              "    <button class=\"colab-df-convert\" onclick=\"convertToInteractive('df-4a74578e-3230-4756-8b5f-5224c3e325a3')\"\n",
              "            title=\"Convert this dataframe to an interactive table.\"\n",
              "            style=\"display:none;\">\n",
              "\n",
              "  <svg xmlns=\"http://www.w3.org/2000/svg\" height=\"24px\" viewBox=\"0 -960 960 960\">\n",
              "    <path d=\"M120-120v-720h720v720H120Zm60-500h600v-160H180v160Zm220 220h160v-160H400v160Zm0 220h160v-160H400v160ZM180-400h160v-160H180v160Zm440 0h160v-160H620v160ZM180-180h160v-160H180v160Zm440 0h160v-160H620v160Z\"/>\n",
              "  </svg>\n",
              "    </button>\n",
              "\n",
              "  <style>\n",
              "    .colab-df-container {\n",
              "      display:flex;\n",
              "      gap: 12px;\n",
              "    }\n",
              "\n",
              "    .colab-df-convert {\n",
              "      background-color: #E8F0FE;\n",
              "      border: none;\n",
              "      border-radius: 50%;\n",
              "      cursor: pointer;\n",
              "      display: none;\n",
              "      fill: #1967D2;\n",
              "      height: 32px;\n",
              "      padding: 0 0 0 0;\n",
              "      width: 32px;\n",
              "    }\n",
              "\n",
              "    .colab-df-convert:hover {\n",
              "      background-color: #E2EBFA;\n",
              "      box-shadow: 0px 1px 2px rgba(60, 64, 67, 0.3), 0px 1px 3px 1px rgba(60, 64, 67, 0.15);\n",
              "      fill: #174EA6;\n",
              "    }\n",
              "\n",
              "    .colab-df-buttons div {\n",
              "      margin-bottom: 4px;\n",
              "    }\n",
              "\n",
              "    [theme=dark] .colab-df-convert {\n",
              "      background-color: #3B4455;\n",
              "      fill: #D2E3FC;\n",
              "    }\n",
              "\n",
              "    [theme=dark] .colab-df-convert:hover {\n",
              "      background-color: #434B5C;\n",
              "      box-shadow: 0px 1px 3px 1px rgba(0, 0, 0, 0.15);\n",
              "      filter: drop-shadow(0px 1px 2px rgba(0, 0, 0, 0.3));\n",
              "      fill: #FFFFFF;\n",
              "    }\n",
              "  </style>\n",
              "\n",
              "    <script>\n",
              "      const buttonEl =\n",
              "        document.querySelector('#df-4a74578e-3230-4756-8b5f-5224c3e325a3 button.colab-df-convert');\n",
              "      buttonEl.style.display =\n",
              "        google.colab.kernel.accessAllowed ? 'block' : 'none';\n",
              "\n",
              "      async function convertToInteractive(key) {\n",
              "        const element = document.querySelector('#df-4a74578e-3230-4756-8b5f-5224c3e325a3');\n",
              "        const dataTable =\n",
              "          await google.colab.kernel.invokeFunction('convertToInteractive',\n",
              "                                                    [key], {});\n",
              "        if (!dataTable) return;\n",
              "\n",
              "        const docLinkHtml = 'Like what you see? Visit the ' +\n",
              "          '<a target=\"_blank\" href=https://colab.research.google.com/notebooks/data_table.ipynb>data table notebook</a>'\n",
              "          + ' to learn more about interactive tables.';\n",
              "        element.innerHTML = '';\n",
              "        dataTable['output_type'] = 'display_data';\n",
              "        await google.colab.output.renderOutput(dataTable, element);\n",
              "        const docLink = document.createElement('div');\n",
              "        docLink.innerHTML = docLinkHtml;\n",
              "        element.appendChild(docLink);\n",
              "      }\n",
              "    </script>\n",
              "  </div>\n",
              "\n",
              "\n",
              "    </div>\n",
              "  </div>\n"
            ],
            "application/vnd.google.colaboratory.intrinsic+json": {
              "type": "dataframe",
              "variable_name": "movies",
              "summary": "{\n  \"name\": \"movies\",\n  \"rows\": 4607,\n  \"fields\": [\n    {\n      \"column\": \"title\",\n      \"properties\": {\n        \"dtype\": \"string\",\n        \"num_unique_values\": 4594,\n        \"samples\": [\n          \"RED\",\n          \"Warlock: The Armageddon\",\n          \"Muppets from Space\"\n        ],\n        \"semantic_type\": \"\",\n        \"description\": \"\"\n      }\n    },\n    {\n      \"column\": \"tmdbId_x\",\n      \"properties\": {\n        \"dtype\": \"number\",\n        \"std\": 82463,\n        \"min\": 5,\n        \"max\": 426469,\n        \"num_unique_values\": 4597,\n        \"samples\": [\n          9637,\n          27549,\n          11113\n        ],\n        \"semantic_type\": \"\",\n        \"description\": \"\"\n      }\n    },\n    {\n      \"column\": \"genres\",\n      \"properties\": {\n        \"dtype\": \"object\",\n        \"semantic_type\": \"\",\n        \"description\": \"\"\n      }\n    },\n    {\n      \"column\": \"keywords\",\n      \"properties\": {\n        \"dtype\": \"object\",\n        \"semantic_type\": \"\",\n        \"description\": \"\"\n      }\n    },\n    {\n      \"column\": \"overview\",\n      \"properties\": {\n        \"dtype\": \"string\",\n        \"num_unique_values\": 4597,\n        \"samples\": [\n          \"The Mystery Inc. gang have gone their separate ways and have been apart for two years, until they each receive an invitation to Spooky Island. Not knowing that the others have also been invited, they show up and discover an amusement park that affects young visitors in very strange ways.\",\n          \"Mark Singer returns as Dar, the warrior who can talk to the beasts. Dar is forced to travel to earth to stop his evil brother from stealing an atomic bomb, and turning their native land from a desert into... well... a desert! Written by Jim Palin\",\n          \"A misogynistic and snobbish phonetics professor agrees to a wager that he can take a flower girl and make her presentable in high society.\"\n        ],\n        \"semantic_type\": \"\",\n        \"description\": \"\"\n      }\n    },\n    {\n      \"column\": \"cast\",\n      \"properties\": {\n        \"dtype\": \"object\",\n        \"semantic_type\": \"\",\n        \"description\": \"\"\n      }\n    },\n    {\n      \"column\": \"crew\",\n      \"properties\": {\n        \"dtype\": \"object\",\n        \"semantic_type\": \"\",\n        \"description\": \"\"\n      }\n    }\n  ]\n}"
            }
          },
          "metadata": {},
          "execution_count": 84
        }
      ],
      "source": [
        "movies.head(1)"
      ]
    },
    {
      "cell_type": "code",
      "execution_count": null,
      "metadata": {
        "id": "22Tl_3Pme9sb"
      },
      "outputs": [],
      "source": [
        "movies['overview'] = movies['overview'].apply(lambda x:x.split())"
      ]
    },
    {
      "cell_type": "code",
      "execution_count": null,
      "metadata": {
        "colab": {
          "base_uri": "https://localhost:8080/",
          "height": 81
        },
        "id": "p1u_0Yt9fSpy",
        "outputId": "6185acc0-309a-4e22-aa4c-438cc0640d82"
      },
      "outputs": [
        {
          "output_type": "execute_result",
          "data": {
            "text/plain": [
              "        title  tmdbId_x           genres  \\\n",
              "0  Four Rooms         5  [Crime, Comedy]   \n",
              "\n",
              "                                            keywords  \\\n",
              "0  [hotel, new year's eve, witch, bet, hotel room...   \n",
              "\n",
              "                                            overview  \\\n",
              "0  [It's, Ted, the, Bellhop's, first, night, on, ...   \n",
              "\n",
              "                                                cast              crew  \n",
              "0  [Tim Roth, Antonio Banderas, Jennifer Beals, M...  [Allison Anders]  "
            ],
            "text/html": [
              "\n",
              "  <div id=\"df-458ad1ed-788a-4fc1-b726-1d46b9611931\" class=\"colab-df-container\">\n",
              "    <div>\n",
              "<style scoped>\n",
              "    .dataframe tbody tr th:only-of-type {\n",
              "        vertical-align: middle;\n",
              "    }\n",
              "\n",
              "    .dataframe tbody tr th {\n",
              "        vertical-align: top;\n",
              "    }\n",
              "\n",
              "    .dataframe thead th {\n",
              "        text-align: right;\n",
              "    }\n",
              "</style>\n",
              "<table border=\"1\" class=\"dataframe\">\n",
              "  <thead>\n",
              "    <tr style=\"text-align: right;\">\n",
              "      <th></th>\n",
              "      <th>title</th>\n",
              "      <th>tmdbId_x</th>\n",
              "      <th>genres</th>\n",
              "      <th>keywords</th>\n",
              "      <th>overview</th>\n",
              "      <th>cast</th>\n",
              "      <th>crew</th>\n",
              "    </tr>\n",
              "  </thead>\n",
              "  <tbody>\n",
              "    <tr>\n",
              "      <th>0</th>\n",
              "      <td>Four Rooms</td>\n",
              "      <td>5</td>\n",
              "      <td>[Crime, Comedy]</td>\n",
              "      <td>[hotel, new year's eve, witch, bet, hotel room...</td>\n",
              "      <td>[It's, Ted, the, Bellhop's, first, night, on, ...</td>\n",
              "      <td>[Tim Roth, Antonio Banderas, Jennifer Beals, M...</td>\n",
              "      <td>[Allison Anders]</td>\n",
              "    </tr>\n",
              "  </tbody>\n",
              "</table>\n",
              "</div>\n",
              "    <div class=\"colab-df-buttons\">\n",
              "\n",
              "  <div class=\"colab-df-container\">\n",
              "    <button class=\"colab-df-convert\" onclick=\"convertToInteractive('df-458ad1ed-788a-4fc1-b726-1d46b9611931')\"\n",
              "            title=\"Convert this dataframe to an interactive table.\"\n",
              "            style=\"display:none;\">\n",
              "\n",
              "  <svg xmlns=\"http://www.w3.org/2000/svg\" height=\"24px\" viewBox=\"0 -960 960 960\">\n",
              "    <path d=\"M120-120v-720h720v720H120Zm60-500h600v-160H180v160Zm220 220h160v-160H400v160Zm0 220h160v-160H400v160ZM180-400h160v-160H180v160Zm440 0h160v-160H620v160ZM180-180h160v-160H180v160Zm440 0h160v-160H620v160Z\"/>\n",
              "  </svg>\n",
              "    </button>\n",
              "\n",
              "  <style>\n",
              "    .colab-df-container {\n",
              "      display:flex;\n",
              "      gap: 12px;\n",
              "    }\n",
              "\n",
              "    .colab-df-convert {\n",
              "      background-color: #E8F0FE;\n",
              "      border: none;\n",
              "      border-radius: 50%;\n",
              "      cursor: pointer;\n",
              "      display: none;\n",
              "      fill: #1967D2;\n",
              "      height: 32px;\n",
              "      padding: 0 0 0 0;\n",
              "      width: 32px;\n",
              "    }\n",
              "\n",
              "    .colab-df-convert:hover {\n",
              "      background-color: #E2EBFA;\n",
              "      box-shadow: 0px 1px 2px rgba(60, 64, 67, 0.3), 0px 1px 3px 1px rgba(60, 64, 67, 0.15);\n",
              "      fill: #174EA6;\n",
              "    }\n",
              "\n",
              "    .colab-df-buttons div {\n",
              "      margin-bottom: 4px;\n",
              "    }\n",
              "\n",
              "    [theme=dark] .colab-df-convert {\n",
              "      background-color: #3B4455;\n",
              "      fill: #D2E3FC;\n",
              "    }\n",
              "\n",
              "    [theme=dark] .colab-df-convert:hover {\n",
              "      background-color: #434B5C;\n",
              "      box-shadow: 0px 1px 3px 1px rgba(0, 0, 0, 0.15);\n",
              "      filter: drop-shadow(0px 1px 2px rgba(0, 0, 0, 0.3));\n",
              "      fill: #FFFFFF;\n",
              "    }\n",
              "  </style>\n",
              "\n",
              "    <script>\n",
              "      const buttonEl =\n",
              "        document.querySelector('#df-458ad1ed-788a-4fc1-b726-1d46b9611931 button.colab-df-convert');\n",
              "      buttonEl.style.display =\n",
              "        google.colab.kernel.accessAllowed ? 'block' : 'none';\n",
              "\n",
              "      async function convertToInteractive(key) {\n",
              "        const element = document.querySelector('#df-458ad1ed-788a-4fc1-b726-1d46b9611931');\n",
              "        const dataTable =\n",
              "          await google.colab.kernel.invokeFunction('convertToInteractive',\n",
              "                                                    [key], {});\n",
              "        if (!dataTable) return;\n",
              "\n",
              "        const docLinkHtml = 'Like what you see? Visit the ' +\n",
              "          '<a target=\"_blank\" href=https://colab.research.google.com/notebooks/data_table.ipynb>data table notebook</a>'\n",
              "          + ' to learn more about interactive tables.';\n",
              "        element.innerHTML = '';\n",
              "        dataTable['output_type'] = 'display_data';\n",
              "        await google.colab.output.renderOutput(dataTable, element);\n",
              "        const docLink = document.createElement('div');\n",
              "        docLink.innerHTML = docLinkHtml;\n",
              "        element.appendChild(docLink);\n",
              "      }\n",
              "    </script>\n",
              "  </div>\n",
              "\n",
              "\n",
              "    </div>\n",
              "  </div>\n"
            ],
            "application/vnd.google.colaboratory.intrinsic+json": {
              "type": "dataframe",
              "variable_name": "movies",
              "summary": "{\n  \"name\": \"movies\",\n  \"rows\": 4607,\n  \"fields\": [\n    {\n      \"column\": \"title\",\n      \"properties\": {\n        \"dtype\": \"string\",\n        \"num_unique_values\": 4594,\n        \"samples\": [\n          \"RED\",\n          \"Warlock: The Armageddon\",\n          \"Muppets from Space\"\n        ],\n        \"semantic_type\": \"\",\n        \"description\": \"\"\n      }\n    },\n    {\n      \"column\": \"tmdbId_x\",\n      \"properties\": {\n        \"dtype\": \"number\",\n        \"std\": 82463,\n        \"min\": 5,\n        \"max\": 426469,\n        \"num_unique_values\": 4597,\n        \"samples\": [\n          9637,\n          27549,\n          11113\n        ],\n        \"semantic_type\": \"\",\n        \"description\": \"\"\n      }\n    },\n    {\n      \"column\": \"genres\",\n      \"properties\": {\n        \"dtype\": \"object\",\n        \"semantic_type\": \"\",\n        \"description\": \"\"\n      }\n    },\n    {\n      \"column\": \"keywords\",\n      \"properties\": {\n        \"dtype\": \"object\",\n        \"semantic_type\": \"\",\n        \"description\": \"\"\n      }\n    },\n    {\n      \"column\": \"overview\",\n      \"properties\": {\n        \"dtype\": \"object\",\n        \"semantic_type\": \"\",\n        \"description\": \"\"\n      }\n    },\n    {\n      \"column\": \"cast\",\n      \"properties\": {\n        \"dtype\": \"object\",\n        \"semantic_type\": \"\",\n        \"description\": \"\"\n      }\n    },\n    {\n      \"column\": \"crew\",\n      \"properties\": {\n        \"dtype\": \"object\",\n        \"semantic_type\": \"\",\n        \"description\": \"\"\n      }\n    }\n  ]\n}"
            }
          },
          "metadata": {},
          "execution_count": 86
        }
      ],
      "source": [
        "movies.head(1)"
      ]
    },
    {
      "cell_type": "code",
      "execution_count": null,
      "metadata": {
        "id": "4xlaoEp8fUpv"
      },
      "outputs": [],
      "source": [
        "movies['genres'] = movies['genres'].apply(lambda x:[i.replace(\" \",\"\") for i in x])\n",
        "movies['keywords'] = movies['keywords'].apply(lambda x:[i.replace(\" \",\"\") for i in x])\n",
        "movies['cast'] = movies['cast'].apply(lambda x:[i.replace(\" \",\"\") for i in x])\n",
        "movies['crew'] = movies['crew'].apply(lambda x:[i.replace(\" \",\"\") for i in x])"
      ]
    },
    {
      "cell_type": "code",
      "execution_count": null,
      "metadata": {
        "colab": {
          "base_uri": "https://localhost:8080/",
          "height": 81
        },
        "id": "DM8jY7fzgJPB",
        "outputId": "36825b9d-c8b7-4d1c-b5fb-f81f283695b7"
      },
      "outputs": [
        {
          "output_type": "execute_result",
          "data": {
            "text/plain": [
              "        title  tmdbId_x           genres  \\\n",
              "0  Four Rooms         5  [Crime, Comedy]   \n",
              "\n",
              "                                            keywords  \\\n",
              "0  [hotel, newyear'seve, witch, bet, hotelroom, s...   \n",
              "\n",
              "                                            overview  \\\n",
              "0  [It's, Ted, the, Bellhop's, first, night, on, ...   \n",
              "\n",
              "                                                cast             crew  \n",
              "0  [TimRoth, AntonioBanderas, JenniferBeals, Mado...  [AllisonAnders]  "
            ],
            "text/html": [
              "\n",
              "  <div id=\"df-e1e9bd59-b37a-4e5b-8995-2577134eef22\" class=\"colab-df-container\">\n",
              "    <div>\n",
              "<style scoped>\n",
              "    .dataframe tbody tr th:only-of-type {\n",
              "        vertical-align: middle;\n",
              "    }\n",
              "\n",
              "    .dataframe tbody tr th {\n",
              "        vertical-align: top;\n",
              "    }\n",
              "\n",
              "    .dataframe thead th {\n",
              "        text-align: right;\n",
              "    }\n",
              "</style>\n",
              "<table border=\"1\" class=\"dataframe\">\n",
              "  <thead>\n",
              "    <tr style=\"text-align: right;\">\n",
              "      <th></th>\n",
              "      <th>title</th>\n",
              "      <th>tmdbId_x</th>\n",
              "      <th>genres</th>\n",
              "      <th>keywords</th>\n",
              "      <th>overview</th>\n",
              "      <th>cast</th>\n",
              "      <th>crew</th>\n",
              "    </tr>\n",
              "  </thead>\n",
              "  <tbody>\n",
              "    <tr>\n",
              "      <th>0</th>\n",
              "      <td>Four Rooms</td>\n",
              "      <td>5</td>\n",
              "      <td>[Crime, Comedy]</td>\n",
              "      <td>[hotel, newyear'seve, witch, bet, hotelroom, s...</td>\n",
              "      <td>[It's, Ted, the, Bellhop's, first, night, on, ...</td>\n",
              "      <td>[TimRoth, AntonioBanderas, JenniferBeals, Mado...</td>\n",
              "      <td>[AllisonAnders]</td>\n",
              "    </tr>\n",
              "  </tbody>\n",
              "</table>\n",
              "</div>\n",
              "    <div class=\"colab-df-buttons\">\n",
              "\n",
              "  <div class=\"colab-df-container\">\n",
              "    <button class=\"colab-df-convert\" onclick=\"convertToInteractive('df-e1e9bd59-b37a-4e5b-8995-2577134eef22')\"\n",
              "            title=\"Convert this dataframe to an interactive table.\"\n",
              "            style=\"display:none;\">\n",
              "\n",
              "  <svg xmlns=\"http://www.w3.org/2000/svg\" height=\"24px\" viewBox=\"0 -960 960 960\">\n",
              "    <path d=\"M120-120v-720h720v720H120Zm60-500h600v-160H180v160Zm220 220h160v-160H400v160Zm0 220h160v-160H400v160ZM180-400h160v-160H180v160Zm440 0h160v-160H620v160ZM180-180h160v-160H180v160Zm440 0h160v-160H620v160Z\"/>\n",
              "  </svg>\n",
              "    </button>\n",
              "\n",
              "  <style>\n",
              "    .colab-df-container {\n",
              "      display:flex;\n",
              "      gap: 12px;\n",
              "    }\n",
              "\n",
              "    .colab-df-convert {\n",
              "      background-color: #E8F0FE;\n",
              "      border: none;\n",
              "      border-radius: 50%;\n",
              "      cursor: pointer;\n",
              "      display: none;\n",
              "      fill: #1967D2;\n",
              "      height: 32px;\n",
              "      padding: 0 0 0 0;\n",
              "      width: 32px;\n",
              "    }\n",
              "\n",
              "    .colab-df-convert:hover {\n",
              "      background-color: #E2EBFA;\n",
              "      box-shadow: 0px 1px 2px rgba(60, 64, 67, 0.3), 0px 1px 3px 1px rgba(60, 64, 67, 0.15);\n",
              "      fill: #174EA6;\n",
              "    }\n",
              "\n",
              "    .colab-df-buttons div {\n",
              "      margin-bottom: 4px;\n",
              "    }\n",
              "\n",
              "    [theme=dark] .colab-df-convert {\n",
              "      background-color: #3B4455;\n",
              "      fill: #D2E3FC;\n",
              "    }\n",
              "\n",
              "    [theme=dark] .colab-df-convert:hover {\n",
              "      background-color: #434B5C;\n",
              "      box-shadow: 0px 1px 3px 1px rgba(0, 0, 0, 0.15);\n",
              "      filter: drop-shadow(0px 1px 2px rgba(0, 0, 0, 0.3));\n",
              "      fill: #FFFFFF;\n",
              "    }\n",
              "  </style>\n",
              "\n",
              "    <script>\n",
              "      const buttonEl =\n",
              "        document.querySelector('#df-e1e9bd59-b37a-4e5b-8995-2577134eef22 button.colab-df-convert');\n",
              "      buttonEl.style.display =\n",
              "        google.colab.kernel.accessAllowed ? 'block' : 'none';\n",
              "\n",
              "      async function convertToInteractive(key) {\n",
              "        const element = document.querySelector('#df-e1e9bd59-b37a-4e5b-8995-2577134eef22');\n",
              "        const dataTable =\n",
              "          await google.colab.kernel.invokeFunction('convertToInteractive',\n",
              "                                                    [key], {});\n",
              "        if (!dataTable) return;\n",
              "\n",
              "        const docLinkHtml = 'Like what you see? Visit the ' +\n",
              "          '<a target=\"_blank\" href=https://colab.research.google.com/notebooks/data_table.ipynb>data table notebook</a>'\n",
              "          + ' to learn more about interactive tables.';\n",
              "        element.innerHTML = '';\n",
              "        dataTable['output_type'] = 'display_data';\n",
              "        await google.colab.output.renderOutput(dataTable, element);\n",
              "        const docLink = document.createElement('div');\n",
              "        docLink.innerHTML = docLinkHtml;\n",
              "        element.appendChild(docLink);\n",
              "      }\n",
              "    </script>\n",
              "  </div>\n",
              "\n",
              "\n",
              "    </div>\n",
              "  </div>\n"
            ],
            "application/vnd.google.colaboratory.intrinsic+json": {
              "type": "dataframe",
              "variable_name": "movies",
              "summary": "{\n  \"name\": \"movies\",\n  \"rows\": 4607,\n  \"fields\": [\n    {\n      \"column\": \"title\",\n      \"properties\": {\n        \"dtype\": \"string\",\n        \"num_unique_values\": 4594,\n        \"samples\": [\n          \"RED\",\n          \"Warlock: The Armageddon\",\n          \"Muppets from Space\"\n        ],\n        \"semantic_type\": \"\",\n        \"description\": \"\"\n      }\n    },\n    {\n      \"column\": \"tmdbId_x\",\n      \"properties\": {\n        \"dtype\": \"number\",\n        \"std\": 82463,\n        \"min\": 5,\n        \"max\": 426469,\n        \"num_unique_values\": 4597,\n        \"samples\": [\n          9637,\n          27549,\n          11113\n        ],\n        \"semantic_type\": \"\",\n        \"description\": \"\"\n      }\n    },\n    {\n      \"column\": \"genres\",\n      \"properties\": {\n        \"dtype\": \"object\",\n        \"semantic_type\": \"\",\n        \"description\": \"\"\n      }\n    },\n    {\n      \"column\": \"keywords\",\n      \"properties\": {\n        \"dtype\": \"object\",\n        \"semantic_type\": \"\",\n        \"description\": \"\"\n      }\n    },\n    {\n      \"column\": \"overview\",\n      \"properties\": {\n        \"dtype\": \"object\",\n        \"semantic_type\": \"\",\n        \"description\": \"\"\n      }\n    },\n    {\n      \"column\": \"cast\",\n      \"properties\": {\n        \"dtype\": \"object\",\n        \"semantic_type\": \"\",\n        \"description\": \"\"\n      }\n    },\n    {\n      \"column\": \"crew\",\n      \"properties\": {\n        \"dtype\": \"object\",\n        \"semantic_type\": \"\",\n        \"description\": \"\"\n      }\n    }\n  ]\n}"
            }
          },
          "metadata": {},
          "execution_count": 88
        }
      ],
      "source": [
        "movies.head(1)"
      ]
    },
    {
      "cell_type": "code",
      "execution_count": null,
      "metadata": {
        "id": "AjKGediDhOw-"
      },
      "outputs": [],
      "source": [
        "movies['tags'] = movies['overview']+ movies['keywords'] + movies['crew'] + movies['genres']\n",
        "movies['tags'] = movies.apply(lambda row: [f\" The name of the movie is: {row['title']} \"] + row['tags']  , axis=1)"
      ]
    },
    {
      "cell_type": "code",
      "execution_count": null,
      "metadata": {
        "colab": {
          "base_uri": "https://localhost:8080/",
          "height": 98
        },
        "id": "tVBSTkRMhdjQ",
        "outputId": "e87fbe71-3527-4ea4-b556-aceba66aa90d"
      },
      "outputs": [
        {
          "output_type": "execute_result",
          "data": {
            "text/plain": [
              "        title  tmdbId_x           genres  \\\n",
              "0  Four Rooms         5  [Crime, Comedy]   \n",
              "\n",
              "                                            keywords  \\\n",
              "0  [hotel, newyear'seve, witch, bet, hotelroom, s...   \n",
              "\n",
              "                                            overview  \\\n",
              "0  [It's, Ted, the, Bellhop's, first, night, on, ...   \n",
              "\n",
              "                                                cast             crew  \\\n",
              "0  [TimRoth, AntonioBanderas, JenniferBeals, Mado...  [AllisonAnders]   \n",
              "\n",
              "                                                tags  \n",
              "0  [ The name of the movie is: Four Rooms , It's,...  "
            ],
            "text/html": [
              "\n",
              "  <div id=\"df-74ba7e51-edab-4bf5-a512-157f240d71f5\" class=\"colab-df-container\">\n",
              "    <div>\n",
              "<style scoped>\n",
              "    .dataframe tbody tr th:only-of-type {\n",
              "        vertical-align: middle;\n",
              "    }\n",
              "\n",
              "    .dataframe tbody tr th {\n",
              "        vertical-align: top;\n",
              "    }\n",
              "\n",
              "    .dataframe thead th {\n",
              "        text-align: right;\n",
              "    }\n",
              "</style>\n",
              "<table border=\"1\" class=\"dataframe\">\n",
              "  <thead>\n",
              "    <tr style=\"text-align: right;\">\n",
              "      <th></th>\n",
              "      <th>title</th>\n",
              "      <th>tmdbId_x</th>\n",
              "      <th>genres</th>\n",
              "      <th>keywords</th>\n",
              "      <th>overview</th>\n",
              "      <th>cast</th>\n",
              "      <th>crew</th>\n",
              "      <th>tags</th>\n",
              "    </tr>\n",
              "  </thead>\n",
              "  <tbody>\n",
              "    <tr>\n",
              "      <th>0</th>\n",
              "      <td>Four Rooms</td>\n",
              "      <td>5</td>\n",
              "      <td>[Crime, Comedy]</td>\n",
              "      <td>[hotel, newyear'seve, witch, bet, hotelroom, s...</td>\n",
              "      <td>[It's, Ted, the, Bellhop's, first, night, on, ...</td>\n",
              "      <td>[TimRoth, AntonioBanderas, JenniferBeals, Mado...</td>\n",
              "      <td>[AllisonAnders]</td>\n",
              "      <td>[ The name of the movie is: Four Rooms , It's,...</td>\n",
              "    </tr>\n",
              "  </tbody>\n",
              "</table>\n",
              "</div>\n",
              "    <div class=\"colab-df-buttons\">\n",
              "\n",
              "  <div class=\"colab-df-container\">\n",
              "    <button class=\"colab-df-convert\" onclick=\"convertToInteractive('df-74ba7e51-edab-4bf5-a512-157f240d71f5')\"\n",
              "            title=\"Convert this dataframe to an interactive table.\"\n",
              "            style=\"display:none;\">\n",
              "\n",
              "  <svg xmlns=\"http://www.w3.org/2000/svg\" height=\"24px\" viewBox=\"0 -960 960 960\">\n",
              "    <path d=\"M120-120v-720h720v720H120Zm60-500h600v-160H180v160Zm220 220h160v-160H400v160Zm0 220h160v-160H400v160ZM180-400h160v-160H180v160Zm440 0h160v-160H620v160ZM180-180h160v-160H180v160Zm440 0h160v-160H620v160Z\"/>\n",
              "  </svg>\n",
              "    </button>\n",
              "\n",
              "  <style>\n",
              "    .colab-df-container {\n",
              "      display:flex;\n",
              "      gap: 12px;\n",
              "    }\n",
              "\n",
              "    .colab-df-convert {\n",
              "      background-color: #E8F0FE;\n",
              "      border: none;\n",
              "      border-radius: 50%;\n",
              "      cursor: pointer;\n",
              "      display: none;\n",
              "      fill: #1967D2;\n",
              "      height: 32px;\n",
              "      padding: 0 0 0 0;\n",
              "      width: 32px;\n",
              "    }\n",
              "\n",
              "    .colab-df-convert:hover {\n",
              "      background-color: #E2EBFA;\n",
              "      box-shadow: 0px 1px 2px rgba(60, 64, 67, 0.3), 0px 1px 3px 1px rgba(60, 64, 67, 0.15);\n",
              "      fill: #174EA6;\n",
              "    }\n",
              "\n",
              "    .colab-df-buttons div {\n",
              "      margin-bottom: 4px;\n",
              "    }\n",
              "\n",
              "    [theme=dark] .colab-df-convert {\n",
              "      background-color: #3B4455;\n",
              "      fill: #D2E3FC;\n",
              "    }\n",
              "\n",
              "    [theme=dark] .colab-df-convert:hover {\n",
              "      background-color: #434B5C;\n",
              "      box-shadow: 0px 1px 3px 1px rgba(0, 0, 0, 0.15);\n",
              "      filter: drop-shadow(0px 1px 2px rgba(0, 0, 0, 0.3));\n",
              "      fill: #FFFFFF;\n",
              "    }\n",
              "  </style>\n",
              "\n",
              "    <script>\n",
              "      const buttonEl =\n",
              "        document.querySelector('#df-74ba7e51-edab-4bf5-a512-157f240d71f5 button.colab-df-convert');\n",
              "      buttonEl.style.display =\n",
              "        google.colab.kernel.accessAllowed ? 'block' : 'none';\n",
              "\n",
              "      async function convertToInteractive(key) {\n",
              "        const element = document.querySelector('#df-74ba7e51-edab-4bf5-a512-157f240d71f5');\n",
              "        const dataTable =\n",
              "          await google.colab.kernel.invokeFunction('convertToInteractive',\n",
              "                                                    [key], {});\n",
              "        if (!dataTable) return;\n",
              "\n",
              "        const docLinkHtml = 'Like what you see? Visit the ' +\n",
              "          '<a target=\"_blank\" href=https://colab.research.google.com/notebooks/data_table.ipynb>data table notebook</a>'\n",
              "          + ' to learn more about interactive tables.';\n",
              "        element.innerHTML = '';\n",
              "        dataTable['output_type'] = 'display_data';\n",
              "        await google.colab.output.renderOutput(dataTable, element);\n",
              "        const docLink = document.createElement('div');\n",
              "        docLink.innerHTML = docLinkHtml;\n",
              "        element.appendChild(docLink);\n",
              "      }\n",
              "    </script>\n",
              "  </div>\n",
              "\n",
              "\n",
              "    </div>\n",
              "  </div>\n"
            ],
            "application/vnd.google.colaboratory.intrinsic+json": {
              "type": "dataframe",
              "variable_name": "movies",
              "summary": "{\n  \"name\": \"movies\",\n  \"rows\": 4607,\n  \"fields\": [\n    {\n      \"column\": \"title\",\n      \"properties\": {\n        \"dtype\": \"string\",\n        \"num_unique_values\": 4594,\n        \"samples\": [\n          \"RED\",\n          \"Warlock: The Armageddon\",\n          \"Muppets from Space\"\n        ],\n        \"semantic_type\": \"\",\n        \"description\": \"\"\n      }\n    },\n    {\n      \"column\": \"tmdbId_x\",\n      \"properties\": {\n        \"dtype\": \"number\",\n        \"std\": 82463,\n        \"min\": 5,\n        \"max\": 426469,\n        \"num_unique_values\": 4597,\n        \"samples\": [\n          9637,\n          27549,\n          11113\n        ],\n        \"semantic_type\": \"\",\n        \"description\": \"\"\n      }\n    },\n    {\n      \"column\": \"genres\",\n      \"properties\": {\n        \"dtype\": \"object\",\n        \"semantic_type\": \"\",\n        \"description\": \"\"\n      }\n    },\n    {\n      \"column\": \"keywords\",\n      \"properties\": {\n        \"dtype\": \"object\",\n        \"semantic_type\": \"\",\n        \"description\": \"\"\n      }\n    },\n    {\n      \"column\": \"overview\",\n      \"properties\": {\n        \"dtype\": \"object\",\n        \"semantic_type\": \"\",\n        \"description\": \"\"\n      }\n    },\n    {\n      \"column\": \"cast\",\n      \"properties\": {\n        \"dtype\": \"object\",\n        \"semantic_type\": \"\",\n        \"description\": \"\"\n      }\n    },\n    {\n      \"column\": \"crew\",\n      \"properties\": {\n        \"dtype\": \"object\",\n        \"semantic_type\": \"\",\n        \"description\": \"\"\n      }\n    },\n    {\n      \"column\": \"tags\",\n      \"properties\": {\n        \"dtype\": \"object\",\n        \"semantic_type\": \"\",\n        \"description\": \"\"\n      }\n    }\n  ]\n}"
            }
          },
          "metadata": {},
          "execution_count": 90
        }
      ],
      "source": [
        "movies.head(1)"
      ]
    },
    {
      "cell_type": "code",
      "execution_count": null,
      "metadata": {
        "id": "_gVS5OCChe9U"
      },
      "outputs": [],
      "source": [
        "new_df = movies[['title','tmdbId_x','tags']]"
      ]
    },
    {
      "cell_type": "code",
      "execution_count": null,
      "metadata": {
        "colab": {
          "base_uri": "https://localhost:8080/"
        },
        "id": "bh3loX7lhyLL",
        "outputId": "f743c75a-51cf-4ef6-ed73-9892b334c5b9"
      },
      "outputs": [
        {
          "output_type": "stream",
          "name": "stderr",
          "text": [
            "<ipython-input-92-ad44e9ca1347>:1: SettingWithCopyWarning: \n",
            "A value is trying to be set on a copy of a slice from a DataFrame.\n",
            "Try using .loc[row_indexer,col_indexer] = value instead\n",
            "\n",
            "See the caveats in the documentation: https://pandas.pydata.org/pandas-docs/stable/user_guide/indexing.html#returning-a-view-versus-a-copy\n",
            "  new_df['tags'] = new_df['tags'].apply(lambda x:\" \".join(x))\n"
          ]
        }
      ],
      "source": [
        "new_df['tags'] = new_df['tags'].apply(lambda x:\" \".join(x))"
      ]
    },
    {
      "cell_type": "code",
      "execution_count": null,
      "metadata": {
        "colab": {
          "base_uri": "https://localhost:8080/",
          "height": 72
        },
        "id": "eyIdzONCiJBr",
        "outputId": "e7228bc6-ce04-4eaa-d43f-ebc4bef440d8"
      },
      "outputs": [
        {
          "output_type": "execute_result",
          "data": {
            "text/plain": [
              "' The name of the movie is: Star Wars  Princess Leia is captured and held hostage by the evil Imperial forces in their effort to take over the galactic Empire. Venturesome Luke Skywalker and dashing captain Han Solo team together with the loveable robot duo R2-D2 and C-3PO to rescue the beautiful princess and restore peace and justice in the Empire. android galaxy hermit deathstar lightsaber jedi rescuemission empire rebellion planet smuggler theforce spaceopera galacticwar stormtrooper totalitarianism GeorgeLucas Adventure Action ScienceFiction'"
            ],
            "application/vnd.google.colaboratory.intrinsic+json": {
              "type": "string"
            }
          },
          "metadata": {},
          "execution_count": 93
        }
      ],
      "source": [
        "new_df.iloc[1].tags"
      ]
    },
    {
      "cell_type": "code",
      "execution_count": null,
      "metadata": {
        "colab": {
          "base_uri": "https://localhost:8080/"
        },
        "id": "RNOCNJg3iVrV",
        "outputId": "98699a2e-50d4-484c-ef74-b3a6033a5cd7"
      },
      "outputs": [
        {
          "output_type": "execute_result",
          "data": {
            "text/plain": [
              "(4607, 3)"
            ]
          },
          "metadata": {},
          "execution_count": 94
        }
      ],
      "source": [
        "new_df.shape"
      ]
    },
    {
      "cell_type": "markdown",
      "source": [
        "# **Preprocessing the Data**"
      ],
      "metadata": {
        "id": "uWQfDtYVLYJ1"
      }
    },
    {
      "cell_type": "code",
      "execution_count": null,
      "metadata": {
        "id": "ZvmIKXOopyYF"
      },
      "outputs": [],
      "source": [
        "ps = PorterStemmer()"
      ]
    },
    {
      "cell_type": "code",
      "execution_count": null,
      "metadata": {
        "id": "PM7VBH43qHLa"
      },
      "outputs": [],
      "source": [
        "def stem(text):\n",
        "  y = []\n",
        "  for i in text.split():\n",
        "    y.append(ps.stem(i))\n",
        "  return  \" \".join(y)"
      ]
    },
    {
      "cell_type": "code",
      "execution_count": null,
      "metadata": {
        "id": "SudVm8htZejU",
        "colab": {
          "base_uri": "https://localhost:8080/"
        },
        "outputId": "5166421c-959d-47ac-c1af-80647c2e9270"
      },
      "outputs": [
        {
          "output_type": "stream",
          "name": "stderr",
          "text": [
            "/usr/local/lib/python3.10/dist-packages/spacy/util.py:1740: UserWarning: [W111] Jupyter notebook detected: if using `prefer_gpu()` or `require_gpu()`, include it in the same cell right before `spacy.load()` to ensure that the model is loaded on the correct device. More information: http://spacy.io/usage/v3#jupyter-notebook-gpu\n",
            "  warnings.warn(Warnings.W111)\n"
          ]
        }
      ],
      "source": [
        "nlp = spacy.load(\"en_core_web_sm\")"
      ]
    },
    {
      "cell_type": "code",
      "execution_count": null,
      "metadata": {
        "id": "xZAoX0TMZo_S"
      },
      "outputs": [],
      "source": [
        "stop_words = spacy.lang.en.stop_words.STOP_WORDS\n",
        "corpus = []\n",
        "def lemmatize(text):\n",
        "  y = \"\"\n",
        "  doc = nlp(text)\n",
        "  for token in doc:\n",
        "    if token not in stop_words and not token.is_punct :\n",
        "      y+=token.lemma_ + \" \"\n",
        "  corpus.append(y)\n",
        "  return y.strip()"
      ]
    },
    {
      "cell_type": "code",
      "execution_count": null,
      "metadata": {
        "colab": {
          "base_uri": "https://localhost:8080/"
        },
        "id": "d_PHWhJXqpm8",
        "outputId": "d29db422-c375-431f-bfc1-6026ae46d837"
      },
      "outputs": [
        {
          "output_type": "stream",
          "name": "stderr",
          "text": [
            "<ipython-input-99-f3a9248c65af>:1: SettingWithCopyWarning: \n",
            "A value is trying to be set on a copy of a slice from a DataFrame.\n",
            "Try using .loc[row_indexer,col_indexer] = value instead\n",
            "\n",
            "See the caveats in the documentation: https://pandas.pydata.org/pandas-docs/stable/user_guide/indexing.html#returning-a-view-versus-a-copy\n",
            "  new_df['tags'] = new_df['tags'].apply(stem)\n",
            "<ipython-input-99-f3a9248c65af>:2: SettingWithCopyWarning: \n",
            "A value is trying to be set on a copy of a slice from a DataFrame.\n",
            "Try using .loc[row_indexer,col_indexer] = value instead\n",
            "\n",
            "See the caveats in the documentation: https://pandas.pydata.org/pandas-docs/stable/user_guide/indexing.html#returning-a-view-versus-a-copy\n",
            "  new_df['tags'] = new_df['tags'].apply(lemmatize)\n"
          ]
        }
      ],
      "source": [
        "new_df['tags'] = new_df['tags'].apply(stem)\n",
        "new_df['tags'] = new_df['tags'].apply(lemmatize)"
      ]
    },
    {
      "cell_type": "code",
      "execution_count": null,
      "metadata": {
        "colab": {
          "base_uri": "https://localhost:8080/",
          "height": 72
        },
        "id": "WJM4nLaMekgr",
        "outputId": "919140a8-1b22-4403-d5ac-55211091ce6c"
      },
      "outputs": [
        {
          "output_type": "execute_result",
          "data": {
            "text/plain": [
              "'the name of the movi be find nemo nemo an adventur young clownfish be unexpectedli take from hi great barrier reef home to a dentist offic aquarium it up to hi worrisom father marlin and a friendli but forget fish dori to bring nemo home meet vegetarian sharks surfer dude turtle hypnot jellyfish hungri seagull and more along the way fathersonrelationship harbor underwat fishtank greatbarrierreef missingchild aftercreditssting duringcreditsste shorttermmemoryloss clownfish fathersonreunion protectivefath andrewstanton anim famili '"
            ],
            "application/vnd.google.colaboratory.intrinsic+json": {
              "type": "string"
            }
          },
          "metadata": {},
          "execution_count": 100
        }
      ],
      "source": [
        "corpus[2]"
      ]
    },
    {
      "cell_type": "markdown",
      "source": [
        "# **Base model using Word2Vec and TfidfVectorizer**"
      ],
      "metadata": {
        "id": "YmtTPQqvMPZY"
      }
    },
    {
      "cell_type": "code",
      "execution_count": null,
      "metadata": {
        "id": "mHwRzkazsIz-"
      },
      "outputs": [],
      "source": [
        "words = []\n",
        "for sent in corpus:\n",
        "  words.append(simple_preprocess(sent))"
      ]
    },
    {
      "cell_type": "code",
      "source": [
        "words[2]"
      ],
      "metadata": {
        "id": "yHkfIQHc0p-z"
      },
      "execution_count": null,
      "outputs": []
    },
    {
      "cell_type": "code",
      "execution_count": null,
      "metadata": {
        "id": "-xw13IW1tvSS"
      },
      "outputs": [],
      "source": [
        "model = gensim.models.Word2Vec(words, epochs=300,vector_size=200)"
      ]
    },
    {
      "cell_type": "code",
      "execution_count": null,
      "metadata": {
        "colab": {
          "base_uri": "https://localhost:8080/"
        },
        "id": "321Pyli3vFg4",
        "outputId": "c0d2b1e8-d12d-4575-f161-1ab796e14504"
      },
      "outputs": [
        {
          "output_type": "execute_result",
          "data": {
            "text/plain": [
              "4607"
            ]
          },
          "metadata": {},
          "execution_count": 105
        }
      ],
      "source": [
        "model.corpus_count"
      ]
    },
    {
      "cell_type": "code",
      "execution_count": null,
      "metadata": {
        "id": "Lj8xPU1SwHu_"
      },
      "outputs": [],
      "source": [
        "def avg_word2vec(doc):\n",
        "  return np.mean([model.wv[word] for word in doc if word in model.wv.index_to_key],axis=0)"
      ]
    },
    {
      "cell_type": "code",
      "execution_count": null,
      "metadata": {
        "id": "2BmRuId4w2ky",
        "colab": {
          "base_uri": "https://localhost:8080/"
        },
        "outputId": "90221f6e-621d-4cea-f339-789f2e344067"
      },
      "outputs": [
        {
          "output_type": "stream",
          "name": "stderr",
          "text": [
            "100%|██████████| 4607/4607 [00:21<00:00, 215.30it/s]\n"
          ]
        }
      ],
      "source": [
        "X = []\n",
        "for i in tqdm(range(len(words))):\n",
        "    X.append(avg_word2vec(words[i]))\n"
      ]
    },
    {
      "cell_type": "code",
      "execution_count": null,
      "metadata": {
        "id": "803TGAomyXNt",
        "colab": {
          "base_uri": "https://localhost:8080/"
        },
        "outputId": "10c19c27-7a5e-4748-83c0-13561d456f30"
      },
      "outputs": [
        {
          "output_type": "execute_result",
          "data": {
            "text/plain": [
              "4607"
            ]
          },
          "metadata": {},
          "execution_count": 110
        }
      ],
      "source": [
        "len(X)"
      ]
    },
    {
      "cell_type": "code",
      "execution_count": null,
      "metadata": {
        "id": "yoJ9FCubygLn"
      },
      "outputs": [],
      "source": [
        "X_new = np.array(X)"
      ]
    },
    {
      "cell_type": "code",
      "execution_count": null,
      "metadata": {
        "id": "qx4f36Agy1es",
        "colab": {
          "base_uri": "https://localhost:8080/"
        },
        "outputId": "5991ec0f-c6bb-4136-a4b1-9bbc8862cbc7"
      },
      "outputs": [
        {
          "output_type": "execute_result",
          "data": {
            "text/plain": [
              "(4607, 200)"
            ]
          },
          "metadata": {},
          "execution_count": 112
        }
      ],
      "source": [
        "X_new.shape"
      ]
    },
    {
      "cell_type": "code",
      "execution_count": null,
      "metadata": {
        "id": "V7NNYcxk3OuK",
        "colab": {
          "base_uri": "https://localhost:8080/"
        },
        "outputId": "936725a5-b14d-49e9-83bf-1201be231dac"
      },
      "outputs": [
        {
          "output_type": "execute_result",
          "data": {
            "text/plain": [
              "(200,)"
            ]
          },
          "metadata": {},
          "execution_count": 113
        }
      ],
      "source": [
        "X_new[0].shape"
      ]
    },
    {
      "cell_type": "code",
      "execution_count": null,
      "metadata": {
        "id": "zHJBhqucmwcM"
      },
      "outputs": [],
      "source": [
        "cv = TfidfVectorizer(stop_words = \"english\")"
      ]
    },
    {
      "cell_type": "code",
      "execution_count": null,
      "metadata": {
        "id": "FnV85LF0o4tW"
      },
      "outputs": [],
      "source": [
        "vectors = cv.fit_transform(new_df['tags']).toarray()"
      ]
    },
    {
      "cell_type": "code",
      "execution_count": null,
      "metadata": {
        "id": "cWmrIbysNRKt"
      },
      "outputs": [],
      "source": [
        "similarity = cosine_similarity(X_new)"
      ]
    },
    {
      "cell_type": "code",
      "source": [
        "len(similarity[0])"
      ],
      "metadata": {
        "colab": {
          "base_uri": "https://localhost:8080/"
        },
        "id": "aL29Ghz_8_yC",
        "outputId": "1b7b681d-f77b-49bd-887a-8074c2dcdbfd"
      },
      "execution_count": null,
      "outputs": [
        {
          "output_type": "execute_result",
          "data": {
            "text/plain": [
              "4607"
            ]
          },
          "metadata": {},
          "execution_count": 131
        }
      ]
    },
    {
      "cell_type": "code",
      "source": [
        "def recomend(movie):\n",
        "  movie_index = new_df[new_df['title']==movie].index[0]\n",
        "  distances = similarity[movie_index]\n",
        "  movies_list = sorted(list(enumerate(distances)),reverse = True,key = lambda x:x[1])[1:11]\n",
        "\n",
        "  for i in movies_list:\n",
        "    print(new_df.iloc[i[0]].title)"
      ],
      "metadata": {
        "id": "hgdTpBKQ9oJb"
      },
      "execution_count": null,
      "outputs": []
    },
    {
      "cell_type": "code",
      "source": [
        "recomend(\"Harry Potter and the Philosopher's Stone\")"
      ],
      "metadata": {
        "colab": {
          "base_uri": "https://localhost:8080/"
        },
        "id": "fBWRxkf8zsWy",
        "outputId": "5b2889aa-5671-4d1e-e886-9af8a1edd86a"
      },
      "execution_count": null,
      "outputs": [
        {
          "output_type": "stream",
          "name": "stdout",
          "text": [
            "ParaNorman\n",
            "The Last Time I Committed Suicide\n",
            "Just Visiting\n",
            "Casper\n",
            "Harry Potter and the Order of the Phoenix\n",
            "The Chambermaid on the Titanic\n",
            "The Adventures of Elmo in Grouchland\n",
            "Wish I Was Here\n",
            "The Smurfs 2\n",
            "The Promise\n"
          ]
        }
      ]
    },
    {
      "cell_type": "markdown",
      "source": [
        "# **Better model using SentenceTransformer : all-MiniLM-L6-v2**"
      ],
      "metadata": {
        "id": "PGsKJwDjMj6t"
      }
    },
    {
      "cell_type": "code",
      "source": [
        "model = SentenceTransformer('all-MiniLM-L6-v2')"
      ],
      "metadata": {
        "id": "2H1hkDyM_KW0",
        "colab": {
          "base_uri": "https://localhost:8080/",
          "height": 571,
          "referenced_widgets": [
            "a5dde03d65264ecb8361c233fd400b56",
            "519f35b0a0544e0ea000e926ed82c9f7",
            "b9b94bb04d6c43908a85c326dc2b8ec9",
            "c0968cf6c62344428ae6ac87a3fac933",
            "cfa484ef178b44eca873a8ff2e30115e",
            "ef033f41e645454fa860cb2dc56e3793",
            "cac1b6ec08f04ae199460d9fdc076fb4",
            "62ab17f30f2f4fed9de322c8423d1150",
            "55ce47e9c1ec435fbbdbc15f14c9a709",
            "be827c37f4844aa3aa4f8a5fa4a6a78e",
            "82fc09d9c0d54fcf828fb85f19cfc856",
            "2b013392b7ba4fe083d5210f5c41a674",
            "8deab985c7684eb9bbefc78fdaababa0",
            "9c2744f250ef4a7291841cd77cb7daed",
            "d235683c6e8345418c82d1051c551000",
            "1da28663bd704b2683d052227c82bcfd",
            "f2dee173044a49dab68ed137b5b4128f",
            "42ff1af680c64466826e3e775811485d",
            "7f21bfe59c3f4e3f898564ebaf54e1ff",
            "b0c0d6deec124b43a940a540c4200e12",
            "512c3e9593c7453983810f08972c55ff",
            "633e3f2ce2b844f2af97e258a4994dfa",
            "7f90737f300844388bc220162f451fde",
            "858c7a6aa47747caac1a74c08a1a942c",
            "fc1f5a38a48243fd95075dae71b08743",
            "c4f434f6e9784b7c96b081b175620d4f",
            "8e68b4a550c54588a56e3ea6e84e3777",
            "28838630c744445680d826b564c011ff",
            "5e75eaece25c4c208ae7865ccfb8f544",
            "6f8153aca8a84597bb0ac0b3237d887b",
            "d6cfed5a5d3b4c29aad9b8facebb5c50",
            "7749e0240e704b5fa1ea8dd79060406c",
            "77404bf382b340d3be6bcf96a315f683",
            "7cb4aeaace504cb5b74b4cbfef231d36",
            "dfc93d1492fa4942abda83c90d0e834b",
            "1bb1f05809c54f8981cda59f7f0ec5d7",
            "d21f9228ad4740e49460a0dd53ff2b37",
            "f9c49e99c2bf4135bacd3b88c1d89b6c",
            "8a28a2f6fbe2464891dd604ef22db35e",
            "7701c743f95d4b81bbf2b8e981101f9c",
            "4430ce0e1eff402aab6adc7a3b68e068",
            "1aafe030cbdf45a5a26af907ac96a298",
            "b0341e5573a84ce2a70c13398852ed08",
            "7e0ccff022a8493a94bc953b9522140f",
            "56dc947fbe7a482dbebaf9107a9a4c1b",
            "a9c9ff26ea074bfaa1853193412168bb",
            "e057968ec6234aaebaca0c609e2efbdb",
            "c6d9978353b24c4d986de737159299f1",
            "fd6327e1dc5d49ff83ec151a7dba2197",
            "12ea62108c564353aebb86e2caabac75",
            "afd0a6e714fd42af9f38f64d1bc50eff",
            "18a5cd85ed81439d96233da44b900545",
            "546204af0e024b34b467588c8e798533",
            "051e20e61a304ee5be6af627ae12797a",
            "9a14a4ee28434576bba6e1c200d09576",
            "cbf9b789c68d435186e75ba4da03cb25",
            "011edd0768d74588ba16f6ddd68ea27c",
            "4a0ef096f41f43e591dfb75a313c4d95",
            "7820c84a431844cc9f90aacc2823d45d",
            "54d6322e4bc34e6cb3a885303a02d062",
            "ab042b856b01451699aa3003ab1e9b0a",
            "f441a938311a4bd99303a809e3ae4586",
            "260823b7d1b14c119d0cedb313f6abcd",
            "52e56b86c209459a9627e8771ddf9932",
            "b9d070308b924e70823f6c50c9c0b62a",
            "12c0d52c0abc4b369a6af1adac316b0b",
            "989a4513699444c2a98b69c68abd88ac",
            "38a2426c9a454377b826de3810f848e3",
            "ea95a3b0898e4600b5e472b4bd5a5f58",
            "6c550a59139348d29e77fcc22fee6dab",
            "4b8e221839964051800d65626c1e3f17",
            "3e3aacce47524840994a7675f0a372c1",
            "64025ab004874a7fa7e28da2d1dc50e0",
            "a98bbb1d3b844bfb8e5de27eb50645d2",
            "5a5dd5c2d2ec47598dbe0d48f9d58bbe",
            "7a9225ee4e5e4e00a464aff3bb5c7932",
            "6064bf59a2c64dcaa2f11719972ce071",
            "54c97e1318274b8dba28f749fba89553",
            "4cc386e9e3d6415e8767e37b5b3edbd3",
            "88bc99818cf44b26ba0186fbbd1b075e",
            "8b7548faa5894fa79684c34e0cd2ff83",
            "91d6c0550a7f47b2959680c741bef35e",
            "1eb0bcf44c2f46a8aee8c7cdae5ec9b9",
            "93e7bc3e065b4d7c89bbf0264a65240d",
            "f4ca348c41ce43d58a3d14ea9e4818ef",
            "581e22d44ad94d53bc3f34578f281bb1",
            "6f08106677254d6ba16800fd34bfe2d5",
            "46ba9e5bd08b485899370a79779040c3",
            "1e79d29c2d7f4dc887ffdff0312f26fa",
            "8a034a95f01d4e8cb40a13e66e31a441",
            "20e3a8b811154e6aaca79badabe50aa2",
            "30a7519da3c344b4b1ee9a204973724a",
            "d97520851253491286b6d06edd33f6d3",
            "acfd8ba252da4570a1eef952ec0d52b5",
            "6fa3e22fd3af4937b1f862d4e00cab63",
            "4f04a47f5fcf492a8a50159ebdf04379",
            "f3fc121b63844a86af569f9940190e81",
            "1e88a694dd2b4ac1b50c2bc006129c73",
            "abf09610a9d2483c82de61d8209a3c60",
            "e15d4d813acf46ed8fd8a1d0eed55ef8",
            "088c83f247634653976dae005036c264",
            "d678b1d79f8148ed80cae2e2762fd047",
            "b416d5eb769c4050b16f6790a3e5a914",
            "9875c3a8b4af4f749a306a7110b2fd42",
            "9093a13d93904769b33831d0d74bc5fd",
            "2f4cb0c77cd34ba9ae661c830ab0c2f0",
            "741abeed21fa4fc8a3ece05bbd0e765c",
            "7b4b41f5812b4825a480e0f16c3860aa",
            "d948e3d350e445ad96aaef3da109c69f",
            "025e9ed08fc1485ba26eacf3911c2b46",
            "f249d3b1b46f401c8200ee818f978902",
            "86ca4f59bf3b4e36b58d4c437cae4cee",
            "7d984eb3c6134ea6952721b33a99526f",
            "f8c67de433994707857ed5a722ebe5d9",
            "609b39bd70c34d8dbf3a1b6c09c03b9a",
            "3f042ebb93054752865ce9a4b3b11934",
            "764fda1b878b4e6693fd56fcc3624815",
            "c1a6c37a4e964afe965801fe8ed0ced7",
            "70d37ef953374a8e9ffc415d397b7e7f",
            "204d89e043cd4688937ed7097f8baa35",
            "fdb6760d4ab24c9a8110011ff62edf3b"
          ]
        },
        "outputId": "3d3e78ec-9e13-49d4-f9dc-28502660361e"
      },
      "execution_count": null,
      "outputs": [
        {
          "output_type": "stream",
          "name": "stderr",
          "text": [
            "/usr/local/lib/python3.10/dist-packages/sentence_transformers/cross_encoder/CrossEncoder.py:11: TqdmExperimentalWarning: Using `tqdm.autonotebook.tqdm` in notebook mode. Use `tqdm.tqdm` instead to force console mode (e.g. in jupyter console)\n",
            "  from tqdm.autonotebook import tqdm, trange\n",
            "/usr/local/lib/python3.10/dist-packages/huggingface_hub/utils/_token.py:89: UserWarning: \n",
            "The secret `HF_TOKEN` does not exist in your Colab secrets.\n",
            "To authenticate with the Hugging Face Hub, create a token in your settings tab (https://huggingface.co/settings/tokens), set it as secret in your Google Colab and restart your session.\n",
            "You will be able to reuse this secret in all of your notebooks.\n",
            "Please note that authentication is recommended but still optional to access public models or datasets.\n",
            "  warnings.warn(\n"
          ]
        },
        {
          "output_type": "display_data",
          "data": {
            "text/plain": [
              "modules.json:   0%|          | 0.00/349 [00:00<?, ?B/s]"
            ],
            "application/vnd.jupyter.widget-view+json": {
              "version_major": 2,
              "version_minor": 0,
              "model_id": "a5dde03d65264ecb8361c233fd400b56"
            }
          },
          "metadata": {}
        },
        {
          "output_type": "display_data",
          "data": {
            "text/plain": [
              "config_sentence_transformers.json:   0%|          | 0.00/116 [00:00<?, ?B/s]"
            ],
            "application/vnd.jupyter.widget-view+json": {
              "version_major": 2,
              "version_minor": 0,
              "model_id": "2b013392b7ba4fe083d5210f5c41a674"
            }
          },
          "metadata": {}
        },
        {
          "output_type": "display_data",
          "data": {
            "text/plain": [
              "README.md:   0%|          | 0.00/10.7k [00:00<?, ?B/s]"
            ],
            "application/vnd.jupyter.widget-view+json": {
              "version_major": 2,
              "version_minor": 0,
              "model_id": "7f90737f300844388bc220162f451fde"
            }
          },
          "metadata": {}
        },
        {
          "output_type": "display_data",
          "data": {
            "text/plain": [
              "sentence_bert_config.json:   0%|          | 0.00/53.0 [00:00<?, ?B/s]"
            ],
            "application/vnd.jupyter.widget-view+json": {
              "version_major": 2,
              "version_minor": 0,
              "model_id": "7cb4aeaace504cb5b74b4cbfef231d36"
            }
          },
          "metadata": {}
        },
        {
          "output_type": "stream",
          "name": "stderr",
          "text": [
            "/usr/local/lib/python3.10/dist-packages/huggingface_hub/file_download.py:1132: FutureWarning: `resume_download` is deprecated and will be removed in version 1.0.0. Downloads always resume when possible. If you want to force a new download, use `force_download=True`.\n",
            "  warnings.warn(\n"
          ]
        },
        {
          "output_type": "display_data",
          "data": {
            "text/plain": [
              "config.json:   0%|          | 0.00/612 [00:00<?, ?B/s]"
            ],
            "application/vnd.jupyter.widget-view+json": {
              "version_major": 2,
              "version_minor": 0,
              "model_id": "56dc947fbe7a482dbebaf9107a9a4c1b"
            }
          },
          "metadata": {}
        },
        {
          "output_type": "display_data",
          "data": {
            "text/plain": [
              "model.safetensors:   0%|          | 0.00/90.9M [00:00<?, ?B/s]"
            ],
            "application/vnd.jupyter.widget-view+json": {
              "version_major": 2,
              "version_minor": 0,
              "model_id": "cbf9b789c68d435186e75ba4da03cb25"
            }
          },
          "metadata": {}
        },
        {
          "output_type": "display_data",
          "data": {
            "text/plain": [
              "tokenizer_config.json:   0%|          | 0.00/350 [00:00<?, ?B/s]"
            ],
            "application/vnd.jupyter.widget-view+json": {
              "version_major": 2,
              "version_minor": 0,
              "model_id": "989a4513699444c2a98b69c68abd88ac"
            }
          },
          "metadata": {}
        },
        {
          "output_type": "display_data",
          "data": {
            "text/plain": [
              "vocab.txt:   0%|          | 0.00/232k [00:00<?, ?B/s]"
            ],
            "application/vnd.jupyter.widget-view+json": {
              "version_major": 2,
              "version_minor": 0,
              "model_id": "54c97e1318274b8dba28f749fba89553"
            }
          },
          "metadata": {}
        },
        {
          "output_type": "display_data",
          "data": {
            "text/plain": [
              "tokenizer.json:   0%|          | 0.00/466k [00:00<?, ?B/s]"
            ],
            "application/vnd.jupyter.widget-view+json": {
              "version_major": 2,
              "version_minor": 0,
              "model_id": "1e79d29c2d7f4dc887ffdff0312f26fa"
            }
          },
          "metadata": {}
        },
        {
          "output_type": "display_data",
          "data": {
            "text/plain": [
              "special_tokens_map.json:   0%|          | 0.00/112 [00:00<?, ?B/s]"
            ],
            "application/vnd.jupyter.widget-view+json": {
              "version_major": 2,
              "version_minor": 0,
              "model_id": "e15d4d813acf46ed8fd8a1d0eed55ef8"
            }
          },
          "metadata": {}
        },
        {
          "output_type": "display_data",
          "data": {
            "text/plain": [
              "1_Pooling/config.json:   0%|          | 0.00/190 [00:00<?, ?B/s]"
            ],
            "application/vnd.jupyter.widget-view+json": {
              "version_major": 2,
              "version_minor": 0,
              "model_id": "f249d3b1b46f401c8200ee818f978902"
            }
          },
          "metadata": {}
        }
      ]
    },
    {
      "cell_type": "code",
      "source": [
        "embeddings = model.encode(corpus)"
      ],
      "metadata": {
        "id": "rjIIu1Dq_39g"
      },
      "execution_count": null,
      "outputs": []
    },
    {
      "cell_type": "code",
      "source": [
        "similarity = util.cos_sim(embeddings, embeddings)"
      ],
      "metadata": {
        "id": "VfsKGVuN_7V-"
      },
      "execution_count": null,
      "outputs": []
    },
    {
      "cell_type": "code",
      "source": [
        "type(similarity)"
      ],
      "metadata": {
        "colab": {
          "base_uri": "https://localhost:8080/"
        },
        "id": "vjSrR_b2CBNm",
        "outputId": "42b5f136-f0b1-479e-cabe-7378bd37d3ce"
      },
      "execution_count": null,
      "outputs": [
        {
          "output_type": "execute_result",
          "data": {
            "text/plain": [
              "torch.Tensor"
            ]
          },
          "metadata": {},
          "execution_count": 127
        }
      ]
    },
    {
      "cell_type": "code",
      "execution_count": null,
      "metadata": {
        "id": "qrl1FFsqzG6b",
        "colab": {
          "base_uri": "https://localhost:8080/"
        },
        "outputId": "65745a7a-b5dd-4bf6-cf1d-c420b9375eaa"
      },
      "outputs": [
        {
          "output_type": "stream",
          "name": "stdout",
          "text": [
            "Harry Potter and the Goblet of Fire\n",
            "Harry Potter and the Chamber of Secrets\n",
            "Harry Potter and the Half-Blood Prince\n",
            "Harry Potter and the Order of the Phoenix\n",
            "Harry Potter and the Prisoner of Azkaban\n",
            "Stuart Little\n",
            "Hocus Pocus\n",
            "Diary of a Wimpy Kid\n",
            "The Wizard of Oz\n",
            "The Adventurer: The Curse of the Midas Box\n"
          ]
        }
      ],
      "source": [
        "recomend(\"Harry Potter and the Philosopher's Stone\")"
      ]
    },
    {
      "cell_type": "markdown",
      "source": [
        "# **Saving the Similarity data for later use**"
      ],
      "metadata": {
        "id": "CE-fReP0M8R8"
      }
    },
    {
      "cell_type": "code",
      "source": [
        "similarity = similarity.tolist()"
      ],
      "metadata": {
        "id": "QkhZxiKWCGyw"
      },
      "execution_count": null,
      "outputs": []
    },
    {
      "cell_type": "code",
      "execution_count": null,
      "metadata": {
        "id": "MA6of9Z-Mosy"
      },
      "outputs": [],
      "source": [
        "pickle.dump(new_df.to_dict(),open('movies_transformer.pkl','wb'))"
      ]
    },
    {
      "cell_type": "code",
      "execution_count": null,
      "metadata": {
        "id": "Wxkky7JWM9WQ"
      },
      "outputs": [],
      "source": [
        "pickle.dump(similarity,open('similarity_trans.pkl','wb'))"
      ]
    }
  ],
  "metadata": {
    "colab": {
      "provenance": [],
      "gpuType": "T4"
    },
    "kernelspec": {
      "display_name": "Python 3",
      "name": "python3"
    },
    "language_info": {
      "name": "python"
    },
    "accelerator": "GPU",
    "widgets": {
      "application/vnd.jupyter.widget-state+json": {
        "a5dde03d65264ecb8361c233fd400b56": {
          "model_module": "@jupyter-widgets/controls",
          "model_name": "HBoxModel",
          "model_module_version": "1.5.0",
          "state": {
            "_dom_classes": [],
            "_model_module": "@jupyter-widgets/controls",
            "_model_module_version": "1.5.0",
            "_model_name": "HBoxModel",
            "_view_count": null,
            "_view_module": "@jupyter-widgets/controls",
            "_view_module_version": "1.5.0",
            "_view_name": "HBoxView",
            "box_style": "",
            "children": [
              "IPY_MODEL_519f35b0a0544e0ea000e926ed82c9f7",
              "IPY_MODEL_b9b94bb04d6c43908a85c326dc2b8ec9",
              "IPY_MODEL_c0968cf6c62344428ae6ac87a3fac933"
            ],
            "layout": "IPY_MODEL_cfa484ef178b44eca873a8ff2e30115e"
          }
        },
        "519f35b0a0544e0ea000e926ed82c9f7": {
          "model_module": "@jupyter-widgets/controls",
          "model_name": "HTMLModel",
          "model_module_version": "1.5.0",
          "state": {
            "_dom_classes": [],
            "_model_module": "@jupyter-widgets/controls",
            "_model_module_version": "1.5.0",
            "_model_name": "HTMLModel",
            "_view_count": null,
            "_view_module": "@jupyter-widgets/controls",
            "_view_module_version": "1.5.0",
            "_view_name": "HTMLView",
            "description": "",
            "description_tooltip": null,
            "layout": "IPY_MODEL_ef033f41e645454fa860cb2dc56e3793",
            "placeholder": "​",
            "style": "IPY_MODEL_cac1b6ec08f04ae199460d9fdc076fb4",
            "value": "modules.json: 100%"
          }
        },
        "b9b94bb04d6c43908a85c326dc2b8ec9": {
          "model_module": "@jupyter-widgets/controls",
          "model_name": "FloatProgressModel",
          "model_module_version": "1.5.0",
          "state": {
            "_dom_classes": [],
            "_model_module": "@jupyter-widgets/controls",
            "_model_module_version": "1.5.0",
            "_model_name": "FloatProgressModel",
            "_view_count": null,
            "_view_module": "@jupyter-widgets/controls",
            "_view_module_version": "1.5.0",
            "_view_name": "ProgressView",
            "bar_style": "success",
            "description": "",
            "description_tooltip": null,
            "layout": "IPY_MODEL_62ab17f30f2f4fed9de322c8423d1150",
            "max": 349,
            "min": 0,
            "orientation": "horizontal",
            "style": "IPY_MODEL_55ce47e9c1ec435fbbdbc15f14c9a709",
            "value": 349
          }
        },
        "c0968cf6c62344428ae6ac87a3fac933": {
          "model_module": "@jupyter-widgets/controls",
          "model_name": "HTMLModel",
          "model_module_version": "1.5.0",
          "state": {
            "_dom_classes": [],
            "_model_module": "@jupyter-widgets/controls",
            "_model_module_version": "1.5.0",
            "_model_name": "HTMLModel",
            "_view_count": null,
            "_view_module": "@jupyter-widgets/controls",
            "_view_module_version": "1.5.0",
            "_view_name": "HTMLView",
            "description": "",
            "description_tooltip": null,
            "layout": "IPY_MODEL_be827c37f4844aa3aa4f8a5fa4a6a78e",
            "placeholder": "​",
            "style": "IPY_MODEL_82fc09d9c0d54fcf828fb85f19cfc856",
            "value": " 349/349 [00:00&lt;00:00, 6.23kB/s]"
          }
        },
        "cfa484ef178b44eca873a8ff2e30115e": {
          "model_module": "@jupyter-widgets/base",
          "model_name": "LayoutModel",
          "model_module_version": "1.2.0",
          "state": {
            "_model_module": "@jupyter-widgets/base",
            "_model_module_version": "1.2.0",
            "_model_name": "LayoutModel",
            "_view_count": null,
            "_view_module": "@jupyter-widgets/base",
            "_view_module_version": "1.2.0",
            "_view_name": "LayoutView",
            "align_content": null,
            "align_items": null,
            "align_self": null,
            "border": null,
            "bottom": null,
            "display": null,
            "flex": null,
            "flex_flow": null,
            "grid_area": null,
            "grid_auto_columns": null,
            "grid_auto_flow": null,
            "grid_auto_rows": null,
            "grid_column": null,
            "grid_gap": null,
            "grid_row": null,
            "grid_template_areas": null,
            "grid_template_columns": null,
            "grid_template_rows": null,
            "height": null,
            "justify_content": null,
            "justify_items": null,
            "left": null,
            "margin": null,
            "max_height": null,
            "max_width": null,
            "min_height": null,
            "min_width": null,
            "object_fit": null,
            "object_position": null,
            "order": null,
            "overflow": null,
            "overflow_x": null,
            "overflow_y": null,
            "padding": null,
            "right": null,
            "top": null,
            "visibility": null,
            "width": null
          }
        },
        "ef033f41e645454fa860cb2dc56e3793": {
          "model_module": "@jupyter-widgets/base",
          "model_name": "LayoutModel",
          "model_module_version": "1.2.0",
          "state": {
            "_model_module": "@jupyter-widgets/base",
            "_model_module_version": "1.2.0",
            "_model_name": "LayoutModel",
            "_view_count": null,
            "_view_module": "@jupyter-widgets/base",
            "_view_module_version": "1.2.0",
            "_view_name": "LayoutView",
            "align_content": null,
            "align_items": null,
            "align_self": null,
            "border": null,
            "bottom": null,
            "display": null,
            "flex": null,
            "flex_flow": null,
            "grid_area": null,
            "grid_auto_columns": null,
            "grid_auto_flow": null,
            "grid_auto_rows": null,
            "grid_column": null,
            "grid_gap": null,
            "grid_row": null,
            "grid_template_areas": null,
            "grid_template_columns": null,
            "grid_template_rows": null,
            "height": null,
            "justify_content": null,
            "justify_items": null,
            "left": null,
            "margin": null,
            "max_height": null,
            "max_width": null,
            "min_height": null,
            "min_width": null,
            "object_fit": null,
            "object_position": null,
            "order": null,
            "overflow": null,
            "overflow_x": null,
            "overflow_y": null,
            "padding": null,
            "right": null,
            "top": null,
            "visibility": null,
            "width": null
          }
        },
        "cac1b6ec08f04ae199460d9fdc076fb4": {
          "model_module": "@jupyter-widgets/controls",
          "model_name": "DescriptionStyleModel",
          "model_module_version": "1.5.0",
          "state": {
            "_model_module": "@jupyter-widgets/controls",
            "_model_module_version": "1.5.0",
            "_model_name": "DescriptionStyleModel",
            "_view_count": null,
            "_view_module": "@jupyter-widgets/base",
            "_view_module_version": "1.2.0",
            "_view_name": "StyleView",
            "description_width": ""
          }
        },
        "62ab17f30f2f4fed9de322c8423d1150": {
          "model_module": "@jupyter-widgets/base",
          "model_name": "LayoutModel",
          "model_module_version": "1.2.0",
          "state": {
            "_model_module": "@jupyter-widgets/base",
            "_model_module_version": "1.2.0",
            "_model_name": "LayoutModel",
            "_view_count": null,
            "_view_module": "@jupyter-widgets/base",
            "_view_module_version": "1.2.0",
            "_view_name": "LayoutView",
            "align_content": null,
            "align_items": null,
            "align_self": null,
            "border": null,
            "bottom": null,
            "display": null,
            "flex": null,
            "flex_flow": null,
            "grid_area": null,
            "grid_auto_columns": null,
            "grid_auto_flow": null,
            "grid_auto_rows": null,
            "grid_column": null,
            "grid_gap": null,
            "grid_row": null,
            "grid_template_areas": null,
            "grid_template_columns": null,
            "grid_template_rows": null,
            "height": null,
            "justify_content": null,
            "justify_items": null,
            "left": null,
            "margin": null,
            "max_height": null,
            "max_width": null,
            "min_height": null,
            "min_width": null,
            "object_fit": null,
            "object_position": null,
            "order": null,
            "overflow": null,
            "overflow_x": null,
            "overflow_y": null,
            "padding": null,
            "right": null,
            "top": null,
            "visibility": null,
            "width": null
          }
        },
        "55ce47e9c1ec435fbbdbc15f14c9a709": {
          "model_module": "@jupyter-widgets/controls",
          "model_name": "ProgressStyleModel",
          "model_module_version": "1.5.0",
          "state": {
            "_model_module": "@jupyter-widgets/controls",
            "_model_module_version": "1.5.0",
            "_model_name": "ProgressStyleModel",
            "_view_count": null,
            "_view_module": "@jupyter-widgets/base",
            "_view_module_version": "1.2.0",
            "_view_name": "StyleView",
            "bar_color": null,
            "description_width": ""
          }
        },
        "be827c37f4844aa3aa4f8a5fa4a6a78e": {
          "model_module": "@jupyter-widgets/base",
          "model_name": "LayoutModel",
          "model_module_version": "1.2.0",
          "state": {
            "_model_module": "@jupyter-widgets/base",
            "_model_module_version": "1.2.0",
            "_model_name": "LayoutModel",
            "_view_count": null,
            "_view_module": "@jupyter-widgets/base",
            "_view_module_version": "1.2.0",
            "_view_name": "LayoutView",
            "align_content": null,
            "align_items": null,
            "align_self": null,
            "border": null,
            "bottom": null,
            "display": null,
            "flex": null,
            "flex_flow": null,
            "grid_area": null,
            "grid_auto_columns": null,
            "grid_auto_flow": null,
            "grid_auto_rows": null,
            "grid_column": null,
            "grid_gap": null,
            "grid_row": null,
            "grid_template_areas": null,
            "grid_template_columns": null,
            "grid_template_rows": null,
            "height": null,
            "justify_content": null,
            "justify_items": null,
            "left": null,
            "margin": null,
            "max_height": null,
            "max_width": null,
            "min_height": null,
            "min_width": null,
            "object_fit": null,
            "object_position": null,
            "order": null,
            "overflow": null,
            "overflow_x": null,
            "overflow_y": null,
            "padding": null,
            "right": null,
            "top": null,
            "visibility": null,
            "width": null
          }
        },
        "82fc09d9c0d54fcf828fb85f19cfc856": {
          "model_module": "@jupyter-widgets/controls",
          "model_name": "DescriptionStyleModel",
          "model_module_version": "1.5.0",
          "state": {
            "_model_module": "@jupyter-widgets/controls",
            "_model_module_version": "1.5.0",
            "_model_name": "DescriptionStyleModel",
            "_view_count": null,
            "_view_module": "@jupyter-widgets/base",
            "_view_module_version": "1.2.0",
            "_view_name": "StyleView",
            "description_width": ""
          }
        },
        "2b013392b7ba4fe083d5210f5c41a674": {
          "model_module": "@jupyter-widgets/controls",
          "model_name": "HBoxModel",
          "model_module_version": "1.5.0",
          "state": {
            "_dom_classes": [],
            "_model_module": "@jupyter-widgets/controls",
            "_model_module_version": "1.5.0",
            "_model_name": "HBoxModel",
            "_view_count": null,
            "_view_module": "@jupyter-widgets/controls",
            "_view_module_version": "1.5.0",
            "_view_name": "HBoxView",
            "box_style": "",
            "children": [
              "IPY_MODEL_8deab985c7684eb9bbefc78fdaababa0",
              "IPY_MODEL_9c2744f250ef4a7291841cd77cb7daed",
              "IPY_MODEL_d235683c6e8345418c82d1051c551000"
            ],
            "layout": "IPY_MODEL_1da28663bd704b2683d052227c82bcfd"
          }
        },
        "8deab985c7684eb9bbefc78fdaababa0": {
          "model_module": "@jupyter-widgets/controls",
          "model_name": "HTMLModel",
          "model_module_version": "1.5.0",
          "state": {
            "_dom_classes": [],
            "_model_module": "@jupyter-widgets/controls",
            "_model_module_version": "1.5.0",
            "_model_name": "HTMLModel",
            "_view_count": null,
            "_view_module": "@jupyter-widgets/controls",
            "_view_module_version": "1.5.0",
            "_view_name": "HTMLView",
            "description": "",
            "description_tooltip": null,
            "layout": "IPY_MODEL_f2dee173044a49dab68ed137b5b4128f",
            "placeholder": "​",
            "style": "IPY_MODEL_42ff1af680c64466826e3e775811485d",
            "value": "config_sentence_transformers.json: 100%"
          }
        },
        "9c2744f250ef4a7291841cd77cb7daed": {
          "model_module": "@jupyter-widgets/controls",
          "model_name": "FloatProgressModel",
          "model_module_version": "1.5.0",
          "state": {
            "_dom_classes": [],
            "_model_module": "@jupyter-widgets/controls",
            "_model_module_version": "1.5.0",
            "_model_name": "FloatProgressModel",
            "_view_count": null,
            "_view_module": "@jupyter-widgets/controls",
            "_view_module_version": "1.5.0",
            "_view_name": "ProgressView",
            "bar_style": "success",
            "description": "",
            "description_tooltip": null,
            "layout": "IPY_MODEL_7f21bfe59c3f4e3f898564ebaf54e1ff",
            "max": 116,
            "min": 0,
            "orientation": "horizontal",
            "style": "IPY_MODEL_b0c0d6deec124b43a940a540c4200e12",
            "value": 116
          }
        },
        "d235683c6e8345418c82d1051c551000": {
          "model_module": "@jupyter-widgets/controls",
          "model_name": "HTMLModel",
          "model_module_version": "1.5.0",
          "state": {
            "_dom_classes": [],
            "_model_module": "@jupyter-widgets/controls",
            "_model_module_version": "1.5.0",
            "_model_name": "HTMLModel",
            "_view_count": null,
            "_view_module": "@jupyter-widgets/controls",
            "_view_module_version": "1.5.0",
            "_view_name": "HTMLView",
            "description": "",
            "description_tooltip": null,
            "layout": "IPY_MODEL_512c3e9593c7453983810f08972c55ff",
            "placeholder": "​",
            "style": "IPY_MODEL_633e3f2ce2b844f2af97e258a4994dfa",
            "value": " 116/116 [00:00&lt;00:00, 2.24kB/s]"
          }
        },
        "1da28663bd704b2683d052227c82bcfd": {
          "model_module": "@jupyter-widgets/base",
          "model_name": "LayoutModel",
          "model_module_version": "1.2.0",
          "state": {
            "_model_module": "@jupyter-widgets/base",
            "_model_module_version": "1.2.0",
            "_model_name": "LayoutModel",
            "_view_count": null,
            "_view_module": "@jupyter-widgets/base",
            "_view_module_version": "1.2.0",
            "_view_name": "LayoutView",
            "align_content": null,
            "align_items": null,
            "align_self": null,
            "border": null,
            "bottom": null,
            "display": null,
            "flex": null,
            "flex_flow": null,
            "grid_area": null,
            "grid_auto_columns": null,
            "grid_auto_flow": null,
            "grid_auto_rows": null,
            "grid_column": null,
            "grid_gap": null,
            "grid_row": null,
            "grid_template_areas": null,
            "grid_template_columns": null,
            "grid_template_rows": null,
            "height": null,
            "justify_content": null,
            "justify_items": null,
            "left": null,
            "margin": null,
            "max_height": null,
            "max_width": null,
            "min_height": null,
            "min_width": null,
            "object_fit": null,
            "object_position": null,
            "order": null,
            "overflow": null,
            "overflow_x": null,
            "overflow_y": null,
            "padding": null,
            "right": null,
            "top": null,
            "visibility": null,
            "width": null
          }
        },
        "f2dee173044a49dab68ed137b5b4128f": {
          "model_module": "@jupyter-widgets/base",
          "model_name": "LayoutModel",
          "model_module_version": "1.2.0",
          "state": {
            "_model_module": "@jupyter-widgets/base",
            "_model_module_version": "1.2.0",
            "_model_name": "LayoutModel",
            "_view_count": null,
            "_view_module": "@jupyter-widgets/base",
            "_view_module_version": "1.2.0",
            "_view_name": "LayoutView",
            "align_content": null,
            "align_items": null,
            "align_self": null,
            "border": null,
            "bottom": null,
            "display": null,
            "flex": null,
            "flex_flow": null,
            "grid_area": null,
            "grid_auto_columns": null,
            "grid_auto_flow": null,
            "grid_auto_rows": null,
            "grid_column": null,
            "grid_gap": null,
            "grid_row": null,
            "grid_template_areas": null,
            "grid_template_columns": null,
            "grid_template_rows": null,
            "height": null,
            "justify_content": null,
            "justify_items": null,
            "left": null,
            "margin": null,
            "max_height": null,
            "max_width": null,
            "min_height": null,
            "min_width": null,
            "object_fit": null,
            "object_position": null,
            "order": null,
            "overflow": null,
            "overflow_x": null,
            "overflow_y": null,
            "padding": null,
            "right": null,
            "top": null,
            "visibility": null,
            "width": null
          }
        },
        "42ff1af680c64466826e3e775811485d": {
          "model_module": "@jupyter-widgets/controls",
          "model_name": "DescriptionStyleModel",
          "model_module_version": "1.5.0",
          "state": {
            "_model_module": "@jupyter-widgets/controls",
            "_model_module_version": "1.5.0",
            "_model_name": "DescriptionStyleModel",
            "_view_count": null,
            "_view_module": "@jupyter-widgets/base",
            "_view_module_version": "1.2.0",
            "_view_name": "StyleView",
            "description_width": ""
          }
        },
        "7f21bfe59c3f4e3f898564ebaf54e1ff": {
          "model_module": "@jupyter-widgets/base",
          "model_name": "LayoutModel",
          "model_module_version": "1.2.0",
          "state": {
            "_model_module": "@jupyter-widgets/base",
            "_model_module_version": "1.2.0",
            "_model_name": "LayoutModel",
            "_view_count": null,
            "_view_module": "@jupyter-widgets/base",
            "_view_module_version": "1.2.0",
            "_view_name": "LayoutView",
            "align_content": null,
            "align_items": null,
            "align_self": null,
            "border": null,
            "bottom": null,
            "display": null,
            "flex": null,
            "flex_flow": null,
            "grid_area": null,
            "grid_auto_columns": null,
            "grid_auto_flow": null,
            "grid_auto_rows": null,
            "grid_column": null,
            "grid_gap": null,
            "grid_row": null,
            "grid_template_areas": null,
            "grid_template_columns": null,
            "grid_template_rows": null,
            "height": null,
            "justify_content": null,
            "justify_items": null,
            "left": null,
            "margin": null,
            "max_height": null,
            "max_width": null,
            "min_height": null,
            "min_width": null,
            "object_fit": null,
            "object_position": null,
            "order": null,
            "overflow": null,
            "overflow_x": null,
            "overflow_y": null,
            "padding": null,
            "right": null,
            "top": null,
            "visibility": null,
            "width": null
          }
        },
        "b0c0d6deec124b43a940a540c4200e12": {
          "model_module": "@jupyter-widgets/controls",
          "model_name": "ProgressStyleModel",
          "model_module_version": "1.5.0",
          "state": {
            "_model_module": "@jupyter-widgets/controls",
            "_model_module_version": "1.5.0",
            "_model_name": "ProgressStyleModel",
            "_view_count": null,
            "_view_module": "@jupyter-widgets/base",
            "_view_module_version": "1.2.0",
            "_view_name": "StyleView",
            "bar_color": null,
            "description_width": ""
          }
        },
        "512c3e9593c7453983810f08972c55ff": {
          "model_module": "@jupyter-widgets/base",
          "model_name": "LayoutModel",
          "model_module_version": "1.2.0",
          "state": {
            "_model_module": "@jupyter-widgets/base",
            "_model_module_version": "1.2.0",
            "_model_name": "LayoutModel",
            "_view_count": null,
            "_view_module": "@jupyter-widgets/base",
            "_view_module_version": "1.2.0",
            "_view_name": "LayoutView",
            "align_content": null,
            "align_items": null,
            "align_self": null,
            "border": null,
            "bottom": null,
            "display": null,
            "flex": null,
            "flex_flow": null,
            "grid_area": null,
            "grid_auto_columns": null,
            "grid_auto_flow": null,
            "grid_auto_rows": null,
            "grid_column": null,
            "grid_gap": null,
            "grid_row": null,
            "grid_template_areas": null,
            "grid_template_columns": null,
            "grid_template_rows": null,
            "height": null,
            "justify_content": null,
            "justify_items": null,
            "left": null,
            "margin": null,
            "max_height": null,
            "max_width": null,
            "min_height": null,
            "min_width": null,
            "object_fit": null,
            "object_position": null,
            "order": null,
            "overflow": null,
            "overflow_x": null,
            "overflow_y": null,
            "padding": null,
            "right": null,
            "top": null,
            "visibility": null,
            "width": null
          }
        },
        "633e3f2ce2b844f2af97e258a4994dfa": {
          "model_module": "@jupyter-widgets/controls",
          "model_name": "DescriptionStyleModel",
          "model_module_version": "1.5.0",
          "state": {
            "_model_module": "@jupyter-widgets/controls",
            "_model_module_version": "1.5.0",
            "_model_name": "DescriptionStyleModel",
            "_view_count": null,
            "_view_module": "@jupyter-widgets/base",
            "_view_module_version": "1.2.0",
            "_view_name": "StyleView",
            "description_width": ""
          }
        },
        "7f90737f300844388bc220162f451fde": {
          "model_module": "@jupyter-widgets/controls",
          "model_name": "HBoxModel",
          "model_module_version": "1.5.0",
          "state": {
            "_dom_classes": [],
            "_model_module": "@jupyter-widgets/controls",
            "_model_module_version": "1.5.0",
            "_model_name": "HBoxModel",
            "_view_count": null,
            "_view_module": "@jupyter-widgets/controls",
            "_view_module_version": "1.5.0",
            "_view_name": "HBoxView",
            "box_style": "",
            "children": [
              "IPY_MODEL_858c7a6aa47747caac1a74c08a1a942c",
              "IPY_MODEL_fc1f5a38a48243fd95075dae71b08743",
              "IPY_MODEL_c4f434f6e9784b7c96b081b175620d4f"
            ],
            "layout": "IPY_MODEL_8e68b4a550c54588a56e3ea6e84e3777"
          }
        },
        "858c7a6aa47747caac1a74c08a1a942c": {
          "model_module": "@jupyter-widgets/controls",
          "model_name": "HTMLModel",
          "model_module_version": "1.5.0",
          "state": {
            "_dom_classes": [],
            "_model_module": "@jupyter-widgets/controls",
            "_model_module_version": "1.5.0",
            "_model_name": "HTMLModel",
            "_view_count": null,
            "_view_module": "@jupyter-widgets/controls",
            "_view_module_version": "1.5.0",
            "_view_name": "HTMLView",
            "description": "",
            "description_tooltip": null,
            "layout": "IPY_MODEL_28838630c744445680d826b564c011ff",
            "placeholder": "​",
            "style": "IPY_MODEL_5e75eaece25c4c208ae7865ccfb8f544",
            "value": "README.md: 100%"
          }
        },
        "fc1f5a38a48243fd95075dae71b08743": {
          "model_module": "@jupyter-widgets/controls",
          "model_name": "FloatProgressModel",
          "model_module_version": "1.5.0",
          "state": {
            "_dom_classes": [],
            "_model_module": "@jupyter-widgets/controls",
            "_model_module_version": "1.5.0",
            "_model_name": "FloatProgressModel",
            "_view_count": null,
            "_view_module": "@jupyter-widgets/controls",
            "_view_module_version": "1.5.0",
            "_view_name": "ProgressView",
            "bar_style": "success",
            "description": "",
            "description_tooltip": null,
            "layout": "IPY_MODEL_6f8153aca8a84597bb0ac0b3237d887b",
            "max": 10659,
            "min": 0,
            "orientation": "horizontal",
            "style": "IPY_MODEL_d6cfed5a5d3b4c29aad9b8facebb5c50",
            "value": 10659
          }
        },
        "c4f434f6e9784b7c96b081b175620d4f": {
          "model_module": "@jupyter-widgets/controls",
          "model_name": "HTMLModel",
          "model_module_version": "1.5.0",
          "state": {
            "_dom_classes": [],
            "_model_module": "@jupyter-widgets/controls",
            "_model_module_version": "1.5.0",
            "_model_name": "HTMLModel",
            "_view_count": null,
            "_view_module": "@jupyter-widgets/controls",
            "_view_module_version": "1.5.0",
            "_view_name": "HTMLView",
            "description": "",
            "description_tooltip": null,
            "layout": "IPY_MODEL_7749e0240e704b5fa1ea8dd79060406c",
            "placeholder": "​",
            "style": "IPY_MODEL_77404bf382b340d3be6bcf96a315f683",
            "value": " 10.7k/10.7k [00:00&lt;00:00, 506kB/s]"
          }
        },
        "8e68b4a550c54588a56e3ea6e84e3777": {
          "model_module": "@jupyter-widgets/base",
          "model_name": "LayoutModel",
          "model_module_version": "1.2.0",
          "state": {
            "_model_module": "@jupyter-widgets/base",
            "_model_module_version": "1.2.0",
            "_model_name": "LayoutModel",
            "_view_count": null,
            "_view_module": "@jupyter-widgets/base",
            "_view_module_version": "1.2.0",
            "_view_name": "LayoutView",
            "align_content": null,
            "align_items": null,
            "align_self": null,
            "border": null,
            "bottom": null,
            "display": null,
            "flex": null,
            "flex_flow": null,
            "grid_area": null,
            "grid_auto_columns": null,
            "grid_auto_flow": null,
            "grid_auto_rows": null,
            "grid_column": null,
            "grid_gap": null,
            "grid_row": null,
            "grid_template_areas": null,
            "grid_template_columns": null,
            "grid_template_rows": null,
            "height": null,
            "justify_content": null,
            "justify_items": null,
            "left": null,
            "margin": null,
            "max_height": null,
            "max_width": null,
            "min_height": null,
            "min_width": null,
            "object_fit": null,
            "object_position": null,
            "order": null,
            "overflow": null,
            "overflow_x": null,
            "overflow_y": null,
            "padding": null,
            "right": null,
            "top": null,
            "visibility": null,
            "width": null
          }
        },
        "28838630c744445680d826b564c011ff": {
          "model_module": "@jupyter-widgets/base",
          "model_name": "LayoutModel",
          "model_module_version": "1.2.0",
          "state": {
            "_model_module": "@jupyter-widgets/base",
            "_model_module_version": "1.2.0",
            "_model_name": "LayoutModel",
            "_view_count": null,
            "_view_module": "@jupyter-widgets/base",
            "_view_module_version": "1.2.0",
            "_view_name": "LayoutView",
            "align_content": null,
            "align_items": null,
            "align_self": null,
            "border": null,
            "bottom": null,
            "display": null,
            "flex": null,
            "flex_flow": null,
            "grid_area": null,
            "grid_auto_columns": null,
            "grid_auto_flow": null,
            "grid_auto_rows": null,
            "grid_column": null,
            "grid_gap": null,
            "grid_row": null,
            "grid_template_areas": null,
            "grid_template_columns": null,
            "grid_template_rows": null,
            "height": null,
            "justify_content": null,
            "justify_items": null,
            "left": null,
            "margin": null,
            "max_height": null,
            "max_width": null,
            "min_height": null,
            "min_width": null,
            "object_fit": null,
            "object_position": null,
            "order": null,
            "overflow": null,
            "overflow_x": null,
            "overflow_y": null,
            "padding": null,
            "right": null,
            "top": null,
            "visibility": null,
            "width": null
          }
        },
        "5e75eaece25c4c208ae7865ccfb8f544": {
          "model_module": "@jupyter-widgets/controls",
          "model_name": "DescriptionStyleModel",
          "model_module_version": "1.5.0",
          "state": {
            "_model_module": "@jupyter-widgets/controls",
            "_model_module_version": "1.5.0",
            "_model_name": "DescriptionStyleModel",
            "_view_count": null,
            "_view_module": "@jupyter-widgets/base",
            "_view_module_version": "1.2.0",
            "_view_name": "StyleView",
            "description_width": ""
          }
        },
        "6f8153aca8a84597bb0ac0b3237d887b": {
          "model_module": "@jupyter-widgets/base",
          "model_name": "LayoutModel",
          "model_module_version": "1.2.0",
          "state": {
            "_model_module": "@jupyter-widgets/base",
            "_model_module_version": "1.2.0",
            "_model_name": "LayoutModel",
            "_view_count": null,
            "_view_module": "@jupyter-widgets/base",
            "_view_module_version": "1.2.0",
            "_view_name": "LayoutView",
            "align_content": null,
            "align_items": null,
            "align_self": null,
            "border": null,
            "bottom": null,
            "display": null,
            "flex": null,
            "flex_flow": null,
            "grid_area": null,
            "grid_auto_columns": null,
            "grid_auto_flow": null,
            "grid_auto_rows": null,
            "grid_column": null,
            "grid_gap": null,
            "grid_row": null,
            "grid_template_areas": null,
            "grid_template_columns": null,
            "grid_template_rows": null,
            "height": null,
            "justify_content": null,
            "justify_items": null,
            "left": null,
            "margin": null,
            "max_height": null,
            "max_width": null,
            "min_height": null,
            "min_width": null,
            "object_fit": null,
            "object_position": null,
            "order": null,
            "overflow": null,
            "overflow_x": null,
            "overflow_y": null,
            "padding": null,
            "right": null,
            "top": null,
            "visibility": null,
            "width": null
          }
        },
        "d6cfed5a5d3b4c29aad9b8facebb5c50": {
          "model_module": "@jupyter-widgets/controls",
          "model_name": "ProgressStyleModel",
          "model_module_version": "1.5.0",
          "state": {
            "_model_module": "@jupyter-widgets/controls",
            "_model_module_version": "1.5.0",
            "_model_name": "ProgressStyleModel",
            "_view_count": null,
            "_view_module": "@jupyter-widgets/base",
            "_view_module_version": "1.2.0",
            "_view_name": "StyleView",
            "bar_color": null,
            "description_width": ""
          }
        },
        "7749e0240e704b5fa1ea8dd79060406c": {
          "model_module": "@jupyter-widgets/base",
          "model_name": "LayoutModel",
          "model_module_version": "1.2.0",
          "state": {
            "_model_module": "@jupyter-widgets/base",
            "_model_module_version": "1.2.0",
            "_model_name": "LayoutModel",
            "_view_count": null,
            "_view_module": "@jupyter-widgets/base",
            "_view_module_version": "1.2.0",
            "_view_name": "LayoutView",
            "align_content": null,
            "align_items": null,
            "align_self": null,
            "border": null,
            "bottom": null,
            "display": null,
            "flex": null,
            "flex_flow": null,
            "grid_area": null,
            "grid_auto_columns": null,
            "grid_auto_flow": null,
            "grid_auto_rows": null,
            "grid_column": null,
            "grid_gap": null,
            "grid_row": null,
            "grid_template_areas": null,
            "grid_template_columns": null,
            "grid_template_rows": null,
            "height": null,
            "justify_content": null,
            "justify_items": null,
            "left": null,
            "margin": null,
            "max_height": null,
            "max_width": null,
            "min_height": null,
            "min_width": null,
            "object_fit": null,
            "object_position": null,
            "order": null,
            "overflow": null,
            "overflow_x": null,
            "overflow_y": null,
            "padding": null,
            "right": null,
            "top": null,
            "visibility": null,
            "width": null
          }
        },
        "77404bf382b340d3be6bcf96a315f683": {
          "model_module": "@jupyter-widgets/controls",
          "model_name": "DescriptionStyleModel",
          "model_module_version": "1.5.0",
          "state": {
            "_model_module": "@jupyter-widgets/controls",
            "_model_module_version": "1.5.0",
            "_model_name": "DescriptionStyleModel",
            "_view_count": null,
            "_view_module": "@jupyter-widgets/base",
            "_view_module_version": "1.2.0",
            "_view_name": "StyleView",
            "description_width": ""
          }
        },
        "7cb4aeaace504cb5b74b4cbfef231d36": {
          "model_module": "@jupyter-widgets/controls",
          "model_name": "HBoxModel",
          "model_module_version": "1.5.0",
          "state": {
            "_dom_classes": [],
            "_model_module": "@jupyter-widgets/controls",
            "_model_module_version": "1.5.0",
            "_model_name": "HBoxModel",
            "_view_count": null,
            "_view_module": "@jupyter-widgets/controls",
            "_view_module_version": "1.5.0",
            "_view_name": "HBoxView",
            "box_style": "",
            "children": [
              "IPY_MODEL_dfc93d1492fa4942abda83c90d0e834b",
              "IPY_MODEL_1bb1f05809c54f8981cda59f7f0ec5d7",
              "IPY_MODEL_d21f9228ad4740e49460a0dd53ff2b37"
            ],
            "layout": "IPY_MODEL_f9c49e99c2bf4135bacd3b88c1d89b6c"
          }
        },
        "dfc93d1492fa4942abda83c90d0e834b": {
          "model_module": "@jupyter-widgets/controls",
          "model_name": "HTMLModel",
          "model_module_version": "1.5.0",
          "state": {
            "_dom_classes": [],
            "_model_module": "@jupyter-widgets/controls",
            "_model_module_version": "1.5.0",
            "_model_name": "HTMLModel",
            "_view_count": null,
            "_view_module": "@jupyter-widgets/controls",
            "_view_module_version": "1.5.0",
            "_view_name": "HTMLView",
            "description": "",
            "description_tooltip": null,
            "layout": "IPY_MODEL_8a28a2f6fbe2464891dd604ef22db35e",
            "placeholder": "​",
            "style": "IPY_MODEL_7701c743f95d4b81bbf2b8e981101f9c",
            "value": "sentence_bert_config.json: 100%"
          }
        },
        "1bb1f05809c54f8981cda59f7f0ec5d7": {
          "model_module": "@jupyter-widgets/controls",
          "model_name": "FloatProgressModel",
          "model_module_version": "1.5.0",
          "state": {
            "_dom_classes": [],
            "_model_module": "@jupyter-widgets/controls",
            "_model_module_version": "1.5.0",
            "_model_name": "FloatProgressModel",
            "_view_count": null,
            "_view_module": "@jupyter-widgets/controls",
            "_view_module_version": "1.5.0",
            "_view_name": "ProgressView",
            "bar_style": "success",
            "description": "",
            "description_tooltip": null,
            "layout": "IPY_MODEL_4430ce0e1eff402aab6adc7a3b68e068",
            "max": 53,
            "min": 0,
            "orientation": "horizontal",
            "style": "IPY_MODEL_1aafe030cbdf45a5a26af907ac96a298",
            "value": 53
          }
        },
        "d21f9228ad4740e49460a0dd53ff2b37": {
          "model_module": "@jupyter-widgets/controls",
          "model_name": "HTMLModel",
          "model_module_version": "1.5.0",
          "state": {
            "_dom_classes": [],
            "_model_module": "@jupyter-widgets/controls",
            "_model_module_version": "1.5.0",
            "_model_name": "HTMLModel",
            "_view_count": null,
            "_view_module": "@jupyter-widgets/controls",
            "_view_module_version": "1.5.0",
            "_view_name": "HTMLView",
            "description": "",
            "description_tooltip": null,
            "layout": "IPY_MODEL_b0341e5573a84ce2a70c13398852ed08",
            "placeholder": "​",
            "style": "IPY_MODEL_7e0ccff022a8493a94bc953b9522140f",
            "value": " 53.0/53.0 [00:00&lt;00:00, 700B/s]"
          }
        },
        "f9c49e99c2bf4135bacd3b88c1d89b6c": {
          "model_module": "@jupyter-widgets/base",
          "model_name": "LayoutModel",
          "model_module_version": "1.2.0",
          "state": {
            "_model_module": "@jupyter-widgets/base",
            "_model_module_version": "1.2.0",
            "_model_name": "LayoutModel",
            "_view_count": null,
            "_view_module": "@jupyter-widgets/base",
            "_view_module_version": "1.2.0",
            "_view_name": "LayoutView",
            "align_content": null,
            "align_items": null,
            "align_self": null,
            "border": null,
            "bottom": null,
            "display": null,
            "flex": null,
            "flex_flow": null,
            "grid_area": null,
            "grid_auto_columns": null,
            "grid_auto_flow": null,
            "grid_auto_rows": null,
            "grid_column": null,
            "grid_gap": null,
            "grid_row": null,
            "grid_template_areas": null,
            "grid_template_columns": null,
            "grid_template_rows": null,
            "height": null,
            "justify_content": null,
            "justify_items": null,
            "left": null,
            "margin": null,
            "max_height": null,
            "max_width": null,
            "min_height": null,
            "min_width": null,
            "object_fit": null,
            "object_position": null,
            "order": null,
            "overflow": null,
            "overflow_x": null,
            "overflow_y": null,
            "padding": null,
            "right": null,
            "top": null,
            "visibility": null,
            "width": null
          }
        },
        "8a28a2f6fbe2464891dd604ef22db35e": {
          "model_module": "@jupyter-widgets/base",
          "model_name": "LayoutModel",
          "model_module_version": "1.2.0",
          "state": {
            "_model_module": "@jupyter-widgets/base",
            "_model_module_version": "1.2.0",
            "_model_name": "LayoutModel",
            "_view_count": null,
            "_view_module": "@jupyter-widgets/base",
            "_view_module_version": "1.2.0",
            "_view_name": "LayoutView",
            "align_content": null,
            "align_items": null,
            "align_self": null,
            "border": null,
            "bottom": null,
            "display": null,
            "flex": null,
            "flex_flow": null,
            "grid_area": null,
            "grid_auto_columns": null,
            "grid_auto_flow": null,
            "grid_auto_rows": null,
            "grid_column": null,
            "grid_gap": null,
            "grid_row": null,
            "grid_template_areas": null,
            "grid_template_columns": null,
            "grid_template_rows": null,
            "height": null,
            "justify_content": null,
            "justify_items": null,
            "left": null,
            "margin": null,
            "max_height": null,
            "max_width": null,
            "min_height": null,
            "min_width": null,
            "object_fit": null,
            "object_position": null,
            "order": null,
            "overflow": null,
            "overflow_x": null,
            "overflow_y": null,
            "padding": null,
            "right": null,
            "top": null,
            "visibility": null,
            "width": null
          }
        },
        "7701c743f95d4b81bbf2b8e981101f9c": {
          "model_module": "@jupyter-widgets/controls",
          "model_name": "DescriptionStyleModel",
          "model_module_version": "1.5.0",
          "state": {
            "_model_module": "@jupyter-widgets/controls",
            "_model_module_version": "1.5.0",
            "_model_name": "DescriptionStyleModel",
            "_view_count": null,
            "_view_module": "@jupyter-widgets/base",
            "_view_module_version": "1.2.0",
            "_view_name": "StyleView",
            "description_width": ""
          }
        },
        "4430ce0e1eff402aab6adc7a3b68e068": {
          "model_module": "@jupyter-widgets/base",
          "model_name": "LayoutModel",
          "model_module_version": "1.2.0",
          "state": {
            "_model_module": "@jupyter-widgets/base",
            "_model_module_version": "1.2.0",
            "_model_name": "LayoutModel",
            "_view_count": null,
            "_view_module": "@jupyter-widgets/base",
            "_view_module_version": "1.2.0",
            "_view_name": "LayoutView",
            "align_content": null,
            "align_items": null,
            "align_self": null,
            "border": null,
            "bottom": null,
            "display": null,
            "flex": null,
            "flex_flow": null,
            "grid_area": null,
            "grid_auto_columns": null,
            "grid_auto_flow": null,
            "grid_auto_rows": null,
            "grid_column": null,
            "grid_gap": null,
            "grid_row": null,
            "grid_template_areas": null,
            "grid_template_columns": null,
            "grid_template_rows": null,
            "height": null,
            "justify_content": null,
            "justify_items": null,
            "left": null,
            "margin": null,
            "max_height": null,
            "max_width": null,
            "min_height": null,
            "min_width": null,
            "object_fit": null,
            "object_position": null,
            "order": null,
            "overflow": null,
            "overflow_x": null,
            "overflow_y": null,
            "padding": null,
            "right": null,
            "top": null,
            "visibility": null,
            "width": null
          }
        },
        "1aafe030cbdf45a5a26af907ac96a298": {
          "model_module": "@jupyter-widgets/controls",
          "model_name": "ProgressStyleModel",
          "model_module_version": "1.5.0",
          "state": {
            "_model_module": "@jupyter-widgets/controls",
            "_model_module_version": "1.5.0",
            "_model_name": "ProgressStyleModel",
            "_view_count": null,
            "_view_module": "@jupyter-widgets/base",
            "_view_module_version": "1.2.0",
            "_view_name": "StyleView",
            "bar_color": null,
            "description_width": ""
          }
        },
        "b0341e5573a84ce2a70c13398852ed08": {
          "model_module": "@jupyter-widgets/base",
          "model_name": "LayoutModel",
          "model_module_version": "1.2.0",
          "state": {
            "_model_module": "@jupyter-widgets/base",
            "_model_module_version": "1.2.0",
            "_model_name": "LayoutModel",
            "_view_count": null,
            "_view_module": "@jupyter-widgets/base",
            "_view_module_version": "1.2.0",
            "_view_name": "LayoutView",
            "align_content": null,
            "align_items": null,
            "align_self": null,
            "border": null,
            "bottom": null,
            "display": null,
            "flex": null,
            "flex_flow": null,
            "grid_area": null,
            "grid_auto_columns": null,
            "grid_auto_flow": null,
            "grid_auto_rows": null,
            "grid_column": null,
            "grid_gap": null,
            "grid_row": null,
            "grid_template_areas": null,
            "grid_template_columns": null,
            "grid_template_rows": null,
            "height": null,
            "justify_content": null,
            "justify_items": null,
            "left": null,
            "margin": null,
            "max_height": null,
            "max_width": null,
            "min_height": null,
            "min_width": null,
            "object_fit": null,
            "object_position": null,
            "order": null,
            "overflow": null,
            "overflow_x": null,
            "overflow_y": null,
            "padding": null,
            "right": null,
            "top": null,
            "visibility": null,
            "width": null
          }
        },
        "7e0ccff022a8493a94bc953b9522140f": {
          "model_module": "@jupyter-widgets/controls",
          "model_name": "DescriptionStyleModel",
          "model_module_version": "1.5.0",
          "state": {
            "_model_module": "@jupyter-widgets/controls",
            "_model_module_version": "1.5.0",
            "_model_name": "DescriptionStyleModel",
            "_view_count": null,
            "_view_module": "@jupyter-widgets/base",
            "_view_module_version": "1.2.0",
            "_view_name": "StyleView",
            "description_width": ""
          }
        },
        "56dc947fbe7a482dbebaf9107a9a4c1b": {
          "model_module": "@jupyter-widgets/controls",
          "model_name": "HBoxModel",
          "model_module_version": "1.5.0",
          "state": {
            "_dom_classes": [],
            "_model_module": "@jupyter-widgets/controls",
            "_model_module_version": "1.5.0",
            "_model_name": "HBoxModel",
            "_view_count": null,
            "_view_module": "@jupyter-widgets/controls",
            "_view_module_version": "1.5.0",
            "_view_name": "HBoxView",
            "box_style": "",
            "children": [
              "IPY_MODEL_a9c9ff26ea074bfaa1853193412168bb",
              "IPY_MODEL_e057968ec6234aaebaca0c609e2efbdb",
              "IPY_MODEL_c6d9978353b24c4d986de737159299f1"
            ],
            "layout": "IPY_MODEL_fd6327e1dc5d49ff83ec151a7dba2197"
          }
        },
        "a9c9ff26ea074bfaa1853193412168bb": {
          "model_module": "@jupyter-widgets/controls",
          "model_name": "HTMLModel",
          "model_module_version": "1.5.0",
          "state": {
            "_dom_classes": [],
            "_model_module": "@jupyter-widgets/controls",
            "_model_module_version": "1.5.0",
            "_model_name": "HTMLModel",
            "_view_count": null,
            "_view_module": "@jupyter-widgets/controls",
            "_view_module_version": "1.5.0",
            "_view_name": "HTMLView",
            "description": "",
            "description_tooltip": null,
            "layout": "IPY_MODEL_12ea62108c564353aebb86e2caabac75",
            "placeholder": "​",
            "style": "IPY_MODEL_afd0a6e714fd42af9f38f64d1bc50eff",
            "value": "config.json: 100%"
          }
        },
        "e057968ec6234aaebaca0c609e2efbdb": {
          "model_module": "@jupyter-widgets/controls",
          "model_name": "FloatProgressModel",
          "model_module_version": "1.5.0",
          "state": {
            "_dom_classes": [],
            "_model_module": "@jupyter-widgets/controls",
            "_model_module_version": "1.5.0",
            "_model_name": "FloatProgressModel",
            "_view_count": null,
            "_view_module": "@jupyter-widgets/controls",
            "_view_module_version": "1.5.0",
            "_view_name": "ProgressView",
            "bar_style": "success",
            "description": "",
            "description_tooltip": null,
            "layout": "IPY_MODEL_18a5cd85ed81439d96233da44b900545",
            "max": 612,
            "min": 0,
            "orientation": "horizontal",
            "style": "IPY_MODEL_546204af0e024b34b467588c8e798533",
            "value": 612
          }
        },
        "c6d9978353b24c4d986de737159299f1": {
          "model_module": "@jupyter-widgets/controls",
          "model_name": "HTMLModel",
          "model_module_version": "1.5.0",
          "state": {
            "_dom_classes": [],
            "_model_module": "@jupyter-widgets/controls",
            "_model_module_version": "1.5.0",
            "_model_name": "HTMLModel",
            "_view_count": null,
            "_view_module": "@jupyter-widgets/controls",
            "_view_module_version": "1.5.0",
            "_view_name": "HTMLView",
            "description": "",
            "description_tooltip": null,
            "layout": "IPY_MODEL_051e20e61a304ee5be6af627ae12797a",
            "placeholder": "​",
            "style": "IPY_MODEL_9a14a4ee28434576bba6e1c200d09576",
            "value": " 612/612 [00:00&lt;00:00, 7.94kB/s]"
          }
        },
        "fd6327e1dc5d49ff83ec151a7dba2197": {
          "model_module": "@jupyter-widgets/base",
          "model_name": "LayoutModel",
          "model_module_version": "1.2.0",
          "state": {
            "_model_module": "@jupyter-widgets/base",
            "_model_module_version": "1.2.0",
            "_model_name": "LayoutModel",
            "_view_count": null,
            "_view_module": "@jupyter-widgets/base",
            "_view_module_version": "1.2.0",
            "_view_name": "LayoutView",
            "align_content": null,
            "align_items": null,
            "align_self": null,
            "border": null,
            "bottom": null,
            "display": null,
            "flex": null,
            "flex_flow": null,
            "grid_area": null,
            "grid_auto_columns": null,
            "grid_auto_flow": null,
            "grid_auto_rows": null,
            "grid_column": null,
            "grid_gap": null,
            "grid_row": null,
            "grid_template_areas": null,
            "grid_template_columns": null,
            "grid_template_rows": null,
            "height": null,
            "justify_content": null,
            "justify_items": null,
            "left": null,
            "margin": null,
            "max_height": null,
            "max_width": null,
            "min_height": null,
            "min_width": null,
            "object_fit": null,
            "object_position": null,
            "order": null,
            "overflow": null,
            "overflow_x": null,
            "overflow_y": null,
            "padding": null,
            "right": null,
            "top": null,
            "visibility": null,
            "width": null
          }
        },
        "12ea62108c564353aebb86e2caabac75": {
          "model_module": "@jupyter-widgets/base",
          "model_name": "LayoutModel",
          "model_module_version": "1.2.0",
          "state": {
            "_model_module": "@jupyter-widgets/base",
            "_model_module_version": "1.2.0",
            "_model_name": "LayoutModel",
            "_view_count": null,
            "_view_module": "@jupyter-widgets/base",
            "_view_module_version": "1.2.0",
            "_view_name": "LayoutView",
            "align_content": null,
            "align_items": null,
            "align_self": null,
            "border": null,
            "bottom": null,
            "display": null,
            "flex": null,
            "flex_flow": null,
            "grid_area": null,
            "grid_auto_columns": null,
            "grid_auto_flow": null,
            "grid_auto_rows": null,
            "grid_column": null,
            "grid_gap": null,
            "grid_row": null,
            "grid_template_areas": null,
            "grid_template_columns": null,
            "grid_template_rows": null,
            "height": null,
            "justify_content": null,
            "justify_items": null,
            "left": null,
            "margin": null,
            "max_height": null,
            "max_width": null,
            "min_height": null,
            "min_width": null,
            "object_fit": null,
            "object_position": null,
            "order": null,
            "overflow": null,
            "overflow_x": null,
            "overflow_y": null,
            "padding": null,
            "right": null,
            "top": null,
            "visibility": null,
            "width": null
          }
        },
        "afd0a6e714fd42af9f38f64d1bc50eff": {
          "model_module": "@jupyter-widgets/controls",
          "model_name": "DescriptionStyleModel",
          "model_module_version": "1.5.0",
          "state": {
            "_model_module": "@jupyter-widgets/controls",
            "_model_module_version": "1.5.0",
            "_model_name": "DescriptionStyleModel",
            "_view_count": null,
            "_view_module": "@jupyter-widgets/base",
            "_view_module_version": "1.2.0",
            "_view_name": "StyleView",
            "description_width": ""
          }
        },
        "18a5cd85ed81439d96233da44b900545": {
          "model_module": "@jupyter-widgets/base",
          "model_name": "LayoutModel",
          "model_module_version": "1.2.0",
          "state": {
            "_model_module": "@jupyter-widgets/base",
            "_model_module_version": "1.2.0",
            "_model_name": "LayoutModel",
            "_view_count": null,
            "_view_module": "@jupyter-widgets/base",
            "_view_module_version": "1.2.0",
            "_view_name": "LayoutView",
            "align_content": null,
            "align_items": null,
            "align_self": null,
            "border": null,
            "bottom": null,
            "display": null,
            "flex": null,
            "flex_flow": null,
            "grid_area": null,
            "grid_auto_columns": null,
            "grid_auto_flow": null,
            "grid_auto_rows": null,
            "grid_column": null,
            "grid_gap": null,
            "grid_row": null,
            "grid_template_areas": null,
            "grid_template_columns": null,
            "grid_template_rows": null,
            "height": null,
            "justify_content": null,
            "justify_items": null,
            "left": null,
            "margin": null,
            "max_height": null,
            "max_width": null,
            "min_height": null,
            "min_width": null,
            "object_fit": null,
            "object_position": null,
            "order": null,
            "overflow": null,
            "overflow_x": null,
            "overflow_y": null,
            "padding": null,
            "right": null,
            "top": null,
            "visibility": null,
            "width": null
          }
        },
        "546204af0e024b34b467588c8e798533": {
          "model_module": "@jupyter-widgets/controls",
          "model_name": "ProgressStyleModel",
          "model_module_version": "1.5.0",
          "state": {
            "_model_module": "@jupyter-widgets/controls",
            "_model_module_version": "1.5.0",
            "_model_name": "ProgressStyleModel",
            "_view_count": null,
            "_view_module": "@jupyter-widgets/base",
            "_view_module_version": "1.2.0",
            "_view_name": "StyleView",
            "bar_color": null,
            "description_width": ""
          }
        },
        "051e20e61a304ee5be6af627ae12797a": {
          "model_module": "@jupyter-widgets/base",
          "model_name": "LayoutModel",
          "model_module_version": "1.2.0",
          "state": {
            "_model_module": "@jupyter-widgets/base",
            "_model_module_version": "1.2.0",
            "_model_name": "LayoutModel",
            "_view_count": null,
            "_view_module": "@jupyter-widgets/base",
            "_view_module_version": "1.2.0",
            "_view_name": "LayoutView",
            "align_content": null,
            "align_items": null,
            "align_self": null,
            "border": null,
            "bottom": null,
            "display": null,
            "flex": null,
            "flex_flow": null,
            "grid_area": null,
            "grid_auto_columns": null,
            "grid_auto_flow": null,
            "grid_auto_rows": null,
            "grid_column": null,
            "grid_gap": null,
            "grid_row": null,
            "grid_template_areas": null,
            "grid_template_columns": null,
            "grid_template_rows": null,
            "height": null,
            "justify_content": null,
            "justify_items": null,
            "left": null,
            "margin": null,
            "max_height": null,
            "max_width": null,
            "min_height": null,
            "min_width": null,
            "object_fit": null,
            "object_position": null,
            "order": null,
            "overflow": null,
            "overflow_x": null,
            "overflow_y": null,
            "padding": null,
            "right": null,
            "top": null,
            "visibility": null,
            "width": null
          }
        },
        "9a14a4ee28434576bba6e1c200d09576": {
          "model_module": "@jupyter-widgets/controls",
          "model_name": "DescriptionStyleModel",
          "model_module_version": "1.5.0",
          "state": {
            "_model_module": "@jupyter-widgets/controls",
            "_model_module_version": "1.5.0",
            "_model_name": "DescriptionStyleModel",
            "_view_count": null,
            "_view_module": "@jupyter-widgets/base",
            "_view_module_version": "1.2.0",
            "_view_name": "StyleView",
            "description_width": ""
          }
        },
        "cbf9b789c68d435186e75ba4da03cb25": {
          "model_module": "@jupyter-widgets/controls",
          "model_name": "HBoxModel",
          "model_module_version": "1.5.0",
          "state": {
            "_dom_classes": [],
            "_model_module": "@jupyter-widgets/controls",
            "_model_module_version": "1.5.0",
            "_model_name": "HBoxModel",
            "_view_count": null,
            "_view_module": "@jupyter-widgets/controls",
            "_view_module_version": "1.5.0",
            "_view_name": "HBoxView",
            "box_style": "",
            "children": [
              "IPY_MODEL_011edd0768d74588ba16f6ddd68ea27c",
              "IPY_MODEL_4a0ef096f41f43e591dfb75a313c4d95",
              "IPY_MODEL_7820c84a431844cc9f90aacc2823d45d"
            ],
            "layout": "IPY_MODEL_54d6322e4bc34e6cb3a885303a02d062"
          }
        },
        "011edd0768d74588ba16f6ddd68ea27c": {
          "model_module": "@jupyter-widgets/controls",
          "model_name": "HTMLModel",
          "model_module_version": "1.5.0",
          "state": {
            "_dom_classes": [],
            "_model_module": "@jupyter-widgets/controls",
            "_model_module_version": "1.5.0",
            "_model_name": "HTMLModel",
            "_view_count": null,
            "_view_module": "@jupyter-widgets/controls",
            "_view_module_version": "1.5.0",
            "_view_name": "HTMLView",
            "description": "",
            "description_tooltip": null,
            "layout": "IPY_MODEL_ab042b856b01451699aa3003ab1e9b0a",
            "placeholder": "​",
            "style": "IPY_MODEL_f441a938311a4bd99303a809e3ae4586",
            "value": "model.safetensors: 100%"
          }
        },
        "4a0ef096f41f43e591dfb75a313c4d95": {
          "model_module": "@jupyter-widgets/controls",
          "model_name": "FloatProgressModel",
          "model_module_version": "1.5.0",
          "state": {
            "_dom_classes": [],
            "_model_module": "@jupyter-widgets/controls",
            "_model_module_version": "1.5.0",
            "_model_name": "FloatProgressModel",
            "_view_count": null,
            "_view_module": "@jupyter-widgets/controls",
            "_view_module_version": "1.5.0",
            "_view_name": "ProgressView",
            "bar_style": "success",
            "description": "",
            "description_tooltip": null,
            "layout": "IPY_MODEL_260823b7d1b14c119d0cedb313f6abcd",
            "max": 90868376,
            "min": 0,
            "orientation": "horizontal",
            "style": "IPY_MODEL_52e56b86c209459a9627e8771ddf9932",
            "value": 90868376
          }
        },
        "7820c84a431844cc9f90aacc2823d45d": {
          "model_module": "@jupyter-widgets/controls",
          "model_name": "HTMLModel",
          "model_module_version": "1.5.0",
          "state": {
            "_dom_classes": [],
            "_model_module": "@jupyter-widgets/controls",
            "_model_module_version": "1.5.0",
            "_model_name": "HTMLModel",
            "_view_count": null,
            "_view_module": "@jupyter-widgets/controls",
            "_view_module_version": "1.5.0",
            "_view_name": "HTMLView",
            "description": "",
            "description_tooltip": null,
            "layout": "IPY_MODEL_b9d070308b924e70823f6c50c9c0b62a",
            "placeholder": "​",
            "style": "IPY_MODEL_12c0d52c0abc4b369a6af1adac316b0b",
            "value": " 90.9M/90.9M [00:00&lt;00:00, 129MB/s]"
          }
        },
        "54d6322e4bc34e6cb3a885303a02d062": {
          "model_module": "@jupyter-widgets/base",
          "model_name": "LayoutModel",
          "model_module_version": "1.2.0",
          "state": {
            "_model_module": "@jupyter-widgets/base",
            "_model_module_version": "1.2.0",
            "_model_name": "LayoutModel",
            "_view_count": null,
            "_view_module": "@jupyter-widgets/base",
            "_view_module_version": "1.2.0",
            "_view_name": "LayoutView",
            "align_content": null,
            "align_items": null,
            "align_self": null,
            "border": null,
            "bottom": null,
            "display": null,
            "flex": null,
            "flex_flow": null,
            "grid_area": null,
            "grid_auto_columns": null,
            "grid_auto_flow": null,
            "grid_auto_rows": null,
            "grid_column": null,
            "grid_gap": null,
            "grid_row": null,
            "grid_template_areas": null,
            "grid_template_columns": null,
            "grid_template_rows": null,
            "height": null,
            "justify_content": null,
            "justify_items": null,
            "left": null,
            "margin": null,
            "max_height": null,
            "max_width": null,
            "min_height": null,
            "min_width": null,
            "object_fit": null,
            "object_position": null,
            "order": null,
            "overflow": null,
            "overflow_x": null,
            "overflow_y": null,
            "padding": null,
            "right": null,
            "top": null,
            "visibility": null,
            "width": null
          }
        },
        "ab042b856b01451699aa3003ab1e9b0a": {
          "model_module": "@jupyter-widgets/base",
          "model_name": "LayoutModel",
          "model_module_version": "1.2.0",
          "state": {
            "_model_module": "@jupyter-widgets/base",
            "_model_module_version": "1.2.0",
            "_model_name": "LayoutModel",
            "_view_count": null,
            "_view_module": "@jupyter-widgets/base",
            "_view_module_version": "1.2.0",
            "_view_name": "LayoutView",
            "align_content": null,
            "align_items": null,
            "align_self": null,
            "border": null,
            "bottom": null,
            "display": null,
            "flex": null,
            "flex_flow": null,
            "grid_area": null,
            "grid_auto_columns": null,
            "grid_auto_flow": null,
            "grid_auto_rows": null,
            "grid_column": null,
            "grid_gap": null,
            "grid_row": null,
            "grid_template_areas": null,
            "grid_template_columns": null,
            "grid_template_rows": null,
            "height": null,
            "justify_content": null,
            "justify_items": null,
            "left": null,
            "margin": null,
            "max_height": null,
            "max_width": null,
            "min_height": null,
            "min_width": null,
            "object_fit": null,
            "object_position": null,
            "order": null,
            "overflow": null,
            "overflow_x": null,
            "overflow_y": null,
            "padding": null,
            "right": null,
            "top": null,
            "visibility": null,
            "width": null
          }
        },
        "f441a938311a4bd99303a809e3ae4586": {
          "model_module": "@jupyter-widgets/controls",
          "model_name": "DescriptionStyleModel",
          "model_module_version": "1.5.0",
          "state": {
            "_model_module": "@jupyter-widgets/controls",
            "_model_module_version": "1.5.0",
            "_model_name": "DescriptionStyleModel",
            "_view_count": null,
            "_view_module": "@jupyter-widgets/base",
            "_view_module_version": "1.2.0",
            "_view_name": "StyleView",
            "description_width": ""
          }
        },
        "260823b7d1b14c119d0cedb313f6abcd": {
          "model_module": "@jupyter-widgets/base",
          "model_name": "LayoutModel",
          "model_module_version": "1.2.0",
          "state": {
            "_model_module": "@jupyter-widgets/base",
            "_model_module_version": "1.2.0",
            "_model_name": "LayoutModel",
            "_view_count": null,
            "_view_module": "@jupyter-widgets/base",
            "_view_module_version": "1.2.0",
            "_view_name": "LayoutView",
            "align_content": null,
            "align_items": null,
            "align_self": null,
            "border": null,
            "bottom": null,
            "display": null,
            "flex": null,
            "flex_flow": null,
            "grid_area": null,
            "grid_auto_columns": null,
            "grid_auto_flow": null,
            "grid_auto_rows": null,
            "grid_column": null,
            "grid_gap": null,
            "grid_row": null,
            "grid_template_areas": null,
            "grid_template_columns": null,
            "grid_template_rows": null,
            "height": null,
            "justify_content": null,
            "justify_items": null,
            "left": null,
            "margin": null,
            "max_height": null,
            "max_width": null,
            "min_height": null,
            "min_width": null,
            "object_fit": null,
            "object_position": null,
            "order": null,
            "overflow": null,
            "overflow_x": null,
            "overflow_y": null,
            "padding": null,
            "right": null,
            "top": null,
            "visibility": null,
            "width": null
          }
        },
        "52e56b86c209459a9627e8771ddf9932": {
          "model_module": "@jupyter-widgets/controls",
          "model_name": "ProgressStyleModel",
          "model_module_version": "1.5.0",
          "state": {
            "_model_module": "@jupyter-widgets/controls",
            "_model_module_version": "1.5.0",
            "_model_name": "ProgressStyleModel",
            "_view_count": null,
            "_view_module": "@jupyter-widgets/base",
            "_view_module_version": "1.2.0",
            "_view_name": "StyleView",
            "bar_color": null,
            "description_width": ""
          }
        },
        "b9d070308b924e70823f6c50c9c0b62a": {
          "model_module": "@jupyter-widgets/base",
          "model_name": "LayoutModel",
          "model_module_version": "1.2.0",
          "state": {
            "_model_module": "@jupyter-widgets/base",
            "_model_module_version": "1.2.0",
            "_model_name": "LayoutModel",
            "_view_count": null,
            "_view_module": "@jupyter-widgets/base",
            "_view_module_version": "1.2.0",
            "_view_name": "LayoutView",
            "align_content": null,
            "align_items": null,
            "align_self": null,
            "border": null,
            "bottom": null,
            "display": null,
            "flex": null,
            "flex_flow": null,
            "grid_area": null,
            "grid_auto_columns": null,
            "grid_auto_flow": null,
            "grid_auto_rows": null,
            "grid_column": null,
            "grid_gap": null,
            "grid_row": null,
            "grid_template_areas": null,
            "grid_template_columns": null,
            "grid_template_rows": null,
            "height": null,
            "justify_content": null,
            "justify_items": null,
            "left": null,
            "margin": null,
            "max_height": null,
            "max_width": null,
            "min_height": null,
            "min_width": null,
            "object_fit": null,
            "object_position": null,
            "order": null,
            "overflow": null,
            "overflow_x": null,
            "overflow_y": null,
            "padding": null,
            "right": null,
            "top": null,
            "visibility": null,
            "width": null
          }
        },
        "12c0d52c0abc4b369a6af1adac316b0b": {
          "model_module": "@jupyter-widgets/controls",
          "model_name": "DescriptionStyleModel",
          "model_module_version": "1.5.0",
          "state": {
            "_model_module": "@jupyter-widgets/controls",
            "_model_module_version": "1.5.0",
            "_model_name": "DescriptionStyleModel",
            "_view_count": null,
            "_view_module": "@jupyter-widgets/base",
            "_view_module_version": "1.2.0",
            "_view_name": "StyleView",
            "description_width": ""
          }
        },
        "989a4513699444c2a98b69c68abd88ac": {
          "model_module": "@jupyter-widgets/controls",
          "model_name": "HBoxModel",
          "model_module_version": "1.5.0",
          "state": {
            "_dom_classes": [],
            "_model_module": "@jupyter-widgets/controls",
            "_model_module_version": "1.5.0",
            "_model_name": "HBoxModel",
            "_view_count": null,
            "_view_module": "@jupyter-widgets/controls",
            "_view_module_version": "1.5.0",
            "_view_name": "HBoxView",
            "box_style": "",
            "children": [
              "IPY_MODEL_38a2426c9a454377b826de3810f848e3",
              "IPY_MODEL_ea95a3b0898e4600b5e472b4bd5a5f58",
              "IPY_MODEL_6c550a59139348d29e77fcc22fee6dab"
            ],
            "layout": "IPY_MODEL_4b8e221839964051800d65626c1e3f17"
          }
        },
        "38a2426c9a454377b826de3810f848e3": {
          "model_module": "@jupyter-widgets/controls",
          "model_name": "HTMLModel",
          "model_module_version": "1.5.0",
          "state": {
            "_dom_classes": [],
            "_model_module": "@jupyter-widgets/controls",
            "_model_module_version": "1.5.0",
            "_model_name": "HTMLModel",
            "_view_count": null,
            "_view_module": "@jupyter-widgets/controls",
            "_view_module_version": "1.5.0",
            "_view_name": "HTMLView",
            "description": "",
            "description_tooltip": null,
            "layout": "IPY_MODEL_3e3aacce47524840994a7675f0a372c1",
            "placeholder": "​",
            "style": "IPY_MODEL_64025ab004874a7fa7e28da2d1dc50e0",
            "value": "tokenizer_config.json: 100%"
          }
        },
        "ea95a3b0898e4600b5e472b4bd5a5f58": {
          "model_module": "@jupyter-widgets/controls",
          "model_name": "FloatProgressModel",
          "model_module_version": "1.5.0",
          "state": {
            "_dom_classes": [],
            "_model_module": "@jupyter-widgets/controls",
            "_model_module_version": "1.5.0",
            "_model_name": "FloatProgressModel",
            "_view_count": null,
            "_view_module": "@jupyter-widgets/controls",
            "_view_module_version": "1.5.0",
            "_view_name": "ProgressView",
            "bar_style": "success",
            "description": "",
            "description_tooltip": null,
            "layout": "IPY_MODEL_a98bbb1d3b844bfb8e5de27eb50645d2",
            "max": 350,
            "min": 0,
            "orientation": "horizontal",
            "style": "IPY_MODEL_5a5dd5c2d2ec47598dbe0d48f9d58bbe",
            "value": 350
          }
        },
        "6c550a59139348d29e77fcc22fee6dab": {
          "model_module": "@jupyter-widgets/controls",
          "model_name": "HTMLModel",
          "model_module_version": "1.5.0",
          "state": {
            "_dom_classes": [],
            "_model_module": "@jupyter-widgets/controls",
            "_model_module_version": "1.5.0",
            "_model_name": "HTMLModel",
            "_view_count": null,
            "_view_module": "@jupyter-widgets/controls",
            "_view_module_version": "1.5.0",
            "_view_name": "HTMLView",
            "description": "",
            "description_tooltip": null,
            "layout": "IPY_MODEL_7a9225ee4e5e4e00a464aff3bb5c7932",
            "placeholder": "​",
            "style": "IPY_MODEL_6064bf59a2c64dcaa2f11719972ce071",
            "value": " 350/350 [00:00&lt;00:00, 4.63kB/s]"
          }
        },
        "4b8e221839964051800d65626c1e3f17": {
          "model_module": "@jupyter-widgets/base",
          "model_name": "LayoutModel",
          "model_module_version": "1.2.0",
          "state": {
            "_model_module": "@jupyter-widgets/base",
            "_model_module_version": "1.2.0",
            "_model_name": "LayoutModel",
            "_view_count": null,
            "_view_module": "@jupyter-widgets/base",
            "_view_module_version": "1.2.0",
            "_view_name": "LayoutView",
            "align_content": null,
            "align_items": null,
            "align_self": null,
            "border": null,
            "bottom": null,
            "display": null,
            "flex": null,
            "flex_flow": null,
            "grid_area": null,
            "grid_auto_columns": null,
            "grid_auto_flow": null,
            "grid_auto_rows": null,
            "grid_column": null,
            "grid_gap": null,
            "grid_row": null,
            "grid_template_areas": null,
            "grid_template_columns": null,
            "grid_template_rows": null,
            "height": null,
            "justify_content": null,
            "justify_items": null,
            "left": null,
            "margin": null,
            "max_height": null,
            "max_width": null,
            "min_height": null,
            "min_width": null,
            "object_fit": null,
            "object_position": null,
            "order": null,
            "overflow": null,
            "overflow_x": null,
            "overflow_y": null,
            "padding": null,
            "right": null,
            "top": null,
            "visibility": null,
            "width": null
          }
        },
        "3e3aacce47524840994a7675f0a372c1": {
          "model_module": "@jupyter-widgets/base",
          "model_name": "LayoutModel",
          "model_module_version": "1.2.0",
          "state": {
            "_model_module": "@jupyter-widgets/base",
            "_model_module_version": "1.2.0",
            "_model_name": "LayoutModel",
            "_view_count": null,
            "_view_module": "@jupyter-widgets/base",
            "_view_module_version": "1.2.0",
            "_view_name": "LayoutView",
            "align_content": null,
            "align_items": null,
            "align_self": null,
            "border": null,
            "bottom": null,
            "display": null,
            "flex": null,
            "flex_flow": null,
            "grid_area": null,
            "grid_auto_columns": null,
            "grid_auto_flow": null,
            "grid_auto_rows": null,
            "grid_column": null,
            "grid_gap": null,
            "grid_row": null,
            "grid_template_areas": null,
            "grid_template_columns": null,
            "grid_template_rows": null,
            "height": null,
            "justify_content": null,
            "justify_items": null,
            "left": null,
            "margin": null,
            "max_height": null,
            "max_width": null,
            "min_height": null,
            "min_width": null,
            "object_fit": null,
            "object_position": null,
            "order": null,
            "overflow": null,
            "overflow_x": null,
            "overflow_y": null,
            "padding": null,
            "right": null,
            "top": null,
            "visibility": null,
            "width": null
          }
        },
        "64025ab004874a7fa7e28da2d1dc50e0": {
          "model_module": "@jupyter-widgets/controls",
          "model_name": "DescriptionStyleModel",
          "model_module_version": "1.5.0",
          "state": {
            "_model_module": "@jupyter-widgets/controls",
            "_model_module_version": "1.5.0",
            "_model_name": "DescriptionStyleModel",
            "_view_count": null,
            "_view_module": "@jupyter-widgets/base",
            "_view_module_version": "1.2.0",
            "_view_name": "StyleView",
            "description_width": ""
          }
        },
        "a98bbb1d3b844bfb8e5de27eb50645d2": {
          "model_module": "@jupyter-widgets/base",
          "model_name": "LayoutModel",
          "model_module_version": "1.2.0",
          "state": {
            "_model_module": "@jupyter-widgets/base",
            "_model_module_version": "1.2.0",
            "_model_name": "LayoutModel",
            "_view_count": null,
            "_view_module": "@jupyter-widgets/base",
            "_view_module_version": "1.2.0",
            "_view_name": "LayoutView",
            "align_content": null,
            "align_items": null,
            "align_self": null,
            "border": null,
            "bottom": null,
            "display": null,
            "flex": null,
            "flex_flow": null,
            "grid_area": null,
            "grid_auto_columns": null,
            "grid_auto_flow": null,
            "grid_auto_rows": null,
            "grid_column": null,
            "grid_gap": null,
            "grid_row": null,
            "grid_template_areas": null,
            "grid_template_columns": null,
            "grid_template_rows": null,
            "height": null,
            "justify_content": null,
            "justify_items": null,
            "left": null,
            "margin": null,
            "max_height": null,
            "max_width": null,
            "min_height": null,
            "min_width": null,
            "object_fit": null,
            "object_position": null,
            "order": null,
            "overflow": null,
            "overflow_x": null,
            "overflow_y": null,
            "padding": null,
            "right": null,
            "top": null,
            "visibility": null,
            "width": null
          }
        },
        "5a5dd5c2d2ec47598dbe0d48f9d58bbe": {
          "model_module": "@jupyter-widgets/controls",
          "model_name": "ProgressStyleModel",
          "model_module_version": "1.5.0",
          "state": {
            "_model_module": "@jupyter-widgets/controls",
            "_model_module_version": "1.5.0",
            "_model_name": "ProgressStyleModel",
            "_view_count": null,
            "_view_module": "@jupyter-widgets/base",
            "_view_module_version": "1.2.0",
            "_view_name": "StyleView",
            "bar_color": null,
            "description_width": ""
          }
        },
        "7a9225ee4e5e4e00a464aff3bb5c7932": {
          "model_module": "@jupyter-widgets/base",
          "model_name": "LayoutModel",
          "model_module_version": "1.2.0",
          "state": {
            "_model_module": "@jupyter-widgets/base",
            "_model_module_version": "1.2.0",
            "_model_name": "LayoutModel",
            "_view_count": null,
            "_view_module": "@jupyter-widgets/base",
            "_view_module_version": "1.2.0",
            "_view_name": "LayoutView",
            "align_content": null,
            "align_items": null,
            "align_self": null,
            "border": null,
            "bottom": null,
            "display": null,
            "flex": null,
            "flex_flow": null,
            "grid_area": null,
            "grid_auto_columns": null,
            "grid_auto_flow": null,
            "grid_auto_rows": null,
            "grid_column": null,
            "grid_gap": null,
            "grid_row": null,
            "grid_template_areas": null,
            "grid_template_columns": null,
            "grid_template_rows": null,
            "height": null,
            "justify_content": null,
            "justify_items": null,
            "left": null,
            "margin": null,
            "max_height": null,
            "max_width": null,
            "min_height": null,
            "min_width": null,
            "object_fit": null,
            "object_position": null,
            "order": null,
            "overflow": null,
            "overflow_x": null,
            "overflow_y": null,
            "padding": null,
            "right": null,
            "top": null,
            "visibility": null,
            "width": null
          }
        },
        "6064bf59a2c64dcaa2f11719972ce071": {
          "model_module": "@jupyter-widgets/controls",
          "model_name": "DescriptionStyleModel",
          "model_module_version": "1.5.0",
          "state": {
            "_model_module": "@jupyter-widgets/controls",
            "_model_module_version": "1.5.0",
            "_model_name": "DescriptionStyleModel",
            "_view_count": null,
            "_view_module": "@jupyter-widgets/base",
            "_view_module_version": "1.2.0",
            "_view_name": "StyleView",
            "description_width": ""
          }
        },
        "54c97e1318274b8dba28f749fba89553": {
          "model_module": "@jupyter-widgets/controls",
          "model_name": "HBoxModel",
          "model_module_version": "1.5.0",
          "state": {
            "_dom_classes": [],
            "_model_module": "@jupyter-widgets/controls",
            "_model_module_version": "1.5.0",
            "_model_name": "HBoxModel",
            "_view_count": null,
            "_view_module": "@jupyter-widgets/controls",
            "_view_module_version": "1.5.0",
            "_view_name": "HBoxView",
            "box_style": "",
            "children": [
              "IPY_MODEL_4cc386e9e3d6415e8767e37b5b3edbd3",
              "IPY_MODEL_88bc99818cf44b26ba0186fbbd1b075e",
              "IPY_MODEL_8b7548faa5894fa79684c34e0cd2ff83"
            ],
            "layout": "IPY_MODEL_91d6c0550a7f47b2959680c741bef35e"
          }
        },
        "4cc386e9e3d6415e8767e37b5b3edbd3": {
          "model_module": "@jupyter-widgets/controls",
          "model_name": "HTMLModel",
          "model_module_version": "1.5.0",
          "state": {
            "_dom_classes": [],
            "_model_module": "@jupyter-widgets/controls",
            "_model_module_version": "1.5.0",
            "_model_name": "HTMLModel",
            "_view_count": null,
            "_view_module": "@jupyter-widgets/controls",
            "_view_module_version": "1.5.0",
            "_view_name": "HTMLView",
            "description": "",
            "description_tooltip": null,
            "layout": "IPY_MODEL_1eb0bcf44c2f46a8aee8c7cdae5ec9b9",
            "placeholder": "​",
            "style": "IPY_MODEL_93e7bc3e065b4d7c89bbf0264a65240d",
            "value": "vocab.txt: 100%"
          }
        },
        "88bc99818cf44b26ba0186fbbd1b075e": {
          "model_module": "@jupyter-widgets/controls",
          "model_name": "FloatProgressModel",
          "model_module_version": "1.5.0",
          "state": {
            "_dom_classes": [],
            "_model_module": "@jupyter-widgets/controls",
            "_model_module_version": "1.5.0",
            "_model_name": "FloatProgressModel",
            "_view_count": null,
            "_view_module": "@jupyter-widgets/controls",
            "_view_module_version": "1.5.0",
            "_view_name": "ProgressView",
            "bar_style": "success",
            "description": "",
            "description_tooltip": null,
            "layout": "IPY_MODEL_f4ca348c41ce43d58a3d14ea9e4818ef",
            "max": 231508,
            "min": 0,
            "orientation": "horizontal",
            "style": "IPY_MODEL_581e22d44ad94d53bc3f34578f281bb1",
            "value": 231508
          }
        },
        "8b7548faa5894fa79684c34e0cd2ff83": {
          "model_module": "@jupyter-widgets/controls",
          "model_name": "HTMLModel",
          "model_module_version": "1.5.0",
          "state": {
            "_dom_classes": [],
            "_model_module": "@jupyter-widgets/controls",
            "_model_module_version": "1.5.0",
            "_model_name": "HTMLModel",
            "_view_count": null,
            "_view_module": "@jupyter-widgets/controls",
            "_view_module_version": "1.5.0",
            "_view_name": "HTMLView",
            "description": "",
            "description_tooltip": null,
            "layout": "IPY_MODEL_6f08106677254d6ba16800fd34bfe2d5",
            "placeholder": "​",
            "style": "IPY_MODEL_46ba9e5bd08b485899370a79779040c3",
            "value": " 232k/232k [00:00&lt;00:00, 1.73MB/s]"
          }
        },
        "91d6c0550a7f47b2959680c741bef35e": {
          "model_module": "@jupyter-widgets/base",
          "model_name": "LayoutModel",
          "model_module_version": "1.2.0",
          "state": {
            "_model_module": "@jupyter-widgets/base",
            "_model_module_version": "1.2.0",
            "_model_name": "LayoutModel",
            "_view_count": null,
            "_view_module": "@jupyter-widgets/base",
            "_view_module_version": "1.2.0",
            "_view_name": "LayoutView",
            "align_content": null,
            "align_items": null,
            "align_self": null,
            "border": null,
            "bottom": null,
            "display": null,
            "flex": null,
            "flex_flow": null,
            "grid_area": null,
            "grid_auto_columns": null,
            "grid_auto_flow": null,
            "grid_auto_rows": null,
            "grid_column": null,
            "grid_gap": null,
            "grid_row": null,
            "grid_template_areas": null,
            "grid_template_columns": null,
            "grid_template_rows": null,
            "height": null,
            "justify_content": null,
            "justify_items": null,
            "left": null,
            "margin": null,
            "max_height": null,
            "max_width": null,
            "min_height": null,
            "min_width": null,
            "object_fit": null,
            "object_position": null,
            "order": null,
            "overflow": null,
            "overflow_x": null,
            "overflow_y": null,
            "padding": null,
            "right": null,
            "top": null,
            "visibility": null,
            "width": null
          }
        },
        "1eb0bcf44c2f46a8aee8c7cdae5ec9b9": {
          "model_module": "@jupyter-widgets/base",
          "model_name": "LayoutModel",
          "model_module_version": "1.2.0",
          "state": {
            "_model_module": "@jupyter-widgets/base",
            "_model_module_version": "1.2.0",
            "_model_name": "LayoutModel",
            "_view_count": null,
            "_view_module": "@jupyter-widgets/base",
            "_view_module_version": "1.2.0",
            "_view_name": "LayoutView",
            "align_content": null,
            "align_items": null,
            "align_self": null,
            "border": null,
            "bottom": null,
            "display": null,
            "flex": null,
            "flex_flow": null,
            "grid_area": null,
            "grid_auto_columns": null,
            "grid_auto_flow": null,
            "grid_auto_rows": null,
            "grid_column": null,
            "grid_gap": null,
            "grid_row": null,
            "grid_template_areas": null,
            "grid_template_columns": null,
            "grid_template_rows": null,
            "height": null,
            "justify_content": null,
            "justify_items": null,
            "left": null,
            "margin": null,
            "max_height": null,
            "max_width": null,
            "min_height": null,
            "min_width": null,
            "object_fit": null,
            "object_position": null,
            "order": null,
            "overflow": null,
            "overflow_x": null,
            "overflow_y": null,
            "padding": null,
            "right": null,
            "top": null,
            "visibility": null,
            "width": null
          }
        },
        "93e7bc3e065b4d7c89bbf0264a65240d": {
          "model_module": "@jupyter-widgets/controls",
          "model_name": "DescriptionStyleModel",
          "model_module_version": "1.5.0",
          "state": {
            "_model_module": "@jupyter-widgets/controls",
            "_model_module_version": "1.5.0",
            "_model_name": "DescriptionStyleModel",
            "_view_count": null,
            "_view_module": "@jupyter-widgets/base",
            "_view_module_version": "1.2.0",
            "_view_name": "StyleView",
            "description_width": ""
          }
        },
        "f4ca348c41ce43d58a3d14ea9e4818ef": {
          "model_module": "@jupyter-widgets/base",
          "model_name": "LayoutModel",
          "model_module_version": "1.2.0",
          "state": {
            "_model_module": "@jupyter-widgets/base",
            "_model_module_version": "1.2.0",
            "_model_name": "LayoutModel",
            "_view_count": null,
            "_view_module": "@jupyter-widgets/base",
            "_view_module_version": "1.2.0",
            "_view_name": "LayoutView",
            "align_content": null,
            "align_items": null,
            "align_self": null,
            "border": null,
            "bottom": null,
            "display": null,
            "flex": null,
            "flex_flow": null,
            "grid_area": null,
            "grid_auto_columns": null,
            "grid_auto_flow": null,
            "grid_auto_rows": null,
            "grid_column": null,
            "grid_gap": null,
            "grid_row": null,
            "grid_template_areas": null,
            "grid_template_columns": null,
            "grid_template_rows": null,
            "height": null,
            "justify_content": null,
            "justify_items": null,
            "left": null,
            "margin": null,
            "max_height": null,
            "max_width": null,
            "min_height": null,
            "min_width": null,
            "object_fit": null,
            "object_position": null,
            "order": null,
            "overflow": null,
            "overflow_x": null,
            "overflow_y": null,
            "padding": null,
            "right": null,
            "top": null,
            "visibility": null,
            "width": null
          }
        },
        "581e22d44ad94d53bc3f34578f281bb1": {
          "model_module": "@jupyter-widgets/controls",
          "model_name": "ProgressStyleModel",
          "model_module_version": "1.5.0",
          "state": {
            "_model_module": "@jupyter-widgets/controls",
            "_model_module_version": "1.5.0",
            "_model_name": "ProgressStyleModel",
            "_view_count": null,
            "_view_module": "@jupyter-widgets/base",
            "_view_module_version": "1.2.0",
            "_view_name": "StyleView",
            "bar_color": null,
            "description_width": ""
          }
        },
        "6f08106677254d6ba16800fd34bfe2d5": {
          "model_module": "@jupyter-widgets/base",
          "model_name": "LayoutModel",
          "model_module_version": "1.2.0",
          "state": {
            "_model_module": "@jupyter-widgets/base",
            "_model_module_version": "1.2.0",
            "_model_name": "LayoutModel",
            "_view_count": null,
            "_view_module": "@jupyter-widgets/base",
            "_view_module_version": "1.2.0",
            "_view_name": "LayoutView",
            "align_content": null,
            "align_items": null,
            "align_self": null,
            "border": null,
            "bottom": null,
            "display": null,
            "flex": null,
            "flex_flow": null,
            "grid_area": null,
            "grid_auto_columns": null,
            "grid_auto_flow": null,
            "grid_auto_rows": null,
            "grid_column": null,
            "grid_gap": null,
            "grid_row": null,
            "grid_template_areas": null,
            "grid_template_columns": null,
            "grid_template_rows": null,
            "height": null,
            "justify_content": null,
            "justify_items": null,
            "left": null,
            "margin": null,
            "max_height": null,
            "max_width": null,
            "min_height": null,
            "min_width": null,
            "object_fit": null,
            "object_position": null,
            "order": null,
            "overflow": null,
            "overflow_x": null,
            "overflow_y": null,
            "padding": null,
            "right": null,
            "top": null,
            "visibility": null,
            "width": null
          }
        },
        "46ba9e5bd08b485899370a79779040c3": {
          "model_module": "@jupyter-widgets/controls",
          "model_name": "DescriptionStyleModel",
          "model_module_version": "1.5.0",
          "state": {
            "_model_module": "@jupyter-widgets/controls",
            "_model_module_version": "1.5.0",
            "_model_name": "DescriptionStyleModel",
            "_view_count": null,
            "_view_module": "@jupyter-widgets/base",
            "_view_module_version": "1.2.0",
            "_view_name": "StyleView",
            "description_width": ""
          }
        },
        "1e79d29c2d7f4dc887ffdff0312f26fa": {
          "model_module": "@jupyter-widgets/controls",
          "model_name": "HBoxModel",
          "model_module_version": "1.5.0",
          "state": {
            "_dom_classes": [],
            "_model_module": "@jupyter-widgets/controls",
            "_model_module_version": "1.5.0",
            "_model_name": "HBoxModel",
            "_view_count": null,
            "_view_module": "@jupyter-widgets/controls",
            "_view_module_version": "1.5.0",
            "_view_name": "HBoxView",
            "box_style": "",
            "children": [
              "IPY_MODEL_8a034a95f01d4e8cb40a13e66e31a441",
              "IPY_MODEL_20e3a8b811154e6aaca79badabe50aa2",
              "IPY_MODEL_30a7519da3c344b4b1ee9a204973724a"
            ],
            "layout": "IPY_MODEL_d97520851253491286b6d06edd33f6d3"
          }
        },
        "8a034a95f01d4e8cb40a13e66e31a441": {
          "model_module": "@jupyter-widgets/controls",
          "model_name": "HTMLModel",
          "model_module_version": "1.5.0",
          "state": {
            "_dom_classes": [],
            "_model_module": "@jupyter-widgets/controls",
            "_model_module_version": "1.5.0",
            "_model_name": "HTMLModel",
            "_view_count": null,
            "_view_module": "@jupyter-widgets/controls",
            "_view_module_version": "1.5.0",
            "_view_name": "HTMLView",
            "description": "",
            "description_tooltip": null,
            "layout": "IPY_MODEL_acfd8ba252da4570a1eef952ec0d52b5",
            "placeholder": "​",
            "style": "IPY_MODEL_6fa3e22fd3af4937b1f862d4e00cab63",
            "value": "tokenizer.json: 100%"
          }
        },
        "20e3a8b811154e6aaca79badabe50aa2": {
          "model_module": "@jupyter-widgets/controls",
          "model_name": "FloatProgressModel",
          "model_module_version": "1.5.0",
          "state": {
            "_dom_classes": [],
            "_model_module": "@jupyter-widgets/controls",
            "_model_module_version": "1.5.0",
            "_model_name": "FloatProgressModel",
            "_view_count": null,
            "_view_module": "@jupyter-widgets/controls",
            "_view_module_version": "1.5.0",
            "_view_name": "ProgressView",
            "bar_style": "success",
            "description": "",
            "description_tooltip": null,
            "layout": "IPY_MODEL_4f04a47f5fcf492a8a50159ebdf04379",
            "max": 466247,
            "min": 0,
            "orientation": "horizontal",
            "style": "IPY_MODEL_f3fc121b63844a86af569f9940190e81",
            "value": 466247
          }
        },
        "30a7519da3c344b4b1ee9a204973724a": {
          "model_module": "@jupyter-widgets/controls",
          "model_name": "HTMLModel",
          "model_module_version": "1.5.0",
          "state": {
            "_dom_classes": [],
            "_model_module": "@jupyter-widgets/controls",
            "_model_module_version": "1.5.0",
            "_model_name": "HTMLModel",
            "_view_count": null,
            "_view_module": "@jupyter-widgets/controls",
            "_view_module_version": "1.5.0",
            "_view_name": "HTMLView",
            "description": "",
            "description_tooltip": null,
            "layout": "IPY_MODEL_1e88a694dd2b4ac1b50c2bc006129c73",
            "placeholder": "​",
            "style": "IPY_MODEL_abf09610a9d2483c82de61d8209a3c60",
            "value": " 466k/466k [00:00&lt;00:00, 6.75MB/s]"
          }
        },
        "d97520851253491286b6d06edd33f6d3": {
          "model_module": "@jupyter-widgets/base",
          "model_name": "LayoutModel",
          "model_module_version": "1.2.0",
          "state": {
            "_model_module": "@jupyter-widgets/base",
            "_model_module_version": "1.2.0",
            "_model_name": "LayoutModel",
            "_view_count": null,
            "_view_module": "@jupyter-widgets/base",
            "_view_module_version": "1.2.0",
            "_view_name": "LayoutView",
            "align_content": null,
            "align_items": null,
            "align_self": null,
            "border": null,
            "bottom": null,
            "display": null,
            "flex": null,
            "flex_flow": null,
            "grid_area": null,
            "grid_auto_columns": null,
            "grid_auto_flow": null,
            "grid_auto_rows": null,
            "grid_column": null,
            "grid_gap": null,
            "grid_row": null,
            "grid_template_areas": null,
            "grid_template_columns": null,
            "grid_template_rows": null,
            "height": null,
            "justify_content": null,
            "justify_items": null,
            "left": null,
            "margin": null,
            "max_height": null,
            "max_width": null,
            "min_height": null,
            "min_width": null,
            "object_fit": null,
            "object_position": null,
            "order": null,
            "overflow": null,
            "overflow_x": null,
            "overflow_y": null,
            "padding": null,
            "right": null,
            "top": null,
            "visibility": null,
            "width": null
          }
        },
        "acfd8ba252da4570a1eef952ec0d52b5": {
          "model_module": "@jupyter-widgets/base",
          "model_name": "LayoutModel",
          "model_module_version": "1.2.0",
          "state": {
            "_model_module": "@jupyter-widgets/base",
            "_model_module_version": "1.2.0",
            "_model_name": "LayoutModel",
            "_view_count": null,
            "_view_module": "@jupyter-widgets/base",
            "_view_module_version": "1.2.0",
            "_view_name": "LayoutView",
            "align_content": null,
            "align_items": null,
            "align_self": null,
            "border": null,
            "bottom": null,
            "display": null,
            "flex": null,
            "flex_flow": null,
            "grid_area": null,
            "grid_auto_columns": null,
            "grid_auto_flow": null,
            "grid_auto_rows": null,
            "grid_column": null,
            "grid_gap": null,
            "grid_row": null,
            "grid_template_areas": null,
            "grid_template_columns": null,
            "grid_template_rows": null,
            "height": null,
            "justify_content": null,
            "justify_items": null,
            "left": null,
            "margin": null,
            "max_height": null,
            "max_width": null,
            "min_height": null,
            "min_width": null,
            "object_fit": null,
            "object_position": null,
            "order": null,
            "overflow": null,
            "overflow_x": null,
            "overflow_y": null,
            "padding": null,
            "right": null,
            "top": null,
            "visibility": null,
            "width": null
          }
        },
        "6fa3e22fd3af4937b1f862d4e00cab63": {
          "model_module": "@jupyter-widgets/controls",
          "model_name": "DescriptionStyleModel",
          "model_module_version": "1.5.0",
          "state": {
            "_model_module": "@jupyter-widgets/controls",
            "_model_module_version": "1.5.0",
            "_model_name": "DescriptionStyleModel",
            "_view_count": null,
            "_view_module": "@jupyter-widgets/base",
            "_view_module_version": "1.2.0",
            "_view_name": "StyleView",
            "description_width": ""
          }
        },
        "4f04a47f5fcf492a8a50159ebdf04379": {
          "model_module": "@jupyter-widgets/base",
          "model_name": "LayoutModel",
          "model_module_version": "1.2.0",
          "state": {
            "_model_module": "@jupyter-widgets/base",
            "_model_module_version": "1.2.0",
            "_model_name": "LayoutModel",
            "_view_count": null,
            "_view_module": "@jupyter-widgets/base",
            "_view_module_version": "1.2.0",
            "_view_name": "LayoutView",
            "align_content": null,
            "align_items": null,
            "align_self": null,
            "border": null,
            "bottom": null,
            "display": null,
            "flex": null,
            "flex_flow": null,
            "grid_area": null,
            "grid_auto_columns": null,
            "grid_auto_flow": null,
            "grid_auto_rows": null,
            "grid_column": null,
            "grid_gap": null,
            "grid_row": null,
            "grid_template_areas": null,
            "grid_template_columns": null,
            "grid_template_rows": null,
            "height": null,
            "justify_content": null,
            "justify_items": null,
            "left": null,
            "margin": null,
            "max_height": null,
            "max_width": null,
            "min_height": null,
            "min_width": null,
            "object_fit": null,
            "object_position": null,
            "order": null,
            "overflow": null,
            "overflow_x": null,
            "overflow_y": null,
            "padding": null,
            "right": null,
            "top": null,
            "visibility": null,
            "width": null
          }
        },
        "f3fc121b63844a86af569f9940190e81": {
          "model_module": "@jupyter-widgets/controls",
          "model_name": "ProgressStyleModel",
          "model_module_version": "1.5.0",
          "state": {
            "_model_module": "@jupyter-widgets/controls",
            "_model_module_version": "1.5.0",
            "_model_name": "ProgressStyleModel",
            "_view_count": null,
            "_view_module": "@jupyter-widgets/base",
            "_view_module_version": "1.2.0",
            "_view_name": "StyleView",
            "bar_color": null,
            "description_width": ""
          }
        },
        "1e88a694dd2b4ac1b50c2bc006129c73": {
          "model_module": "@jupyter-widgets/base",
          "model_name": "LayoutModel",
          "model_module_version": "1.2.0",
          "state": {
            "_model_module": "@jupyter-widgets/base",
            "_model_module_version": "1.2.0",
            "_model_name": "LayoutModel",
            "_view_count": null,
            "_view_module": "@jupyter-widgets/base",
            "_view_module_version": "1.2.0",
            "_view_name": "LayoutView",
            "align_content": null,
            "align_items": null,
            "align_self": null,
            "border": null,
            "bottom": null,
            "display": null,
            "flex": null,
            "flex_flow": null,
            "grid_area": null,
            "grid_auto_columns": null,
            "grid_auto_flow": null,
            "grid_auto_rows": null,
            "grid_column": null,
            "grid_gap": null,
            "grid_row": null,
            "grid_template_areas": null,
            "grid_template_columns": null,
            "grid_template_rows": null,
            "height": null,
            "justify_content": null,
            "justify_items": null,
            "left": null,
            "margin": null,
            "max_height": null,
            "max_width": null,
            "min_height": null,
            "min_width": null,
            "object_fit": null,
            "object_position": null,
            "order": null,
            "overflow": null,
            "overflow_x": null,
            "overflow_y": null,
            "padding": null,
            "right": null,
            "top": null,
            "visibility": null,
            "width": null
          }
        },
        "abf09610a9d2483c82de61d8209a3c60": {
          "model_module": "@jupyter-widgets/controls",
          "model_name": "DescriptionStyleModel",
          "model_module_version": "1.5.0",
          "state": {
            "_model_module": "@jupyter-widgets/controls",
            "_model_module_version": "1.5.0",
            "_model_name": "DescriptionStyleModel",
            "_view_count": null,
            "_view_module": "@jupyter-widgets/base",
            "_view_module_version": "1.2.0",
            "_view_name": "StyleView",
            "description_width": ""
          }
        },
        "e15d4d813acf46ed8fd8a1d0eed55ef8": {
          "model_module": "@jupyter-widgets/controls",
          "model_name": "HBoxModel",
          "model_module_version": "1.5.0",
          "state": {
            "_dom_classes": [],
            "_model_module": "@jupyter-widgets/controls",
            "_model_module_version": "1.5.0",
            "_model_name": "HBoxModel",
            "_view_count": null,
            "_view_module": "@jupyter-widgets/controls",
            "_view_module_version": "1.5.0",
            "_view_name": "HBoxView",
            "box_style": "",
            "children": [
              "IPY_MODEL_088c83f247634653976dae005036c264",
              "IPY_MODEL_d678b1d79f8148ed80cae2e2762fd047",
              "IPY_MODEL_b416d5eb769c4050b16f6790a3e5a914"
            ],
            "layout": "IPY_MODEL_9875c3a8b4af4f749a306a7110b2fd42"
          }
        },
        "088c83f247634653976dae005036c264": {
          "model_module": "@jupyter-widgets/controls",
          "model_name": "HTMLModel",
          "model_module_version": "1.5.0",
          "state": {
            "_dom_classes": [],
            "_model_module": "@jupyter-widgets/controls",
            "_model_module_version": "1.5.0",
            "_model_name": "HTMLModel",
            "_view_count": null,
            "_view_module": "@jupyter-widgets/controls",
            "_view_module_version": "1.5.0",
            "_view_name": "HTMLView",
            "description": "",
            "description_tooltip": null,
            "layout": "IPY_MODEL_9093a13d93904769b33831d0d74bc5fd",
            "placeholder": "​",
            "style": "IPY_MODEL_2f4cb0c77cd34ba9ae661c830ab0c2f0",
            "value": "special_tokens_map.json: 100%"
          }
        },
        "d678b1d79f8148ed80cae2e2762fd047": {
          "model_module": "@jupyter-widgets/controls",
          "model_name": "FloatProgressModel",
          "model_module_version": "1.5.0",
          "state": {
            "_dom_classes": [],
            "_model_module": "@jupyter-widgets/controls",
            "_model_module_version": "1.5.0",
            "_model_name": "FloatProgressModel",
            "_view_count": null,
            "_view_module": "@jupyter-widgets/controls",
            "_view_module_version": "1.5.0",
            "_view_name": "ProgressView",
            "bar_style": "success",
            "description": "",
            "description_tooltip": null,
            "layout": "IPY_MODEL_741abeed21fa4fc8a3ece05bbd0e765c",
            "max": 112,
            "min": 0,
            "orientation": "horizontal",
            "style": "IPY_MODEL_7b4b41f5812b4825a480e0f16c3860aa",
            "value": 112
          }
        },
        "b416d5eb769c4050b16f6790a3e5a914": {
          "model_module": "@jupyter-widgets/controls",
          "model_name": "HTMLModel",
          "model_module_version": "1.5.0",
          "state": {
            "_dom_classes": [],
            "_model_module": "@jupyter-widgets/controls",
            "_model_module_version": "1.5.0",
            "_model_name": "HTMLModel",
            "_view_count": null,
            "_view_module": "@jupyter-widgets/controls",
            "_view_module_version": "1.5.0",
            "_view_name": "HTMLView",
            "description": "",
            "description_tooltip": null,
            "layout": "IPY_MODEL_d948e3d350e445ad96aaef3da109c69f",
            "placeholder": "​",
            "style": "IPY_MODEL_025e9ed08fc1485ba26eacf3911c2b46",
            "value": " 112/112 [00:00&lt;00:00, 4.60kB/s]"
          }
        },
        "9875c3a8b4af4f749a306a7110b2fd42": {
          "model_module": "@jupyter-widgets/base",
          "model_name": "LayoutModel",
          "model_module_version": "1.2.0",
          "state": {
            "_model_module": "@jupyter-widgets/base",
            "_model_module_version": "1.2.0",
            "_model_name": "LayoutModel",
            "_view_count": null,
            "_view_module": "@jupyter-widgets/base",
            "_view_module_version": "1.2.0",
            "_view_name": "LayoutView",
            "align_content": null,
            "align_items": null,
            "align_self": null,
            "border": null,
            "bottom": null,
            "display": null,
            "flex": null,
            "flex_flow": null,
            "grid_area": null,
            "grid_auto_columns": null,
            "grid_auto_flow": null,
            "grid_auto_rows": null,
            "grid_column": null,
            "grid_gap": null,
            "grid_row": null,
            "grid_template_areas": null,
            "grid_template_columns": null,
            "grid_template_rows": null,
            "height": null,
            "justify_content": null,
            "justify_items": null,
            "left": null,
            "margin": null,
            "max_height": null,
            "max_width": null,
            "min_height": null,
            "min_width": null,
            "object_fit": null,
            "object_position": null,
            "order": null,
            "overflow": null,
            "overflow_x": null,
            "overflow_y": null,
            "padding": null,
            "right": null,
            "top": null,
            "visibility": null,
            "width": null
          }
        },
        "9093a13d93904769b33831d0d74bc5fd": {
          "model_module": "@jupyter-widgets/base",
          "model_name": "LayoutModel",
          "model_module_version": "1.2.0",
          "state": {
            "_model_module": "@jupyter-widgets/base",
            "_model_module_version": "1.2.0",
            "_model_name": "LayoutModel",
            "_view_count": null,
            "_view_module": "@jupyter-widgets/base",
            "_view_module_version": "1.2.0",
            "_view_name": "LayoutView",
            "align_content": null,
            "align_items": null,
            "align_self": null,
            "border": null,
            "bottom": null,
            "display": null,
            "flex": null,
            "flex_flow": null,
            "grid_area": null,
            "grid_auto_columns": null,
            "grid_auto_flow": null,
            "grid_auto_rows": null,
            "grid_column": null,
            "grid_gap": null,
            "grid_row": null,
            "grid_template_areas": null,
            "grid_template_columns": null,
            "grid_template_rows": null,
            "height": null,
            "justify_content": null,
            "justify_items": null,
            "left": null,
            "margin": null,
            "max_height": null,
            "max_width": null,
            "min_height": null,
            "min_width": null,
            "object_fit": null,
            "object_position": null,
            "order": null,
            "overflow": null,
            "overflow_x": null,
            "overflow_y": null,
            "padding": null,
            "right": null,
            "top": null,
            "visibility": null,
            "width": null
          }
        },
        "2f4cb0c77cd34ba9ae661c830ab0c2f0": {
          "model_module": "@jupyter-widgets/controls",
          "model_name": "DescriptionStyleModel",
          "model_module_version": "1.5.0",
          "state": {
            "_model_module": "@jupyter-widgets/controls",
            "_model_module_version": "1.5.0",
            "_model_name": "DescriptionStyleModel",
            "_view_count": null,
            "_view_module": "@jupyter-widgets/base",
            "_view_module_version": "1.2.0",
            "_view_name": "StyleView",
            "description_width": ""
          }
        },
        "741abeed21fa4fc8a3ece05bbd0e765c": {
          "model_module": "@jupyter-widgets/base",
          "model_name": "LayoutModel",
          "model_module_version": "1.2.0",
          "state": {
            "_model_module": "@jupyter-widgets/base",
            "_model_module_version": "1.2.0",
            "_model_name": "LayoutModel",
            "_view_count": null,
            "_view_module": "@jupyter-widgets/base",
            "_view_module_version": "1.2.0",
            "_view_name": "LayoutView",
            "align_content": null,
            "align_items": null,
            "align_self": null,
            "border": null,
            "bottom": null,
            "display": null,
            "flex": null,
            "flex_flow": null,
            "grid_area": null,
            "grid_auto_columns": null,
            "grid_auto_flow": null,
            "grid_auto_rows": null,
            "grid_column": null,
            "grid_gap": null,
            "grid_row": null,
            "grid_template_areas": null,
            "grid_template_columns": null,
            "grid_template_rows": null,
            "height": null,
            "justify_content": null,
            "justify_items": null,
            "left": null,
            "margin": null,
            "max_height": null,
            "max_width": null,
            "min_height": null,
            "min_width": null,
            "object_fit": null,
            "object_position": null,
            "order": null,
            "overflow": null,
            "overflow_x": null,
            "overflow_y": null,
            "padding": null,
            "right": null,
            "top": null,
            "visibility": null,
            "width": null
          }
        },
        "7b4b41f5812b4825a480e0f16c3860aa": {
          "model_module": "@jupyter-widgets/controls",
          "model_name": "ProgressStyleModel",
          "model_module_version": "1.5.0",
          "state": {
            "_model_module": "@jupyter-widgets/controls",
            "_model_module_version": "1.5.0",
            "_model_name": "ProgressStyleModel",
            "_view_count": null,
            "_view_module": "@jupyter-widgets/base",
            "_view_module_version": "1.2.0",
            "_view_name": "StyleView",
            "bar_color": null,
            "description_width": ""
          }
        },
        "d948e3d350e445ad96aaef3da109c69f": {
          "model_module": "@jupyter-widgets/base",
          "model_name": "LayoutModel",
          "model_module_version": "1.2.0",
          "state": {
            "_model_module": "@jupyter-widgets/base",
            "_model_module_version": "1.2.0",
            "_model_name": "LayoutModel",
            "_view_count": null,
            "_view_module": "@jupyter-widgets/base",
            "_view_module_version": "1.2.0",
            "_view_name": "LayoutView",
            "align_content": null,
            "align_items": null,
            "align_self": null,
            "border": null,
            "bottom": null,
            "display": null,
            "flex": null,
            "flex_flow": null,
            "grid_area": null,
            "grid_auto_columns": null,
            "grid_auto_flow": null,
            "grid_auto_rows": null,
            "grid_column": null,
            "grid_gap": null,
            "grid_row": null,
            "grid_template_areas": null,
            "grid_template_columns": null,
            "grid_template_rows": null,
            "height": null,
            "justify_content": null,
            "justify_items": null,
            "left": null,
            "margin": null,
            "max_height": null,
            "max_width": null,
            "min_height": null,
            "min_width": null,
            "object_fit": null,
            "object_position": null,
            "order": null,
            "overflow": null,
            "overflow_x": null,
            "overflow_y": null,
            "padding": null,
            "right": null,
            "top": null,
            "visibility": null,
            "width": null
          }
        },
        "025e9ed08fc1485ba26eacf3911c2b46": {
          "model_module": "@jupyter-widgets/controls",
          "model_name": "DescriptionStyleModel",
          "model_module_version": "1.5.0",
          "state": {
            "_model_module": "@jupyter-widgets/controls",
            "_model_module_version": "1.5.0",
            "_model_name": "DescriptionStyleModel",
            "_view_count": null,
            "_view_module": "@jupyter-widgets/base",
            "_view_module_version": "1.2.0",
            "_view_name": "StyleView",
            "description_width": ""
          }
        },
        "f249d3b1b46f401c8200ee818f978902": {
          "model_module": "@jupyter-widgets/controls",
          "model_name": "HBoxModel",
          "model_module_version": "1.5.0",
          "state": {
            "_dom_classes": [],
            "_model_module": "@jupyter-widgets/controls",
            "_model_module_version": "1.5.0",
            "_model_name": "HBoxModel",
            "_view_count": null,
            "_view_module": "@jupyter-widgets/controls",
            "_view_module_version": "1.5.0",
            "_view_name": "HBoxView",
            "box_style": "",
            "children": [
              "IPY_MODEL_86ca4f59bf3b4e36b58d4c437cae4cee",
              "IPY_MODEL_7d984eb3c6134ea6952721b33a99526f",
              "IPY_MODEL_f8c67de433994707857ed5a722ebe5d9"
            ],
            "layout": "IPY_MODEL_609b39bd70c34d8dbf3a1b6c09c03b9a"
          }
        },
        "86ca4f59bf3b4e36b58d4c437cae4cee": {
          "model_module": "@jupyter-widgets/controls",
          "model_name": "HTMLModel",
          "model_module_version": "1.5.0",
          "state": {
            "_dom_classes": [],
            "_model_module": "@jupyter-widgets/controls",
            "_model_module_version": "1.5.0",
            "_model_name": "HTMLModel",
            "_view_count": null,
            "_view_module": "@jupyter-widgets/controls",
            "_view_module_version": "1.5.0",
            "_view_name": "HTMLView",
            "description": "",
            "description_tooltip": null,
            "layout": "IPY_MODEL_3f042ebb93054752865ce9a4b3b11934",
            "placeholder": "​",
            "style": "IPY_MODEL_764fda1b878b4e6693fd56fcc3624815",
            "value": "1_Pooling/config.json: 100%"
          }
        },
        "7d984eb3c6134ea6952721b33a99526f": {
          "model_module": "@jupyter-widgets/controls",
          "model_name": "FloatProgressModel",
          "model_module_version": "1.5.0",
          "state": {
            "_dom_classes": [],
            "_model_module": "@jupyter-widgets/controls",
            "_model_module_version": "1.5.0",
            "_model_name": "FloatProgressModel",
            "_view_count": null,
            "_view_module": "@jupyter-widgets/controls",
            "_view_module_version": "1.5.0",
            "_view_name": "ProgressView",
            "bar_style": "success",
            "description": "",
            "description_tooltip": null,
            "layout": "IPY_MODEL_c1a6c37a4e964afe965801fe8ed0ced7",
            "max": 190,
            "min": 0,
            "orientation": "horizontal",
            "style": "IPY_MODEL_70d37ef953374a8e9ffc415d397b7e7f",
            "value": 190
          }
        },
        "f8c67de433994707857ed5a722ebe5d9": {
          "model_module": "@jupyter-widgets/controls",
          "model_name": "HTMLModel",
          "model_module_version": "1.5.0",
          "state": {
            "_dom_classes": [],
            "_model_module": "@jupyter-widgets/controls",
            "_model_module_version": "1.5.0",
            "_model_name": "HTMLModel",
            "_view_count": null,
            "_view_module": "@jupyter-widgets/controls",
            "_view_module_version": "1.5.0",
            "_view_name": "HTMLView",
            "description": "",
            "description_tooltip": null,
            "layout": "IPY_MODEL_204d89e043cd4688937ed7097f8baa35",
            "placeholder": "​",
            "style": "IPY_MODEL_fdb6760d4ab24c9a8110011ff62edf3b",
            "value": " 190/190 [00:00&lt;00:00, 7.02kB/s]"
          }
        },
        "609b39bd70c34d8dbf3a1b6c09c03b9a": {
          "model_module": "@jupyter-widgets/base",
          "model_name": "LayoutModel",
          "model_module_version": "1.2.0",
          "state": {
            "_model_module": "@jupyter-widgets/base",
            "_model_module_version": "1.2.0",
            "_model_name": "LayoutModel",
            "_view_count": null,
            "_view_module": "@jupyter-widgets/base",
            "_view_module_version": "1.2.0",
            "_view_name": "LayoutView",
            "align_content": null,
            "align_items": null,
            "align_self": null,
            "border": null,
            "bottom": null,
            "display": null,
            "flex": null,
            "flex_flow": null,
            "grid_area": null,
            "grid_auto_columns": null,
            "grid_auto_flow": null,
            "grid_auto_rows": null,
            "grid_column": null,
            "grid_gap": null,
            "grid_row": null,
            "grid_template_areas": null,
            "grid_template_columns": null,
            "grid_template_rows": null,
            "height": null,
            "justify_content": null,
            "justify_items": null,
            "left": null,
            "margin": null,
            "max_height": null,
            "max_width": null,
            "min_height": null,
            "min_width": null,
            "object_fit": null,
            "object_position": null,
            "order": null,
            "overflow": null,
            "overflow_x": null,
            "overflow_y": null,
            "padding": null,
            "right": null,
            "top": null,
            "visibility": null,
            "width": null
          }
        },
        "3f042ebb93054752865ce9a4b3b11934": {
          "model_module": "@jupyter-widgets/base",
          "model_name": "LayoutModel",
          "model_module_version": "1.2.0",
          "state": {
            "_model_module": "@jupyter-widgets/base",
            "_model_module_version": "1.2.0",
            "_model_name": "LayoutModel",
            "_view_count": null,
            "_view_module": "@jupyter-widgets/base",
            "_view_module_version": "1.2.0",
            "_view_name": "LayoutView",
            "align_content": null,
            "align_items": null,
            "align_self": null,
            "border": null,
            "bottom": null,
            "display": null,
            "flex": null,
            "flex_flow": null,
            "grid_area": null,
            "grid_auto_columns": null,
            "grid_auto_flow": null,
            "grid_auto_rows": null,
            "grid_column": null,
            "grid_gap": null,
            "grid_row": null,
            "grid_template_areas": null,
            "grid_template_columns": null,
            "grid_template_rows": null,
            "height": null,
            "justify_content": null,
            "justify_items": null,
            "left": null,
            "margin": null,
            "max_height": null,
            "max_width": null,
            "min_height": null,
            "min_width": null,
            "object_fit": null,
            "object_position": null,
            "order": null,
            "overflow": null,
            "overflow_x": null,
            "overflow_y": null,
            "padding": null,
            "right": null,
            "top": null,
            "visibility": null,
            "width": null
          }
        },
        "764fda1b878b4e6693fd56fcc3624815": {
          "model_module": "@jupyter-widgets/controls",
          "model_name": "DescriptionStyleModel",
          "model_module_version": "1.5.0",
          "state": {
            "_model_module": "@jupyter-widgets/controls",
            "_model_module_version": "1.5.0",
            "_model_name": "DescriptionStyleModel",
            "_view_count": null,
            "_view_module": "@jupyter-widgets/base",
            "_view_module_version": "1.2.0",
            "_view_name": "StyleView",
            "description_width": ""
          }
        },
        "c1a6c37a4e964afe965801fe8ed0ced7": {
          "model_module": "@jupyter-widgets/base",
          "model_name": "LayoutModel",
          "model_module_version": "1.2.0",
          "state": {
            "_model_module": "@jupyter-widgets/base",
            "_model_module_version": "1.2.0",
            "_model_name": "LayoutModel",
            "_view_count": null,
            "_view_module": "@jupyter-widgets/base",
            "_view_module_version": "1.2.0",
            "_view_name": "LayoutView",
            "align_content": null,
            "align_items": null,
            "align_self": null,
            "border": null,
            "bottom": null,
            "display": null,
            "flex": null,
            "flex_flow": null,
            "grid_area": null,
            "grid_auto_columns": null,
            "grid_auto_flow": null,
            "grid_auto_rows": null,
            "grid_column": null,
            "grid_gap": null,
            "grid_row": null,
            "grid_template_areas": null,
            "grid_template_columns": null,
            "grid_template_rows": null,
            "height": null,
            "justify_content": null,
            "justify_items": null,
            "left": null,
            "margin": null,
            "max_height": null,
            "max_width": null,
            "min_height": null,
            "min_width": null,
            "object_fit": null,
            "object_position": null,
            "order": null,
            "overflow": null,
            "overflow_x": null,
            "overflow_y": null,
            "padding": null,
            "right": null,
            "top": null,
            "visibility": null,
            "width": null
          }
        },
        "70d37ef953374a8e9ffc415d397b7e7f": {
          "model_module": "@jupyter-widgets/controls",
          "model_name": "ProgressStyleModel",
          "model_module_version": "1.5.0",
          "state": {
            "_model_module": "@jupyter-widgets/controls",
            "_model_module_version": "1.5.0",
            "_model_name": "ProgressStyleModel",
            "_view_count": null,
            "_view_module": "@jupyter-widgets/base",
            "_view_module_version": "1.2.0",
            "_view_name": "StyleView",
            "bar_color": null,
            "description_width": ""
          }
        },
        "204d89e043cd4688937ed7097f8baa35": {
          "model_module": "@jupyter-widgets/base",
          "model_name": "LayoutModel",
          "model_module_version": "1.2.0",
          "state": {
            "_model_module": "@jupyter-widgets/base",
            "_model_module_version": "1.2.0",
            "_model_name": "LayoutModel",
            "_view_count": null,
            "_view_module": "@jupyter-widgets/base",
            "_view_module_version": "1.2.0",
            "_view_name": "LayoutView",
            "align_content": null,
            "align_items": null,
            "align_self": null,
            "border": null,
            "bottom": null,
            "display": null,
            "flex": null,
            "flex_flow": null,
            "grid_area": null,
            "grid_auto_columns": null,
            "grid_auto_flow": null,
            "grid_auto_rows": null,
            "grid_column": null,
            "grid_gap": null,
            "grid_row": null,
            "grid_template_areas": null,
            "grid_template_columns": null,
            "grid_template_rows": null,
            "height": null,
            "justify_content": null,
            "justify_items": null,
            "left": null,
            "margin": null,
            "max_height": null,
            "max_width": null,
            "min_height": null,
            "min_width": null,
            "object_fit": null,
            "object_position": null,
            "order": null,
            "overflow": null,
            "overflow_x": null,
            "overflow_y": null,
            "padding": null,
            "right": null,
            "top": null,
            "visibility": null,
            "width": null
          }
        },
        "fdb6760d4ab24c9a8110011ff62edf3b": {
          "model_module": "@jupyter-widgets/controls",
          "model_name": "DescriptionStyleModel",
          "model_module_version": "1.5.0",
          "state": {
            "_model_module": "@jupyter-widgets/controls",
            "_model_module_version": "1.5.0",
            "_model_name": "DescriptionStyleModel",
            "_view_count": null,
            "_view_module": "@jupyter-widgets/base",
            "_view_module_version": "1.2.0",
            "_view_name": "StyleView",
            "description_width": ""
          }
        }
      }
    }
  },
  "nbformat": 4,
  "nbformat_minor": 0
}